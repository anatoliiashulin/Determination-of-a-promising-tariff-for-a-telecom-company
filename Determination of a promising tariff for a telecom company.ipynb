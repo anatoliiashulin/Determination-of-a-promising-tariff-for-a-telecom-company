{
 "cells": [
  {
   "cell_type": "markdown",
   "metadata": {},
   "source": [
    "## Открытие  файлов  с данными и изучение общей информации"
   ]
  },
  {
   "cell_type": "markdown",
   "metadata": {},
   "source": [
    "# Определение перспективного тарифа для телеком-компании\n",
    "\n",
    "Вы аналитик компании «Мегалайн» — федерального оператора сотовой связи. Клиентам предлагают два тарифных плана: «Смарт» и «Ультра». Чтобы скорректировать рекламный бюджет, коммерческий департамент хочет понять, какой тариф приносит больше денег.\n",
    "Вам предстоит сделать предварительный анализ тарифов на небольшой выборке клиентов. В вашем распоряжении данные 500 пользователей «Мегалайна»: кто они, откуда, каким тарифом пользуются, сколько звонков и сообщений каждый отправил за 2018 год. Нужно проанализировать поведение клиентов и сделать вывод — какой тариф лучше.\n",
    "\n",
    "**Описание тарифов**\n",
    "\n",
    "**Тариф смарт**  \n",
    "Ежемесячная плата: 550 рублей  \n",
    "Включено 500 минут разговора, 50 сообщений и 15 Гб интернет-трафика  \n",
    "Стоимость услуг сверх тарифного пакета: 1. минута разговора: 3 рубля («Мегалайн» всегда округляет вверх значения минут и мегабайтов. Если пользователь проговорил всего 1 секунду, в тарифе засчитывается целая минута); 2. сообщение: 3 рубля; 3. 1 Гб интернет-трафика: 200 рублей.\n",
    "\n",
    "**Тариф Ультра**   \n",
    "Ежемесячная плата: 1950 рублей  \n",
    "Включено 3000 минут разговора, 1000 сообщений и 30 Гб интернет-трафика  \n",
    "Стоимость услуг сверх тарифного пакета: 1. минута разговора: 1 рубль; 2. сообщение: 1 рубль; 3. 1 Гб интернет-трафика: 150 рублей.\n",
    "\n",
    "\n",
    "*«Мегалайн» всегда округляет секунды до минут, а мегабайты — до гигабайт. Каждый звонок округляется отдельно: даже если он длился всего 1 секунду, будет засчитан как 1 минута.\n",
    "Для веб-трафика отдельные сессии не считаются. Вместо этого общая сумма за месяц округляется в бо́льшую сторону. Если абонент использует 1025 мегабайт в этом месяце, с него возьмут плату за 2 гигабайта.*"
   ]
  },
  {
   "cell_type": "code",
   "execution_count": 1,
   "metadata": {},
   "outputs": [],
   "source": [
    "import pandas as pd \n",
    "import matplotlib.pyplot as plt\n",
    "import numpy as np\n",
    "from scipy import stats as st \n",
    "import math \n",
    "import seaborn as sns\n",
    "\n",
    "pd.set_option('display.max_columns', 35)\n",
    "pd.set_option('display.max_rows', 70)\n",
    "pd.set_option('display.float_format', '{:,.2f}'.format)"
   ]
  },
  {
   "cell_type": "code",
   "execution_count": 2,
   "metadata": {},
   "outputs": [],
   "source": [
    "df = pd.read_csv('/datasets/users.csv')  # Информация о пользователях \n",
    "df_calls = pd.read_csv('/datasets/calls.csv')  # Информация о звонках \n",
    "df_messages = pd.read_csv('/datasets/messages.csv') # Информация о сообщениях\n",
    "df_internet = pd.read_csv('/datasets/internet.csv') # Информация об интернет сессиях \n",
    "df_tariffs = pd.read_csv('/datasets/tariffs.csv') # Информация о тарифах "
   ]
  },
  {
   "cell_type": "markdown",
   "metadata": {},
   "source": [
    "### df\n",
    "\n",
    "Начинаю изучения с датасета df (он будет основным именно к нему буду присоединять далее другие таблицы). Для этого выведу инфо по таблице и так же посмотрю значения в таблице"
   ]
  },
  {
   "cell_type": "code",
   "execution_count": 3,
   "metadata": {},
   "outputs": [
    {
     "name": "stdout",
     "output_type": "stream",
     "text": [
      "<class 'pandas.core.frame.DataFrame'>\n",
      "RangeIndex: 500 entries, 0 to 499\n",
      "Data columns (total 8 columns):\n",
      " #   Column      Non-Null Count  Dtype \n",
      "---  ------      --------------  ----- \n",
      " 0   user_id     500 non-null    int64 \n",
      " 1   age         500 non-null    int64 \n",
      " 2   churn_date  38 non-null     object\n",
      " 3   city        500 non-null    object\n",
      " 4   first_name  500 non-null    object\n",
      " 5   last_name   500 non-null    object\n",
      " 6   reg_date    500 non-null    object\n",
      " 7   tariff      500 non-null    object\n",
      "dtypes: int64(2), object(6)\n",
      "memory usage: 31.4+ KB\n"
     ]
    }
   ],
   "source": [
    "df.info() "
   ]
  },
  {
   "cell_type": "code",
   "execution_count": 4,
   "metadata": {},
   "outputs": [
    {
     "data": {
      "text/html": [
       "<div>\n",
       "<style scoped>\n",
       "    .dataframe tbody tr th:only-of-type {\n",
       "        vertical-align: middle;\n",
       "    }\n",
       "\n",
       "    .dataframe tbody tr th {\n",
       "        vertical-align: top;\n",
       "    }\n",
       "\n",
       "    .dataframe thead th {\n",
       "        text-align: right;\n",
       "    }\n",
       "</style>\n",
       "<table border=\"1\" class=\"dataframe\">\n",
       "  <thead>\n",
       "    <tr style=\"text-align: right;\">\n",
       "      <th></th>\n",
       "      <th>user_id</th>\n",
       "      <th>age</th>\n",
       "      <th>churn_date</th>\n",
       "      <th>city</th>\n",
       "      <th>first_name</th>\n",
       "      <th>last_name</th>\n",
       "      <th>reg_date</th>\n",
       "      <th>tariff</th>\n",
       "    </tr>\n",
       "  </thead>\n",
       "  <tbody>\n",
       "    <tr>\n",
       "      <th>19</th>\n",
       "      <td>1019</td>\n",
       "      <td>63</td>\n",
       "      <td>2018-10-05</td>\n",
       "      <td>Томск</td>\n",
       "      <td>Игнатий</td>\n",
       "      <td>Круглов</td>\n",
       "      <td>2018-05-16</td>\n",
       "      <td>ultra</td>\n",
       "    </tr>\n",
       "    <tr>\n",
       "      <th>20</th>\n",
       "      <td>1020</td>\n",
       "      <td>59</td>\n",
       "      <td>2018-12-18</td>\n",
       "      <td>Чита</td>\n",
       "      <td>Тала</td>\n",
       "      <td>Костина</td>\n",
       "      <td>2018-10-22</td>\n",
       "      <td>smart</td>\n",
       "    </tr>\n",
       "    <tr>\n",
       "      <th>34</th>\n",
       "      <td>1034</td>\n",
       "      <td>66</td>\n",
       "      <td>2018-11-21</td>\n",
       "      <td>Вологда</td>\n",
       "      <td>Святослав</td>\n",
       "      <td>Бондарев</td>\n",
       "      <td>2018-08-26</td>\n",
       "      <td>smart</td>\n",
       "    </tr>\n",
       "    <tr>\n",
       "      <th>50</th>\n",
       "      <td>1050</td>\n",
       "      <td>44</td>\n",
       "      <td>2018-10-03</td>\n",
       "      <td>Тюмень</td>\n",
       "      <td>Рузана</td>\n",
       "      <td>Аничкина</td>\n",
       "      <td>2018-06-16</td>\n",
       "      <td>ultra</td>\n",
       "    </tr>\n",
       "    <tr>\n",
       "      <th>51</th>\n",
       "      <td>1051</td>\n",
       "      <td>37</td>\n",
       "      <td>2018-10-14</td>\n",
       "      <td>Москва</td>\n",
       "      <td>Кристина</td>\n",
       "      <td>Сомова</td>\n",
       "      <td>2018-05-28</td>\n",
       "      <td>smart</td>\n",
       "    </tr>\n",
       "  </tbody>\n",
       "</table>\n",
       "</div>"
      ],
      "text/plain": [
       "    user_id  age  churn_date     city first_name last_name    reg_date tariff\n",
       "19     1019   63  2018-10-05    Томск    Игнатий   Круглов  2018-05-16  ultra\n",
       "20     1020   59  2018-12-18     Чита       Тала   Костина  2018-10-22  smart\n",
       "34     1034   66  2018-11-21  Вологда  Святослав  Бондарев  2018-08-26  smart\n",
       "50     1050   44  2018-10-03   Тюмень     Рузана  Аничкина  2018-06-16  ultra\n",
       "51     1051   37  2018-10-14   Москва   Кристина    Сомова  2018-05-28  smart"
      ]
     },
     "execution_count": 4,
     "metadata": {},
     "output_type": "execute_result"
    }
   ],
   "source": [
    "df[df['churn_date'].notna()].head()  #смотрю таблицу данным методом из-за того, что church_date имеет пропуски "
   ]
  },
  {
   "cell_type": "code",
   "execution_count": 5,
   "metadata": {},
   "outputs": [
    {
     "data": {
      "text/plain": [
       "smart    351\n",
       "ultra    149\n",
       "Name: tariff, dtype: int64"
      ]
     },
     "execution_count": 5,
     "metadata": {},
     "output_type": "execute_result"
    }
   ],
   "source": [
    "df['tariff'].value_counts() #проверяю не затесались в тарифе лишние данные. Метод должен выдать два значения"
   ]
  },
  {
   "cell_type": "code",
   "execution_count": 6,
   "metadata": {},
   "outputs": [
    {
     "data": {
      "text/plain": [
       "0"
      ]
     },
     "execution_count": 6,
     "metadata": {},
     "output_type": "execute_result"
    }
   ],
   "source": [
    "df['user_id'].duplicated().sum() #id пользователей не должны повторяться "
   ]
  },
  {
   "cell_type": "code",
   "execution_count": 7,
   "metadata": {},
   "outputs": [],
   "source": [
    "df['churn_date'] = pd.to_datetime(df['churn_date'], format = '%Y-%m-%d')\n",
    "df['reg_date'] = pd.to_datetime(df['reg_date'], format = '%Y-%m-%d')"
   ]
  },
  {
   "cell_type": "code",
   "execution_count": 8,
   "metadata": {},
   "outputs": [
    {
     "data": {
      "text/plain": [
       "user_id                int64\n",
       "age                    int64\n",
       "churn_date    datetime64[ns]\n",
       "city                  object\n",
       "first_name            object\n",
       "last_name             object\n",
       "reg_date      datetime64[ns]\n",
       "tariff                object\n",
       "dtype: object"
      ]
     },
     "execution_count": 8,
     "metadata": {},
     "output_type": "execute_result"
    }
   ],
   "source": [
    "df.dtypes  # проверяю как изменились данные "
   ]
  },
  {
   "cell_type": "markdown",
   "metadata": {},
   "source": [
    "**Вывод**  \n",
    "В таблице аномалий не выявленно. Пропуски в churn_date вызваны тем, что тариф не был отменён на момент выгрузки данных.\n"
   ]
  },
  {
   "cell_type": "markdown",
   "metadata": {},
   "source": [
    "### df_calls\n",
    "перехожу к изучению датасета с информацией о звонках "
   ]
  },
  {
   "cell_type": "code",
   "execution_count": 9,
   "metadata": {},
   "outputs": [
    {
     "name": "stdout",
     "output_type": "stream",
     "text": [
      "<class 'pandas.core.frame.DataFrame'>\n",
      "RangeIndex: 202607 entries, 0 to 202606\n",
      "Data columns (total 4 columns):\n",
      " #   Column     Non-Null Count   Dtype  \n",
      "---  ------     --------------   -----  \n",
      " 0   id         202607 non-null  object \n",
      " 1   call_date  202607 non-null  object \n",
      " 2   duration   202607 non-null  float64\n",
      " 3   user_id    202607 non-null  int64  \n",
      "dtypes: float64(1), int64(1), object(2)\n",
      "memory usage: 6.2+ MB\n"
     ]
    }
   ],
   "source": [
    "df_calls.info()"
   ]
  },
  {
   "cell_type": "code",
   "execution_count": 10,
   "metadata": {},
   "outputs": [
    {
     "data": {
      "text/html": [
       "<div>\n",
       "<style scoped>\n",
       "    .dataframe tbody tr th:only-of-type {\n",
       "        vertical-align: middle;\n",
       "    }\n",
       "\n",
       "    .dataframe tbody tr th {\n",
       "        vertical-align: top;\n",
       "    }\n",
       "\n",
       "    .dataframe thead th {\n",
       "        text-align: right;\n",
       "    }\n",
       "</style>\n",
       "<table border=\"1\" class=\"dataframe\">\n",
       "  <thead>\n",
       "    <tr style=\"text-align: right;\">\n",
       "      <th></th>\n",
       "      <th>id</th>\n",
       "      <th>call_date</th>\n",
       "      <th>duration</th>\n",
       "      <th>user_id</th>\n",
       "    </tr>\n",
       "  </thead>\n",
       "  <tbody>\n",
       "    <tr>\n",
       "      <th>0</th>\n",
       "      <td>1000_0</td>\n",
       "      <td>2018-07-25</td>\n",
       "      <td>0.00</td>\n",
       "      <td>1000</td>\n",
       "    </tr>\n",
       "    <tr>\n",
       "      <th>1</th>\n",
       "      <td>1000_1</td>\n",
       "      <td>2018-08-17</td>\n",
       "      <td>0.00</td>\n",
       "      <td>1000</td>\n",
       "    </tr>\n",
       "    <tr>\n",
       "      <th>2</th>\n",
       "      <td>1000_2</td>\n",
       "      <td>2018-06-11</td>\n",
       "      <td>2.85</td>\n",
       "      <td>1000</td>\n",
       "    </tr>\n",
       "    <tr>\n",
       "      <th>3</th>\n",
       "      <td>1000_3</td>\n",
       "      <td>2018-09-21</td>\n",
       "      <td>13.80</td>\n",
       "      <td>1000</td>\n",
       "    </tr>\n",
       "    <tr>\n",
       "      <th>4</th>\n",
       "      <td>1000_4</td>\n",
       "      <td>2018-12-15</td>\n",
       "      <td>5.18</td>\n",
       "      <td>1000</td>\n",
       "    </tr>\n",
       "  </tbody>\n",
       "</table>\n",
       "</div>"
      ],
      "text/plain": [
       "       id   call_date  duration  user_id\n",
       "0  1000_0  2018-07-25      0.00     1000\n",
       "1  1000_1  2018-08-17      0.00     1000\n",
       "2  1000_2  2018-06-11      2.85     1000\n",
       "3  1000_3  2018-09-21     13.80     1000\n",
       "4  1000_4  2018-12-15      5.18     1000"
      ]
     },
     "execution_count": 10,
     "metadata": {},
     "output_type": "execute_result"
    }
   ],
   "source": [
    "df_calls.head()"
   ]
  },
  {
   "cell_type": "code",
   "execution_count": 11,
   "metadata": {},
   "outputs": [],
   "source": [
    "df_calls['call_date'] = pd.to_datetime(df_calls['call_date'], format = '%Y-%m-%d')  # изменяю тип данных "
   ]
  },
  {
   "cell_type": "code",
   "execution_count": 12,
   "metadata": {},
   "outputs": [
    {
     "data": {
      "text/plain": [
       "id                   object\n",
       "call_date    datetime64[ns]\n",
       "duration            float64\n",
       "user_id               int64\n",
       "dtype: object"
      ]
     },
     "execution_count": 12,
     "metadata": {},
     "output_type": "execute_result"
    }
   ],
   "source": [
    "df_calls.dtypes # проверяю как изменился тип данных"
   ]
  },
  {
   "cell_type": "code",
   "execution_count": 13,
   "metadata": {},
   "outputs": [
    {
     "data": {
      "text/plain": [
       "0.016"
      ]
     },
     "execution_count": 13,
     "metadata": {},
     "output_type": "execute_result"
    }
   ],
   "source": [
    "round(1-(len(df_calls['user_id'].unique())/500), 3) # узнаю долю пользователей не совершавших звонки "
   ]
  },
  {
   "cell_type": "code",
   "execution_count": 14,
   "metadata": {},
   "outputs": [
    {
     "data": {
      "text/html": [
       "<div>\n",
       "<style scoped>\n",
       "    .dataframe tbody tr th:only-of-type {\n",
       "        vertical-align: middle;\n",
       "    }\n",
       "\n",
       "    .dataframe tbody tr th {\n",
       "        vertical-align: top;\n",
       "    }\n",
       "\n",
       "    .dataframe thead th {\n",
       "        text-align: right;\n",
       "    }\n",
       "</style>\n",
       "<table border=\"1\" class=\"dataframe\">\n",
       "  <thead>\n",
       "    <tr style=\"text-align: right;\">\n",
       "      <th></th>\n",
       "      <th>duration</th>\n",
       "    </tr>\n",
       "  </thead>\n",
       "  <tbody>\n",
       "    <tr>\n",
       "      <th>0.00</th>\n",
       "      <td>39613</td>\n",
       "    </tr>\n",
       "    <tr>\n",
       "      <th>5.50</th>\n",
       "      <td>142</td>\n",
       "    </tr>\n",
       "    <tr>\n",
       "      <th>4.49</th>\n",
       "      <td>142</td>\n",
       "    </tr>\n",
       "    <tr>\n",
       "      <th>6.15</th>\n",
       "      <td>141</td>\n",
       "    </tr>\n",
       "    <tr>\n",
       "      <th>6.38</th>\n",
       "      <td>141</td>\n",
       "    </tr>\n",
       "    <tr>\n",
       "      <th>...</th>\n",
       "      <td>...</td>\n",
       "    </tr>\n",
       "    <tr>\n",
       "      <th>26.32</th>\n",
       "      <td>1</td>\n",
       "    </tr>\n",
       "    <tr>\n",
       "      <th>24.51</th>\n",
       "      <td>1</td>\n",
       "    </tr>\n",
       "    <tr>\n",
       "      <th>27.24</th>\n",
       "      <td>1</td>\n",
       "    </tr>\n",
       "    <tr>\n",
       "      <th>29.89</th>\n",
       "      <td>1</td>\n",
       "    </tr>\n",
       "    <tr>\n",
       "      <th>27.43</th>\n",
       "      <td>1</td>\n",
       "    </tr>\n",
       "  </tbody>\n",
       "</table>\n",
       "<p>2871 rows × 1 columns</p>\n",
       "</div>"
      ],
      "text/plain": [
       "       duration\n",
       "0.00      39613\n",
       "5.50        142\n",
       "4.49        142\n",
       "6.15        141\n",
       "6.38        141\n",
       "...         ...\n",
       "26.32         1\n",
       "24.51         1\n",
       "27.24         1\n",
       "29.89         1\n",
       "27.43         1\n",
       "\n",
       "[2871 rows x 1 columns]"
      ]
     },
     "execution_count": 14,
     "metadata": {},
     "output_type": "execute_result"
    }
   ],
   "source": [
    "df_calls['duration'].value_counts().to_frame() # просматриваю какая длительность звонков была произведена"
   ]
  },
  {
   "cell_type": "markdown",
   "metadata": {},
   "source": [
    "Обнаруженны звонки с длительностью 0.00. Это те звонки на которые не взяли трубку.   \n",
    "на 39613 звонков не взяли трубку"
   ]
  },
  {
   "cell_type": "markdown",
   "metadata": {},
   "source": [
    "**Вывод**   \n",
    "Пропусков в данном датасете нет. Так же наблюдаем, что 1.6% пользователей(из заданной выборки) в установленный временой переод не звонили.  \n",
    "Так же на 39613 вызовов не взяли трубку. Почти  каждый 5ый звонок остался без ответа"
   ]
  },
  {
   "cell_type": "markdown",
   "metadata": {},
   "source": [
    "### df_messages "
   ]
  },
  {
   "cell_type": "markdown",
   "metadata": {},
   "source": [
    "переходим к датафайлу с информацией о сообщениях "
   ]
  },
  {
   "cell_type": "code",
   "execution_count": 15,
   "metadata": {},
   "outputs": [
    {
     "name": "stdout",
     "output_type": "stream",
     "text": [
      "<class 'pandas.core.frame.DataFrame'>\n",
      "RangeIndex: 123036 entries, 0 to 123035\n",
      "Data columns (total 3 columns):\n",
      " #   Column        Non-Null Count   Dtype \n",
      "---  ------        --------------   ----- \n",
      " 0   id            123036 non-null  object\n",
      " 1   message_date  123036 non-null  object\n",
      " 2   user_id       123036 non-null  int64 \n",
      "dtypes: int64(1), object(2)\n",
      "memory usage: 2.8+ MB\n"
     ]
    }
   ],
   "source": [
    "df_messages.info()"
   ]
  },
  {
   "cell_type": "code",
   "execution_count": 16,
   "metadata": {},
   "outputs": [
    {
     "data": {
      "text/html": [
       "<div>\n",
       "<style scoped>\n",
       "    .dataframe tbody tr th:only-of-type {\n",
       "        vertical-align: middle;\n",
       "    }\n",
       "\n",
       "    .dataframe tbody tr th {\n",
       "        vertical-align: top;\n",
       "    }\n",
       "\n",
       "    .dataframe thead th {\n",
       "        text-align: right;\n",
       "    }\n",
       "</style>\n",
       "<table border=\"1\" class=\"dataframe\">\n",
       "  <thead>\n",
       "    <tr style=\"text-align: right;\">\n",
       "      <th></th>\n",
       "      <th>id</th>\n",
       "      <th>message_date</th>\n",
       "      <th>user_id</th>\n",
       "    </tr>\n",
       "  </thead>\n",
       "  <tbody>\n",
       "    <tr>\n",
       "      <th>0</th>\n",
       "      <td>1000_0</td>\n",
       "      <td>2018-06-27</td>\n",
       "      <td>1000</td>\n",
       "    </tr>\n",
       "    <tr>\n",
       "      <th>1</th>\n",
       "      <td>1000_1</td>\n",
       "      <td>2018-10-08</td>\n",
       "      <td>1000</td>\n",
       "    </tr>\n",
       "    <tr>\n",
       "      <th>2</th>\n",
       "      <td>1000_2</td>\n",
       "      <td>2018-08-04</td>\n",
       "      <td>1000</td>\n",
       "    </tr>\n",
       "    <tr>\n",
       "      <th>3</th>\n",
       "      <td>1000_3</td>\n",
       "      <td>2018-06-16</td>\n",
       "      <td>1000</td>\n",
       "    </tr>\n",
       "    <tr>\n",
       "      <th>4</th>\n",
       "      <td>1000_4</td>\n",
       "      <td>2018-12-05</td>\n",
       "      <td>1000</td>\n",
       "    </tr>\n",
       "  </tbody>\n",
       "</table>\n",
       "</div>"
      ],
      "text/plain": [
       "       id message_date  user_id\n",
       "0  1000_0   2018-06-27     1000\n",
       "1  1000_1   2018-10-08     1000\n",
       "2  1000_2   2018-08-04     1000\n",
       "3  1000_3   2018-06-16     1000\n",
       "4  1000_4   2018-12-05     1000"
      ]
     },
     "execution_count": 16,
     "metadata": {},
     "output_type": "execute_result"
    }
   ],
   "source": [
    "df_messages.head()"
   ]
  },
  {
   "cell_type": "code",
   "execution_count": 17,
   "metadata": {},
   "outputs": [],
   "source": [
    "df_messages['message_date'] = pd.to_datetime(df_messages['message_date'], format = '%Y-%m-%d') # изменяю тип данных"
   ]
  },
  {
   "cell_type": "code",
   "execution_count": 18,
   "metadata": {},
   "outputs": [
    {
     "data": {
      "text/plain": [
       "0.148"
      ]
     },
     "execution_count": 18,
     "metadata": {},
     "output_type": "execute_result"
    }
   ],
   "source": [
    "round(1-(len(df_messages['user_id'].unique())/500),3) # вывожу долю пользователей не отправлющих смс"
   ]
  },
  {
   "cell_type": "markdown",
   "metadata": {},
   "source": [
    "**Вывод**   \n",
    "Почти 15% пользователей за заданное время ни разу не отправляли сообщения"
   ]
  },
  {
   "cell_type": "markdown",
   "metadata": {},
   "source": [
    "### df_internet \n"
   ]
  },
  {
   "cell_type": "code",
   "execution_count": 19,
   "metadata": {},
   "outputs": [
    {
     "name": "stdout",
     "output_type": "stream",
     "text": [
      "<class 'pandas.core.frame.DataFrame'>\n",
      "RangeIndex: 149396 entries, 0 to 149395\n",
      "Data columns (total 5 columns):\n",
      " #   Column        Non-Null Count   Dtype  \n",
      "---  ------        --------------   -----  \n",
      " 0   Unnamed: 0    149396 non-null  int64  \n",
      " 1   id            149396 non-null  object \n",
      " 2   mb_used       149396 non-null  float64\n",
      " 3   session_date  149396 non-null  object \n",
      " 4   user_id       149396 non-null  int64  \n",
      "dtypes: float64(1), int64(2), object(2)\n",
      "memory usage: 5.7+ MB\n"
     ]
    }
   ],
   "source": [
    "df_internet.info()"
   ]
  },
  {
   "cell_type": "code",
   "execution_count": 20,
   "metadata": {},
   "outputs": [
    {
     "data": {
      "text/html": [
       "<div>\n",
       "<style scoped>\n",
       "    .dataframe tbody tr th:only-of-type {\n",
       "        vertical-align: middle;\n",
       "    }\n",
       "\n",
       "    .dataframe tbody tr th {\n",
       "        vertical-align: top;\n",
       "    }\n",
       "\n",
       "    .dataframe thead th {\n",
       "        text-align: right;\n",
       "    }\n",
       "</style>\n",
       "<table border=\"1\" class=\"dataframe\">\n",
       "  <thead>\n",
       "    <tr style=\"text-align: right;\">\n",
       "      <th></th>\n",
       "      <th>Unnamed: 0</th>\n",
       "      <th>id</th>\n",
       "      <th>mb_used</th>\n",
       "      <th>session_date</th>\n",
       "      <th>user_id</th>\n",
       "    </tr>\n",
       "  </thead>\n",
       "  <tbody>\n",
       "    <tr>\n",
       "      <th>0</th>\n",
       "      <td>0</td>\n",
       "      <td>1000_0</td>\n",
       "      <td>112.95</td>\n",
       "      <td>2018-11-25</td>\n",
       "      <td>1000</td>\n",
       "    </tr>\n",
       "    <tr>\n",
       "      <th>1</th>\n",
       "      <td>1</td>\n",
       "      <td>1000_1</td>\n",
       "      <td>1,052.81</td>\n",
       "      <td>2018-09-07</td>\n",
       "      <td>1000</td>\n",
       "    </tr>\n",
       "    <tr>\n",
       "      <th>2</th>\n",
       "      <td>2</td>\n",
       "      <td>1000_2</td>\n",
       "      <td>1,197.26</td>\n",
       "      <td>2018-06-25</td>\n",
       "      <td>1000</td>\n",
       "    </tr>\n",
       "    <tr>\n",
       "      <th>3</th>\n",
       "      <td>3</td>\n",
       "      <td>1000_3</td>\n",
       "      <td>550.27</td>\n",
       "      <td>2018-08-22</td>\n",
       "      <td>1000</td>\n",
       "    </tr>\n",
       "    <tr>\n",
       "      <th>4</th>\n",
       "      <td>4</td>\n",
       "      <td>1000_4</td>\n",
       "      <td>302.56</td>\n",
       "      <td>2018-09-24</td>\n",
       "      <td>1000</td>\n",
       "    </tr>\n",
       "  </tbody>\n",
       "</table>\n",
       "</div>"
      ],
      "text/plain": [
       "   Unnamed: 0      id  mb_used session_date  user_id\n",
       "0           0  1000_0   112.95   2018-11-25     1000\n",
       "1           1  1000_1 1,052.81   2018-09-07     1000\n",
       "2           2  1000_2 1,197.26   2018-06-25     1000\n",
       "3           3  1000_3   550.27   2018-08-22     1000\n",
       "4           4  1000_4   302.56   2018-09-24     1000"
      ]
     },
     "execution_count": 20,
     "metadata": {},
     "output_type": "execute_result"
    }
   ],
   "source": [
    "df_internet.head()"
   ]
  },
  {
   "cell_type": "markdown",
   "metadata": {},
   "source": [
    "Наблюдаем странные столбец, которого нет в документации. Посмотрим какие он выдаёт значения в конце "
   ]
  },
  {
   "cell_type": "code",
   "execution_count": 21,
   "metadata": {},
   "outputs": [
    {
     "data": {
      "text/html": [
       "<div>\n",
       "<style scoped>\n",
       "    .dataframe tbody tr th:only-of-type {\n",
       "        vertical-align: middle;\n",
       "    }\n",
       "\n",
       "    .dataframe tbody tr th {\n",
       "        vertical-align: top;\n",
       "    }\n",
       "\n",
       "    .dataframe thead th {\n",
       "        text-align: right;\n",
       "    }\n",
       "</style>\n",
       "<table border=\"1\" class=\"dataframe\">\n",
       "  <thead>\n",
       "    <tr style=\"text-align: right;\">\n",
       "      <th></th>\n",
       "      <th>Unnamed: 0</th>\n",
       "      <th>id</th>\n",
       "      <th>mb_used</th>\n",
       "      <th>session_date</th>\n",
       "      <th>user_id</th>\n",
       "    </tr>\n",
       "  </thead>\n",
       "  <tbody>\n",
       "    <tr>\n",
       "      <th>149391</th>\n",
       "      <td>149391</td>\n",
       "      <td>1499_152</td>\n",
       "      <td>318.90</td>\n",
       "      <td>2018-10-03</td>\n",
       "      <td>1499</td>\n",
       "    </tr>\n",
       "    <tr>\n",
       "      <th>149392</th>\n",
       "      <td>149392</td>\n",
       "      <td>1499_153</td>\n",
       "      <td>490.13</td>\n",
       "      <td>2018-12-14</td>\n",
       "      <td>1499</td>\n",
       "    </tr>\n",
       "    <tr>\n",
       "      <th>149393</th>\n",
       "      <td>149393</td>\n",
       "      <td>1499_154</td>\n",
       "      <td>0.00</td>\n",
       "      <td>2018-10-27</td>\n",
       "      <td>1499</td>\n",
       "    </tr>\n",
       "    <tr>\n",
       "      <th>149394</th>\n",
       "      <td>149394</td>\n",
       "      <td>1499_155</td>\n",
       "      <td>1,246.32</td>\n",
       "      <td>2018-11-26</td>\n",
       "      <td>1499</td>\n",
       "    </tr>\n",
       "    <tr>\n",
       "      <th>149395</th>\n",
       "      <td>149395</td>\n",
       "      <td>1499_156</td>\n",
       "      <td>544.37</td>\n",
       "      <td>2018-10-26</td>\n",
       "      <td>1499</td>\n",
       "    </tr>\n",
       "  </tbody>\n",
       "</table>\n",
       "</div>"
      ],
      "text/plain": [
       "        Unnamed: 0        id  mb_used session_date  user_id\n",
       "149391      149391  1499_152   318.90   2018-10-03     1499\n",
       "149392      149392  1499_153   490.13   2018-12-14     1499\n",
       "149393      149393  1499_154     0.00   2018-10-27     1499\n",
       "149394      149394  1499_155 1,246.32   2018-11-26     1499\n",
       "149395      149395  1499_156   544.37   2018-10-26     1499"
      ]
     },
     "execution_count": 21,
     "metadata": {},
     "output_type": "execute_result"
    }
   ],
   "source": [
    "df_internet.tail()"
   ]
  },
  {
   "cell_type": "markdown",
   "metadata": {},
   "source": [
    "Делаем предполжожение, что это небольшая ошибка и  Unnamed:0 просто дублирует номер строки. На всякий случай перепроверю это "
   ]
  },
  {
   "cell_type": "code",
   "execution_count": 22,
   "metadata": {},
   "outputs": [
    {
     "data": {
      "text/plain": [
       "149396"
      ]
     },
     "execution_count": 22,
     "metadata": {},
     "output_type": "execute_result"
    }
   ],
   "source": [
    "len(df_internet['Unnamed: 0'].unique())"
   ]
  },
  {
   "cell_type": "markdown",
   "metadata": {},
   "source": [
    "Да, этот столбец содержит в себе номер строк и идёт от 0 до 149395.  Информации для нас он никакой не несёт, потому можем избавиться от него "
   ]
  },
  {
   "cell_type": "code",
   "execution_count": 23,
   "metadata": {},
   "outputs": [],
   "source": [
    "df_internet.drop('Unnamed: 0', axis = 1, inplace = True) # удаляем лишний столбец.\n",
    "df_internet['session_date'] = pd.to_datetime(df_internet['session_date'], format = '%Y-%m-%d')\n",
    "# так же изменяю тип данных столбца session_date"
   ]
  },
  {
   "cell_type": "code",
   "execution_count": 24,
   "metadata": {},
   "outputs": [
    {
     "data": {
      "text/plain": [
       "id                      object\n",
       "mb_used                float64\n",
       "session_date    datetime64[ns]\n",
       "user_id                  int64\n",
       "dtype: object"
      ]
     },
     "execution_count": 24,
     "metadata": {},
     "output_type": "execute_result"
    }
   ],
   "source": [
    "df_internet.dtypes #проверяю как сработали методы "
   ]
  },
  {
   "cell_type": "code",
   "execution_count": 25,
   "metadata": {},
   "outputs": [
    {
     "data": {
      "text/plain": [
       "0.006"
      ]
     },
     "execution_count": 25,
     "metadata": {},
     "output_type": "execute_result"
    }
   ],
   "source": [
    "round(1-(len(df_internet['user_id'].unique())/500),3) #Доля пользователей  не использующие интернет"
   ]
  },
  {
   "cell_type": "markdown",
   "metadata": {},
   "source": [
    "**Вывод**  \n",
    "Пользователи активнее всего пользуются интернетом. Меньше процента пользователей из заданной выборки не пользовались интернетом "
   ]
  },
  {
   "cell_type": "markdown",
   "metadata": {},
   "source": [
    "### df_tariffs"
   ]
  },
  {
   "cell_type": "code",
   "execution_count": 26,
   "metadata": {},
   "outputs": [
    {
     "data": {
      "text/html": [
       "<div>\n",
       "<style scoped>\n",
       "    .dataframe tbody tr th:only-of-type {\n",
       "        vertical-align: middle;\n",
       "    }\n",
       "\n",
       "    .dataframe tbody tr th {\n",
       "        vertical-align: top;\n",
       "    }\n",
       "\n",
       "    .dataframe thead th {\n",
       "        text-align: right;\n",
       "    }\n",
       "</style>\n",
       "<table border=\"1\" class=\"dataframe\">\n",
       "  <thead>\n",
       "    <tr style=\"text-align: right;\">\n",
       "      <th></th>\n",
       "      <th>messages_included</th>\n",
       "      <th>mb_per_month_included</th>\n",
       "      <th>minutes_included</th>\n",
       "      <th>rub_monthly_fee</th>\n",
       "      <th>rub_per_gb</th>\n",
       "      <th>rub_per_message</th>\n",
       "      <th>rub_per_minute</th>\n",
       "      <th>tariff_name</th>\n",
       "    </tr>\n",
       "  </thead>\n",
       "  <tbody>\n",
       "    <tr>\n",
       "      <th>0</th>\n",
       "      <td>50</td>\n",
       "      <td>15360</td>\n",
       "      <td>500</td>\n",
       "      <td>550</td>\n",
       "      <td>200</td>\n",
       "      <td>3</td>\n",
       "      <td>3</td>\n",
       "      <td>smart</td>\n",
       "    </tr>\n",
       "    <tr>\n",
       "      <th>1</th>\n",
       "      <td>1000</td>\n",
       "      <td>30720</td>\n",
       "      <td>3000</td>\n",
       "      <td>1950</td>\n",
       "      <td>150</td>\n",
       "      <td>1</td>\n",
       "      <td>1</td>\n",
       "      <td>ultra</td>\n",
       "    </tr>\n",
       "  </tbody>\n",
       "</table>\n",
       "</div>"
      ],
      "text/plain": [
       "   messages_included  mb_per_month_included  minutes_included  \\\n",
       "0                 50                  15360               500   \n",
       "1               1000                  30720              3000   \n",
       "\n",
       "   rub_monthly_fee  rub_per_gb  rub_per_message  rub_per_minute tariff_name  \n",
       "0              550         200                3               3       smart  \n",
       "1             1950         150                1               1       ultra  "
      ]
     },
     "execution_count": 26,
     "metadata": {},
     "output_type": "execute_result"
    }
   ],
   "source": [
    "df_tariffs.head()"
   ]
  },
  {
   "cell_type": "markdown",
   "metadata": {},
   "source": [
    "В таблице количество интренет трафика дано в мб. Исправляю на доступный интернет трафик в гигабайтах"
   ]
  },
  {
   "cell_type": "code",
   "execution_count": 27,
   "metadata": {},
   "outputs": [],
   "source": [
    "df_tariffs['mb_per_month_included'] = df_tariffs['mb_per_month_included'].apply(lambda x: int(np.ceil(x/1024)))\n",
    "df_tariffs.rename(columns = {'mb_per_month_included':'gb_per_month_included'}, inplace = True)"
   ]
  },
  {
   "cell_type": "code",
   "execution_count": 28,
   "metadata": {},
   "outputs": [
    {
     "data": {
      "text/html": [
       "<div>\n",
       "<style scoped>\n",
       "    .dataframe tbody tr th:only-of-type {\n",
       "        vertical-align: middle;\n",
       "    }\n",
       "\n",
       "    .dataframe tbody tr th {\n",
       "        vertical-align: top;\n",
       "    }\n",
       "\n",
       "    .dataframe thead th {\n",
       "        text-align: right;\n",
       "    }\n",
       "</style>\n",
       "<table border=\"1\" class=\"dataframe\">\n",
       "  <thead>\n",
       "    <tr style=\"text-align: right;\">\n",
       "      <th></th>\n",
       "      <th>messages_included</th>\n",
       "      <th>gb_per_month_included</th>\n",
       "      <th>minutes_included</th>\n",
       "      <th>rub_monthly_fee</th>\n",
       "      <th>rub_per_gb</th>\n",
       "      <th>rub_per_message</th>\n",
       "      <th>rub_per_minute</th>\n",
       "      <th>tariff_name</th>\n",
       "    </tr>\n",
       "  </thead>\n",
       "  <tbody>\n",
       "    <tr>\n",
       "      <th>0</th>\n",
       "      <td>50</td>\n",
       "      <td>15</td>\n",
       "      <td>500</td>\n",
       "      <td>550</td>\n",
       "      <td>200</td>\n",
       "      <td>3</td>\n",
       "      <td>3</td>\n",
       "      <td>smart</td>\n",
       "    </tr>\n",
       "    <tr>\n",
       "      <th>1</th>\n",
       "      <td>1000</td>\n",
       "      <td>30</td>\n",
       "      <td>3000</td>\n",
       "      <td>1950</td>\n",
       "      <td>150</td>\n",
       "      <td>1</td>\n",
       "      <td>1</td>\n",
       "      <td>ultra</td>\n",
       "    </tr>\n",
       "  </tbody>\n",
       "</table>\n",
       "</div>"
      ],
      "text/plain": [
       "   messages_included  gb_per_month_included  minutes_included  \\\n",
       "0                 50                     15               500   \n",
       "1               1000                     30              3000   \n",
       "\n",
       "   rub_monthly_fee  rub_per_gb  rub_per_message  rub_per_minute tariff_name  \n",
       "0              550         200                3               3       smart  \n",
       "1             1950         150                1               1       ultra  "
      ]
     },
     "execution_count": 28,
     "metadata": {},
     "output_type": "execute_result"
    }
   ],
   "source": [
    "df_tariffs.head()"
   ]
  },
  {
   "cell_type": "markdown",
   "metadata": {},
   "source": [
    "### Вывод  \n",
    "Данные датасеты заполнены хорошо. Критичные пропуски не выявлены. Так же беглый осмотр данных показывает, что менее 1% пользователей из данной выборки не пользовались интернетом.\n",
    "Хуже всего обстоят дела с отправкой смс. Почти 15% пользователей не использовали смс для отправки сообщений. Возможно в век развития интернета и при наличие мессенджеров отправка смс теряет свою актуальность"
   ]
  },
  {
   "cell_type": "markdown",
   "metadata": {},
   "source": [
    "## Подготовка данных "
   ]
  },
  {
   "cell_type": "markdown",
   "metadata": {},
   "source": [
    "### df_calls"
   ]
  },
  {
   "cell_type": "markdown",
   "metadata": {},
   "source": [
    "Начну с таблицы с иформацией о звонках.  \n",
    "Из-за особенностей оператора, даже разговор с длительностью 1 секунда окргуляется до 1 минуты.   \n",
    "Поэтому надо всю информацию о звонках округлить в большую сторону"
   ]
  },
  {
   "cell_type": "code",
   "execution_count": 29,
   "metadata": {},
   "outputs": [],
   "source": [
    "df_calls['duration'] = df_calls['duration'].apply(np.ceil) # округляю длительность звонков до целых чисел в большую сторону\n",
    "df_calls['month'] = pd.DatetimeIndex(df_calls['call_date']).month #создаю столбец со значением месяца"
   ]
  },
  {
   "cell_type": "markdown",
   "metadata": {},
   "source": [
    "Далее я создаю таблицу df_calls_final  с длительностью и количеством звонков по месяцам"
   ]
  },
  {
   "cell_type": "code",
   "execution_count": 30,
   "metadata": {},
   "outputs": [],
   "source": [
    "df_calls_final = df_calls.groupby(['user_id', 'month'])['duration'].agg(['sum', 'count']).reset_index()\n",
    "df_calls_final.rename(columns = {'sum':'duration_of_calls', 'count': 'number_of_calls'}, inplace = True)"
   ]
  },
  {
   "cell_type": "code",
   "execution_count": 31,
   "metadata": {},
   "outputs": [
    {
     "data": {
      "text/html": [
       "<div>\n",
       "<style scoped>\n",
       "    .dataframe tbody tr th:only-of-type {\n",
       "        vertical-align: middle;\n",
       "    }\n",
       "\n",
       "    .dataframe tbody tr th {\n",
       "        vertical-align: top;\n",
       "    }\n",
       "\n",
       "    .dataframe thead th {\n",
       "        text-align: right;\n",
       "    }\n",
       "</style>\n",
       "<table border=\"1\" class=\"dataframe\">\n",
       "  <thead>\n",
       "    <tr style=\"text-align: right;\">\n",
       "      <th></th>\n",
       "      <th>user_id</th>\n",
       "      <th>month</th>\n",
       "      <th>duration_of_calls</th>\n",
       "      <th>number_of_calls</th>\n",
       "    </tr>\n",
       "  </thead>\n",
       "  <tbody>\n",
       "    <tr>\n",
       "      <th>0</th>\n",
       "      <td>1000</td>\n",
       "      <td>5</td>\n",
       "      <td>159.00</td>\n",
       "      <td>22</td>\n",
       "    </tr>\n",
       "    <tr>\n",
       "      <th>1</th>\n",
       "      <td>1000</td>\n",
       "      <td>6</td>\n",
       "      <td>172.00</td>\n",
       "      <td>43</td>\n",
       "    </tr>\n",
       "    <tr>\n",
       "      <th>2</th>\n",
       "      <td>1000</td>\n",
       "      <td>7</td>\n",
       "      <td>340.00</td>\n",
       "      <td>47</td>\n",
       "    </tr>\n",
       "    <tr>\n",
       "      <th>3</th>\n",
       "      <td>1000</td>\n",
       "      <td>8</td>\n",
       "      <td>408.00</td>\n",
       "      <td>52</td>\n",
       "    </tr>\n",
       "    <tr>\n",
       "      <th>4</th>\n",
       "      <td>1000</td>\n",
       "      <td>9</td>\n",
       "      <td>466.00</td>\n",
       "      <td>58</td>\n",
       "    </tr>\n",
       "  </tbody>\n",
       "</table>\n",
       "</div>"
      ],
      "text/plain": [
       "   user_id  month  duration_of_calls  number_of_calls\n",
       "0     1000      5             159.00               22\n",
       "1     1000      6             172.00               43\n",
       "2     1000      7             340.00               47\n",
       "3     1000      8             408.00               52\n",
       "4     1000      9             466.00               58"
      ]
     },
     "execution_count": 31,
     "metadata": {},
     "output_type": "execute_result"
    }
   ],
   "source": [
    "df_calls_final.head()"
   ]
  },
  {
   "cell_type": "markdown",
   "metadata": {},
   "source": [
    "### df_message "
   ]
  },
  {
   "cell_type": "code",
   "execution_count": 32,
   "metadata": {},
   "outputs": [],
   "source": [
    "df_messages['month'] = pd.DatetimeIndex(df_messages['message_date']).month # создаю столбец с названием месяца"
   ]
  },
  {
   "cell_type": "markdown",
   "metadata": {},
   "source": [
    "Далее я создаю таблицу df_messages_count, в которой будут указано количество отправленных в месяц сообщений для каждого пользователя. И проделываю хорошо знакомый нам алгоритм группировки таблицы "
   ]
  },
  {
   "cell_type": "code",
   "execution_count": 33,
   "metadata": {},
   "outputs": [
    {
     "data": {
      "text/html": [
       "<div>\n",
       "<style scoped>\n",
       "    .dataframe tbody tr th:only-of-type {\n",
       "        vertical-align: middle;\n",
       "    }\n",
       "\n",
       "    .dataframe tbody tr th {\n",
       "        vertical-align: top;\n",
       "    }\n",
       "\n",
       "    .dataframe thead th {\n",
       "        text-align: right;\n",
       "    }\n",
       "</style>\n",
       "<table border=\"1\" class=\"dataframe\">\n",
       "  <thead>\n",
       "    <tr style=\"text-align: right;\">\n",
       "      <th></th>\n",
       "      <th>user_id</th>\n",
       "      <th>month</th>\n",
       "      <th>number_of_messages</th>\n",
       "    </tr>\n",
       "  </thead>\n",
       "  <tbody>\n",
       "    <tr>\n",
       "      <th>0</th>\n",
       "      <td>1000</td>\n",
       "      <td>5</td>\n",
       "      <td>22</td>\n",
       "    </tr>\n",
       "    <tr>\n",
       "      <th>1</th>\n",
       "      <td>1000</td>\n",
       "      <td>6</td>\n",
       "      <td>60</td>\n",
       "    </tr>\n",
       "    <tr>\n",
       "      <th>2</th>\n",
       "      <td>1000</td>\n",
       "      <td>7</td>\n",
       "      <td>75</td>\n",
       "    </tr>\n",
       "    <tr>\n",
       "      <th>3</th>\n",
       "      <td>1000</td>\n",
       "      <td>8</td>\n",
       "      <td>81</td>\n",
       "    </tr>\n",
       "    <tr>\n",
       "      <th>4</th>\n",
       "      <td>1000</td>\n",
       "      <td>9</td>\n",
       "      <td>57</td>\n",
       "    </tr>\n",
       "  </tbody>\n",
       "</table>\n",
       "</div>"
      ],
      "text/plain": [
       "   user_id  month  number_of_messages\n",
       "0     1000      5                  22\n",
       "1     1000      6                  60\n",
       "2     1000      7                  75\n",
       "3     1000      8                  81\n",
       "4     1000      9                  57"
      ]
     },
     "execution_count": 33,
     "metadata": {},
     "output_type": "execute_result"
    }
   ],
   "source": [
    "df_messages_count = df_messages.groupby(['user_id', 'month'])['id'].count().reset_index() \n",
    "df_messages_count.rename(columns  = {'id': 'number_of_messages'}, inplace = True)\n",
    "df_messages_count.head()"
   ]
  },
  {
   "cell_type": "markdown",
   "metadata": {},
   "source": [
    "### df_internet"
   ]
  },
  {
   "cell_type": "markdown",
   "metadata": {},
   "source": [
    "Перехожу к датафайлу с интернет трафиком "
   ]
  },
  {
   "cell_type": "code",
   "execution_count": 34,
   "metadata": {},
   "outputs": [],
   "source": [
    "df_internet['month'] = pd.DatetimeIndex(df_internet['session_date']).month # создаю столбец с названием месяца"
   ]
  },
  {
   "cell_type": "code",
   "execution_count": 35,
   "metadata": {},
   "outputs": [
    {
     "data": {
      "text/html": [
       "<div>\n",
       "<style scoped>\n",
       "    .dataframe tbody tr th:only-of-type {\n",
       "        vertical-align: middle;\n",
       "    }\n",
       "\n",
       "    .dataframe tbody tr th {\n",
       "        vertical-align: top;\n",
       "    }\n",
       "\n",
       "    .dataframe thead th {\n",
       "        text-align: right;\n",
       "    }\n",
       "</style>\n",
       "<table border=\"1\" class=\"dataframe\">\n",
       "  <thead>\n",
       "    <tr style=\"text-align: right;\">\n",
       "      <th></th>\n",
       "      <th>user_id</th>\n",
       "      <th>month</th>\n",
       "      <th>mb_used</th>\n",
       "    </tr>\n",
       "  </thead>\n",
       "  <tbody>\n",
       "    <tr>\n",
       "      <th>0</th>\n",
       "      <td>1000</td>\n",
       "      <td>5</td>\n",
       "      <td>2,253.49</td>\n",
       "    </tr>\n",
       "    <tr>\n",
       "      <th>1</th>\n",
       "      <td>1000</td>\n",
       "      <td>6</td>\n",
       "      <td>23,233.77</td>\n",
       "    </tr>\n",
       "    <tr>\n",
       "      <th>2</th>\n",
       "      <td>1000</td>\n",
       "      <td>7</td>\n",
       "      <td>14,003.64</td>\n",
       "    </tr>\n",
       "    <tr>\n",
       "      <th>3</th>\n",
       "      <td>1000</td>\n",
       "      <td>8</td>\n",
       "      <td>14,055.93</td>\n",
       "    </tr>\n",
       "    <tr>\n",
       "      <th>4</th>\n",
       "      <td>1000</td>\n",
       "      <td>9</td>\n",
       "      <td>14,568.91</td>\n",
       "    </tr>\n",
       "  </tbody>\n",
       "</table>\n",
       "</div>"
      ],
      "text/plain": [
       "   user_id  month   mb_used\n",
       "0     1000      5  2,253.49\n",
       "1     1000      6 23,233.77\n",
       "2     1000      7 14,003.64\n",
       "3     1000      8 14,055.93\n",
       "4     1000      9 14,568.91"
      ]
     },
     "execution_count": 35,
     "metadata": {},
     "output_type": "execute_result"
    }
   ],
   "source": [
    "df_internet_spent = df_internet.groupby(['user_id', 'month'])['mb_used'].sum().reset_index()\n",
    "df_internet_spent.head()"
   ]
  },
  {
   "cell_type": "markdown",
   "metadata": {},
   "source": [
    "По условиям пользования оператор снимает деньги за гигабайты. Причём всегда число округляется в большую сторону"
   ]
  },
  {
   "cell_type": "code",
   "execution_count": 36,
   "metadata": {},
   "outputs": [],
   "source": [
    "def gigabyte(values):\n",
    "    '''функция переводит мб в гигабайты'''\n",
    "    return int(np.ceil(values/1024))"
   ]
  },
  {
   "cell_type": "code",
   "execution_count": 37,
   "metadata": {},
   "outputs": [
    {
     "data": {
      "text/html": [
       "<div>\n",
       "<style scoped>\n",
       "    .dataframe tbody tr th:only-of-type {\n",
       "        vertical-align: middle;\n",
       "    }\n",
       "\n",
       "    .dataframe tbody tr th {\n",
       "        vertical-align: top;\n",
       "    }\n",
       "\n",
       "    .dataframe thead th {\n",
       "        text-align: right;\n",
       "    }\n",
       "</style>\n",
       "<table border=\"1\" class=\"dataframe\">\n",
       "  <thead>\n",
       "    <tr style=\"text-align: right;\">\n",
       "      <th></th>\n",
       "      <th>user_id</th>\n",
       "      <th>month</th>\n",
       "      <th>gb_used</th>\n",
       "    </tr>\n",
       "  </thead>\n",
       "  <tbody>\n",
       "    <tr>\n",
       "      <th>0</th>\n",
       "      <td>1000</td>\n",
       "      <td>5</td>\n",
       "      <td>3</td>\n",
       "    </tr>\n",
       "    <tr>\n",
       "      <th>1</th>\n",
       "      <td>1000</td>\n",
       "      <td>6</td>\n",
       "      <td>23</td>\n",
       "    </tr>\n",
       "    <tr>\n",
       "      <th>2</th>\n",
       "      <td>1000</td>\n",
       "      <td>7</td>\n",
       "      <td>14</td>\n",
       "    </tr>\n",
       "    <tr>\n",
       "      <th>3</th>\n",
       "      <td>1000</td>\n",
       "      <td>8</td>\n",
       "      <td>14</td>\n",
       "    </tr>\n",
       "    <tr>\n",
       "      <th>4</th>\n",
       "      <td>1000</td>\n",
       "      <td>9</td>\n",
       "      <td>15</td>\n",
       "    </tr>\n",
       "  </tbody>\n",
       "</table>\n",
       "</div>"
      ],
      "text/plain": [
       "   user_id  month  gb_used\n",
       "0     1000      5        3\n",
       "1     1000      6       23\n",
       "2     1000      7       14\n",
       "3     1000      8       14\n",
       "4     1000      9       15"
      ]
     },
     "execution_count": 37,
     "metadata": {},
     "output_type": "execute_result"
    }
   ],
   "source": [
    "df_internet_spent['mb_used'] = df_internet_spent['mb_used'].apply(gigabyte) # применяю функцию к сталбцу \n",
    "df_internet_spent.rename(columns = {'mb_used':'gb_used'}, inplace = True) #меняю название столбца \n",
    "df_internet_spent.head()"
   ]
  },
  {
   "cell_type": "markdown",
   "metadata": {},
   "source": [
    "### Вывод \n",
    "\n",
    "Все датасеты готовы к объединению. И так же помня особенности обслуживания пользователей, в нужных местах округлил значения и перевёл мб в гигабайты. "
   ]
  },
  {
   "cell_type": "markdown",
   "metadata": {},
   "source": [
    "## объединение данных в одну таблицу"
   ]
  },
  {
   "cell_type": "code",
   "execution_count": 38,
   "metadata": {},
   "outputs": [],
   "source": [
    "data = df_internet_spent.merge(df_calls_final, on = ['user_id', 'month'], how = 'outer')\n",
    "#объединяю 2 датасета с информацией о звонках и используемом интеренете"
   ]
  },
  {
   "cell_type": "markdown",
   "metadata": {},
   "source": [
    "Я применяю how = 'outer' из-за того, что другие методы объединения лишают нас части важных данных. Чего я хотел бы избежать всеми возможными способами \n",
    "\n",
    "Далее присоединяю все оставшиеся датасеты"
   ]
  },
  {
   "cell_type": "code",
   "execution_count": 39,
   "metadata": {},
   "outputs": [
    {
     "data": {
      "text/html": [
       "<div>\n",
       "<style scoped>\n",
       "    .dataframe tbody tr th:only-of-type {\n",
       "        vertical-align: middle;\n",
       "    }\n",
       "\n",
       "    .dataframe tbody tr th {\n",
       "        vertical-align: top;\n",
       "    }\n",
       "\n",
       "    .dataframe thead th {\n",
       "        text-align: right;\n",
       "    }\n",
       "</style>\n",
       "<table border=\"1\" class=\"dataframe\">\n",
       "  <thead>\n",
       "    <tr style=\"text-align: right;\">\n",
       "      <th></th>\n",
       "      <th>user_id</th>\n",
       "      <th>age</th>\n",
       "      <th>churn_date</th>\n",
       "      <th>city</th>\n",
       "      <th>first_name</th>\n",
       "      <th>last_name</th>\n",
       "      <th>reg_date</th>\n",
       "      <th>tariff</th>\n",
       "      <th>month</th>\n",
       "      <th>gb_used</th>\n",
       "      <th>duration_of_calls</th>\n",
       "      <th>number_of_calls</th>\n",
       "      <th>number_of_messages</th>\n",
       "    </tr>\n",
       "  </thead>\n",
       "  <tbody>\n",
       "    <tr>\n",
       "      <th>0</th>\n",
       "      <td>1000</td>\n",
       "      <td>52</td>\n",
       "      <td>NaT</td>\n",
       "      <td>Краснодар</td>\n",
       "      <td>Рафаил</td>\n",
       "      <td>Верещагин</td>\n",
       "      <td>2018-05-25</td>\n",
       "      <td>ultra</td>\n",
       "      <td>5.00</td>\n",
       "      <td>3.00</td>\n",
       "      <td>159.00</td>\n",
       "      <td>22.00</td>\n",
       "      <td>22.00</td>\n",
       "    </tr>\n",
       "    <tr>\n",
       "      <th>1</th>\n",
       "      <td>1000</td>\n",
       "      <td>52</td>\n",
       "      <td>NaT</td>\n",
       "      <td>Краснодар</td>\n",
       "      <td>Рафаил</td>\n",
       "      <td>Верещагин</td>\n",
       "      <td>2018-05-25</td>\n",
       "      <td>ultra</td>\n",
       "      <td>6.00</td>\n",
       "      <td>23.00</td>\n",
       "      <td>172.00</td>\n",
       "      <td>43.00</td>\n",
       "      <td>60.00</td>\n",
       "    </tr>\n",
       "    <tr>\n",
       "      <th>2</th>\n",
       "      <td>1000</td>\n",
       "      <td>52</td>\n",
       "      <td>NaT</td>\n",
       "      <td>Краснодар</td>\n",
       "      <td>Рафаил</td>\n",
       "      <td>Верещагин</td>\n",
       "      <td>2018-05-25</td>\n",
       "      <td>ultra</td>\n",
       "      <td>7.00</td>\n",
       "      <td>14.00</td>\n",
       "      <td>340.00</td>\n",
       "      <td>47.00</td>\n",
       "      <td>75.00</td>\n",
       "    </tr>\n",
       "    <tr>\n",
       "      <th>3</th>\n",
       "      <td>1000</td>\n",
       "      <td>52</td>\n",
       "      <td>NaT</td>\n",
       "      <td>Краснодар</td>\n",
       "      <td>Рафаил</td>\n",
       "      <td>Верещагин</td>\n",
       "      <td>2018-05-25</td>\n",
       "      <td>ultra</td>\n",
       "      <td>8.00</td>\n",
       "      <td>14.00</td>\n",
       "      <td>408.00</td>\n",
       "      <td>52.00</td>\n",
       "      <td>81.00</td>\n",
       "    </tr>\n",
       "    <tr>\n",
       "      <th>4</th>\n",
       "      <td>1000</td>\n",
       "      <td>52</td>\n",
       "      <td>NaT</td>\n",
       "      <td>Краснодар</td>\n",
       "      <td>Рафаил</td>\n",
       "      <td>Верещагин</td>\n",
       "      <td>2018-05-25</td>\n",
       "      <td>ultra</td>\n",
       "      <td>9.00</td>\n",
       "      <td>15.00</td>\n",
       "      <td>466.00</td>\n",
       "      <td>58.00</td>\n",
       "      <td>57.00</td>\n",
       "    </tr>\n",
       "  </tbody>\n",
       "</table>\n",
       "</div>"
      ],
      "text/plain": [
       "   user_id  age churn_date       city first_name  last_name   reg_date tariff  \\\n",
       "0     1000   52        NaT  Краснодар     Рафаил  Верещагин 2018-05-25  ultra   \n",
       "1     1000   52        NaT  Краснодар     Рафаил  Верещагин 2018-05-25  ultra   \n",
       "2     1000   52        NaT  Краснодар     Рафаил  Верещагин 2018-05-25  ultra   \n",
       "3     1000   52        NaT  Краснодар     Рафаил  Верещагин 2018-05-25  ultra   \n",
       "4     1000   52        NaT  Краснодар     Рафаил  Верещагин 2018-05-25  ultra   \n",
       "\n",
       "   month  gb_used  duration_of_calls  number_of_calls  number_of_messages  \n",
       "0   5.00     3.00             159.00            22.00               22.00  \n",
       "1   6.00    23.00             172.00            43.00               60.00  \n",
       "2   7.00    14.00             340.00            47.00               75.00  \n",
       "3   8.00    14.00             408.00            52.00               81.00  \n",
       "4   9.00    15.00             466.00            58.00               57.00  "
      ]
     },
     "execution_count": 39,
     "metadata": {},
     "output_type": "execute_result"
    }
   ],
   "source": [
    "df = df.merge(data, on = 'user_id', how = 'outer')\n",
    "df = df.merge(df_messages_count, on = ['user_id', 'month'],  how = 'outer')\n",
    "df.head()"
   ]
  },
  {
   "cell_type": "code",
   "execution_count": 40,
   "metadata": {},
   "outputs": [
    {
     "data": {
      "text/plain": [
       "(3216, 13)"
      ]
     },
     "execution_count": 40,
     "metadata": {},
     "output_type": "execute_result"
    }
   ],
   "source": [
    "df.shape # вывожу размеры таблицы"
   ]
  },
  {
   "cell_type": "markdown",
   "metadata": {},
   "source": [
    "Что бы удостовериться, что таблицы \"нормально\" соединились, выведу так же значения с конца"
   ]
  },
  {
   "cell_type": "code",
   "execution_count": 41,
   "metadata": {},
   "outputs": [
    {
     "data": {
      "text/html": [
       "<div>\n",
       "<style scoped>\n",
       "    .dataframe tbody tr th:only-of-type {\n",
       "        vertical-align: middle;\n",
       "    }\n",
       "\n",
       "    .dataframe tbody tr th {\n",
       "        vertical-align: top;\n",
       "    }\n",
       "\n",
       "    .dataframe thead th {\n",
       "        text-align: right;\n",
       "    }\n",
       "</style>\n",
       "<table border=\"1\" class=\"dataframe\">\n",
       "  <thead>\n",
       "    <tr style=\"text-align: right;\">\n",
       "      <th></th>\n",
       "      <th>user_id</th>\n",
       "      <th>age</th>\n",
       "      <th>churn_date</th>\n",
       "      <th>city</th>\n",
       "      <th>first_name</th>\n",
       "      <th>last_name</th>\n",
       "      <th>reg_date</th>\n",
       "      <th>tariff</th>\n",
       "      <th>month</th>\n",
       "      <th>gb_used</th>\n",
       "      <th>duration_of_calls</th>\n",
       "      <th>number_of_calls</th>\n",
       "      <th>number_of_messages</th>\n",
       "    </tr>\n",
       "  </thead>\n",
       "  <tbody>\n",
       "    <tr>\n",
       "      <th>3211</th>\n",
       "      <td>1498</td>\n",
       "      <td>68</td>\n",
       "      <td>2018-10-25</td>\n",
       "      <td>Владикавказ</td>\n",
       "      <td>Всеволод</td>\n",
       "      <td>Акимчин</td>\n",
       "      <td>2018-07-19</td>\n",
       "      <td>smart</td>\n",
       "      <td>10.00</td>\n",
       "      <td>21.00</td>\n",
       "      <td>247.00</td>\n",
       "      <td>41.00</td>\n",
       "      <td>42.00</td>\n",
       "    </tr>\n",
       "    <tr>\n",
       "      <th>3212</th>\n",
       "      <td>1499</td>\n",
       "      <td>35</td>\n",
       "      <td>NaT</td>\n",
       "      <td>Пермь</td>\n",
       "      <td>Гектор</td>\n",
       "      <td>Корнилов</td>\n",
       "      <td>2018-09-27</td>\n",
       "      <td>smart</td>\n",
       "      <td>9.00</td>\n",
       "      <td>2.00</td>\n",
       "      <td>70.00</td>\n",
       "      <td>9.00</td>\n",
       "      <td>11.00</td>\n",
       "    </tr>\n",
       "    <tr>\n",
       "      <th>3213</th>\n",
       "      <td>1499</td>\n",
       "      <td>35</td>\n",
       "      <td>NaT</td>\n",
       "      <td>Пермь</td>\n",
       "      <td>Гектор</td>\n",
       "      <td>Корнилов</td>\n",
       "      <td>2018-09-27</td>\n",
       "      <td>smart</td>\n",
       "      <td>10.00</td>\n",
       "      <td>18.00</td>\n",
       "      <td>449.00</td>\n",
       "      <td>68.00</td>\n",
       "      <td>48.00</td>\n",
       "    </tr>\n",
       "    <tr>\n",
       "      <th>3214</th>\n",
       "      <td>1499</td>\n",
       "      <td>35</td>\n",
       "      <td>NaT</td>\n",
       "      <td>Пермь</td>\n",
       "      <td>Гектор</td>\n",
       "      <td>Корнилов</td>\n",
       "      <td>2018-09-27</td>\n",
       "      <td>smart</td>\n",
       "      <td>11.00</td>\n",
       "      <td>18.00</td>\n",
       "      <td>612.00</td>\n",
       "      <td>74.00</td>\n",
       "      <td>59.00</td>\n",
       "    </tr>\n",
       "    <tr>\n",
       "      <th>3215</th>\n",
       "      <td>1499</td>\n",
       "      <td>35</td>\n",
       "      <td>NaT</td>\n",
       "      <td>Пермь</td>\n",
       "      <td>Гектор</td>\n",
       "      <td>Корнилов</td>\n",
       "      <td>2018-09-27</td>\n",
       "      <td>smart</td>\n",
       "      <td>12.00</td>\n",
       "      <td>13.00</td>\n",
       "      <td>492.00</td>\n",
       "      <td>69.00</td>\n",
       "      <td>66.00</td>\n",
       "    </tr>\n",
       "  </tbody>\n",
       "</table>\n",
       "</div>"
      ],
      "text/plain": [
       "      user_id  age churn_date         city first_name last_name   reg_date  \\\n",
       "3211     1498   68 2018-10-25  Владикавказ   Всеволод   Акимчин 2018-07-19   \n",
       "3212     1499   35        NaT        Пермь     Гектор  Корнилов 2018-09-27   \n",
       "3213     1499   35        NaT        Пермь     Гектор  Корнилов 2018-09-27   \n",
       "3214     1499   35        NaT        Пермь     Гектор  Корнилов 2018-09-27   \n",
       "3215     1499   35        NaT        Пермь     Гектор  Корнилов 2018-09-27   \n",
       "\n",
       "     tariff  month  gb_used  duration_of_calls  number_of_calls  \\\n",
       "3211  smart  10.00    21.00             247.00            41.00   \n",
       "3212  smart   9.00     2.00              70.00             9.00   \n",
       "3213  smart  10.00    18.00             449.00            68.00   \n",
       "3214  smart  11.00    18.00             612.00            74.00   \n",
       "3215  smart  12.00    13.00             492.00            69.00   \n",
       "\n",
       "      number_of_messages  \n",
       "3211               42.00  \n",
       "3212               11.00  \n",
       "3213               48.00  \n",
       "3214               59.00  \n",
       "3215               66.00  "
      ]
     },
     "execution_count": 41,
     "metadata": {},
     "output_type": "execute_result"
    }
   ],
   "source": [
    "df.tail()"
   ]
  },
  {
   "cell_type": "markdown",
   "metadata": {},
   "source": [
    "В некотрых месяцах люди могли не пользоваться некоторыми видами связи(интернетом/звонками/смс сообщениями). Предлагаю проверить эту гипотезу. Если она подтвердится, то пропуски заполним нулями "
   ]
  },
  {
   "cell_type": "code",
   "execution_count": 42,
   "metadata": {},
   "outputs": [
    {
     "data": {
      "text/html": [
       "<div>\n",
       "<style scoped>\n",
       "    .dataframe tbody tr th:only-of-type {\n",
       "        vertical-align: middle;\n",
       "    }\n",
       "\n",
       "    .dataframe tbody tr th {\n",
       "        vertical-align: top;\n",
       "    }\n",
       "\n",
       "    .dataframe thead th {\n",
       "        text-align: right;\n",
       "    }\n",
       "</style>\n",
       "<table border=\"1\" class=\"dataframe\">\n",
       "  <thead>\n",
       "    <tr style=\"text-align: right;\">\n",
       "      <th></th>\n",
       "      <th>0</th>\n",
       "    </tr>\n",
       "  </thead>\n",
       "  <tbody>\n",
       "    <tr>\n",
       "      <th>user_id</th>\n",
       "      <td>0</td>\n",
       "    </tr>\n",
       "    <tr>\n",
       "      <th>age</th>\n",
       "      <td>0</td>\n",
       "    </tr>\n",
       "    <tr>\n",
       "      <th>churn_date</th>\n",
       "      <td>3027</td>\n",
       "    </tr>\n",
       "    <tr>\n",
       "      <th>city</th>\n",
       "      <td>0</td>\n",
       "    </tr>\n",
       "    <tr>\n",
       "      <th>first_name</th>\n",
       "      <td>0</td>\n",
       "    </tr>\n",
       "    <tr>\n",
       "      <th>last_name</th>\n",
       "      <td>0</td>\n",
       "    </tr>\n",
       "    <tr>\n",
       "      <th>reg_date</th>\n",
       "      <td>0</td>\n",
       "    </tr>\n",
       "    <tr>\n",
       "      <th>tariff</th>\n",
       "      <td>0</td>\n",
       "    </tr>\n",
       "    <tr>\n",
       "      <th>month</th>\n",
       "      <td>2</td>\n",
       "    </tr>\n",
       "    <tr>\n",
       "      <th>gb_used</th>\n",
       "      <td>13</td>\n",
       "    </tr>\n",
       "    <tr>\n",
       "      <th>duration_of_calls</th>\n",
       "      <td>42</td>\n",
       "    </tr>\n",
       "    <tr>\n",
       "      <th>number_of_calls</th>\n",
       "      <td>42</td>\n",
       "    </tr>\n",
       "    <tr>\n",
       "      <th>number_of_messages</th>\n",
       "      <td>499</td>\n",
       "    </tr>\n",
       "  </tbody>\n",
       "</table>\n",
       "</div>"
      ],
      "text/plain": [
       "                       0\n",
       "user_id                0\n",
       "age                    0\n",
       "churn_date          3027\n",
       "city                   0\n",
       "first_name             0\n",
       "last_name              0\n",
       "reg_date               0\n",
       "tariff                 0\n",
       "month                  2\n",
       "gb_used               13\n",
       "duration_of_calls     42\n",
       "number_of_calls       42\n",
       "number_of_messages   499"
      ]
     },
     "execution_count": 42,
     "metadata": {},
     "output_type": "execute_result"
    }
   ],
   "source": [
    "df.isna().sum().to_frame()"
   ]
  },
  {
   "cell_type": "code",
   "execution_count": 43,
   "metadata": {},
   "outputs": [],
   "source": [
    "value = ['gb_used', 'duration_of_calls', 'number_of_calls', 'number_of_messages']\n",
    "df[value] = df[value].fillna(0)"
   ]
  },
  {
   "cell_type": "markdown",
   "metadata": {},
   "source": [
    "Наблюдаем, что появилось 2 пропуска в месяцах, надо посмотреть данные значения, что бы понять чем это вызвано "
   ]
  },
  {
   "cell_type": "code",
   "execution_count": 44,
   "metadata": {},
   "outputs": [
    {
     "data": {
      "text/html": [
       "<div>\n",
       "<style scoped>\n",
       "    .dataframe tbody tr th:only-of-type {\n",
       "        vertical-align: middle;\n",
       "    }\n",
       "\n",
       "    .dataframe tbody tr th {\n",
       "        vertical-align: top;\n",
       "    }\n",
       "\n",
       "    .dataframe thead th {\n",
       "        text-align: right;\n",
       "    }\n",
       "</style>\n",
       "<table border=\"1\" class=\"dataframe\">\n",
       "  <thead>\n",
       "    <tr style=\"text-align: right;\">\n",
       "      <th></th>\n",
       "      <th>user_id</th>\n",
       "      <th>age</th>\n",
       "      <th>churn_date</th>\n",
       "      <th>city</th>\n",
       "      <th>first_name</th>\n",
       "      <th>last_name</th>\n",
       "      <th>reg_date</th>\n",
       "      <th>tariff</th>\n",
       "      <th>month</th>\n",
       "      <th>gb_used</th>\n",
       "      <th>duration_of_calls</th>\n",
       "      <th>number_of_calls</th>\n",
       "      <th>number_of_messages</th>\n",
       "    </tr>\n",
       "  </thead>\n",
       "  <tbody>\n",
       "    <tr>\n",
       "      <th>827</th>\n",
       "      <td>1128</td>\n",
       "      <td>51</td>\n",
       "      <td>2018-12-23</td>\n",
       "      <td>Волжский</td>\n",
       "      <td>Ксения</td>\n",
       "      <td>Агаева</td>\n",
       "      <td>2018-12-15</td>\n",
       "      <td>ultra</td>\n",
       "      <td>NaN</td>\n",
       "      <td>0.00</td>\n",
       "      <td>0.00</td>\n",
       "      <td>0.00</td>\n",
       "      <td>0.00</td>\n",
       "    </tr>\n",
       "    <tr>\n",
       "      <th>2335</th>\n",
       "      <td>1371</td>\n",
       "      <td>50</td>\n",
       "      <td>2018-12-30</td>\n",
       "      <td>Омск</td>\n",
       "      <td>Ириней</td>\n",
       "      <td>Трофимов</td>\n",
       "      <td>2018-12-25</td>\n",
       "      <td>smart</td>\n",
       "      <td>NaN</td>\n",
       "      <td>0.00</td>\n",
       "      <td>0.00</td>\n",
       "      <td>0.00</td>\n",
       "      <td>0.00</td>\n",
       "    </tr>\n",
       "  </tbody>\n",
       "</table>\n",
       "</div>"
      ],
      "text/plain": [
       "      user_id  age churn_date      city first_name last_name   reg_date  \\\n",
       "827      1128   51 2018-12-23  Волжский     Ксения    Агаева 2018-12-15   \n",
       "2335     1371   50 2018-12-30      Омск     Ириней  Трофимов 2018-12-25   \n",
       "\n",
       "     tariff  month  gb_used  duration_of_calls  number_of_calls  \\\n",
       "827   ultra    NaN     0.00               0.00             0.00   \n",
       "2335  smart    NaN     0.00               0.00             0.00   \n",
       "\n",
       "      number_of_messages  \n",
       "827                 0.00  \n",
       "2335                0.00  "
      ]
     },
     "execution_count": 44,
     "metadata": {},
     "output_type": "execute_result"
    }
   ],
   "source": [
    "df[df['month'].isna()]"
   ]
  },
  {
   "cell_type": "markdown",
   "metadata": {},
   "source": [
    "Пользователи подключали тариф менее чем на месяц,и не пользовали интернетом/смс сообщениями/звонками\n",
    "И всё это произошло в 12 месяце"
   ]
  },
  {
   "cell_type": "code",
   "execution_count": 45,
   "metadata": {},
   "outputs": [],
   "source": [
    "df['month'] = df['month'].fillna(12)"
   ]
  },
  {
   "cell_type": "markdown",
   "metadata": {},
   "source": [
    "Так же надо сделать проверку не потерялись ли какие нибудь данные. В начале проверю не потерялась ли информация о звонках и интернет трафике "
   ]
  },
  {
   "cell_type": "code",
   "execution_count": 46,
   "metadata": {},
   "outputs": [
    {
     "data": {
      "text/plain": [
       "True"
      ]
     },
     "execution_count": 46,
     "metadata": {},
     "output_type": "execute_result"
    }
   ],
   "source": [
    "df_calls['duration'].sum() == df['duration_of_calls'].sum()"
   ]
  },
  {
   "cell_type": "code",
   "execution_count": 47,
   "metadata": {},
   "outputs": [
    {
     "data": {
      "text/plain": [
       "True"
      ]
     },
     "execution_count": 47,
     "metadata": {},
     "output_type": "execute_result"
    }
   ],
   "source": [
    "df_internet_spent['gb_used'].sum() == df['gb_used'].sum()"
   ]
  },
  {
   "cell_type": "code",
   "execution_count": 48,
   "metadata": {},
   "outputs": [
    {
     "data": {
      "text/plain": [
       "500"
      ]
     },
     "execution_count": 48,
     "metadata": {},
     "output_type": "execute_result"
    }
   ],
   "source": [
    "df['user_id'].nunique()"
   ]
  },
  {
   "cell_type": "markdown",
   "metadata": {},
   "source": [
    "**Вывод**\n",
    "\n",
    "Объединение таблиц прошло успешно. Пропуски заполнены "
   ]
  },
  {
   "cell_type": "markdown",
   "metadata": {},
   "source": [
    "### Добавление стоимости месячного обслуживания"
   ]
  },
  {
   "cell_type": "markdown",
   "metadata": {},
   "source": [
    "Для получившейся таблицы, надо добавить столбец с месячной выручкой. Нам предоставили методику расчёта, осталось написать функцию "
   ]
  },
  {
   "cell_type": "code",
   "execution_count": 49,
   "metadata": {},
   "outputs": [],
   "source": [
    "def cost_finaly(df):\n",
    "    '''функция расчитывает месячную выручку за обслуживание клиента'''\n",
    "    if df['tariff'] == df_tariffs.iloc[1][-1]:\n",
    "        i = df_tariffs.iloc[1][3] \n",
    "        if df['duration_of_calls'] > df_tariffs.iloc[1][2]:\n",
    "            i += (df['duration_of_calls'] - df_tariffs.iloc[1][2]) * df_tariffs.iloc[1][-2]\n",
    "        if df['number_of_messages'] >df_tariffs.iloc[1][0]:\n",
    "            i += (df['number_of_messages'] - df_tariffs.iloc[1][0]) * df_tariffs.iloc[1][-3]\n",
    "        if df['gb_used'] > df_tariffs.iloc[1][1]:\n",
    "            i += ((df['gb_used'] - df_tariffs.iloc[1][1]) * df_tariffs.iloc[1][4])\n",
    "        return i\n",
    "    elif df['tariff'] == df_tariffs.iloc[0][-1]:\n",
    "        i = df_tariffs.iloc[0][3]\n",
    "        if df['duration_of_calls'] > df_tariffs.iloc[0][2]:\n",
    "            i += ((df['duration_of_calls'] - df_tariffs.iloc[0][2]) * df_tariffs.iloc[0][-2])\n",
    "        if df['number_of_messages'] > df_tariffs.iloc[0][0]:\n",
    "            i += ((df['number_of_messages'] - df_tariffs.iloc[0][0]) * df_tariffs.iloc[0][-3])\n",
    "        if df['gb_used'] > df_tariffs.iloc[0][1]:\n",
    "            i += ((df['gb_used'] - df_tariffs.iloc[0][1]) * df_tariffs.iloc[0][4])\n",
    "        return i       \n",
    "    else:\n",
    "        return 'неизвестный тариф'"
   ]
  },
  {
   "cell_type": "code",
   "execution_count": 50,
   "metadata": {},
   "outputs": [],
   "source": [
    "df['cost'] = df.apply(cost_finaly, axis = 1) # применяю функцию к датасету"
   ]
  },
  {
   "cell_type": "code",
   "execution_count": 51,
   "metadata": {
    "scrolled": false
   },
   "outputs": [
    {
     "data": {
      "text/html": [
       "<div>\n",
       "<style scoped>\n",
       "    .dataframe tbody tr th:only-of-type {\n",
       "        vertical-align: middle;\n",
       "    }\n",
       "\n",
       "    .dataframe tbody tr th {\n",
       "        vertical-align: top;\n",
       "    }\n",
       "\n",
       "    .dataframe thead th {\n",
       "        text-align: right;\n",
       "    }\n",
       "</style>\n",
       "<table border=\"1\" class=\"dataframe\">\n",
       "  <thead>\n",
       "    <tr style=\"text-align: right;\">\n",
       "      <th></th>\n",
       "      <th>user_id</th>\n",
       "      <th>age</th>\n",
       "      <th>churn_date</th>\n",
       "      <th>city</th>\n",
       "      <th>first_name</th>\n",
       "      <th>last_name</th>\n",
       "      <th>reg_date</th>\n",
       "      <th>tariff</th>\n",
       "      <th>month</th>\n",
       "      <th>gb_used</th>\n",
       "      <th>duration_of_calls</th>\n",
       "      <th>number_of_calls</th>\n",
       "      <th>number_of_messages</th>\n",
       "      <th>cost</th>\n",
       "    </tr>\n",
       "  </thead>\n",
       "  <tbody>\n",
       "    <tr>\n",
       "      <th>0</th>\n",
       "      <td>1000</td>\n",
       "      <td>52</td>\n",
       "      <td>NaT</td>\n",
       "      <td>Краснодар</td>\n",
       "      <td>Рафаил</td>\n",
       "      <td>Верещагин</td>\n",
       "      <td>2018-05-25</td>\n",
       "      <td>ultra</td>\n",
       "      <td>5.00</td>\n",
       "      <td>3.00</td>\n",
       "      <td>159.00</td>\n",
       "      <td>22.00</td>\n",
       "      <td>22.00</td>\n",
       "      <td>1,950.00</td>\n",
       "    </tr>\n",
       "    <tr>\n",
       "      <th>1</th>\n",
       "      <td>1000</td>\n",
       "      <td>52</td>\n",
       "      <td>NaT</td>\n",
       "      <td>Краснодар</td>\n",
       "      <td>Рафаил</td>\n",
       "      <td>Верещагин</td>\n",
       "      <td>2018-05-25</td>\n",
       "      <td>ultra</td>\n",
       "      <td>6.00</td>\n",
       "      <td>23.00</td>\n",
       "      <td>172.00</td>\n",
       "      <td>43.00</td>\n",
       "      <td>60.00</td>\n",
       "      <td>1,950.00</td>\n",
       "    </tr>\n",
       "    <tr>\n",
       "      <th>2</th>\n",
       "      <td>1000</td>\n",
       "      <td>52</td>\n",
       "      <td>NaT</td>\n",
       "      <td>Краснодар</td>\n",
       "      <td>Рафаил</td>\n",
       "      <td>Верещагин</td>\n",
       "      <td>2018-05-25</td>\n",
       "      <td>ultra</td>\n",
       "      <td>7.00</td>\n",
       "      <td>14.00</td>\n",
       "      <td>340.00</td>\n",
       "      <td>47.00</td>\n",
       "      <td>75.00</td>\n",
       "      <td>1,950.00</td>\n",
       "    </tr>\n",
       "    <tr>\n",
       "      <th>3</th>\n",
       "      <td>1000</td>\n",
       "      <td>52</td>\n",
       "      <td>NaT</td>\n",
       "      <td>Краснодар</td>\n",
       "      <td>Рафаил</td>\n",
       "      <td>Верещагин</td>\n",
       "      <td>2018-05-25</td>\n",
       "      <td>ultra</td>\n",
       "      <td>8.00</td>\n",
       "      <td>14.00</td>\n",
       "      <td>408.00</td>\n",
       "      <td>52.00</td>\n",
       "      <td>81.00</td>\n",
       "      <td>1,950.00</td>\n",
       "    </tr>\n",
       "    <tr>\n",
       "      <th>4</th>\n",
       "      <td>1000</td>\n",
       "      <td>52</td>\n",
       "      <td>NaT</td>\n",
       "      <td>Краснодар</td>\n",
       "      <td>Рафаил</td>\n",
       "      <td>Верещагин</td>\n",
       "      <td>2018-05-25</td>\n",
       "      <td>ultra</td>\n",
       "      <td>9.00</td>\n",
       "      <td>15.00</td>\n",
       "      <td>466.00</td>\n",
       "      <td>58.00</td>\n",
       "      <td>57.00</td>\n",
       "      <td>1,950.00</td>\n",
       "    </tr>\n",
       "  </tbody>\n",
       "</table>\n",
       "</div>"
      ],
      "text/plain": [
       "   user_id  age churn_date       city first_name  last_name   reg_date tariff  \\\n",
       "0     1000   52        NaT  Краснодар     Рафаил  Верещагин 2018-05-25  ultra   \n",
       "1     1000   52        NaT  Краснодар     Рафаил  Верещагин 2018-05-25  ultra   \n",
       "2     1000   52        NaT  Краснодар     Рафаил  Верещагин 2018-05-25  ultra   \n",
       "3     1000   52        NaT  Краснодар     Рафаил  Верещагин 2018-05-25  ultra   \n",
       "4     1000   52        NaT  Краснодар     Рафаил  Верещагин 2018-05-25  ultra   \n",
       "\n",
       "   month  gb_used  duration_of_calls  number_of_calls  number_of_messages  \\\n",
       "0   5.00     3.00             159.00            22.00               22.00   \n",
       "1   6.00    23.00             172.00            43.00               60.00   \n",
       "2   7.00    14.00             340.00            47.00               75.00   \n",
       "3   8.00    14.00             408.00            52.00               81.00   \n",
       "4   9.00    15.00             466.00            58.00               57.00   \n",
       "\n",
       "      cost  \n",
       "0 1,950.00  \n",
       "1 1,950.00  \n",
       "2 1,950.00  \n",
       "3 1,950.00  \n",
       "4 1,950.00  "
      ]
     },
     "execution_count": 51,
     "metadata": {},
     "output_type": "execute_result"
    }
   ],
   "source": [
    "df.head(5) # проверяю как выполнилась функция "
   ]
  },
  {
   "cell_type": "code",
   "execution_count": 52,
   "metadata": {},
   "outputs": [
    {
     "data": {
      "text/plain": [
       "count   3,216.00\n",
       "mean    1,528.90\n",
       "std       798.22\n",
       "min       550.00\n",
       "25%       750.00\n",
       "50%     1,653.50\n",
       "75%     1,950.00\n",
       "max     6,770.00\n",
       "Name: cost, dtype: float64"
      ]
     },
     "execution_count": 52,
     "metadata": {},
     "output_type": "execute_result"
    }
   ],
   "source": [
    "df.cost.describe() # смотрю как распределились данные"
   ]
  },
  {
   "cell_type": "markdown",
   "metadata": {},
   "source": [
    "Наблюдаю, что минимальное значение равняется 550рублям. Что соответствует действительности. Заплатить меньше денег, чем за тариф смарт в данном датасете нельзя. \n",
    "\n",
    "Но так же есть странный выброс в 6770 рублей. На всякий случай проверю, правильно ли выполнилась функция "
   ]
  },
  {
   "cell_type": "code",
   "execution_count": 53,
   "metadata": {},
   "outputs": [
    {
     "data": {
      "text/html": [
       "<div>\n",
       "<style scoped>\n",
       "    .dataframe tbody tr th:only-of-type {\n",
       "        vertical-align: middle;\n",
       "    }\n",
       "\n",
       "    .dataframe tbody tr th {\n",
       "        vertical-align: top;\n",
       "    }\n",
       "\n",
       "    .dataframe thead th {\n",
       "        text-align: right;\n",
       "    }\n",
       "</style>\n",
       "<table border=\"1\" class=\"dataframe\">\n",
       "  <thead>\n",
       "    <tr style=\"text-align: right;\">\n",
       "      <th></th>\n",
       "      <th>user_id</th>\n",
       "      <th>age</th>\n",
       "      <th>churn_date</th>\n",
       "      <th>city</th>\n",
       "      <th>first_name</th>\n",
       "      <th>last_name</th>\n",
       "      <th>reg_date</th>\n",
       "      <th>tariff</th>\n",
       "      <th>month</th>\n",
       "      <th>gb_used</th>\n",
       "      <th>duration_of_calls</th>\n",
       "      <th>number_of_calls</th>\n",
       "      <th>number_of_messages</th>\n",
       "      <th>cost</th>\n",
       "    </tr>\n",
       "  </thead>\n",
       "  <tbody>\n",
       "    <tr>\n",
       "      <th>3143</th>\n",
       "      <td>1486</td>\n",
       "      <td>35</td>\n",
       "      <td>NaT</td>\n",
       "      <td>Нижний Новгород</td>\n",
       "      <td>Матвей</td>\n",
       "      <td>Моргунов</td>\n",
       "      <td>2018-10-31</td>\n",
       "      <td>smart</td>\n",
       "      <td>12.00</td>\n",
       "      <td>38.00</td>\n",
       "      <td>1,007.00</td>\n",
       "      <td>133.00</td>\n",
       "      <td>83.00</td>\n",
       "      <td>6,770.00</td>\n",
       "    </tr>\n",
       "  </tbody>\n",
       "</table>\n",
       "</div>"
      ],
      "text/plain": [
       "      user_id  age churn_date             city first_name last_name  \\\n",
       "3143     1486   35        NaT  Нижний Новгород     Матвей  Моргунов   \n",
       "\n",
       "       reg_date tariff  month  gb_used  duration_of_calls  number_of_calls  \\\n",
       "3143 2018-10-31  smart  12.00    38.00           1,007.00           133.00   \n",
       "\n",
       "      number_of_messages     cost  \n",
       "3143               83.00 6,770.00  "
      ]
     },
     "execution_count": 53,
     "metadata": {},
     "output_type": "execute_result"
    }
   ],
   "source": [
    "df[df['cost'] == 6770]"
   ]
  },
  {
   "cell_type": "markdown",
   "metadata": {},
   "source": [
    "Пользователь потратиль 38 гигабайт на тарифе смарт. Не повезло бедняге "
   ]
  },
  {
   "cell_type": "markdown",
   "metadata": {},
   "source": [
    "### Вывод\n",
    "\n",
    "Объединение таблиц и подсчёт месячной стоимости обслуживания прошло успешно.    \n",
    "По медиане стоимость услуг равняется 1653 рублям.    \n",
    "Так же есть 1 счастливчик заплативший 6770 рублей.   "
   ]
  },
  {
   "cell_type": "markdown",
   "metadata": {},
   "source": [
    "## Изучение распределения данных"
   ]
  },
  {
   "cell_type": "code",
   "execution_count": 54,
   "metadata": {},
   "outputs": [],
   "source": [
    "df_ultra = df[df['tariff'] == 'ultra'] #датасет с тарифом ультра\n",
    "df_smart = df[df['tariff'] == 'smart'] #датасет с тарифами смарт "
   ]
  },
  {
   "cell_type": "markdown",
   "metadata": {},
   "source": [
    "На данном шаге требуется описать поведение клиентов оператора, исходя из выборки. \n",
    "Сколько минут разговора, сколько сообщений и какой объём интернет-трафика требуется пользователям каждого тарифа в месяц? \n",
    "Мы начнем с изучения затрат времени на разговоры "
   ]
  },
  {
   "cell_type": "markdown",
   "metadata": {},
   "source": [
    "### Изучение используемых минут разговора"
   ]
  },
  {
   "cell_type": "code",
   "execution_count": 55,
   "metadata": {},
   "outputs": [
    {
     "data": {
      "image/png": "[encoded data removed]",
      "text/plain": [
       "<Figure size 1080x504 with 1 Axes>"
      ]
     },
     "metadata": {
      "needs_background": "light"
     },
     "output_type": "display_data"
    }
   ],
   "source": [
    "fig = plt.figure(figsize = (15,7))\n",
    "ax = fig.add_subplot(111)\n",
    "\n",
    "df_ultra['duration_of_calls'].hist(bins = 20, label = 'тариф ультра', alpha = 0.5)\n",
    "df_smart['duration_of_calls'].hist(bins = 20, label = 'тариф смарт', alpha = 0.5)\n",
    "\n",
    "ax.set_title('Требуемое количество минут разговора пользователям')\n",
    "ax.set_xlabel('минуты')\n",
    "ax.set_ylabel('Количество пользователей')\n",
    "\n",
    "ax.legend()\n",
    "plt.show()"
   ]
  },
  {
   "cell_type": "markdown",
   "metadata": {},
   "source": [
    "Большая площадь гистограммы тарифа смарт вызвана тем, что пользователей с данным тарифом гораздо больше.   \n",
    "Солидный процент пользователей тарифа смарт превышает свой 500 минутный лимит.   \n",
    "Пользователи тарифа ультра свой лемит не превышают. Но и тратят время на звонки они обычно больше. И разброс значений у них выше. Это должно доказать стандартное отклонение\n",
    "\n",
    "Так же можно выделить, что гистограмма тарифа смарт скошена влево. Среднее значение будет меньше чем медианное значение"
   ]
  },
  {
   "cell_type": "code",
   "execution_count": 56,
   "metadata": {},
   "outputs": [
    {
     "data": {
      "image/png": "[encoded data removed]",
      "text/plain": [
       "<Figure size 360x360 with 1 Axes>"
      ]
     },
     "metadata": {
      "needs_background": "light"
     },
     "output_type": "display_data"
    }
   ],
   "source": [
    "sns.catplot(x='tariff',y='duration_of_calls',kind='box',data=df);"
   ]
  },
  {
   "cell_type": "markdown",
   "metadata": {},
   "source": [
    "Построив ящик с усами, наши выводы подтверждаются. \n",
    "Пользователи тарифа смарт на самом деле меньше пользуются звонками, но взамен они чаще превышают свой лимит. \n",
    "У пользоваталей тарифа ультра будет больше стандартное отклонение"
   ]
  },
  {
   "cell_type": "code",
   "execution_count": 57,
   "metadata": {},
   "outputs": [
    {
     "data": {
      "text/plain": [
       "526.0892494929006"
      ]
     },
     "execution_count": 57,
     "metadata": {},
     "output_type": "execute_result"
    }
   ],
   "source": [
    "df_ultra['duration_of_calls'].mean() # считаю среднее для тарифа ультра"
   ]
  },
  {
   "cell_type": "code",
   "execution_count": 58,
   "metadata": {},
   "outputs": [
    {
     "data": {
      "text/plain": [
       "417.747533632287"
      ]
     },
     "execution_count": 58,
     "metadata": {},
     "output_type": "execute_result"
    }
   ],
   "source": [
    "df_smart['duration_of_calls'].mean() # считаю среднее для тарифа смарт"
   ]
  },
  {
   "cell_type": "code",
   "execution_count": 59,
   "metadata": {},
   "outputs": [
    {
     "data": {
      "text/plain": [
       "100950.00623331097"
      ]
     },
     "execution_count": 59,
     "metadata": {},
     "output_type": "execute_result"
    }
   ],
   "source": [
    "np.var(df_ultra['duration_of_calls']) # считаю дисперсию тарифа ультра"
   ]
  },
  {
   "cell_type": "code",
   "execution_count": 60,
   "metadata": {},
   "outputs": [
    {
     "data": {
      "text/plain": [
       "36265.12415310985"
      ]
     },
     "execution_count": 60,
     "metadata": {},
     "output_type": "execute_result"
    }
   ],
   "source": [
    "np.var(df_smart['duration_of_calls'])   # считаю дисперсию тарифа смарт"
   ]
  },
  {
   "cell_type": "code",
   "execution_count": 61,
   "metadata": {},
   "outputs": [
    {
     "data": {
      "text/plain": [
       "317.72630711559117"
      ]
     },
     "execution_count": 61,
     "metadata": {},
     "output_type": "execute_result"
    }
   ],
   "source": [
    "np.var(df_ultra['duration_of_calls'])**0.5  # считаю стандартное отклонение тарифа ультра"
   ]
  },
  {
   "cell_type": "code",
   "execution_count": 62,
   "metadata": {},
   "outputs": [
    {
     "data": {
      "text/plain": [
       "190.4340414765959"
      ]
     },
     "execution_count": 62,
     "metadata": {},
     "output_type": "execute_result"
    }
   ],
   "source": [
    "np.var(df_smart['duration_of_calls'])**0.5   # считаю стандартное отклонение тарифа смарт"
   ]
  },
  {
   "cell_type": "markdown",
   "metadata": {},
   "source": [
    "**Вывод**   \n",
    "на тарифе смарт люди стараются не превышать 500 минутные лимит. Возможно этим можно объяснить небольшой скос влево.   \n",
    "Пакет минут на тарифе ультра мало кто использует свыше 50%. "
   ]
  },
  {
   "cell_type": "markdown",
   "metadata": {},
   "source": [
    "### Изучение потраченных смс пользователями"
   ]
  },
  {
   "cell_type": "code",
   "execution_count": 63,
   "metadata": {},
   "outputs": [
    {
     "data": {
      "image/png": "[encoded data removed]",
      "text/plain": [
       "<Figure size 1080x504 with 1 Axes>"
      ]
     },
     "metadata": {
      "needs_background": "light"
     },
     "output_type": "display_data"
    }
   ],
   "source": [
    "fig = plt.figure(figsize = (15,7))\n",
    "ax = fig.add_subplot(111)\n",
    "\n",
    "df_ultra['number_of_messages'].hist(bins = 20, label = 'тариф ультра', alpha = 0.5)\n",
    "df_smart['number_of_messages'].hist(bins = 20, label = 'тариф смарт', alpha = 0.5)\n",
    "\n",
    "ax.set_title('Требуемое количество сообщений')\n",
    "ax.set_xlabel('сообщения')\n",
    "ax.set_ylabel('Количество пользователей')\n",
    "\n",
    "ax.legend()\n",
    "plt.show()"
   ]
  },
  {
   "cell_type": "markdown",
   "metadata": {},
   "source": [
    "Тут мы наблюдаем что обе гистограммы смещены вправо. \n",
    "Думаю это вызвано тем, что пользователи толком не пользуются смс сообщениями и мы не можем получить значения ниже определённого. На данном примере ниже 0"
   ]
  },
  {
   "cell_type": "code",
   "execution_count": 64,
   "metadata": {},
   "outputs": [
    {
     "data": {
      "image/png": "[encoded data removed]",
      "text/plain": [
       "<Figure size 360x360 with 1 Axes>"
      ]
     },
     "metadata": {
      "needs_background": "light"
     },
     "output_type": "display_data"
    }
   ],
   "source": [
    "sns.catplot(x='tariff',y='number_of_messages',kind='box',data=df);"
   ]
  },
  {
   "cell_type": "markdown",
   "metadata": {},
   "source": [
    "Что и требовалось доказать. Пользователи почти не пользуются смс сообщениями. Межквартильный размах почти лежит на 0."
   ]
  },
  {
   "cell_type": "code",
   "execution_count": 65,
   "metadata": {},
   "outputs": [
    {
     "data": {
      "text/plain": [
       "49.31338742393509"
      ]
     },
     "execution_count": 65,
     "metadata": {},
     "output_type": "execute_result"
    }
   ],
   "source": [
    "df_ultra['number_of_messages'].mean() # считаю среднее для тарифа ультра"
   ]
  },
  {
   "cell_type": "code",
   "execution_count": 66,
   "metadata": {},
   "outputs": [
    {
     "data": {
      "text/plain": [
       "33.36905829596412"
      ]
     },
     "execution_count": 66,
     "metadata": {},
     "output_type": "execute_result"
    }
   ],
   "source": [
    "df_smart['number_of_messages'].mean() # считаю среднее для тарифа смарт"
   ]
  },
  {
   "cell_type": "code",
   "execution_count": 67,
   "metadata": {},
   "outputs": [
    {
     "data": {
      "text/plain": [
       "2283.0995570851965"
      ]
     },
     "execution_count": 67,
     "metadata": {},
     "output_type": "execute_result"
    }
   ],
   "source": [
    "np.var(df_ultra['number_of_messages']) # считаю дисперсию тарифа ультра"
   ]
  },
  {
   "cell_type": "code",
   "execution_count": 68,
   "metadata": {},
   "outputs": [
    {
     "data": {
      "text/plain": [
       "796.5978766916688"
      ]
     },
     "execution_count": 68,
     "metadata": {},
     "output_type": "execute_result"
    }
   ],
   "source": [
    "np.var(df_smart['number_of_messages']) # считаю дисперсию тарифа смарт"
   ]
  },
  {
   "cell_type": "code",
   "execution_count": 69,
   "metadata": {},
   "outputs": [
    {
     "data": {
      "text/plain": [
       "47.781791061922284"
      ]
     },
     "execution_count": 69,
     "metadata": {},
     "output_type": "execute_result"
    }
   ],
   "source": [
    "np.var(df_ultra['number_of_messages'])**0.5 # считаю стандартное отклонение тарифа ультра"
   ]
  },
  {
   "cell_type": "code",
   "execution_count": 70,
   "metadata": {},
   "outputs": [
    {
     "data": {
      "text/plain": [
       "28.224065559229217"
      ]
     },
     "execution_count": 70,
     "metadata": {},
     "output_type": "execute_result"
    }
   ],
   "source": [
    "np.var(df_smart['number_of_messages'])**0.5 # считаю стандартное отклонение тарифа смарт"
   ]
  },
  {
   "cell_type": "markdown",
   "metadata": {},
   "source": [
    "**Вывод**   \n",
    "Большая часть пользователей не пользуется смс сообщениям.   \n",
    "Но все же более 25%+ пользователей тарифа смарт превышают свой лимит "
   ]
  },
  {
   "cell_type": "markdown",
   "metadata": {},
   "source": [
    "### Изучение интернет траффика "
   ]
  },
  {
   "cell_type": "code",
   "execution_count": 71,
   "metadata": {},
   "outputs": [
    {
     "data": {
      "image/png": "[encoded data removed]",
      "text/plain": [
       "<Figure size 1080x504 with 1 Axes>"
      ]
     },
     "metadata": {
      "needs_background": "light"
     },
     "output_type": "display_data"
    }
   ],
   "source": [
    "fig = plt.figure(figsize = (15,7))\n",
    "ax = fig.add_subplot(111)\n",
    "\n",
    "df_ultra['gb_used'].hist(bins = 15, label = 'тариф ультра', alpha = 0.5)\n",
    "df_smart['gb_used'].hist(bins = 15, label = 'тариф смарт', alpha = 0.5)\n",
    "\n",
    "ax.set_title('Испольуемый интернет трафик')\n",
    "ax.set_xlabel('Гигабаты')\n",
    "ax.set_ylabel('Количество пользователей')\n",
    "\n",
    "ax.legend()\n",
    "plt.show()"
   ]
  },
  {
   "cell_type": "markdown",
   "metadata": {},
   "source": [
    "С интернетом дела обстоят лучше. Графики гистограмм почти близки к нормальному распределению"
   ]
  },
  {
   "cell_type": "code",
   "execution_count": 72,
   "metadata": {},
   "outputs": [
    {
     "data": {
      "image/png": "[encoded data removed]",
      "text/plain": [
       "<Figure size 360x360 with 1 Axes>"
      ]
     },
     "metadata": {
      "needs_background": "light"
     },
     "output_type": "display_data"
    }
   ],
   "source": [
    "sns.catplot(x='tariff',y='gb_used',kind='box',data=df);"
   ]
  },
  {
   "cell_type": "markdown",
   "metadata": {},
   "source": [
    "Да, пользователи лучше всего пользуются интернетом. \n",
    "Можно даже обратить внимание, что пользователи тарифа смарт, которые не пользуются интернетом уже считаются аномальными значениями. "
   ]
  },
  {
   "cell_type": "code",
   "execution_count": 73,
   "metadata": {},
   "outputs": [
    {
     "data": {
      "text/plain": [
       "19.474645030425965"
      ]
     },
     "execution_count": 73,
     "metadata": {},
     "output_type": "execute_result"
    }
   ],
   "source": [
    "df_ultra['gb_used'].mean() # считаю среднее для тарифа ультра"
   ]
  },
  {
   "cell_type": "code",
   "execution_count": 74,
   "metadata": {},
   "outputs": [
    {
     "data": {
      "text/plain": [
       "16.32152466367713"
      ]
     },
     "execution_count": 74,
     "metadata": {},
     "output_type": "execute_result"
    }
   ],
   "source": [
    "df_smart['gb_used'].mean() # считаю среднее для тарифа смарт"
   ]
  },
  {
   "cell_type": "code",
   "execution_count": 75,
   "metadata": {},
   "outputs": [
    {
     "data": {
      "text/plain": [
       "97.27978308900674"
      ]
     },
     "execution_count": 75,
     "metadata": {},
     "output_type": "execute_result"
    }
   ],
   "source": [
    "np.var(df_ultra['gb_used']) # считаю дисперсию тарифа ультра"
   ]
  },
  {
   "cell_type": "code",
   "execution_count": 76,
   "metadata": {},
   "outputs": [
    {
     "data": {
      "text/plain": [
       "33.11859498481772"
      ]
     },
     "execution_count": 76,
     "metadata": {},
     "output_type": "execute_result"
    }
   ],
   "source": [
    "np.var(df_smart['gb_used']) # считаю дисперсию тарифа смарт"
   ]
  },
  {
   "cell_type": "code",
   "execution_count": 77,
   "metadata": {},
   "outputs": [
    {
     "data": {
      "text/plain": [
       "9.863051408616236"
      ]
     },
     "execution_count": 77,
     "metadata": {},
     "output_type": "execute_result"
    }
   ],
   "source": [
    "np.var(df_ultra['gb_used'])**0.5 # считаю стандартное отклонение тарифа ультра"
   ]
  },
  {
   "cell_type": "code",
   "execution_count": 78,
   "metadata": {},
   "outputs": [
    {
     "data": {
      "text/plain": [
       "5.754875757548352"
      ]
     },
     "execution_count": 78,
     "metadata": {},
     "output_type": "execute_result"
    }
   ],
   "source": [
    "np.var(df_smart['gb_used'])**0.5 # считаю стандартное отклонение тарифа смарт"
   ]
  },
  {
   "cell_type": "markdown",
   "metadata": {},
   "source": [
    "**Вывод**  \n",
    "Более 50% тарифа смарт не хватает тарифного пакета. \n",
    "И это первый случай, когда солидной части тарифа ультра тоже не хватает тарифного пакета. Более 25% превышают лимит на интернет"
   ]
  },
  {
   "cell_type": "markdown",
   "metadata": {},
   "source": [
    "### Вывод"
   ]
  },
  {
   "cell_type": "markdown",
   "metadata": {},
   "source": [
    "У пользователей тарифа ультра всегда более большое стандартное отклонение. У них большие тарифные пакеты и они могут не ограничивать себя в общении и в смс.\n",
    "С пользователей тарифа смарт обычно фирма получает более 550рублей, поскольку они часто превышают свои тарифные лимиты "
   ]
  },
  {
   "cell_type": "markdown",
   "metadata": {},
   "source": [
    "## Проверка гипотез"
   ]
  },
  {
   "cell_type": "markdown",
   "metadata": {},
   "source": [
    "### средняя выручка пользователей тарифов «Ультра» и «Смарт» различаются"
   ]
  },
  {
   "cell_type": "code",
   "execution_count": 79,
   "metadata": {},
   "outputs": [
    {
     "name": "stdout",
     "output_type": "stream",
     "text": [
      "p-значение:  1.927011394420941e-250\n",
      "Отвергаем нулевую гипотезу\n"
     ]
    }
   ],
   "source": [
    "sample_1 = df_ultra['cost']\n",
    "sample_2 = df_smart['cost']\n",
    "# Нулевая гипотеза гласит, что выручки пользователей разных тарифов не различаются\n",
    "# H1 гласит, что выручки на разных тарифах различаются \n",
    "\n",
    "alpha = .05 # критический уровень статистической значимости\n",
    "\n",
    "results = st.ttest_ind(sample_1, sample_2, equal_var = False) \n",
    "\n",
    "print('p-значение: ', results.pvalue)\n",
    "\n",
    "if results.pvalue < alpha:\n",
    "    print(\"Отвергаем нулевую гипотезу\")\n",
    "else:\n",
    "    print(\"Не получилось отвергнуть нулевую гипотезу\") "
   ]
  },
  {
   "cell_type": "code",
   "execution_count": 80,
   "metadata": {},
   "outputs": [
    {
     "data": {
      "text/plain": [
       "count     986.00\n",
       "mean    2,070.03\n",
       "std       376.02\n",
       "min     1,950.00\n",
       "25%     1,950.00\n",
       "50%     1,950.00\n",
       "75%     1,950.00\n",
       "max     4,800.00\n",
       "Name: cost, dtype: float64"
      ]
     },
     "execution_count": 80,
     "metadata": {},
     "output_type": "execute_result"
    }
   ],
   "source": [
    "sample_1.describe() # информация о тарифе ультра"
   ]
  },
  {
   "cell_type": "code",
   "execution_count": 81,
   "metadata": {},
   "outputs": [
    {
     "data": {
      "text/plain": [
       "count   2,230.00\n",
       "mean    1,289.64\n",
       "std       818.37\n",
       "min       550.00\n",
       "25%       550.00\n",
       "50%     1,021.00\n",
       "75%     1,750.00\n",
       "max     6,770.00\n",
       "Name: cost, dtype: float64"
      ]
     },
     "execution_count": 81,
     "metadata": {},
     "output_type": "execute_result"
    }
   ],
   "source": [
    "sample_2.describe() # информация о тарифе смарт "
   ]
  },
  {
   "cell_type": "markdown",
   "metadata": {},
   "source": [
    "**Вывод**  \n",
    "Мы можем отклонить нулевую гипотезу  потому-что экспериментальные данные очень маловероятны при условии, что гипотеза верна.\n",
    "\n",
    "\n",
    "Вероятность допустить ошибку первого рода настолько мала как и гипотетическая вероятность возникновения жизни из случайного сцепления молекул.\n",
    "\n",
    "Но даже учитывая такой малый шанс, гипотетическая вероятность допустить ошибку первого рода все равно имеется. \n"
   ]
  },
  {
   "cell_type": "markdown",
   "metadata": {},
   "source": [
    "### средняя выручка пользователей из Москвы отличается от выручки пользователей из других регионов."
   ]
  },
  {
   "cell_type": "code",
   "execution_count": 82,
   "metadata": {},
   "outputs": [
    {
     "name": "stdout",
     "output_type": "stream",
     "text": [
      "p-значение:  0.5216952110000278\n",
      "Не получилось отвергнуть нулевую гипотезу\n"
     ]
    }
   ],
   "source": [
    "sample_1 = df[df['city'] == 'Москва']['cost']\n",
    "sample_2 = df[df['city'] != 'Москва']['cost']\n",
    "# нулевая гипотеза гласит, что выручка пользователей из москвы не отличается от выручки пользователей из других регионов\n",
    "# H1 гласит, что выручки различаются\n",
    "\n",
    "alpha = .05 # критический уровень статистической значимости\n",
    "\n",
    "results = st.ttest_ind(sample_1, sample_2, equal_var = False)\n",
    "\n",
    "print('p-значение: ', results.pvalue)\n",
    "\n",
    "if results.pvalue < alpha:\n",
    "    print(\"Отвергаем нулевую гипотезу\")\n",
    "else:\n",
    "    print(\"Не получилось отвергнуть нулевую гипотезу\") "
   ]
  },
  {
   "cell_type": "markdown",
   "metadata": {},
   "source": [
    "Так же мне захотелось проверить изменяется ли p-value для различных тарифов"
   ]
  },
  {
   "cell_type": "code",
   "execution_count": 83,
   "metadata": {},
   "outputs": [
    {
     "name": "stdout",
     "output_type": "stream",
     "text": [
      "p-значение:  0.8499417228125277\n",
      "Не получилось отвергнуть нулевую гипотезу\n"
     ]
    }
   ],
   "source": [
    "sample_1 = df[(df['city'] == 'Москва') & (df['tariff'] == 'ultra')]['cost']\n",
    "sample_2 = df[(df['city'] != 'Москва') & (df['tariff'] == 'ultra')]['cost']\n",
    "# нулевая гипотеза гласит, что выручка пользователей тарифа ультра из москвы не отличается от выручки остальных пользователей\n",
    "# H1 гласит, что выручки различаются\n",
    "\n",
    "alpha = .05 # критический уровень статистической значимости\n",
    "\n",
    "results = st.ttest_ind(sample_1, sample_2, equal_var = False)\n",
    "\n",
    "print('p-значение: ', results.pvalue)\n",
    "\n",
    "if results.pvalue < alpha:\n",
    "    print(\"Отвергаем нулевую гипотезу\")\n",
    "else:\n",
    "    print(\"Не получилось отвергнуть нулевую гипотезу\") "
   ]
  },
  {
   "cell_type": "code",
   "execution_count": 84,
   "metadata": {},
   "outputs": [
    {
     "name": "stdout",
     "output_type": "stream",
     "text": [
      "p-значение:  0.15741281346674896\n",
      "Не получилось отвергнуть нулевую гипотезу\n"
     ]
    }
   ],
   "source": [
    "sample_1 = df[(df['city'] == 'Москва') & (df['tariff'] == 'smart')]['cost']\n",
    "sample_2 = df[(df['city'] != 'Москва') & (df['tariff'] == 'smart')]['cost']\n",
    "# нулевая гипотеза гласит, что выручка пользователей тарифа смарт из москвы не отличается от \n",
    "#выручки пользователей из других регионов\n",
    "# H1 гласит, что выручки различаются\n",
    "\n",
    "alpha = .05 # критический уровень статистической значимости\n",
    "\n",
    "results = st.ttest_ind(sample_1, sample_2, equal_var = False)\n",
    "\n",
    "print('p-значение: ', results.pvalue)\n",
    "\n",
    "if results.pvalue < alpha:\n",
    "    print(\"Отвергаем нулевую гипотезу\")\n",
    "else:\n",
    "    print(\"Не получилось отвергнуть нулевую гипотезу\") "
   ]
  },
  {
   "cell_type": "markdown",
   "metadata": {},
   "source": [
    "**Вывод**  \n",
    "Даже при таком большом критическом уровне статистической значимости мы не смогли отвергнуть нулевую гипотезу. \n",
    "Это не значит, что она верна, просто у нас нет достаточных доказательств предполагать, что она не верна. "
   ]
  },
  {
   "cell_type": "markdown",
   "metadata": {},
   "source": [
    "## Общий вывод"
   ]
  },
  {
   "cell_type": "markdown",
   "metadata": {},
   "source": [
    "Тариф смарт:\n",
    "1) Пользователи тарифа смарт часто превышают свой 500минутный лимит на звонки. (в 30% случаях)  \n",
    "2) Большинству пользователей данного тарифа не нужны смс сообщения. перерасход тарифа на смс сообщения крайне редкий. Зафиксировано 308 случаев, когда пользователи тарифа смарт из заднной выборки не отправили ни одного сообщения за месяц   \n",
    "3) Интернет пользуется большим спросом. медианные значения по интернет трафику выходят за пределы интернет тарифа  \n",
    "\n",
    "С пользователей тарифа смарт фирма получает более 550рублей. Поскольку им часто приходится превышать доступные пакеты связи\n",
    "           \n",
    "               \n",
    "    \n",
    "Тариф ультра:\n",
    "1) Имеется очень большой пакет на звонки. Пользователям доступно 3000 минут разговора. Рекорд по всей выборке 1613. Что составляет чуть больше 50% от величины пакета. Возможо стоит пересмотреть величину пакета на звонки    \n",
    "2) Так же имеется очень большой пакет смс. Доступно 1000 смс сообщений. P.s. значения в расход в 200 сообщений в месяц уже считаются выбросами и аномально высокими значениями. Большее 80% смс пакета не расходуется пользователями    \n",
    "3) Интернет пользуется гиганстким спросом. в более 50% случаев пользователи данного тарифа превышают интернет трафик. \n",
    "\n",
    "По поводу общих данных. Анализ показал, что 15% пользователей вообще не использовали смс сообщения за заданный период. \n",
    "В противовес интернет трафиком пользовались более 99% пользователей. \n",
    "\n",
    "Статистика позволила нам подтвердить гипотезу о различии средней выручки пользователей тарифов «Ультра» и «Смарт» (при p-value = 0.05)\n",
    "У тарифа смарт медианные значения выручки = 1021, std = 818\n",
    "Тариф ультра. медианные значения выручки = 1950, std = 376\n",
    "\n",
    "\n",
    "Подтвердить гипотезу о разной выручке пользователей из Москвы и из других городов не получилось.\n"
   ]
  }
 ],
 "metadata": {
  "ExecuteTimeLog": [
   {
    "duration": 1068,
    "start_time": "2021-12-19T19:45:33.493Z"
   },
   {
    "duration": 387,
    "start_time": "2021-12-19T19:50:57.700Z"
   },
   {
    "duration": 13,
    "start_time": "2021-12-19T19:51:08.587Z"
   },
   {
    "duration": 8,
    "start_time": "2021-12-19T19:51:22.066Z"
   },
   {
    "duration": 7,
    "start_time": "2021-12-19T19:51:36.646Z"
   },
   {
    "duration": 245,
    "start_time": "2021-12-19T19:52:27.627Z"
   },
   {
    "duration": 380,
    "start_time": "2021-12-19T19:52:38.546Z"
   },
   {
    "duration": 8,
    "start_time": "2021-12-19T19:52:41.276Z"
   },
   {
    "duration": 10,
    "start_time": "2021-12-19T19:52:54.600Z"
   },
   {
    "duration": 5,
    "start_time": "2021-12-19T19:53:31.201Z"
   },
   {
    "duration": 5,
    "start_time": "2021-12-19T19:53:39.182Z"
   },
   {
    "duration": 5,
    "start_time": "2021-12-19T19:53:44.332Z"
   },
   {
    "duration": 6,
    "start_time": "2021-12-19T19:53:49.764Z"
   },
   {
    "duration": 7,
    "start_time": "2021-12-19T19:53:54.982Z"
   },
   {
    "duration": 8,
    "start_time": "2021-12-19T19:54:01.182Z"
   },
   {
    "duration": 22,
    "start_time": "2021-12-19T19:54:06.461Z"
   },
   {
    "duration": 9,
    "start_time": "2021-12-19T19:58:56.605Z"
   },
   {
    "duration": 8,
    "start_time": "2021-12-19T19:59:13.306Z"
   },
   {
    "duration": 16,
    "start_time": "2021-12-19T19:59:55.912Z"
   },
   {
    "duration": 10,
    "start_time": "2021-12-19T20:01:01.706Z"
   },
   {
    "duration": 4305,
    "start_time": "2021-12-19T20:02:49.448Z"
   },
   {
    "duration": 5616,
    "start_time": "2021-12-19T20:02:54.618Z"
   },
   {
    "duration": 7,
    "start_time": "2021-12-19T20:03:18.436Z"
   },
   {
    "duration": 7,
    "start_time": "2021-12-19T20:05:07.428Z"
   },
   {
    "duration": 6,
    "start_time": "2021-12-19T20:09:06.399Z"
   },
   {
    "duration": 173,
    "start_time": "2021-12-19T20:14:41.849Z"
   },
   {
    "duration": 4465,
    "start_time": "2021-12-19T20:14:50.115Z"
   },
   {
    "duration": 5,
    "start_time": "2021-12-19T20:15:13.248Z"
   },
   {
    "duration": 7,
    "start_time": "2021-12-19T20:15:25.768Z"
   },
   {
    "duration": 6,
    "start_time": "2021-12-19T20:16:17.569Z"
   },
   {
    "duration": 7,
    "start_time": "2021-12-19T20:16:32.796Z"
   },
   {
    "duration": 5,
    "start_time": "2021-12-19T20:21:04.916Z"
   },
   {
    "duration": 5,
    "start_time": "2021-12-19T20:21:20.319Z"
   },
   {
    "duration": 21,
    "start_time": "2021-12-19T20:33:39.572Z"
   },
   {
    "duration": 8,
    "start_time": "2021-12-19T20:33:55.212Z"
   },
   {
    "duration": 6,
    "start_time": "2021-12-19T20:34:34.642Z"
   },
   {
    "duration": 330,
    "start_time": "2021-12-19T20:34:51.002Z"
   },
   {
    "duration": 6,
    "start_time": "2021-12-19T20:34:56.171Z"
   },
   {
    "duration": 5,
    "start_time": "2021-12-19T20:35:10.401Z"
   },
   {
    "duration": 6,
    "start_time": "2021-12-19T20:35:14.551Z"
   },
   {
    "duration": 178,
    "start_time": "2021-12-19T20:35:33.012Z"
   },
   {
    "duration": 5,
    "start_time": "2021-12-19T20:35:41.939Z"
   },
   {
    "duration": 6,
    "start_time": "2021-12-19T20:35:51.092Z"
   },
   {
    "duration": 28,
    "start_time": "2021-12-19T20:38:05.951Z"
   },
   {
    "duration": 6,
    "start_time": "2021-12-19T20:38:11.936Z"
   },
   {
    "duration": 5,
    "start_time": "2021-12-19T20:38:33.392Z"
   },
   {
    "duration": 5,
    "start_time": "2021-12-19T20:39:04.496Z"
   },
   {
    "duration": 20,
    "start_time": "2021-12-19T20:42:41.091Z"
   },
   {
    "duration": 9,
    "start_time": "2021-12-19T20:44:36.231Z"
   },
   {
    "duration": 28,
    "start_time": "2021-12-19T20:45:31.099Z"
   },
   {
    "duration": 6,
    "start_time": "2021-12-19T20:46:47.743Z"
   },
   {
    "duration": 22,
    "start_time": "2021-12-19T20:49:58.750Z"
   },
   {
    "duration": 181,
    "start_time": "2021-12-19T20:50:09.612Z"
   },
   {
    "duration": 8,
    "start_time": "2021-12-19T20:50:19.829Z"
   },
   {
    "duration": 987,
    "start_time": "2021-12-19T20:50:57.945Z"
   },
   {
    "duration": 420,
    "start_time": "2021-12-19T20:50:58.934Z"
   },
   {
    "duration": 8,
    "start_time": "2021-12-19T20:50:59.356Z"
   },
   {
    "duration": 15,
    "start_time": "2021-12-19T20:50:59.366Z"
   },
   {
    "duration": 11,
    "start_time": "2021-12-19T20:50:59.382Z"
   },
   {
    "duration": 14,
    "start_time": "2021-12-19T20:50:59.395Z"
   },
   {
    "duration": 13,
    "start_time": "2021-12-19T20:50:59.411Z"
   },
   {
    "duration": 12,
    "start_time": "2021-12-19T20:50:59.425Z"
   },
   {
    "duration": 29,
    "start_time": "2021-12-19T20:50:59.440Z"
   },
   {
    "duration": 8,
    "start_time": "2021-12-19T20:50:59.471Z"
   },
   {
    "duration": 40,
    "start_time": "2021-12-19T20:50:59.481Z"
   },
   {
    "duration": 5,
    "start_time": "2021-12-19T20:50:59.523Z"
   },
   {
    "duration": 32,
    "start_time": "2021-12-19T20:50:59.530Z"
   },
   {
    "duration": 24,
    "start_time": "2021-12-19T20:50:59.565Z"
   },
   {
    "duration": 23,
    "start_time": "2021-12-19T20:50:59.591Z"
   },
   {
    "duration": 39,
    "start_time": "2021-12-19T20:50:59.616Z"
   },
   {
    "duration": 6,
    "start_time": "2021-12-19T20:50:59.657Z"
   },
   {
    "duration": 33,
    "start_time": "2021-12-19T20:50:59.665Z"
   },
   {
    "duration": 10,
    "start_time": "2021-12-19T20:50:59.700Z"
   },
   {
    "duration": 9,
    "start_time": "2021-12-19T20:51:14.983Z"
   },
   {
    "duration": 9,
    "start_time": "2021-12-19T20:55:44.955Z"
   },
   {
    "duration": 6,
    "start_time": "2021-12-19T20:58:06.939Z"
   },
   {
    "duration": 8,
    "start_time": "2021-12-19T20:58:42.549Z"
   },
   {
    "duration": 1012,
    "start_time": "2021-12-19T20:58:57.994Z"
   },
   {
    "duration": 413,
    "start_time": "2021-12-19T20:58:59.008Z"
   },
   {
    "duration": 6,
    "start_time": "2021-12-19T20:58:59.423Z"
   },
   {
    "duration": 15,
    "start_time": "2021-12-19T20:58:59.431Z"
   },
   {
    "duration": 5,
    "start_time": "2021-12-19T20:58:59.447Z"
   },
   {
    "duration": 5,
    "start_time": "2021-12-19T20:58:59.454Z"
   },
   {
    "duration": 7,
    "start_time": "2021-12-19T20:58:59.461Z"
   },
   {
    "duration": 23,
    "start_time": "2021-12-19T20:58:59.469Z"
   },
   {
    "duration": 21,
    "start_time": "2021-12-19T20:58:59.495Z"
   },
   {
    "duration": 7,
    "start_time": "2021-12-19T20:58:59.518Z"
   },
   {
    "duration": 31,
    "start_time": "2021-12-19T20:58:59.527Z"
   },
   {
    "duration": 4,
    "start_time": "2021-12-19T20:58:59.560Z"
   },
   {
    "duration": 31,
    "start_time": "2021-12-19T20:58:59.566Z"
   },
   {
    "duration": 15,
    "start_time": "2021-12-19T20:58:59.599Z"
   },
   {
    "duration": 8,
    "start_time": "2021-12-19T20:58:59.616Z"
   },
   {
    "duration": 22,
    "start_time": "2021-12-19T20:58:59.626Z"
   },
   {
    "duration": 5,
    "start_time": "2021-12-19T20:58:59.650Z"
   },
   {
    "duration": 44,
    "start_time": "2021-12-19T20:58:59.657Z"
   },
   {
    "duration": 7,
    "start_time": "2021-12-19T20:58:59.703Z"
   },
   {
    "duration": 11,
    "start_time": "2021-12-19T20:58:59.712Z"
   },
   {
    "duration": 22,
    "start_time": "2021-12-19T20:58:59.725Z"
   },
   {
    "duration": 7,
    "start_time": "2021-12-19T20:58:59.749Z"
   },
   {
    "duration": 35,
    "start_time": "2021-12-19T21:01:24.741Z"
   },
   {
    "duration": 5,
    "start_time": "2021-12-19T21:01:59.165Z"
   },
   {
    "duration": 9,
    "start_time": "2021-12-19T21:13:12.644Z"
   },
   {
    "duration": 5,
    "start_time": "2021-12-19T21:13:25.764Z"
   },
   {
    "duration": 1087,
    "start_time": "2021-12-19T21:13:59.889Z"
   },
   {
    "duration": 438,
    "start_time": "2021-12-19T21:14:00.978Z"
   },
   {
    "duration": 8,
    "start_time": "2021-12-19T21:14:01.419Z"
   },
   {
    "duration": 25,
    "start_time": "2021-12-19T21:14:01.429Z"
   },
   {
    "duration": 12,
    "start_time": "2021-12-19T21:14:01.456Z"
   },
   {
    "duration": 11,
    "start_time": "2021-12-19T21:14:01.471Z"
   },
   {
    "duration": 13,
    "start_time": "2021-12-19T21:14:01.484Z"
   },
   {
    "duration": 34,
    "start_time": "2021-12-19T21:14:01.499Z"
   },
   {
    "duration": 57,
    "start_time": "2021-12-19T21:14:01.537Z"
   },
   {
    "duration": 7,
    "start_time": "2021-12-19T21:14:01.596Z"
   },
   {
    "duration": 60,
    "start_time": "2021-12-19T21:14:01.605Z"
   },
   {
    "duration": 5,
    "start_time": "2021-12-19T21:14:01.666Z"
   },
   {
    "duration": 12,
    "start_time": "2021-12-19T21:14:01.673Z"
   },
   {
    "duration": 24,
    "start_time": "2021-12-19T21:14:01.687Z"
   },
   {
    "duration": 11,
    "start_time": "2021-12-19T21:14:01.713Z"
   },
   {
    "duration": 33,
    "start_time": "2021-12-19T21:14:01.726Z"
   },
   {
    "duration": 6,
    "start_time": "2021-12-19T21:14:01.761Z"
   },
   {
    "duration": 40,
    "start_time": "2021-12-19T21:14:01.769Z"
   },
   {
    "duration": 9,
    "start_time": "2021-12-19T21:14:01.811Z"
   },
   {
    "duration": 16,
    "start_time": "2021-12-19T21:14:01.822Z"
   },
   {
    "duration": 15,
    "start_time": "2021-12-19T21:14:01.840Z"
   },
   {
    "duration": 40,
    "start_time": "2021-12-19T21:14:01.856Z"
   },
   {
    "duration": 270,
    "start_time": "2021-12-19T21:14:01.897Z"
   },
   {
    "duration": -345,
    "start_time": "2021-12-19T21:14:02.514Z"
   },
   {
    "duration": -353,
    "start_time": "2021-12-19T21:14:02.523Z"
   },
   {
    "duration": -380,
    "start_time": "2021-12-19T21:14:02.551Z"
   },
   {
    "duration": 1032,
    "start_time": "2021-12-19T21:14:24.983Z"
   },
   {
    "duration": 423,
    "start_time": "2021-12-19T21:14:26.017Z"
   },
   {
    "duration": 7,
    "start_time": "2021-12-19T21:14:26.442Z"
   },
   {
    "duration": 29,
    "start_time": "2021-12-19T21:14:26.450Z"
   },
   {
    "duration": 12,
    "start_time": "2021-12-19T21:14:26.481Z"
   },
   {
    "duration": 36,
    "start_time": "2021-12-19T21:14:26.494Z"
   },
   {
    "duration": 24,
    "start_time": "2021-12-19T21:14:26.532Z"
   },
   {
    "duration": 35,
    "start_time": "2021-12-19T21:14:26.558Z"
   },
   {
    "duration": 29,
    "start_time": "2021-12-19T21:14:26.595Z"
   },
   {
    "duration": 8,
    "start_time": "2021-12-19T21:14:26.626Z"
   },
   {
    "duration": 49,
    "start_time": "2021-12-19T21:14:26.635Z"
   },
   {
    "duration": 6,
    "start_time": "2021-12-19T21:14:26.687Z"
   },
   {
    "duration": 17,
    "start_time": "2021-12-19T21:14:26.695Z"
   },
   {
    "duration": 33,
    "start_time": "2021-12-19T21:14:26.714Z"
   },
   {
    "duration": 22,
    "start_time": "2021-12-19T21:14:26.749Z"
   },
   {
    "duration": 32,
    "start_time": "2021-12-19T21:14:26.773Z"
   },
   {
    "duration": 13,
    "start_time": "2021-12-19T21:14:26.807Z"
   },
   {
    "duration": 24,
    "start_time": "2021-12-19T21:14:26.821Z"
   },
   {
    "duration": 19,
    "start_time": "2021-12-19T21:14:26.847Z"
   },
   {
    "duration": 9,
    "start_time": "2021-12-19T21:14:26.868Z"
   },
   {
    "duration": 30,
    "start_time": "2021-12-19T21:14:26.879Z"
   },
   {
    "duration": 40,
    "start_time": "2021-12-19T21:14:26.912Z"
   },
   {
    "duration": 5,
    "start_time": "2021-12-19T21:14:26.955Z"
   },
   {
    "duration": 14,
    "start_time": "2021-12-19T21:14:26.962Z"
   },
   {
    "duration": 28,
    "start_time": "2021-12-19T21:14:26.978Z"
   },
   {
    "duration": 7,
    "start_time": "2021-12-19T21:14:27.007Z"
   },
   {
    "duration": 1368,
    "start_time": "2021-12-20T10:45:50.702Z"
   },
   {
    "duration": 1270,
    "start_time": "2021-12-20T10:45:55.879Z"
   },
   {
    "duration": 455,
    "start_time": "2021-12-20T10:45:57.150Z"
   },
   {
    "duration": 9,
    "start_time": "2021-12-20T10:45:57.608Z"
   },
   {
    "duration": 16,
    "start_time": "2021-12-20T10:45:57.619Z"
   },
   {
    "duration": 7,
    "start_time": "2021-12-20T10:45:57.637Z"
   },
   {
    "duration": 6,
    "start_time": "2021-12-20T10:45:57.646Z"
   },
   {
    "duration": 8,
    "start_time": "2021-12-20T10:45:57.664Z"
   },
   {
    "duration": 8,
    "start_time": "2021-12-20T10:45:57.674Z"
   },
   {
    "duration": 21,
    "start_time": "2021-12-20T10:45:57.688Z"
   },
   {
    "duration": 8,
    "start_time": "2021-12-20T10:45:57.712Z"
   },
   {
    "duration": 61,
    "start_time": "2021-12-20T10:45:57.722Z"
   },
   {
    "duration": 6,
    "start_time": "2021-12-20T10:45:57.786Z"
   },
   {
    "duration": 6,
    "start_time": "2021-12-20T10:45:57.794Z"
   },
   {
    "duration": 17,
    "start_time": "2021-12-20T10:45:57.801Z"
   },
   {
    "duration": 7,
    "start_time": "2021-12-20T10:45:57.820Z"
   },
   {
    "duration": 48,
    "start_time": "2021-12-20T10:45:57.828Z"
   },
   {
    "duration": 6,
    "start_time": "2021-12-20T10:45:57.878Z"
   },
   {
    "duration": 23,
    "start_time": "2021-12-20T10:45:57.887Z"
   },
   {
    "duration": 9,
    "start_time": "2021-12-20T10:45:57.912Z"
   },
   {
    "duration": 11,
    "start_time": "2021-12-20T10:45:57.923Z"
   },
   {
    "duration": 38,
    "start_time": "2021-12-20T10:45:57.935Z"
   },
   {
    "duration": 29,
    "start_time": "2021-12-20T10:45:57.975Z"
   },
   {
    "duration": 5,
    "start_time": "2021-12-20T10:45:58.006Z"
   },
   {
    "duration": 9,
    "start_time": "2021-12-20T10:45:58.013Z"
   },
   {
    "duration": 9,
    "start_time": "2021-12-20T10:45:58.024Z"
   },
   {
    "duration": 31,
    "start_time": "2021-12-20T10:45:58.035Z"
   },
   {
    "duration": 1324,
    "start_time": "2021-12-20T11:55:44.183Z"
   },
   {
    "duration": 596,
    "start_time": "2021-12-20T11:55:45.509Z"
   },
   {
    "duration": 8,
    "start_time": "2021-12-20T11:55:46.108Z"
   },
   {
    "duration": 23,
    "start_time": "2021-12-20T11:55:46.118Z"
   },
   {
    "duration": 23,
    "start_time": "2021-12-20T11:55:46.143Z"
   },
   {
    "duration": 8,
    "start_time": "2021-12-20T11:55:46.168Z"
   },
   {
    "duration": 11,
    "start_time": "2021-12-20T11:55:46.178Z"
   },
   {
    "duration": 7,
    "start_time": "2021-12-20T11:55:46.191Z"
   },
   {
    "duration": 22,
    "start_time": "2021-12-20T11:55:46.201Z"
   },
   {
    "duration": 8,
    "start_time": "2021-12-20T11:55:46.226Z"
   },
   {
    "duration": 45,
    "start_time": "2021-12-20T11:55:46.264Z"
   },
   {
    "duration": 7,
    "start_time": "2021-12-20T11:55:46.311Z"
   },
   {
    "duration": 10,
    "start_time": "2021-12-20T11:55:46.320Z"
   },
   {
    "duration": 43,
    "start_time": "2021-12-20T11:55:46.332Z"
   },
   {
    "duration": 10,
    "start_time": "2021-12-20T11:55:46.378Z"
   },
   {
    "duration": 32,
    "start_time": "2021-12-20T11:55:46.390Z"
   },
   {
    "duration": 6,
    "start_time": "2021-12-20T11:55:46.425Z"
   },
   {
    "duration": 48,
    "start_time": "2021-12-20T11:55:46.433Z"
   },
   {
    "duration": 10,
    "start_time": "2021-12-20T11:55:46.484Z"
   },
   {
    "duration": 11,
    "start_time": "2021-12-20T11:55:46.496Z"
   },
   {
    "duration": 14,
    "start_time": "2021-12-20T11:55:46.509Z"
   },
   {
    "duration": 49,
    "start_time": "2021-12-20T11:55:46.526Z"
   },
   {
    "duration": 5,
    "start_time": "2021-12-20T11:55:46.577Z"
   },
   {
    "duration": 7,
    "start_time": "2021-12-20T11:55:46.583Z"
   },
   {
    "duration": 7,
    "start_time": "2021-12-20T11:55:46.592Z"
   },
   {
    "duration": 7,
    "start_time": "2021-12-20T11:55:46.601Z"
   },
   {
    "duration": 319,
    "start_time": "2021-12-20T12:00:18.778Z"
   },
   {
    "duration": 252,
    "start_time": "2021-12-20T12:02:52.996Z"
   },
   {
    "duration": 276,
    "start_time": "2021-12-20T12:05:44.191Z"
   },
   {
    "duration": 5,
    "start_time": "2021-12-20T12:06:01.311Z"
   },
   {
    "duration": 9,
    "start_time": "2021-12-20T12:06:10.996Z"
   },
   {
    "duration": 14,
    "start_time": "2021-12-20T12:06:19.125Z"
   },
   {
    "duration": 10,
    "start_time": "2021-12-20T12:06:34.465Z"
   },
   {
    "duration": 1127,
    "start_time": "2021-12-20T12:06:39.037Z"
   },
   {
    "duration": 427,
    "start_time": "2021-12-20T12:06:40.166Z"
   },
   {
    "duration": 7,
    "start_time": "2021-12-20T12:06:40.596Z"
   },
   {
    "duration": 17,
    "start_time": "2021-12-20T12:06:40.605Z"
   },
   {
    "duration": 11,
    "start_time": "2021-12-20T12:06:40.624Z"
   },
   {
    "duration": 9,
    "start_time": "2021-12-20T12:06:40.637Z"
   },
   {
    "duration": 17,
    "start_time": "2021-12-20T12:06:40.648Z"
   },
   {
    "duration": 9,
    "start_time": "2021-12-20T12:06:40.667Z"
   },
   {
    "duration": 20,
    "start_time": "2021-12-20T12:06:40.679Z"
   },
   {
    "duration": 7,
    "start_time": "2021-12-20T12:06:40.702Z"
   },
   {
    "duration": 53,
    "start_time": "2021-12-20T12:06:40.711Z"
   },
   {
    "duration": 6,
    "start_time": "2021-12-20T12:06:40.766Z"
   },
   {
    "duration": 9,
    "start_time": "2021-12-20T12:06:40.775Z"
   },
   {
    "duration": 15,
    "start_time": "2021-12-20T12:06:40.786Z"
   },
   {
    "duration": 8,
    "start_time": "2021-12-20T12:06:40.803Z"
   },
   {
    "duration": 51,
    "start_time": "2021-12-20T12:06:40.813Z"
   },
   {
    "duration": 5,
    "start_time": "2021-12-20T12:06:40.865Z"
   },
   {
    "duration": 20,
    "start_time": "2021-12-20T12:06:40.871Z"
   },
   {
    "duration": 8,
    "start_time": "2021-12-20T12:06:40.893Z"
   },
   {
    "duration": 14,
    "start_time": "2021-12-20T12:06:40.903Z"
   },
   {
    "duration": 32,
    "start_time": "2021-12-20T12:06:40.919Z"
   },
   {
    "duration": 50,
    "start_time": "2021-12-20T12:06:40.953Z"
   },
   {
    "duration": 6,
    "start_time": "2021-12-20T12:06:41.006Z"
   },
   {
    "duration": 26,
    "start_time": "2021-12-20T12:06:41.015Z"
   },
   {
    "duration": 18,
    "start_time": "2021-12-20T12:06:41.043Z"
   },
   {
    "duration": 7,
    "start_time": "2021-12-20T12:06:41.063Z"
   },
   {
    "duration": 14,
    "start_time": "2021-12-20T12:06:41.074Z"
   },
   {
    "duration": 10,
    "start_time": "2021-12-20T12:06:41.091Z"
   },
   {
    "duration": 15,
    "start_time": "2021-12-20T12:06:41.103Z"
   },
   {
    "duration": 555,
    "start_time": "2021-12-20T12:08:38.318Z"
   },
   {
    "duration": 24,
    "start_time": "2021-12-20T12:09:46.928Z"
   },
   {
    "duration": 10,
    "start_time": "2021-12-20T12:09:53.485Z"
   },
   {
    "duration": 54,
    "start_time": "2021-12-20T12:10:49.409Z"
   },
   {
    "duration": 126,
    "start_time": "2021-12-20T12:12:09.460Z"
   },
   {
    "duration": 484,
    "start_time": "2021-12-20T12:13:44.728Z"
   },
   {
    "duration": 81,
    "start_time": "2021-12-20T12:13:54.308Z"
   },
   {
    "duration": 8,
    "start_time": "2021-12-20T12:15:28.251Z"
   },
   {
    "duration": 16,
    "start_time": "2021-12-20T12:16:34.618Z"
   },
   {
    "duration": 13,
    "start_time": "2021-12-20T12:16:36.769Z"
   },
   {
    "duration": 288,
    "start_time": "2021-12-20T12:17:42.865Z"
   },
   {
    "duration": 40,
    "start_time": "2021-12-20T12:17:50.708Z"
   },
   {
    "duration": 1905,
    "start_time": "2021-12-21T14:01:02.827Z"
   },
   {
    "duration": 800,
    "start_time": "2021-12-21T14:01:04.736Z"
   },
   {
    "duration": 14,
    "start_time": "2021-12-21T14:01:08.430Z"
   },
   {
    "duration": 23,
    "start_time": "2021-12-21T14:01:09.077Z"
   },
   {
    "duration": 9,
    "start_time": "2021-12-21T14:01:09.952Z"
   },
   {
    "duration": 6,
    "start_time": "2021-12-21T14:01:10.589Z"
   },
   {
    "duration": 9,
    "start_time": "2021-12-21T14:01:11.897Z"
   },
   {
    "duration": 7,
    "start_time": "2021-12-21T14:01:13.717Z"
   },
   {
    "duration": 28,
    "start_time": "2021-12-21T14:01:29.737Z"
   },
   {
    "duration": 14,
    "start_time": "2021-12-21T14:01:30.016Z"
   },
   {
    "duration": 45,
    "start_time": "2021-12-21T14:01:30.184Z"
   },
   {
    "duration": 7,
    "start_time": "2021-12-21T14:01:30.367Z"
   },
   {
    "duration": 7,
    "start_time": "2021-12-21T14:01:30.537Z"
   },
   {
    "duration": 21,
    "start_time": "2021-12-21T14:01:31.027Z"
   },
   {
    "duration": 12,
    "start_time": "2021-12-21T14:01:31.197Z"
   },
   {
    "duration": 25,
    "start_time": "2021-12-21T14:01:31.376Z"
   },
   {
    "duration": 7,
    "start_time": "2021-12-21T14:01:31.544Z"
   },
   {
    "duration": 24,
    "start_time": "2021-12-21T14:01:32.067Z"
   },
   {
    "duration": 12,
    "start_time": "2021-12-21T14:01:32.237Z"
   },
   {
    "duration": 12,
    "start_time": "2021-12-21T14:01:32.596Z"
   },
   {
    "duration": 18,
    "start_time": "2021-12-21T14:01:32.976Z"
   },
   {
    "duration": 36,
    "start_time": "2021-12-21T14:01:33.343Z"
   },
   {
    "duration": 7,
    "start_time": "2021-12-21T14:01:33.507Z"
   },
   {
    "duration": 9,
    "start_time": "2021-12-21T14:01:33.677Z"
   },
   {
    "duration": 14,
    "start_time": "2021-12-21T14:01:34.264Z"
   },
   {
    "duration": 8,
    "start_time": "2021-12-21T14:01:34.424Z"
   },
   {
    "duration": 8,
    "start_time": "2021-12-21T14:01:34.847Z"
   },
   {
    "duration": 40,
    "start_time": "2021-12-21T14:01:35.058Z"
   },
   {
    "duration": 163,
    "start_time": "2021-12-21T14:01:36.316Z"
   },
   {
    "duration": 11,
    "start_time": "2021-12-21T14:01:36.584Z"
   },
   {
    "duration": 26,
    "start_time": "2021-12-21T14:01:36.840Z"
   },
   {
    "duration": 82,
    "start_time": "2021-12-21T14:01:37.277Z"
   },
   {
    "duration": 57,
    "start_time": "2021-12-21T14:03:08.536Z"
   },
   {
    "duration": 10,
    "start_time": "2021-12-21T14:04:56.824Z"
   },
   {
    "duration": 36,
    "start_time": "2021-12-21T14:05:13.144Z"
   },
   {
    "duration": 77,
    "start_time": "2021-12-21T14:37:17.145Z"
   },
   {
    "duration": 495,
    "start_time": "2021-12-21T14:37:24.724Z"
   },
   {
    "duration": 6,
    "start_time": "2021-12-21T14:37:28.188Z"
   },
   {
    "duration": 7,
    "start_time": "2021-12-21T14:37:33.686Z"
   },
   {
    "duration": 8,
    "start_time": "2021-12-21T14:38:01.900Z"
   },
   {
    "duration": 105,
    "start_time": "2021-12-21T14:38:10.279Z"
   },
   {
    "duration": 2322,
    "start_time": "2021-12-21T14:38:15.729Z"
   },
   {
    "duration": 614,
    "start_time": "2021-12-21T14:38:18.054Z"
   },
   {
    "duration": 10,
    "start_time": "2021-12-21T14:38:18.672Z"
   },
   {
    "duration": 22,
    "start_time": "2021-12-21T14:38:18.685Z"
   },
   {
    "duration": 7,
    "start_time": "2021-12-21T14:38:18.709Z"
   },
   {
    "duration": 6,
    "start_time": "2021-12-21T14:38:18.719Z"
   },
   {
    "duration": 40,
    "start_time": "2021-12-21T14:38:18.727Z"
   },
   {
    "duration": 7,
    "start_time": "2021-12-21T14:38:18.770Z"
   },
   {
    "duration": 27,
    "start_time": "2021-12-21T14:38:18.781Z"
   },
   {
    "duration": 47,
    "start_time": "2021-12-21T14:38:18.812Z"
   },
   {
    "duration": 779,
    "start_time": "2021-12-21T14:38:18.862Z"
   },
   {
    "duration": 8,
    "start_time": "2021-12-21T14:38:19.644Z"
   },
   {
    "duration": 10,
    "start_time": "2021-12-21T14:38:19.654Z"
   },
   {
    "duration": 22,
    "start_time": "2021-12-21T14:38:19.666Z"
   },
   {
    "duration": 10,
    "start_time": "2021-12-21T14:38:19.690Z"
   },
   {
    "duration": 60,
    "start_time": "2021-12-21T14:38:19.703Z"
   },
   {
    "duration": 7,
    "start_time": "2021-12-21T14:38:19.766Z"
   },
   {
    "duration": 25,
    "start_time": "2021-12-21T14:38:19.776Z"
   },
   {
    "duration": 23,
    "start_time": "2021-12-21T14:38:19.804Z"
   },
   {
    "duration": 38,
    "start_time": "2021-12-21T14:38:19.830Z"
   },
   {
    "duration": 16,
    "start_time": "2021-12-21T14:38:19.871Z"
   },
   {
    "duration": 77,
    "start_time": "2021-12-21T14:38:19.889Z"
   },
   {
    "duration": 7,
    "start_time": "2021-12-21T14:38:19.968Z"
   },
   {
    "duration": 27,
    "start_time": "2021-12-21T14:38:19.983Z"
   },
   {
    "duration": 14,
    "start_time": "2021-12-21T14:38:20.013Z"
   },
   {
    "duration": 16,
    "start_time": "2021-12-21T14:38:20.029Z"
   },
   {
    "duration": 8,
    "start_time": "2021-12-21T14:38:20.060Z"
   },
   {
    "duration": 31,
    "start_time": "2021-12-21T14:38:20.071Z"
   },
   {
    "duration": 144,
    "start_time": "2021-12-21T14:38:20.105Z"
   },
   {
    "duration": 10,
    "start_time": "2021-12-21T14:38:20.259Z"
   },
   {
    "duration": 24,
    "start_time": "2021-12-21T14:38:20.271Z"
   },
   {
    "duration": 80,
    "start_time": "2021-12-21T14:38:20.297Z"
   },
   {
    "duration": 42,
    "start_time": "2021-12-21T14:38:20.380Z"
   },
   {
    "duration": 34,
    "start_time": "2021-12-21T14:38:20.425Z"
   },
   {
    "duration": 37,
    "start_time": "2021-12-21T14:38:20.462Z"
   },
   {
    "duration": 59,
    "start_time": "2021-12-21T14:40:24.954Z"
   },
   {
    "duration": 42,
    "start_time": "2021-12-21T14:40:33.555Z"
   },
   {
    "duration": 1701,
    "start_time": "2021-12-21T14:40:41.253Z"
   },
   {
    "duration": 609,
    "start_time": "2021-12-21T14:40:42.958Z"
   },
   {
    "duration": 10,
    "start_time": "2021-12-21T14:40:43.571Z"
   },
   {
    "duration": 31,
    "start_time": "2021-12-21T14:40:43.585Z"
   },
   {
    "duration": 10,
    "start_time": "2021-12-21T14:40:43.619Z"
   },
   {
    "duration": 32,
    "start_time": "2021-12-21T14:40:43.632Z"
   },
   {
    "duration": 12,
    "start_time": "2021-12-21T14:40:43.667Z"
   },
   {
    "duration": 10,
    "start_time": "2021-12-21T14:40:43.682Z"
   },
   {
    "duration": 65,
    "start_time": "2021-12-21T14:40:43.698Z"
   },
   {
    "duration": 11,
    "start_time": "2021-12-21T14:40:43.768Z"
   },
   {
    "duration": 48,
    "start_time": "2021-12-21T14:40:43.782Z"
   },
   {
    "duration": 32,
    "start_time": "2021-12-21T14:40:43.832Z"
   },
   {
    "duration": 9,
    "start_time": "2021-12-21T14:40:43.866Z"
   },
   {
    "duration": 19,
    "start_time": "2021-12-21T14:40:43.877Z"
   },
   {
    "duration": 9,
    "start_time": "2021-12-21T14:40:43.899Z"
   },
   {
    "duration": 70,
    "start_time": "2021-12-21T14:40:43.911Z"
   },
   {
    "duration": 5,
    "start_time": "2021-12-21T14:40:43.984Z"
   },
   {
    "duration": 23,
    "start_time": "2021-12-21T14:40:43.992Z"
   },
   {
    "duration": 42,
    "start_time": "2021-12-21T14:40:44.017Z"
   },
   {
    "duration": 12,
    "start_time": "2021-12-21T14:40:44.062Z"
   },
   {
    "duration": 16,
    "start_time": "2021-12-21T14:40:44.077Z"
   },
   {
    "duration": 66,
    "start_time": "2021-12-21T14:40:44.096Z"
   },
   {
    "duration": 7,
    "start_time": "2021-12-21T14:40:44.164Z"
   },
   {
    "duration": 10,
    "start_time": "2021-12-21T14:40:44.174Z"
   },
   {
    "duration": 13,
    "start_time": "2021-12-21T14:40:44.187Z"
   },
   {
    "duration": 8,
    "start_time": "2021-12-21T14:40:44.204Z"
   },
   {
    "duration": 8,
    "start_time": "2021-12-21T14:40:44.264Z"
   },
   {
    "duration": 32,
    "start_time": "2021-12-21T14:40:44.274Z"
   },
   {
    "duration": 152,
    "start_time": "2021-12-21T14:40:44.308Z"
   },
   {
    "duration": 10,
    "start_time": "2021-12-21T14:40:44.463Z"
   },
   {
    "duration": 22,
    "start_time": "2021-12-21T14:40:44.475Z"
   },
   {
    "duration": 93,
    "start_time": "2021-12-21T14:40:44.499Z"
   },
   {
    "duration": 42,
    "start_time": "2021-12-21T14:40:44.594Z"
   },
   {
    "duration": 26,
    "start_time": "2021-12-21T14:40:44.639Z"
   },
   {
    "duration": 35,
    "start_time": "2021-12-21T14:40:44.668Z"
   },
   {
    "duration": 1410,
    "start_time": "2021-12-21T14:42:40.629Z"
   },
   {
    "duration": 591,
    "start_time": "2021-12-21T14:42:42.043Z"
   },
   {
    "duration": 10,
    "start_time": "2021-12-21T14:42:42.637Z"
   },
   {
    "duration": 25,
    "start_time": "2021-12-21T14:42:42.649Z"
   },
   {
    "duration": 8,
    "start_time": "2021-12-21T14:42:42.676Z"
   },
   {
    "duration": 6,
    "start_time": "2021-12-21T14:42:42.686Z"
   },
   {
    "duration": 14,
    "start_time": "2021-12-21T14:42:42.694Z"
   },
   {
    "duration": 7,
    "start_time": "2021-12-21T14:42:42.713Z"
   },
   {
    "duration": 28,
    "start_time": "2021-12-21T14:42:42.759Z"
   },
   {
    "duration": 11,
    "start_time": "2021-12-21T14:42:43.303Z"
   },
   {
    "duration": 44,
    "start_time": "2021-12-21T14:42:51.407Z"
   },
   {
    "duration": 9,
    "start_time": "2021-12-21T14:42:51.566Z"
   },
   {
    "duration": 7,
    "start_time": "2021-12-21T14:42:51.737Z"
   },
   {
    "duration": 19,
    "start_time": "2021-12-21T14:42:52.237Z"
   },
   {
    "duration": 15,
    "start_time": "2021-12-21T14:42:52.423Z"
   },
   {
    "duration": 655,
    "start_time": "2021-12-21T14:42:54.607Z"
   },
   {
    "duration": 415,
    "start_time": "2021-12-21T14:43:09.480Z"
   },
   {
    "duration": 26,
    "start_time": "2021-12-21T14:43:20.386Z"
   },
   {
    "duration": 7,
    "start_time": "2021-12-21T14:43:26.031Z"
   },
   {
    "duration": 35,
    "start_time": "2021-12-21T14:43:29.267Z"
   },
   {
    "duration": 11,
    "start_time": "2021-12-21T14:43:29.543Z"
   },
   {
    "duration": 12,
    "start_time": "2021-12-21T14:43:30.387Z"
   },
   {
    "duration": 18,
    "start_time": "2021-12-21T14:43:30.947Z"
   },
   {
    "duration": 44,
    "start_time": "2021-12-21T14:43:31.336Z"
   },
   {
    "duration": 9,
    "start_time": "2021-12-21T14:43:31.517Z"
   },
   {
    "duration": 7,
    "start_time": "2021-12-21T14:43:31.711Z"
   },
   {
    "duration": 12,
    "start_time": "2021-12-21T14:43:32.283Z"
   },
   {
    "duration": 7,
    "start_time": "2021-12-21T14:43:32.465Z"
   },
   {
    "duration": 8,
    "start_time": "2021-12-21T14:43:32.802Z"
   },
   {
    "duration": 34,
    "start_time": "2021-12-21T14:43:32.999Z"
   },
   {
    "duration": 165,
    "start_time": "2021-12-21T14:43:33.175Z"
   },
   {
    "duration": 16,
    "start_time": "2021-12-21T14:43:33.347Z"
   },
   {
    "duration": 23,
    "start_time": "2021-12-21T14:43:33.525Z"
   },
   {
    "duration": 66,
    "start_time": "2021-12-21T14:43:33.724Z"
   },
   {
    "duration": 48,
    "start_time": "2021-12-21T14:43:34.126Z"
   },
   {
    "duration": 13,
    "start_time": "2021-12-21T14:43:34.307Z"
   },
   {
    "duration": 39,
    "start_time": "2021-12-21T14:43:34.485Z"
   },
   {
    "duration": 1558,
    "start_time": "2021-12-22T16:19:06.216Z"
   },
   {
    "duration": 576,
    "start_time": "2021-12-22T16:19:07.906Z"
   },
   {
    "duration": 11,
    "start_time": "2021-12-22T16:19:10.874Z"
   },
   {
    "duration": 22,
    "start_time": "2021-12-22T16:19:11.756Z"
   },
   {
    "duration": 9,
    "start_time": "2021-12-22T16:19:30.475Z"
   },
   {
    "duration": 7,
    "start_time": "2021-12-22T16:19:31.046Z"
   },
   {
    "duration": 9,
    "start_time": "2021-12-22T16:19:31.496Z"
   },
   {
    "duration": 8,
    "start_time": "2021-12-22T16:19:31.985Z"
   },
   {
    "duration": 27,
    "start_time": "2021-12-22T16:19:33.204Z"
   },
   {
    "duration": 11,
    "start_time": "2021-12-22T16:19:33.460Z"
   },
   {
    "duration": 41,
    "start_time": "2021-12-22T16:19:33.868Z"
   },
   {
    "duration": 7,
    "start_time": "2021-12-22T16:19:34.108Z"
   },
   {
    "duration": 7,
    "start_time": "2021-12-22T16:19:34.508Z"
   },
   {
    "duration": 28,
    "start_time": "2021-12-22T16:19:35.276Z"
   },
   {
    "duration": 11,
    "start_time": "2021-12-22T16:19:35.475Z"
   },
   {
    "duration": 25,
    "start_time": "2021-12-22T16:19:35.666Z"
   },
   {
    "duration": 6,
    "start_time": "2021-12-22T16:19:35.836Z"
   },
   {
    "duration": 25,
    "start_time": "2021-12-22T16:19:36.373Z"
   },
   {
    "duration": 12,
    "start_time": "2021-12-22T16:19:36.555Z"
   },
   {
    "duration": 11,
    "start_time": "2021-12-22T16:19:38.500Z"
   },
   {
    "duration": 15,
    "start_time": "2021-12-22T16:19:40.773Z"
   },
   {
    "duration": 34,
    "start_time": "2021-12-22T16:19:41.400Z"
   },
   {
    "duration": 7,
    "start_time": "2021-12-22T16:19:41.576Z"
   },
   {
    "duration": 6,
    "start_time": "2021-12-22T16:19:42.273Z"
   },
   {
    "duration": 13,
    "start_time": "2021-12-22T16:19:43.285Z"
   },
   {
    "duration": 7,
    "start_time": "2021-12-22T16:19:43.489Z"
   },
   {
    "duration": 7,
    "start_time": "2021-12-22T16:19:47.387Z"
   },
   {
    "duration": 30,
    "start_time": "2021-12-22T16:19:47.686Z"
   },
   {
    "duration": 117,
    "start_time": "2021-12-22T16:19:49.117Z"
   },
   {
    "duration": 11,
    "start_time": "2021-12-22T16:19:54.663Z"
   },
   {
    "duration": 22,
    "start_time": "2021-12-22T16:19:54.886Z"
   },
   {
    "duration": 57,
    "start_time": "2021-12-22T16:19:56.992Z"
   },
   {
    "duration": 11,
    "start_time": "2021-12-22T16:21:33.205Z"
   },
   {
    "duration": 27,
    "start_time": "2021-12-22T16:22:29.033Z"
   },
   {
    "duration": 18,
    "start_time": "2021-12-22T16:22:31.105Z"
   },
   {
    "duration": 23,
    "start_time": "2021-12-22T16:24:48.525Z"
   },
   {
    "duration": 1233,
    "start_time": "2021-12-22T16:25:43.676Z"
   },
   {
    "duration": 375,
    "start_time": "2021-12-22T16:26:10.434Z"
   },
   {
    "duration": 700,
    "start_time": "2021-12-22T16:26:21.613Z"
   },
   {
    "duration": 15,
    "start_time": "2021-12-22T16:26:30.106Z"
   },
   {
    "duration": 33,
    "start_time": "2021-12-22T16:26:31.387Z"
   },
   {
    "duration": 518,
    "start_time": "2021-12-22T16:27:02.455Z"
   },
   {
    "duration": 1444,
    "start_time": "2021-12-22T16:27:21.779Z"
   },
   {
    "duration": 578,
    "start_time": "2021-12-22T16:27:23.226Z"
   },
   {
    "duration": 9,
    "start_time": "2021-12-22T16:27:23.807Z"
   },
   {
    "duration": 38,
    "start_time": "2021-12-22T16:27:23.820Z"
   },
   {
    "duration": 10,
    "start_time": "2021-12-22T16:27:23.861Z"
   },
   {
    "duration": 10,
    "start_time": "2021-12-22T16:27:23.873Z"
   },
   {
    "duration": 11,
    "start_time": "2021-12-22T16:27:23.885Z"
   },
   {
    "duration": 7,
    "start_time": "2021-12-22T16:27:24.027Z"
   },
   {
    "duration": 27,
    "start_time": "2021-12-22T16:27:24.907Z"
   },
   {
    "duration": 10,
    "start_time": "2021-12-22T16:27:25.075Z"
   },
   {
    "duration": 43,
    "start_time": "2021-12-22T16:27:25.265Z"
   },
   {
    "duration": 7,
    "start_time": "2021-12-22T16:27:25.445Z"
   },
   {
    "duration": 7,
    "start_time": "2021-12-22T16:27:25.627Z"
   },
   {
    "duration": 21,
    "start_time": "2021-12-22T16:27:26.179Z"
   },
   {
    "duration": 10,
    "start_time": "2021-12-22T16:27:26.365Z"
   },
   {
    "duration": 25,
    "start_time": "2021-12-22T16:27:26.544Z"
   },
   {
    "duration": 6,
    "start_time": "2021-12-22T16:27:26.739Z"
   },
   {
    "duration": 23,
    "start_time": "2021-12-22T16:27:27.299Z"
   },
   {
    "duration": 12,
    "start_time": "2021-12-22T16:27:27.467Z"
   },
   {
    "duration": 16,
    "start_time": "2021-12-22T16:27:27.859Z"
   },
   {
    "duration": 20,
    "start_time": "2021-12-22T16:27:28.232Z"
   },
   {
    "duration": 35,
    "start_time": "2021-12-22T16:27:28.645Z"
   },
   {
    "duration": 6,
    "start_time": "2021-12-22T16:27:29.015Z"
   },
   {
    "duration": 7,
    "start_time": "2021-12-22T16:27:29.218Z"
   },
   {
    "duration": 11,
    "start_time": "2021-12-22T16:27:30.373Z"
   },
   {
    "duration": 7,
    "start_time": "2021-12-22T16:27:31.744Z"
   },
   {
    "duration": 7,
    "start_time": "2021-12-22T16:27:32.434Z"
   },
   {
    "duration": 31,
    "start_time": "2021-12-22T16:27:33.653Z"
   },
   {
    "duration": 112,
    "start_time": "2021-12-22T16:27:37.569Z"
   },
   {
    "duration": 11,
    "start_time": "2021-12-22T16:27:38.464Z"
   },
   {
    "duration": 21,
    "start_time": "2021-12-22T16:27:39.067Z"
   },
   {
    "duration": 56,
    "start_time": "2021-12-22T16:27:39.629Z"
   },
   {
    "duration": 12,
    "start_time": "2021-12-22T16:27:40.026Z"
   },
   {
    "duration": 24,
    "start_time": "2021-12-22T16:27:43.226Z"
   },
   {
    "duration": 17,
    "start_time": "2021-12-22T16:27:48.155Z"
   },
   {
    "duration": 57,
    "start_time": "2021-12-22T16:28:49.009Z"
   },
   {
    "duration": 38,
    "start_time": "2021-12-22T16:30:02.779Z"
   },
   {
    "duration": 21,
    "start_time": "2021-12-22T16:30:39.298Z"
   },
   {
    "duration": 3,
    "start_time": "2021-12-22T16:32:05.223Z"
   },
   {
    "duration": 7,
    "start_time": "2021-12-22T16:32:30.123Z"
   },
   {
    "duration": 161,
    "start_time": "2021-12-22T16:32:59.808Z"
   },
   {
    "duration": 138,
    "start_time": "2021-12-22T16:33:07.474Z"
   },
   {
    "duration": 17,
    "start_time": "2021-12-22T16:33:16.084Z"
   },
   {
    "duration": 33,
    "start_time": "2021-12-22T16:33:36.064Z"
   },
   {
    "duration": 41,
    "start_time": "2021-12-22T16:34:09.547Z"
   },
   {
    "duration": 10,
    "start_time": "2021-12-22T16:34:09.993Z"
   },
   {
    "duration": 33,
    "start_time": "2021-12-22T16:34:10.632Z"
   },
   {
    "duration": 40,
    "start_time": "2021-12-22T16:34:27.203Z"
   },
   {
    "duration": 879,
    "start_time": "2021-12-22T16:35:13.297Z"
   },
   {
    "duration": 46,
    "start_time": "2021-12-22T16:35:18.355Z"
   },
   {
    "duration": 74,
    "start_time": "2021-12-22T16:35:52.141Z"
   },
   {
    "duration": 143,
    "start_time": "2021-12-22T16:36:51.164Z"
   },
   {
    "duration": 15,
    "start_time": "2021-12-22T16:36:56.054Z"
   },
   {
    "duration": 56,
    "start_time": "2021-12-22T16:37:00.114Z"
   },
   {
    "duration": 60,
    "start_time": "2021-12-22T16:37:35.094Z"
   },
   {
    "duration": 79,
    "start_time": "2021-12-22T16:37:39.794Z"
   },
   {
    "duration": 464,
    "start_time": "2021-12-22T16:38:24.980Z"
   },
   {
    "duration": 27,
    "start_time": "2021-12-22T16:38:30.420Z"
   },
   {
    "duration": 12,
    "start_time": "2021-12-22T16:42:32.843Z"
   },
   {
    "duration": 42,
    "start_time": "2021-12-22T16:42:36.705Z"
   },
   {
    "duration": 47,
    "start_time": "2021-12-22T16:42:37.138Z"
   },
   {
    "duration": 75,
    "start_time": "2021-12-22T16:42:37.844Z"
   },
   {
    "duration": 4,
    "start_time": "2021-12-22T16:43:35.812Z"
   },
   {
    "duration": 11,
    "start_time": "2021-12-22T16:43:36.504Z"
   },
   {
    "duration": 115,
    "start_time": "2021-12-22T16:49:13.560Z"
   },
   {
    "duration": 7,
    "start_time": "2021-12-22T16:49:21.232Z"
   },
   {
    "duration": 15,
    "start_time": "2021-12-22T16:49:38.705Z"
   },
   {
    "duration": 167,
    "start_time": "2021-12-22T16:49:51.193Z"
   },
   {
    "duration": 136,
    "start_time": "2021-12-22T16:50:00.032Z"
   },
   {
    "duration": 21,
    "start_time": "2021-12-22T16:50:31.904Z"
   },
   {
    "duration": 28,
    "start_time": "2021-12-22T16:50:36.200Z"
   },
   {
    "duration": 456,
    "start_time": "2021-12-22T16:51:06.831Z"
   },
   {
    "duration": 843,
    "start_time": "2021-12-22T16:51:40.794Z"
   },
   {
    "duration": 53,
    "start_time": "2021-12-22T16:57:02.065Z"
   },
   {
    "duration": 82,
    "start_time": "2021-12-22T16:57:10.300Z"
   },
   {
    "duration": 9,
    "start_time": "2021-12-22T16:57:13.519Z"
   },
   {
    "duration": 38,
    "start_time": "2021-12-22T16:57:21.783Z"
   },
   {
    "duration": 4,
    "start_time": "2021-12-22T16:57:21.943Z"
   },
   {
    "duration": 12,
    "start_time": "2021-12-22T16:57:22.075Z"
   },
   {
    "duration": 27,
    "start_time": "2021-12-22T16:57:33.885Z"
   },
   {
    "duration": 45,
    "start_time": "2021-12-22T16:57:45.471Z"
   },
   {
    "duration": 4,
    "start_time": "2021-12-22T16:57:45.916Z"
   },
   {
    "duration": 27,
    "start_time": "2021-12-22T16:57:46.367Z"
   },
   {
    "duration": 1355,
    "start_time": "2021-12-24T21:20:09.526Z"
   },
   {
    "duration": 551,
    "start_time": "2021-12-24T21:20:10.883Z"
   },
   {
    "duration": 9,
    "start_time": "2021-12-24T21:20:11.437Z"
   },
   {
    "duration": 21,
    "start_time": "2021-12-24T21:20:11.448Z"
   },
   {
    "duration": 8,
    "start_time": "2021-12-24T21:20:17.898Z"
   },
   {
    "duration": 7,
    "start_time": "2021-12-24T21:20:25.400Z"
   },
   {
    "duration": 13,
    "start_time": "2021-12-24T21:20:26.881Z"
   },
   {
    "duration": 7,
    "start_time": "2021-12-24T21:20:27.793Z"
   },
   {
    "duration": 28,
    "start_time": "2021-12-24T21:20:32.223Z"
   },
   {
    "duration": 11,
    "start_time": "2021-12-24T21:20:32.547Z"
   },
   {
    "duration": 42,
    "start_time": "2021-12-24T21:20:38.536Z"
   },
   {
    "duration": 7,
    "start_time": "2021-12-24T21:20:38.932Z"
   },
   {
    "duration": 8,
    "start_time": "2021-12-24T21:20:41.322Z"
   },
   {
    "duration": 20,
    "start_time": "2021-12-24T21:20:44.085Z"
   },
   {
    "duration": 9,
    "start_time": "2021-12-24T21:20:44.108Z"
   },
   {
    "duration": 28,
    "start_time": "2021-12-24T21:20:44.292Z"
   },
   {
    "duration": 6,
    "start_time": "2021-12-24T21:20:44.500Z"
   },
   {
    "duration": 23,
    "start_time": "2021-12-24T21:20:46.338Z"
   },
   {
    "duration": 11,
    "start_time": "2021-12-24T21:20:46.363Z"
   },
   {
    "duration": 12,
    "start_time": "2021-12-24T21:20:47.842Z"
   },
   {
    "duration": 16,
    "start_time": "2021-12-24T21:20:52.774Z"
   },
   {
    "duration": 35,
    "start_time": "2021-12-24T21:20:53.394Z"
   },
   {
    "duration": 6,
    "start_time": "2021-12-24T21:20:53.566Z"
   },
   {
    "duration": 6,
    "start_time": "2021-12-24T21:20:53.972Z"
   },
   {
    "duration": 11,
    "start_time": "2021-12-24T21:20:55.499Z"
   },
   {
    "duration": 7,
    "start_time": "2021-12-24T21:20:57.786Z"
   },
   {
    "duration": 35,
    "start_time": "2021-12-24T21:21:27.888Z"
   },
   {
    "duration": 13,
    "start_time": "2021-12-24T21:22:13.803Z"
   },
   {
    "duration": 16,
    "start_time": "2021-12-24T21:23:22.442Z"
   },
   {
    "duration": 24,
    "start_time": "2021-12-24T21:24:00.466Z"
   },
   {
    "duration": 19,
    "start_time": "2021-12-24T21:24:05.859Z"
   },
   {
    "duration": 25,
    "start_time": "2021-12-24T21:25:17.359Z"
   },
   {
    "duration": 989,
    "start_time": "2021-12-25T00:04:17.908Z"
   },
   {
    "duration": 423,
    "start_time": "2021-12-25T00:04:20.433Z"
   },
   {
    "duration": 7,
    "start_time": "2021-12-25T00:04:44.599Z"
   },
   {
    "duration": 13,
    "start_time": "2021-12-25T00:04:46.470Z"
   },
   {
    "duration": 7,
    "start_time": "2021-12-25T00:04:48.473Z"
   },
   {
    "duration": 5,
    "start_time": "2021-12-25T00:04:49.381Z"
   },
   {
    "duration": 6,
    "start_time": "2021-12-25T00:04:52.082Z"
   },
   {
    "duration": 5,
    "start_time": "2021-12-25T00:04:53.616Z"
   },
   {
    "duration": 20,
    "start_time": "2021-12-25T00:05:04.170Z"
   },
   {
    "duration": 8,
    "start_time": "2021-12-25T00:05:05.239Z"
   },
   {
    "duration": 35,
    "start_time": "2021-12-25T00:05:07.340Z"
   },
   {
    "duration": 5,
    "start_time": "2021-12-25T00:05:07.837Z"
   },
   {
    "duration": 7,
    "start_time": "2021-12-25T00:05:08.759Z"
   },
   {
    "duration": 14,
    "start_time": "2021-12-25T00:05:14.409Z"
   },
   {
    "duration": 7,
    "start_time": "2021-12-25T00:05:15.273Z"
   },
   {
    "duration": 17,
    "start_time": "2021-12-25T00:05:17.207Z"
   },
   {
    "duration": 5,
    "start_time": "2021-12-25T00:05:17.273Z"
   },
   {
    "duration": 16,
    "start_time": "2021-12-25T00:05:20.232Z"
   },
   {
    "duration": 9,
    "start_time": "2021-12-25T00:05:20.435Z"
   },
   {
    "duration": 7,
    "start_time": "2021-12-25T00:05:20.808Z"
   },
   {
    "duration": 11,
    "start_time": "2021-12-25T00:05:22.301Z"
   },
   {
    "duration": 25,
    "start_time": "2021-12-25T00:05:22.792Z"
   },
   {
    "duration": 6,
    "start_time": "2021-12-25T00:05:22.974Z"
   },
   {
    "duration": 6,
    "start_time": "2021-12-25T00:05:23.177Z"
   },
   {
    "duration": 8,
    "start_time": "2021-12-25T00:05:24.331Z"
   },
   {
    "duration": 5,
    "start_time": "2021-12-25T00:05:24.831Z"
   },
   {
    "duration": 25,
    "start_time": "2021-12-25T00:05:31.865Z"
   },
   {
    "duration": 30,
    "start_time": "2021-12-25T00:05:32.973Z"
   },
   {
    "duration": 28,
    "start_time": "2021-12-25T00:05:53.131Z"
   },
   {
    "duration": 24,
    "start_time": "2021-12-25T00:06:51.577Z"
   },
   {
    "duration": 23,
    "start_time": "2021-12-25T00:07:32.467Z"
   },
   {
    "duration": 30,
    "start_time": "2021-12-25T00:07:35.681Z"
   },
   {
    "duration": 24,
    "start_time": "2021-12-25T00:08:49.754Z"
   },
   {
    "duration": 22,
    "start_time": "2021-12-25T00:08:49.966Z"
   },
   {
    "duration": 341,
    "start_time": "2021-12-25T00:09:29.816Z"
   },
   {
    "duration": 26,
    "start_time": "2021-12-25T00:09:40.605Z"
   },
   {
    "duration": 8,
    "start_time": "2021-12-25T00:11:38.398Z"
   },
   {
    "duration": 28,
    "start_time": "2021-12-25T00:14:59.991Z"
   },
   {
    "duration": 282,
    "start_time": "2021-12-25T00:15:15.333Z"
   },
   {
    "duration": 986,
    "start_time": "2021-12-25T00:15:43.925Z"
   },
   {
    "duration": 415,
    "start_time": "2021-12-25T00:15:44.913Z"
   },
   {
    "duration": 7,
    "start_time": "2021-12-25T00:15:46.203Z"
   },
   {
    "duration": 16,
    "start_time": "2021-12-25T00:15:46.643Z"
   },
   {
    "duration": 6,
    "start_time": "2021-12-25T00:15:46.989Z"
   },
   {
    "duration": 6,
    "start_time": "2021-12-25T00:15:47.261Z"
   },
   {
    "duration": 6,
    "start_time": "2021-12-25T00:15:47.479Z"
   },
   {
    "duration": 5,
    "start_time": "2021-12-25T00:15:47.720Z"
   },
   {
    "duration": 19,
    "start_time": "2021-12-25T00:15:48.579Z"
   },
   {
    "duration": 8,
    "start_time": "2021-12-25T00:15:48.796Z"
   },
   {
    "duration": 29,
    "start_time": "2021-12-25T00:15:48.993Z"
   },
   {
    "duration": 5,
    "start_time": "2021-12-25T00:15:49.223Z"
   },
   {
    "duration": 6,
    "start_time": "2021-12-25T00:15:49.871Z"
   },
   {
    "duration": 14,
    "start_time": "2021-12-25T00:15:50.854Z"
   },
   {
    "duration": 6,
    "start_time": "2021-12-25T00:15:51.557Z"
   },
   {
    "duration": 17,
    "start_time": "2021-12-25T00:15:51.777Z"
   },
   {
    "duration": 4,
    "start_time": "2021-12-25T00:15:52.169Z"
   },
   {
    "duration": 17,
    "start_time": "2021-12-25T00:15:53.054Z"
   },
   {
    "duration": 7,
    "start_time": "2021-12-25T00:15:54.668Z"
   },
   {
    "duration": 8,
    "start_time": "2021-12-25T00:15:55.035Z"
   },
   {
    "duration": 11,
    "start_time": "2021-12-25T00:15:57.778Z"
   },
   {
    "duration": 23,
    "start_time": "2021-12-25T00:15:58.399Z"
   },
   {
    "duration": 6,
    "start_time": "2021-12-25T00:15:58.833Z"
   },
   {
    "duration": 5,
    "start_time": "2021-12-25T00:15:59.356Z"
   },
   {
    "duration": 7,
    "start_time": "2021-12-25T00:16:00.468Z"
   },
   {
    "duration": 5,
    "start_time": "2021-12-25T00:16:00.722Z"
   },
   {
    "duration": 26,
    "start_time": "2021-12-25T00:16:01.192Z"
   },
   {
    "duration": 35,
    "start_time": "2021-12-25T00:16:01.421Z"
   },
   {
    "duration": 27,
    "start_time": "2021-12-25T00:16:01.759Z"
   },
   {
    "duration": 19,
    "start_time": "2021-12-25T00:16:02.034Z"
   },
   {
    "duration": 362,
    "start_time": "2021-12-25T00:16:04.982Z"
   },
   {
    "duration": 4,
    "start_time": "2021-12-25T00:22:11.432Z"
   },
   {
    "duration": 397,
    "start_time": "2021-12-25T00:22:11.637Z"
   },
   {
    "duration": 7,
    "start_time": "2021-12-25T00:22:12.036Z"
   },
   {
    "duration": 1034,
    "start_time": "2021-12-25T00:22:19.637Z"
   },
   {
    "duration": 445,
    "start_time": "2021-12-25T00:22:21.154Z"
   },
   {
    "duration": 10,
    "start_time": "2021-12-25T00:22:22.639Z"
   },
   {
    "duration": 13,
    "start_time": "2021-12-25T00:22:23.209Z"
   },
   {
    "duration": 6,
    "start_time": "2021-12-25T00:22:23.757Z"
   },
   {
    "duration": 4,
    "start_time": "2021-12-25T00:22:24.275Z"
   },
   {
    "duration": 6,
    "start_time": "2021-12-25T00:22:24.762Z"
   },
   {
    "duration": 5,
    "start_time": "2021-12-25T00:22:25.164Z"
   },
   {
    "duration": 20,
    "start_time": "2021-12-25T00:22:26.503Z"
   },
   {
    "duration": 8,
    "start_time": "2021-12-25T00:22:26.893Z"
   },
   {
    "duration": 35,
    "start_time": "2021-12-25T00:22:27.136Z"
   },
   {
    "duration": 5,
    "start_time": "2021-12-25T00:22:27.330Z"
   },
   {
    "duration": 6,
    "start_time": "2021-12-25T00:22:27.500Z"
   },
   {
    "duration": 14,
    "start_time": "2021-12-25T00:22:28.026Z"
   },
   {
    "duration": 7,
    "start_time": "2021-12-25T00:22:28.386Z"
   },
   {
    "duration": 18,
    "start_time": "2021-12-25T00:22:28.395Z"
   },
   {
    "duration": 5,
    "start_time": "2021-12-25T00:22:28.566Z"
   },
   {
    "duration": 16,
    "start_time": "2021-12-25T00:22:29.385Z"
   },
   {
    "duration": 7,
    "start_time": "2021-12-25T00:22:29.581Z"
   },
   {
    "duration": 8,
    "start_time": "2021-12-25T00:22:29.958Z"
   },
   {
    "duration": 11,
    "start_time": "2021-12-25T00:22:30.767Z"
   },
   {
    "duration": 25,
    "start_time": "2021-12-25T00:22:31.491Z"
   },
   {
    "duration": 5,
    "start_time": "2021-12-25T00:22:32.019Z"
   },
   {
    "duration": 6,
    "start_time": "2021-12-25T00:22:32.454Z"
   },
   {
    "duration": 8,
    "start_time": "2021-12-25T00:22:33.454Z"
   },
   {
    "duration": 4,
    "start_time": "2021-12-25T00:22:33.624Z"
   },
   {
    "duration": 24,
    "start_time": "2021-12-25T00:22:34.013Z"
   },
   {
    "duration": 27,
    "start_time": "2021-12-25T00:22:34.195Z"
   },
   {
    "duration": 24,
    "start_time": "2021-12-25T00:22:34.380Z"
   },
   {
    "duration": 14,
    "start_time": "2021-12-25T00:22:34.576Z"
   },
   {
    "duration": 368,
    "start_time": "2021-12-25T00:22:34.782Z"
   },
   {
    "duration": 15,
    "start_time": "2021-12-25T00:22:49.825Z"
   },
   {
    "duration": 19,
    "start_time": "2021-12-25T00:23:08.254Z"
   },
   {
    "duration": 8,
    "start_time": "2021-12-25T00:24:06.799Z"
   },
   {
    "duration": 86,
    "start_time": "2021-12-25T00:26:50.468Z"
   },
   {
    "duration": 84,
    "start_time": "2021-12-25T00:27:05.784Z"
   },
   {
    "duration": 28,
    "start_time": "2021-12-25T00:27:10.126Z"
   },
   {
    "duration": 105,
    "start_time": "2021-12-25T00:29:13.087Z"
   },
   {
    "duration": 249,
    "start_time": "2021-12-25T00:29:25.778Z"
   },
   {
    "duration": 32,
    "start_time": "2021-12-25T00:30:19.537Z"
   },
   {
    "duration": 26,
    "start_time": "2021-12-25T00:30:29.130Z"
   },
   {
    "duration": 26,
    "start_time": "2021-12-25T00:30:29.574Z"
   },
   {
    "duration": 28,
    "start_time": "2021-12-25T00:30:56.892Z"
   },
   {
    "duration": 983,
    "start_time": "2021-12-25T00:31:04.170Z"
   },
   {
    "duration": 429,
    "start_time": "2021-12-25T00:31:05.155Z"
   },
   {
    "duration": 6,
    "start_time": "2021-12-25T00:31:05.587Z"
   },
   {
    "duration": 15,
    "start_time": "2021-12-25T00:31:05.595Z"
   },
   {
    "duration": 5,
    "start_time": "2021-12-25T00:31:05.612Z"
   },
   {
    "duration": 8,
    "start_time": "2021-12-25T00:31:05.618Z"
   },
   {
    "duration": 25,
    "start_time": "2021-12-25T00:31:05.627Z"
   },
   {
    "duration": 8,
    "start_time": "2021-12-25T00:31:05.655Z"
   },
   {
    "duration": 26,
    "start_time": "2021-12-25T00:31:06.165Z"
   },
   {
    "duration": 7,
    "start_time": "2021-12-25T00:31:06.321Z"
   },
   {
    "duration": 28,
    "start_time": "2021-12-25T00:31:06.492Z"
   },
   {
    "duration": 4,
    "start_time": "2021-12-25T00:31:06.678Z"
   },
   {
    "duration": 6,
    "start_time": "2021-12-25T00:31:06.863Z"
   },
   {
    "duration": 22,
    "start_time": "2021-12-25T00:31:07.438Z"
   },
   {
    "duration": 7,
    "start_time": "2021-12-25T00:31:07.609Z"
   },
   {
    "duration": 20,
    "start_time": "2021-12-25T00:31:07.829Z"
   },
   {
    "duration": 4,
    "start_time": "2021-12-25T00:31:07.995Z"
   },
   {
    "duration": 23,
    "start_time": "2021-12-25T00:31:08.554Z"
   },
   {
    "duration": 10,
    "start_time": "2021-12-25T00:31:08.729Z"
   },
   {
    "duration": 8,
    "start_time": "2021-12-25T00:31:09.154Z"
   },
   {
    "duration": 16,
    "start_time": "2021-12-25T00:31:09.538Z"
   },
   {
    "duration": 25,
    "start_time": "2021-12-25T00:31:10.320Z"
   },
   {
    "duration": 6,
    "start_time": "2021-12-25T00:31:10.347Z"
   },
   {
    "duration": 5,
    "start_time": "2021-12-25T00:31:10.509Z"
   },
   {
    "duration": 8,
    "start_time": "2021-12-25T00:31:11.495Z"
   },
   {
    "duration": 5,
    "start_time": "2021-12-25T00:31:11.810Z"
   },
   {
    "duration": 25,
    "start_time": "2021-12-25T00:31:12.216Z"
   },
   {
    "duration": 1342,
    "start_time": "2021-12-25T00:31:13.854Z"
   },
   {
    "duration": 27,
    "start_time": "2021-12-25T00:31:23.914Z"
   },
   {
    "duration": 32,
    "start_time": "2021-12-25T00:31:32.301Z"
   },
   {
    "duration": 27,
    "start_time": "2021-12-25T00:32:05.660Z"
   },
   {
    "duration": 34,
    "start_time": "2021-12-25T00:33:20.535Z"
   },
   {
    "duration": 282,
    "start_time": "2021-12-25T00:34:07.178Z"
   },
   {
    "duration": 27,
    "start_time": "2021-12-25T00:34:11.654Z"
   },
   {
    "duration": 23,
    "start_time": "2021-12-25T00:34:59.798Z"
   },
   {
    "duration": 26,
    "start_time": "2021-12-25T00:35:06.908Z"
   },
   {
    "duration": 27,
    "start_time": "2021-12-25T00:35:13.692Z"
   },
   {
    "duration": 30,
    "start_time": "2021-12-25T00:36:34.124Z"
   },
   {
    "duration": 25,
    "start_time": "2021-12-25T00:36:44.654Z"
   },
   {
    "duration": 8,
    "start_time": "2021-12-25T00:37:38.705Z"
   },
   {
    "duration": 19,
    "start_time": "2021-12-25T00:38:22.407Z"
   },
   {
    "duration": 8,
    "start_time": "2021-12-25T00:38:31.206Z"
   },
   {
    "duration": 14,
    "start_time": "2021-12-25T00:39:09.963Z"
   },
   {
    "duration": 9,
    "start_time": "2021-12-25T00:39:24.555Z"
   },
   {
    "duration": 258,
    "start_time": "2021-12-25T00:40:56.915Z"
   },
   {
    "duration": 24,
    "start_time": "2021-12-25T00:41:07.854Z"
   },
   {
    "duration": 21,
    "start_time": "2021-12-25T00:42:20.915Z"
   },
   {
    "duration": 7,
    "start_time": "2021-12-25T00:43:36.079Z"
   },
   {
    "duration": 18,
    "start_time": "2021-12-25T00:45:43.843Z"
   },
   {
    "duration": 10,
    "start_time": "2021-12-25T00:45:46.377Z"
   },
   {
    "duration": 16,
    "start_time": "2021-12-25T00:46:52.492Z"
   },
   {
    "duration": 277,
    "start_time": "2021-12-25T00:49:35.932Z"
   },
   {
    "duration": 17,
    "start_time": "2021-12-25T00:49:42.512Z"
   },
   {
    "duration": 3,
    "start_time": "2021-12-25T00:50:37.920Z"
   },
   {
    "duration": 11,
    "start_time": "2021-12-25T00:51:35.883Z"
   },
   {
    "duration": 11,
    "start_time": "2021-12-25T00:53:13.772Z"
   },
   {
    "duration": 1003,
    "start_time": "2021-12-25T00:58:39.322Z"
   },
   {
    "duration": 430,
    "start_time": "2021-12-25T00:58:40.327Z"
   },
   {
    "duration": 7,
    "start_time": "2021-12-25T00:58:40.759Z"
   },
   {
    "duration": 14,
    "start_time": "2021-12-25T00:58:40.768Z"
   },
   {
    "duration": 5,
    "start_time": "2021-12-25T00:58:40.784Z"
   },
   {
    "duration": 6,
    "start_time": "2021-12-25T00:58:40.791Z"
   },
   {
    "duration": 7,
    "start_time": "2021-12-25T00:58:40.799Z"
   },
   {
    "duration": 11,
    "start_time": "2021-12-25T00:58:40.808Z"
   },
   {
    "duration": 32,
    "start_time": "2021-12-25T00:58:40.821Z"
   },
   {
    "duration": 8,
    "start_time": "2021-12-25T00:58:40.855Z"
   },
   {
    "duration": 31,
    "start_time": "2021-12-25T00:58:40.865Z"
   },
   {
    "duration": 5,
    "start_time": "2021-12-25T00:58:40.898Z"
   },
   {
    "duration": 7,
    "start_time": "2021-12-25T00:58:40.905Z"
   },
   {
    "duration": 45,
    "start_time": "2021-12-25T00:58:40.913Z"
   },
   {
    "duration": 6,
    "start_time": "2021-12-25T00:58:40.960Z"
   },
   {
    "duration": 16,
    "start_time": "2021-12-25T00:58:40.968Z"
   },
   {
    "duration": 4,
    "start_time": "2021-12-25T00:58:40.986Z"
   },
   {
    "duration": 18,
    "start_time": "2021-12-25T00:58:40.991Z"
   },
   {
    "duration": 7,
    "start_time": "2021-12-25T00:58:41.011Z"
   },
   {
    "duration": 8,
    "start_time": "2021-12-25T00:58:41.050Z"
   },
   {
    "duration": 12,
    "start_time": "2021-12-25T00:58:41.060Z"
   },
   {
    "duration": 22,
    "start_time": "2021-12-25T00:58:41.074Z"
   },
   {
    "duration": 5,
    "start_time": "2021-12-25T00:58:41.098Z"
   },
   {
    "duration": 8,
    "start_time": "2021-12-25T00:58:41.105Z"
   },
   {
    "duration": 36,
    "start_time": "2021-12-25T00:58:41.114Z"
   },
   {
    "duration": 10,
    "start_time": "2021-12-25T00:58:41.153Z"
   },
   {
    "duration": 29,
    "start_time": "2021-12-25T00:58:41.165Z"
   },
   {
    "duration": 29,
    "start_time": "2021-12-25T00:58:41.195Z"
   },
   {
    "duration": 41,
    "start_time": "2021-12-25T00:58:41.226Z"
   },
   {
    "duration": 14,
    "start_time": "2021-12-25T00:58:41.268Z"
   },
   {
    "duration": 23,
    "start_time": "2021-12-25T00:58:41.284Z"
   },
   {
    "duration": 36,
    "start_time": "2021-12-25T00:58:41.309Z"
   },
   {
    "duration": 22,
    "start_time": "2021-12-25T00:58:41.346Z"
   },
   {
    "duration": 2,
    "start_time": "2021-12-25T00:58:41.370Z"
   },
   {
    "duration": 31,
    "start_time": "2021-12-25T00:58:41.373Z"
   },
   {
    "duration": 7,
    "start_time": "2021-12-25T01:00:07.697Z"
   },
   {
    "duration": 951,
    "start_time": "2021-12-25T01:01:45.663Z"
   },
   {
    "duration": 400,
    "start_time": "2021-12-25T01:01:46.616Z"
   },
   {
    "duration": 6,
    "start_time": "2021-12-25T01:01:47.018Z"
   },
   {
    "duration": 15,
    "start_time": "2021-12-25T01:01:47.026Z"
   },
   {
    "duration": 8,
    "start_time": "2021-12-25T01:01:47.042Z"
   },
   {
    "duration": 12,
    "start_time": "2021-12-25T01:01:47.051Z"
   },
   {
    "duration": 7,
    "start_time": "2021-12-25T01:01:47.065Z"
   },
   {
    "duration": 10,
    "start_time": "2021-12-25T01:01:47.073Z"
   },
   {
    "duration": 25,
    "start_time": "2021-12-25T01:01:47.085Z"
   },
   {
    "duration": 6,
    "start_time": "2021-12-25T01:01:47.112Z"
   },
   {
    "duration": 48,
    "start_time": "2021-12-25T01:01:47.119Z"
   },
   {
    "duration": 4,
    "start_time": "2021-12-25T01:01:47.169Z"
   },
   {
    "duration": 8,
    "start_time": "2021-12-25T01:01:47.175Z"
   },
   {
    "duration": 15,
    "start_time": "2021-12-25T01:01:47.184Z"
   },
   {
    "duration": 10,
    "start_time": "2021-12-25T01:01:47.200Z"
   },
   {
    "duration": 35,
    "start_time": "2021-12-25T01:01:47.212Z"
   },
   {
    "duration": 5,
    "start_time": "2021-12-25T01:01:47.248Z"
   },
   {
    "duration": 25,
    "start_time": "2021-12-25T01:01:47.257Z"
   },
   {
    "duration": 7,
    "start_time": "2021-12-25T01:01:47.284Z"
   },
   {
    "duration": 12,
    "start_time": "2021-12-25T01:01:47.292Z"
   },
   {
    "duration": 15,
    "start_time": "2021-12-25T01:01:47.305Z"
   },
   {
    "duration": 45,
    "start_time": "2021-12-25T01:01:47.322Z"
   },
   {
    "duration": 4,
    "start_time": "2021-12-25T01:01:47.369Z"
   },
   {
    "duration": 9,
    "start_time": "2021-12-25T01:01:47.374Z"
   },
   {
    "duration": 9,
    "start_time": "2021-12-25T01:01:47.384Z"
   },
   {
    "duration": 7,
    "start_time": "2021-12-25T01:01:47.395Z"
   },
   {
    "duration": 47,
    "start_time": "2021-12-25T01:01:47.405Z"
   },
   {
    "duration": 27,
    "start_time": "2021-12-25T01:01:47.455Z"
   },
   {
    "duration": 22,
    "start_time": "2021-12-25T01:01:47.484Z"
   },
   {
    "duration": 13,
    "start_time": "2021-12-25T01:01:47.508Z"
   },
   {
    "duration": 35,
    "start_time": "2021-12-25T01:01:47.523Z"
   },
   {
    "duration": 16,
    "start_time": "2021-12-25T01:01:47.560Z"
   },
   {
    "duration": 19,
    "start_time": "2021-12-25T01:01:47.577Z"
   },
   {
    "duration": 2,
    "start_time": "2021-12-25T01:01:47.597Z"
   },
   {
    "duration": 41,
    "start_time": "2021-12-25T01:01:47.601Z"
   },
   {
    "duration": 10,
    "start_time": "2021-12-25T01:01:47.650Z"
   },
   {
    "duration": 467,
    "start_time": "2021-12-25T01:01:47.661Z"
   },
   {
    "duration": 120,
    "start_time": "2021-12-25T01:01:58.054Z"
   },
   {
    "duration": 122,
    "start_time": "2021-12-25T01:03:14.654Z"
   },
   {
    "duration": 132,
    "start_time": "2021-12-25T01:03:22.215Z"
   },
   {
    "duration": 362,
    "start_time": "2021-12-25T01:03:38.079Z"
   },
   {
    "duration": 136,
    "start_time": "2021-12-25T01:04:19.004Z"
   },
   {
    "duration": 120,
    "start_time": "2021-12-25T01:04:25.479Z"
   },
   {
    "duration": 277,
    "start_time": "2021-12-25T01:04:38.429Z"
   },
   {
    "duration": 312,
    "start_time": "2021-12-25T01:05:57.399Z"
   },
   {
    "duration": 308,
    "start_time": "2021-12-25T01:06:12.419Z"
   },
   {
    "duration": 231,
    "start_time": "2021-12-25T01:06:22.244Z"
   },
   {
    "duration": 162,
    "start_time": "2021-12-25T01:06:53.093Z"
   },
   {
    "duration": 275,
    "start_time": "2021-12-25T01:08:00.468Z"
   },
   {
    "duration": 172,
    "start_time": "2021-12-25T01:08:47.295Z"
   },
   {
    "duration": 187,
    "start_time": "2021-12-25T01:09:22.133Z"
   },
   {
    "duration": 415,
    "start_time": "2021-12-25T01:09:48.132Z"
   },
   {
    "duration": 168,
    "start_time": "2021-12-25T01:09:55.420Z"
   },
   {
    "duration": 170,
    "start_time": "2021-12-25T01:11:21.678Z"
   },
   {
    "duration": 157,
    "start_time": "2021-12-25T01:13:08.965Z"
   },
   {
    "duration": 164,
    "start_time": "2021-12-25T01:14:06.855Z"
   },
   {
    "duration": 3,
    "start_time": "2021-12-25T01:16:11.387Z"
   },
   {
    "duration": 255,
    "start_time": "2021-12-25T01:22:29.677Z"
   },
   {
    "duration": 243,
    "start_time": "2021-12-25T01:22:32.577Z"
   },
   {
    "duration": 16,
    "start_time": "2021-12-25T01:24:28.043Z"
   },
   {
    "duration": 15,
    "start_time": "2021-12-25T01:24:47.610Z"
   },
   {
    "duration": 15,
    "start_time": "2021-12-25T01:25:58.879Z"
   },
   {
    "duration": 18,
    "start_time": "2021-12-25T01:26:24.268Z"
   },
   {
    "duration": 25,
    "start_time": "2021-12-25T01:27:23.894Z"
   },
   {
    "duration": 955,
    "start_time": "2021-12-25T01:27:42.454Z"
   },
   {
    "duration": 407,
    "start_time": "2021-12-25T01:27:43.411Z"
   },
   {
    "duration": 7,
    "start_time": "2021-12-25T01:27:43.820Z"
   },
   {
    "duration": 39,
    "start_time": "2021-12-25T01:27:43.829Z"
   },
   {
    "duration": 8,
    "start_time": "2021-12-25T01:27:43.870Z"
   },
   {
    "duration": 6,
    "start_time": "2021-12-25T01:27:43.880Z"
   },
   {
    "duration": 8,
    "start_time": "2021-12-25T01:27:43.887Z"
   },
   {
    "duration": 5,
    "start_time": "2021-12-25T01:27:43.898Z"
   },
   {
    "duration": 21,
    "start_time": "2021-12-25T01:27:43.905Z"
   },
   {
    "duration": 25,
    "start_time": "2021-12-25T01:27:43.928Z"
   },
   {
    "duration": 31,
    "start_time": "2021-12-25T01:27:43.955Z"
   },
   {
    "duration": 4,
    "start_time": "2021-12-25T01:27:43.988Z"
   },
   {
    "duration": 8,
    "start_time": "2021-12-25T01:27:43.993Z"
   },
   {
    "duration": 17,
    "start_time": "2021-12-25T01:27:44.003Z"
   },
   {
    "duration": 28,
    "start_time": "2021-12-25T01:27:44.021Z"
   },
   {
    "duration": 17,
    "start_time": "2021-12-25T01:27:44.051Z"
   },
   {
    "duration": 4,
    "start_time": "2021-12-25T01:27:44.070Z"
   },
   {
    "duration": 21,
    "start_time": "2021-12-25T01:27:44.075Z"
   },
   {
    "duration": 7,
    "start_time": "2021-12-25T01:27:44.098Z"
   },
   {
    "duration": 10,
    "start_time": "2021-12-25T01:27:44.106Z"
   },
   {
    "duration": 33,
    "start_time": "2021-12-25T01:27:44.117Z"
   },
   {
    "duration": 23,
    "start_time": "2021-12-25T01:27:44.153Z"
   },
   {
    "duration": 5,
    "start_time": "2021-12-25T01:27:44.179Z"
   },
   {
    "duration": 9,
    "start_time": "2021-12-25T01:27:44.186Z"
   },
   {
    "duration": 13,
    "start_time": "2021-12-25T01:27:44.196Z"
   },
   {
    "duration": 11,
    "start_time": "2021-12-25T01:27:44.211Z"
   },
   {
    "duration": 37,
    "start_time": "2021-12-25T01:27:44.223Z"
   },
   {
    "duration": 28,
    "start_time": "2021-12-25T01:27:44.261Z"
   },
   {
    "duration": 23,
    "start_time": "2021-12-25T01:27:44.290Z"
   },
   {
    "duration": 30,
    "start_time": "2021-12-25T01:27:44.314Z"
   },
   {
    "duration": 24,
    "start_time": "2021-12-25T01:27:44.345Z"
   },
   {
    "duration": 15,
    "start_time": "2021-12-25T01:27:44.371Z"
   },
   {
    "duration": 18,
    "start_time": "2021-12-25T01:27:44.388Z"
   },
   {
    "duration": 2,
    "start_time": "2021-12-25T01:27:44.408Z"
   },
   {
    "duration": 39,
    "start_time": "2021-12-25T01:27:44.411Z"
   },
   {
    "duration": 176,
    "start_time": "2021-12-25T01:27:44.459Z"
   },
   {
    "duration": 171,
    "start_time": "2021-12-25T01:27:44.636Z"
   },
   {
    "duration": 171,
    "start_time": "2021-12-25T01:27:44.808Z"
   },
   {
    "duration": 179,
    "start_time": "2021-12-25T01:27:44.980Z"
   },
   {
    "duration": 2,
    "start_time": "2021-12-25T01:27:45.161Z"
   },
   {
    "duration": 30,
    "start_time": "2021-12-25T01:27:45.165Z"
   },
   {
    "duration": 24,
    "start_time": "2021-12-25T01:27:45.196Z"
   },
   {
    "duration": 1043,
    "start_time": "2021-12-25T01:28:08.182Z"
   },
   {
    "duration": 442,
    "start_time": "2021-12-25T01:28:09.227Z"
   },
   {
    "duration": 6,
    "start_time": "2021-12-25T01:28:09.672Z"
   },
   {
    "duration": 14,
    "start_time": "2021-12-25T01:28:09.680Z"
   },
   {
    "duration": 6,
    "start_time": "2021-12-25T01:28:09.695Z"
   },
   {
    "duration": 7,
    "start_time": "2021-12-25T01:28:09.702Z"
   },
   {
    "duration": 8,
    "start_time": "2021-12-25T01:28:09.710Z"
   },
   {
    "duration": 8,
    "start_time": "2021-12-25T01:28:09.719Z"
   },
   {
    "duration": 31,
    "start_time": "2021-12-25T01:28:09.729Z"
   },
   {
    "duration": 6,
    "start_time": "2021-12-25T01:28:09.762Z"
   },
   {
    "duration": 32,
    "start_time": "2021-12-25T01:28:09.769Z"
   },
   {
    "duration": 4,
    "start_time": "2021-12-25T01:28:09.802Z"
   },
   {
    "duration": 10,
    "start_time": "2021-12-25T01:28:09.808Z"
   },
   {
    "duration": 38,
    "start_time": "2021-12-25T01:28:09.820Z"
   },
   {
    "duration": 9,
    "start_time": "2021-12-25T01:28:09.859Z"
   },
   {
    "duration": 19,
    "start_time": "2021-12-25T01:28:09.869Z"
   },
   {
    "duration": 4,
    "start_time": "2021-12-25T01:28:09.890Z"
   },
   {
    "duration": 20,
    "start_time": "2021-12-25T01:28:09.896Z"
   },
   {
    "duration": 28,
    "start_time": "2021-12-25T01:28:09.917Z"
   },
   {
    "duration": 11,
    "start_time": "2021-12-25T01:28:09.947Z"
   },
   {
    "duration": 19,
    "start_time": "2021-12-25T01:28:09.960Z"
   },
   {
    "duration": 23,
    "start_time": "2021-12-25T01:28:09.981Z"
   },
   {
    "duration": 4,
    "start_time": "2021-12-25T01:28:10.006Z"
   },
   {
    "duration": 8,
    "start_time": "2021-12-25T01:28:10.012Z"
   },
   {
    "duration": 32,
    "start_time": "2021-12-25T01:28:10.022Z"
   },
   {
    "duration": 12,
    "start_time": "2021-12-25T01:28:10.056Z"
   },
   {
    "duration": 29,
    "start_time": "2021-12-25T01:28:10.071Z"
   },
   {
    "duration": 28,
    "start_time": "2021-12-25T01:28:10.102Z"
   },
   {
    "duration": 37,
    "start_time": "2021-12-25T01:28:10.132Z"
   },
   {
    "duration": 14,
    "start_time": "2021-12-25T01:28:10.171Z"
   },
   {
    "duration": 24,
    "start_time": "2021-12-25T01:28:10.186Z"
   },
   {
    "duration": 38,
    "start_time": "2021-12-25T01:28:10.212Z"
   },
   {
    "duration": 20,
    "start_time": "2021-12-25T01:28:10.252Z"
   },
   {
    "duration": 3,
    "start_time": "2021-12-25T01:28:10.274Z"
   },
   {
    "duration": 15,
    "start_time": "2021-12-25T01:28:10.278Z"
   },
   {
    "duration": 206,
    "start_time": "2021-12-25T01:28:10.295Z"
   },
   {
    "duration": 180,
    "start_time": "2021-12-25T01:28:10.503Z"
   },
   {
    "duration": 283,
    "start_time": "2021-12-25T01:28:10.684Z"
   },
   {
    "duration": 188,
    "start_time": "2021-12-25T01:28:10.968Z"
   },
   {
    "duration": 2,
    "start_time": "2021-12-25T01:28:11.158Z"
   },
   {
    "duration": 18,
    "start_time": "2021-12-25T01:28:11.162Z"
   },
   {
    "duration": 17,
    "start_time": "2021-12-25T01:28:11.181Z"
   },
   {
    "duration": 17,
    "start_time": "2021-12-25T01:28:11.199Z"
   },
   {
    "duration": 9,
    "start_time": "2021-12-25T01:29:02.455Z"
   },
   {
    "duration": 14,
    "start_time": "2021-12-25T01:29:08.154Z"
   },
   {
    "duration": 5,
    "start_time": "2021-12-25T01:30:30.690Z"
   },
   {
    "duration": 349,
    "start_time": "2021-12-25T01:31:07.654Z"
   },
   {
    "duration": 30,
    "start_time": "2021-12-25T01:31:19.628Z"
   },
   {
    "duration": 6744,
    "start_time": "2021-12-25T01:31:57.625Z"
   },
   {
    "duration": 1076,
    "start_time": "2021-12-25T01:32:15.126Z"
   },
   {
    "duration": 412,
    "start_time": "2021-12-25T01:32:16.204Z"
   },
   {
    "duration": 7,
    "start_time": "2021-12-25T01:32:16.620Z"
   },
   {
    "duration": 25,
    "start_time": "2021-12-25T01:32:16.628Z"
   },
   {
    "duration": 8,
    "start_time": "2021-12-25T01:32:16.655Z"
   },
   {
    "duration": 6,
    "start_time": "2021-12-25T01:32:16.665Z"
   },
   {
    "duration": 7,
    "start_time": "2021-12-25T01:32:16.672Z"
   },
   {
    "duration": 5,
    "start_time": "2021-12-25T01:32:16.682Z"
   },
   {
    "duration": 20,
    "start_time": "2021-12-25T01:32:16.689Z"
   },
   {
    "duration": 7,
    "start_time": "2021-12-25T01:32:16.711Z"
   },
   {
    "duration": 31,
    "start_time": "2021-12-25T01:32:16.742Z"
   },
   {
    "duration": 5,
    "start_time": "2021-12-25T01:32:16.775Z"
   },
   {
    "duration": 10,
    "start_time": "2021-12-25T01:32:16.782Z"
   },
   {
    "duration": 17,
    "start_time": "2021-12-25T01:32:16.793Z"
   },
   {
    "duration": 9,
    "start_time": "2021-12-25T01:32:16.811Z"
   },
   {
    "duration": 24,
    "start_time": "2021-12-25T01:32:16.841Z"
   },
   {
    "duration": 4,
    "start_time": "2021-12-25T01:32:16.867Z"
   },
   {
    "duration": 17,
    "start_time": "2021-12-25T01:32:16.873Z"
   },
   {
    "duration": 7,
    "start_time": "2021-12-25T01:32:16.891Z"
   },
   {
    "duration": 9,
    "start_time": "2021-12-25T01:32:16.900Z"
   },
   {
    "duration": 31,
    "start_time": "2021-12-25T01:32:16.911Z"
   },
   {
    "duration": 25,
    "start_time": "2021-12-25T01:32:16.943Z"
   },
   {
    "duration": 4,
    "start_time": "2021-12-25T01:32:16.970Z"
   },
   {
    "duration": 13,
    "start_time": "2021-12-25T01:32:16.975Z"
   },
   {
    "duration": 11,
    "start_time": "2021-12-25T01:32:16.989Z"
   },
   {
    "duration": 5,
    "start_time": "2021-12-25T01:32:17.003Z"
   },
   {
    "duration": 47,
    "start_time": "2021-12-25T01:32:17.010Z"
   },
   {
    "duration": 29,
    "start_time": "2021-12-25T01:32:17.058Z"
   },
   {
    "duration": 22,
    "start_time": "2021-12-25T01:32:17.089Z"
   },
   {
    "duration": 35,
    "start_time": "2021-12-25T01:32:17.113Z"
   },
   {
    "duration": 31,
    "start_time": "2021-12-25T01:32:17.150Z"
   },
   {
    "duration": 17,
    "start_time": "2021-12-25T01:32:17.183Z"
   },
   {
    "duration": 19,
    "start_time": "2021-12-25T01:32:17.202Z"
   },
   {
    "duration": 21,
    "start_time": "2021-12-25T01:32:17.222Z"
   },
   {
    "duration": 22,
    "start_time": "2021-12-25T01:32:17.253Z"
   },
   {
    "duration": 183,
    "start_time": "2021-12-25T01:32:17.276Z"
   },
   {
    "duration": 178,
    "start_time": "2021-12-25T01:32:17.460Z"
   },
   {
    "duration": 166,
    "start_time": "2021-12-25T01:32:17.639Z"
   },
   {
    "duration": 176,
    "start_time": "2021-12-25T01:32:17.806Z"
   },
   {
    "duration": 2,
    "start_time": "2021-12-25T01:32:17.984Z"
   },
   {
    "duration": 12,
    "start_time": "2021-12-25T01:32:17.987Z"
   },
   {
    "duration": 7,
    "start_time": "2021-12-25T01:32:18.000Z"
   },
   {
    "duration": 10,
    "start_time": "2021-12-25T01:32:18.008Z"
   },
   {
    "duration": 9,
    "start_time": "2021-12-25T01:32:18.019Z"
   },
   {
    "duration": 27,
    "start_time": "2021-12-25T01:32:18.029Z"
   },
   {
    "duration": 4,
    "start_time": "2021-12-25T01:32:51.716Z"
   },
   {
    "duration": 1066,
    "start_time": "2021-12-25T01:37:18.940Z"
   },
   {
    "duration": 407,
    "start_time": "2021-12-25T01:37:20.008Z"
   },
   {
    "duration": 7,
    "start_time": "2021-12-25T01:37:20.417Z"
   },
   {
    "duration": 14,
    "start_time": "2021-12-25T01:37:20.425Z"
   },
   {
    "duration": 15,
    "start_time": "2021-12-25T01:37:20.441Z"
   },
   {
    "duration": 8,
    "start_time": "2021-12-25T01:37:20.457Z"
   },
   {
    "duration": 8,
    "start_time": "2021-12-25T01:37:20.466Z"
   },
   {
    "duration": 9,
    "start_time": "2021-12-25T01:37:20.476Z"
   },
   {
    "duration": 20,
    "start_time": "2021-12-25T01:37:20.487Z"
   },
   {
    "duration": 6,
    "start_time": "2021-12-25T01:37:20.509Z"
   },
   {
    "duration": 44,
    "start_time": "2021-12-25T01:37:20.517Z"
   },
   {
    "duration": 5,
    "start_time": "2021-12-25T01:37:20.562Z"
   },
   {
    "duration": 9,
    "start_time": "2021-12-25T01:37:20.568Z"
   },
   {
    "duration": 17,
    "start_time": "2021-12-25T01:37:20.578Z"
   },
   {
    "duration": 10,
    "start_time": "2021-12-25T01:37:20.596Z"
   },
   {
    "duration": 19,
    "start_time": "2021-12-25T01:37:20.608Z"
   },
   {
    "duration": 4,
    "start_time": "2021-12-25T01:37:20.628Z"
   },
   {
    "duration": 17,
    "start_time": "2021-12-25T01:37:20.649Z"
   },
   {
    "duration": 7,
    "start_time": "2021-12-25T01:37:20.668Z"
   },
   {
    "duration": 11,
    "start_time": "2021-12-25T01:37:20.676Z"
   },
   {
    "duration": 14,
    "start_time": "2021-12-25T01:37:20.688Z"
   },
   {
    "duration": 139,
    "start_time": "2021-12-25T01:37:20.704Z"
   },
   {
    "duration": 65,
    "start_time": "2021-12-25T01:37:20.847Z"
   },
   {
    "duration": 9,
    "start_time": "2021-12-25T01:37:20.915Z"
   },
   {
    "duration": 7,
    "start_time": "2021-12-25T01:37:20.925Z"
   },
   {
    "duration": 7,
    "start_time": "2021-12-25T01:37:20.934Z"
   },
   {
    "duration": 40,
    "start_time": "2021-12-25T01:37:20.942Z"
   },
   {
    "duration": 27,
    "start_time": "2021-12-25T01:37:20.984Z"
   },
   {
    "duration": 22,
    "start_time": "2021-12-25T01:37:21.013Z"
   },
   {
    "duration": 15,
    "start_time": "2021-12-25T01:37:21.036Z"
   },
   {
    "duration": 34,
    "start_time": "2021-12-25T01:37:21.053Z"
   },
   {
    "duration": 16,
    "start_time": "2021-12-25T01:37:21.089Z"
   },
   {
    "duration": 18,
    "start_time": "2021-12-25T01:37:21.106Z"
   },
   {
    "duration": 18,
    "start_time": "2021-12-25T01:37:21.126Z"
   },
   {
    "duration": 17,
    "start_time": "2021-12-25T01:37:21.146Z"
   },
   {
    "duration": 214,
    "start_time": "2021-12-25T01:37:21.164Z"
   },
   {
    "duration": 195,
    "start_time": "2021-12-25T01:37:21.379Z"
   },
   {
    "duration": 168,
    "start_time": "2021-12-25T01:37:21.575Z"
   },
   {
    "duration": 169,
    "start_time": "2021-12-25T01:37:21.747Z"
   },
   {
    "duration": 2,
    "start_time": "2021-12-25T01:37:21.918Z"
   },
   {
    "duration": 26,
    "start_time": "2021-12-25T01:37:21.922Z"
   },
   {
    "duration": 8,
    "start_time": "2021-12-25T01:37:21.950Z"
   },
   {
    "duration": 8,
    "start_time": "2021-12-25T01:37:21.960Z"
   },
   {
    "duration": 12,
    "start_time": "2021-12-25T01:37:21.970Z"
   },
   {
    "duration": 14,
    "start_time": "2021-12-25T01:37:21.984Z"
   },
   {
    "duration": 5,
    "start_time": "2021-12-25T01:37:22.000Z"
   },
   {
    "duration": 6,
    "start_time": "2021-12-25T01:46:58.363Z"
   },
   {
    "duration": 5,
    "start_time": "2021-12-25T01:47:26.667Z"
   },
   {
    "duration": 4,
    "start_time": "2021-12-25T01:47:34.665Z"
   },
   {
    "duration": 3,
    "start_time": "2021-12-25T01:47:42.565Z"
   },
   {
    "duration": 93,
    "start_time": "2021-12-25T01:50:50.043Z"
   },
   {
    "duration": 6804,
    "start_time": "2021-12-25T01:50:54.130Z"
   },
   {
    "duration": 160,
    "start_time": "2021-12-25T01:52:10.134Z"
   },
   {
    "duration": 139,
    "start_time": "2021-12-25T01:52:20.654Z"
   },
   {
    "duration": 160,
    "start_time": "2021-12-25T01:52:34.319Z"
   },
   {
    "duration": 162,
    "start_time": "2021-12-25T01:52:42.094Z"
   },
   {
    "duration": 137,
    "start_time": "2021-12-25T01:52:51.509Z"
   },
   {
    "duration": 247,
    "start_time": "2021-12-25T01:53:06.856Z"
   },
   {
    "duration": 211,
    "start_time": "2021-12-25T01:53:17.519Z"
   },
   {
    "duration": 275,
    "start_time": "2021-12-25T01:53:42.518Z"
   },
   {
    "duration": 78,
    "start_time": "2021-12-25T01:54:14.554Z"
   },
   {
    "duration": 13,
    "start_time": "2021-12-25T01:54:17.936Z"
   },
   {
    "duration": 83,
    "start_time": "2021-12-25T01:55:03.332Z"
   },
   {
    "duration": 8,
    "start_time": "2021-12-25T01:55:57.633Z"
   },
   {
    "duration": 105,
    "start_time": "2021-12-25T01:56:13.239Z"
   },
   {
    "duration": 397,
    "start_time": "2021-12-25T01:56:22.633Z"
   },
   {
    "duration": 9,
    "start_time": "2021-12-25T01:56:53.988Z"
   },
   {
    "duration": 11,
    "start_time": "2021-12-25T01:57:02.134Z"
   },
   {
    "duration": 18,
    "start_time": "2021-12-25T01:57:10.559Z"
   },
   {
    "duration": 17,
    "start_time": "2021-12-25T01:57:48.559Z"
   },
   {
    "duration": 1396,
    "start_time": "2021-12-27T13:09:22.945Z"
   },
   {
    "duration": 533,
    "start_time": "2021-12-27T13:09:24.344Z"
   },
   {
    "duration": 10,
    "start_time": "2021-12-27T13:09:24.880Z"
   },
   {
    "duration": 25,
    "start_time": "2021-12-27T13:09:24.893Z"
   },
   {
    "duration": 8,
    "start_time": "2021-12-27T13:09:24.920Z"
   },
   {
    "duration": 8,
    "start_time": "2021-12-27T13:09:24.930Z"
   },
   {
    "duration": 9,
    "start_time": "2021-12-27T13:09:24.961Z"
   },
   {
    "duration": 7,
    "start_time": "2021-12-27T13:09:24.972Z"
   },
   {
    "duration": 33,
    "start_time": "2021-12-27T13:09:24.983Z"
   },
   {
    "duration": 43,
    "start_time": "2021-12-27T13:09:25.019Z"
   },
   {
    "duration": 44,
    "start_time": "2021-12-27T13:09:25.065Z"
   },
   {
    "duration": 7,
    "start_time": "2021-12-27T13:09:25.112Z"
   },
   {
    "duration": 7,
    "start_time": "2021-12-27T13:09:25.121Z"
   },
   {
    "duration": 48,
    "start_time": "2021-12-27T13:09:25.131Z"
   },
   {
    "duration": 10,
    "start_time": "2021-12-27T13:09:25.181Z"
   },
   {
    "duration": 25,
    "start_time": "2021-12-27T13:09:25.193Z"
   },
   {
    "duration": 6,
    "start_time": "2021-12-27T13:09:25.220Z"
   },
   {
    "duration": 24,
    "start_time": "2021-12-27T13:09:25.263Z"
   },
   {
    "duration": 11,
    "start_time": "2021-12-27T13:09:25.289Z"
   },
   {
    "duration": 12,
    "start_time": "2021-12-27T13:09:25.303Z"
   },
   {
    "duration": 52,
    "start_time": "2021-12-27T13:09:25.317Z"
   },
   {
    "duration": 34,
    "start_time": "2021-12-27T13:09:25.372Z"
   },
   {
    "duration": 7,
    "start_time": "2021-12-27T13:09:25.408Z"
   },
   {
    "duration": 8,
    "start_time": "2021-12-27T13:09:25.417Z"
   },
   {
    "duration": 42,
    "start_time": "2021-12-27T13:09:25.427Z"
   },
   {
    "duration": 7,
    "start_time": "2021-12-27T13:09:25.471Z"
   },
   {
    "duration": 35,
    "start_time": "2021-12-27T13:09:25.484Z"
   },
   {
    "duration": 68,
    "start_time": "2021-12-27T13:09:25.522Z"
   },
   {
    "duration": 34,
    "start_time": "2021-12-27T13:09:25.592Z"
   },
   {
    "duration": 50,
    "start_time": "2021-12-27T13:09:25.628Z"
   },
   {
    "duration": 33,
    "start_time": "2021-12-27T13:09:25.680Z"
   },
   {
    "duration": 23,
    "start_time": "2021-12-27T13:09:25.716Z"
   },
   {
    "duration": 26,
    "start_time": "2021-12-27T13:09:25.762Z"
   },
   {
    "duration": 4,
    "start_time": "2021-12-27T13:09:25.790Z"
   },
   {
    "duration": 25,
    "start_time": "2021-12-27T13:09:25.796Z"
   },
   {
    "duration": 339,
    "start_time": "2021-12-27T13:09:25.823Z"
   },
   {
    "duration": 303,
    "start_time": "2021-12-27T13:09:26.165Z"
   },
   {
    "duration": 302,
    "start_time": "2021-12-27T13:09:26.471Z"
   },
   {
    "duration": 298,
    "start_time": "2021-12-27T13:09:26.775Z"
   },
   {
    "duration": 3,
    "start_time": "2021-12-27T13:09:27.076Z"
   },
   {
    "duration": 11,
    "start_time": "2021-12-27T13:09:27.082Z"
   },
   {
    "duration": 11,
    "start_time": "2021-12-27T13:09:27.095Z"
   },
   {
    "duration": 9,
    "start_time": "2021-12-27T13:09:27.108Z"
   },
   {
    "duration": 47,
    "start_time": "2021-12-27T13:09:27.120Z"
   },
   {
    "duration": 23,
    "start_time": "2021-12-27T13:09:27.170Z"
   },
   {
    "duration": 5,
    "start_time": "2021-12-27T13:09:27.195Z"
   },
   {
    "duration": 8,
    "start_time": "2021-12-27T13:09:27.202Z"
   },
   {
    "duration": 64,
    "start_time": "2021-12-27T13:09:27.212Z"
   },
   {
    "duration": 26,
    "start_time": "2021-12-27T13:09:27.279Z"
   },
   {
    "duration": 19,
    "start_time": "2021-12-27T13:10:02.102Z"
   },
   {
    "duration": 1448,
    "start_time": "2021-12-27T13:11:50.879Z"
   },
   {
    "duration": 533,
    "start_time": "2021-12-27T13:11:52.330Z"
   },
   {
    "duration": 10,
    "start_time": "2021-12-27T13:11:52.866Z"
   },
   {
    "duration": 20,
    "start_time": "2021-12-27T13:11:52.879Z"
   },
   {
    "duration": 7,
    "start_time": "2021-12-27T13:11:52.902Z"
   },
   {
    "duration": 7,
    "start_time": "2021-12-27T13:11:52.912Z"
   },
   {
    "duration": 45,
    "start_time": "2021-12-27T13:11:52.921Z"
   },
   {
    "duration": 7,
    "start_time": "2021-12-27T13:11:52.969Z"
   },
   {
    "duration": 28,
    "start_time": "2021-12-27T13:11:52.982Z"
   },
   {
    "duration": 49,
    "start_time": "2021-12-27T13:11:53.014Z"
   },
   {
    "duration": 46,
    "start_time": "2021-12-27T13:11:53.066Z"
   },
   {
    "duration": 6,
    "start_time": "2021-12-27T13:11:53.115Z"
   },
   {
    "duration": 7,
    "start_time": "2021-12-27T13:11:53.123Z"
   },
   {
    "duration": 20,
    "start_time": "2021-12-27T13:11:53.163Z"
   },
   {
    "duration": 10,
    "start_time": "2021-12-27T13:11:53.185Z"
   },
   {
    "duration": 25,
    "start_time": "2021-12-27T13:11:53.198Z"
   },
   {
    "duration": 41,
    "start_time": "2021-12-27T13:11:53.225Z"
   },
   {
    "duration": 24,
    "start_time": "2021-12-27T13:11:53.269Z"
   },
   {
    "duration": 12,
    "start_time": "2021-12-27T13:11:53.295Z"
   },
   {
    "duration": 10,
    "start_time": "2021-12-27T13:11:53.309Z"
   },
   {
    "duration": 55,
    "start_time": "2021-12-27T13:11:53.321Z"
   },
   {
    "duration": 87,
    "start_time": "2021-12-27T13:11:53.379Z"
   },
   {
    "duration": 6,
    "start_time": "2021-12-27T13:11:53.469Z"
   },
   {
    "duration": 9,
    "start_time": "2021-12-27T13:11:53.477Z"
   },
   {
    "duration": 12,
    "start_time": "2021-12-27T13:11:53.488Z"
   },
   {
    "duration": 6,
    "start_time": "2021-12-27T13:11:53.503Z"
   },
   {
    "duration": 35,
    "start_time": "2021-12-27T13:11:53.514Z"
   },
   {
    "duration": 40,
    "start_time": "2021-12-27T13:11:53.564Z"
   },
   {
    "duration": 32,
    "start_time": "2021-12-27T13:11:53.606Z"
   },
   {
    "duration": 29,
    "start_time": "2021-12-27T13:11:53.640Z"
   },
   {
    "duration": 33,
    "start_time": "2021-12-27T13:11:53.671Z"
   },
   {
    "duration": 23,
    "start_time": "2021-12-27T13:11:53.707Z"
   },
   {
    "duration": 35,
    "start_time": "2021-12-27T13:11:53.732Z"
   },
   {
    "duration": 3,
    "start_time": "2021-12-27T13:11:53.769Z"
   },
   {
    "duration": 19,
    "start_time": "2021-12-27T13:11:53.774Z"
   },
   {
    "duration": 324,
    "start_time": "2021-12-27T13:11:53.795Z"
   },
   {
    "duration": 459,
    "start_time": "2021-12-27T13:11:54.122Z"
   },
   {
    "duration": 557,
    "start_time": "2021-12-27T13:11:54.583Z"
   },
   {
    "duration": 341,
    "start_time": "2021-12-27T13:11:55.143Z"
   },
   {
    "duration": 54,
    "start_time": "2021-12-27T13:11:55.486Z"
   },
   {
    "duration": 22,
    "start_time": "2021-12-27T13:11:55.542Z"
   },
   {
    "duration": 9,
    "start_time": "2021-12-27T13:11:55.566Z"
   },
   {
    "duration": 31,
    "start_time": "2021-12-27T13:11:55.577Z"
   },
   {
    "duration": 65,
    "start_time": "2021-12-27T13:11:55.611Z"
   },
   {
    "duration": 1413,
    "start_time": "2021-12-27T13:12:21.519Z"
   },
   {
    "duration": 552,
    "start_time": "2021-12-27T13:12:22.934Z"
   },
   {
    "duration": 10,
    "start_time": "2021-12-27T13:12:23.489Z"
   },
   {
    "duration": 21,
    "start_time": "2021-12-27T13:12:23.502Z"
   },
   {
    "duration": 8,
    "start_time": "2021-12-27T13:12:23.525Z"
   },
   {
    "duration": 30,
    "start_time": "2021-12-27T13:12:23.535Z"
   },
   {
    "duration": 10,
    "start_time": "2021-12-27T13:12:23.567Z"
   },
   {
    "duration": 8,
    "start_time": "2021-12-27T13:12:23.579Z"
   },
   {
    "duration": 27,
    "start_time": "2021-12-27T13:12:23.591Z"
   },
   {
    "duration": 44,
    "start_time": "2021-12-27T13:12:23.621Z"
   },
   {
    "duration": 43,
    "start_time": "2021-12-27T13:12:23.668Z"
   },
   {
    "duration": 7,
    "start_time": "2021-12-27T13:12:23.713Z"
   },
   {
    "duration": 45,
    "start_time": "2021-12-27T13:12:23.723Z"
   },
   {
    "duration": 20,
    "start_time": "2021-12-27T13:12:23.771Z"
   },
   {
    "duration": 9,
    "start_time": "2021-12-27T13:12:23.794Z"
   },
   {
    "duration": 27,
    "start_time": "2021-12-27T13:12:23.806Z"
   },
   {
    "duration": 6,
    "start_time": "2021-12-27T13:12:23.864Z"
   },
   {
    "duration": 24,
    "start_time": "2021-12-27T13:12:23.872Z"
   },
   {
    "duration": 11,
    "start_time": "2021-12-27T13:12:23.899Z"
   },
   {
    "duration": 11,
    "start_time": "2021-12-27T13:12:23.912Z"
   },
   {
    "duration": 53,
    "start_time": "2021-12-27T13:12:23.925Z"
   },
   {
    "duration": 36,
    "start_time": "2021-12-27T13:12:23.980Z"
   },
   {
    "duration": 7,
    "start_time": "2021-12-27T13:12:24.019Z"
   },
   {
    "duration": 9,
    "start_time": "2021-12-27T13:12:24.064Z"
   },
   {
    "duration": 15,
    "start_time": "2021-12-27T13:12:24.076Z"
   },
   {
    "duration": 10,
    "start_time": "2021-12-27T13:12:24.093Z"
   },
   {
    "duration": 87,
    "start_time": "2021-12-27T13:12:24.110Z"
   },
   {
    "duration": 40,
    "start_time": "2021-12-27T13:12:24.201Z"
   },
   {
    "duration": 53,
    "start_time": "2021-12-27T13:12:24.243Z"
   },
   {
    "duration": 22,
    "start_time": "2021-12-27T13:12:24.298Z"
   },
   {
    "duration": 67,
    "start_time": "2021-12-27T13:12:24.323Z"
   },
   {
    "duration": 25,
    "start_time": "2021-12-27T13:12:24.392Z"
   },
   {
    "duration": 49,
    "start_time": "2021-12-27T13:12:24.420Z"
   },
   {
    "duration": 4,
    "start_time": "2021-12-27T13:12:24.471Z"
   },
   {
    "duration": 20,
    "start_time": "2021-12-27T13:12:24.478Z"
   },
   {
    "duration": 442,
    "start_time": "2021-12-27T13:12:24.501Z"
   },
   {
    "duration": 296,
    "start_time": "2021-12-27T13:12:24.946Z"
   },
   {
    "duration": 282,
    "start_time": "2021-12-27T13:12:25.245Z"
   },
   {
    "duration": 276,
    "start_time": "2021-12-27T13:12:25.530Z"
   },
   {
    "duration": 56,
    "start_time": "2021-12-27T13:12:25.808Z"
   },
   {
    "duration": 5,
    "start_time": "2021-12-27T13:12:25.867Z"
   },
   {
    "duration": 9,
    "start_time": "2021-12-27T13:12:25.874Z"
   },
   {
    "duration": 30,
    "start_time": "2021-12-27T13:12:25.886Z"
   },
   {
    "duration": 59,
    "start_time": "2021-12-27T13:12:25.919Z"
   },
   {
    "duration": 20,
    "start_time": "2021-12-27T13:16:35.939Z"
   },
   {
    "duration": 5,
    "start_time": "2021-12-27T13:21:08.645Z"
   },
   {
    "duration": 131,
    "start_time": "2021-12-27T13:22:02.932Z"
   },
   {
    "duration": 18,
    "start_time": "2021-12-27T13:22:04.973Z"
   },
   {
    "duration": 43,
    "start_time": "2021-12-27T13:22:21.279Z"
   },
   {
    "duration": 5,
    "start_time": "2021-12-27T13:22:44.573Z"
   },
   {
    "duration": 45,
    "start_time": "2021-12-27T13:22:45.952Z"
   },
   {
    "duration": 5,
    "start_time": "2021-12-27T13:23:32.903Z"
   },
   {
    "duration": 43,
    "start_time": "2021-12-27T13:23:34.373Z"
   },
   {
    "duration": 18,
    "start_time": "2021-12-27T13:23:38.313Z"
   },
   {
    "duration": 1469,
    "start_time": "2021-12-27T13:23:45.809Z"
   },
   {
    "duration": 657,
    "start_time": "2021-12-27T13:23:47.282Z"
   },
   {
    "duration": 9,
    "start_time": "2021-12-27T13:23:47.942Z"
   },
   {
    "duration": 26,
    "start_time": "2021-12-27T13:23:47.954Z"
   },
   {
    "duration": 7,
    "start_time": "2021-12-27T13:23:47.982Z"
   },
   {
    "duration": 6,
    "start_time": "2021-12-27T13:23:47.991Z"
   },
   {
    "duration": 9,
    "start_time": "2021-12-27T13:23:47.999Z"
   },
   {
    "duration": 7,
    "start_time": "2021-12-27T13:23:48.011Z"
   },
   {
    "duration": 30,
    "start_time": "2021-12-27T13:23:48.062Z"
   },
   {
    "duration": 11,
    "start_time": "2021-12-27T13:23:48.094Z"
   },
   {
    "duration": 75,
    "start_time": "2021-12-27T13:23:48.107Z"
   },
   {
    "duration": 7,
    "start_time": "2021-12-27T13:23:48.185Z"
   },
   {
    "duration": 9,
    "start_time": "2021-12-27T13:23:48.194Z"
   },
   {
    "duration": 19,
    "start_time": "2021-12-27T13:23:48.205Z"
   },
   {
    "duration": 39,
    "start_time": "2021-12-27T13:23:48.227Z"
   },
   {
    "duration": 25,
    "start_time": "2021-12-27T13:23:48.269Z"
   },
   {
    "duration": 5,
    "start_time": "2021-12-27T13:23:48.296Z"
   },
   {
    "duration": 23,
    "start_time": "2021-12-27T13:23:48.303Z"
   },
   {
    "duration": 12,
    "start_time": "2021-12-27T13:23:48.362Z"
   },
   {
    "duration": 13,
    "start_time": "2021-12-27T13:23:48.376Z"
   },
   {
    "duration": 17,
    "start_time": "2021-12-27T13:23:48.392Z"
   },
   {
    "duration": 71,
    "start_time": "2021-12-27T13:23:48.412Z"
   },
   {
    "duration": 6,
    "start_time": "2021-12-27T13:23:48.488Z"
   },
   {
    "duration": 8,
    "start_time": "2021-12-27T13:23:48.497Z"
   },
   {
    "duration": 12,
    "start_time": "2021-12-27T13:23:48.507Z"
   },
   {
    "duration": 7,
    "start_time": "2021-12-27T13:23:48.521Z"
   },
   {
    "duration": 45,
    "start_time": "2021-12-27T13:23:48.563Z"
   },
   {
    "duration": 80,
    "start_time": "2021-12-27T13:23:48.611Z"
   },
   {
    "duration": 39,
    "start_time": "2021-12-27T13:23:48.694Z"
   },
   {
    "duration": 45,
    "start_time": "2021-12-27T13:23:48.736Z"
   },
   {
    "duration": 50,
    "start_time": "2021-12-27T13:23:48.784Z"
   },
   {
    "duration": 44,
    "start_time": "2021-12-27T13:23:48.836Z"
   },
   {
    "duration": 30,
    "start_time": "2021-12-27T13:23:48.883Z"
   },
   {
    "duration": 4,
    "start_time": "2021-12-27T13:23:48.916Z"
   },
   {
    "duration": 54,
    "start_time": "2021-12-27T13:23:48.922Z"
   },
   {
    "duration": 364,
    "start_time": "2021-12-27T13:23:48.979Z"
   },
   {
    "duration": 333,
    "start_time": "2021-12-27T13:23:49.346Z"
   },
   {
    "duration": 279,
    "start_time": "2021-12-27T13:23:49.683Z"
   },
   {
    "duration": 284,
    "start_time": "2021-12-27T13:23:49.965Z"
   },
   {
    "duration": 50,
    "start_time": "2021-12-27T13:23:50.252Z"
   },
   {
    "duration": 6,
    "start_time": "2021-12-27T13:23:50.305Z"
   },
   {
    "duration": 13,
    "start_time": "2021-12-27T13:23:50.313Z"
   },
   {
    "duration": 34,
    "start_time": "2021-12-27T13:23:50.329Z"
   },
   {
    "duration": 62,
    "start_time": "2021-12-27T13:23:50.366Z"
   },
   {
    "duration": 18,
    "start_time": "2021-12-27T13:23:50.430Z"
   },
   {
    "duration": 1345,
    "start_time": "2021-12-27T13:25:02.774Z"
   },
   {
    "duration": 634,
    "start_time": "2021-12-27T13:25:04.121Z"
   },
   {
    "duration": 10,
    "start_time": "2021-12-27T13:25:04.758Z"
   },
   {
    "duration": 23,
    "start_time": "2021-12-27T13:25:04.771Z"
   },
   {
    "duration": 8,
    "start_time": "2021-12-27T13:25:04.797Z"
   },
   {
    "duration": 6,
    "start_time": "2021-12-27T13:25:04.808Z"
   },
   {
    "duration": 48,
    "start_time": "2021-12-27T13:25:04.818Z"
   },
   {
    "duration": 9,
    "start_time": "2021-12-27T13:25:04.869Z"
   },
   {
    "duration": 31,
    "start_time": "2021-12-27T13:25:04.882Z"
   },
   {
    "duration": 10,
    "start_time": "2021-12-27T13:25:04.916Z"
   },
   {
    "duration": 45,
    "start_time": "2021-12-27T13:25:04.963Z"
   },
   {
    "duration": 7,
    "start_time": "2021-12-27T13:25:05.010Z"
   },
   {
    "duration": 9,
    "start_time": "2021-12-27T13:25:05.019Z"
   },
   {
    "duration": 49,
    "start_time": "2021-12-27T13:25:05.031Z"
   },
   {
    "duration": 10,
    "start_time": "2021-12-27T13:25:05.084Z"
   },
   {
    "duration": 25,
    "start_time": "2021-12-27T13:25:05.097Z"
   },
   {
    "duration": 40,
    "start_time": "2021-12-27T13:25:05.124Z"
   },
   {
    "duration": 23,
    "start_time": "2021-12-27T13:25:05.167Z"
   },
   {
    "duration": 11,
    "start_time": "2021-12-27T13:25:05.192Z"
   },
   {
    "duration": 11,
    "start_time": "2021-12-27T13:25:05.206Z"
   },
   {
    "duration": 54,
    "start_time": "2021-12-27T13:25:05.219Z"
   },
   {
    "duration": 33,
    "start_time": "2021-12-27T13:25:05.276Z"
   },
   {
    "duration": 6,
    "start_time": "2021-12-27T13:25:05.312Z"
   },
   {
    "duration": 10,
    "start_time": "2021-12-27T13:25:05.320Z"
   },
   {
    "duration": 12,
    "start_time": "2021-12-27T13:25:05.364Z"
   },
   {
    "duration": 13,
    "start_time": "2021-12-27T13:25:05.379Z"
   },
   {
    "duration": 70,
    "start_time": "2021-12-27T13:25:05.399Z"
   },
   {
    "duration": 45,
    "start_time": "2021-12-27T13:25:05.472Z"
   },
   {
    "duration": 63,
    "start_time": "2021-12-27T13:25:05.520Z"
   },
   {
    "duration": 22,
    "start_time": "2021-12-27T13:25:05.586Z"
   },
   {
    "duration": 56,
    "start_time": "2021-12-27T13:25:05.611Z"
   },
   {
    "duration": 26,
    "start_time": "2021-12-27T13:25:05.670Z"
   },
   {
    "duration": 27,
    "start_time": "2021-12-27T13:25:05.699Z"
   },
   {
    "duration": 35,
    "start_time": "2021-12-27T13:25:05.728Z"
   },
   {
    "duration": 25,
    "start_time": "2021-12-27T13:25:05.765Z"
   },
   {
    "duration": 306,
    "start_time": "2021-12-27T13:25:05.792Z"
   },
   {
    "duration": 289,
    "start_time": "2021-12-27T13:25:06.101Z"
   },
   {
    "duration": 309,
    "start_time": "2021-12-27T13:25:06.392Z"
   },
   {
    "duration": 316,
    "start_time": "2021-12-27T13:25:06.703Z"
   },
   {
    "duration": 57,
    "start_time": "2021-12-27T13:25:07.021Z"
   },
   {
    "duration": 5,
    "start_time": "2021-12-27T13:25:07.081Z"
   },
   {
    "duration": 9,
    "start_time": "2021-12-27T13:25:07.089Z"
   },
   {
    "duration": 5,
    "start_time": "2021-12-27T13:25:07.100Z"
   },
   {
    "duration": 82,
    "start_time": "2021-12-27T13:25:07.108Z"
   },
   {
    "duration": 20,
    "start_time": "2021-12-27T13:25:07.192Z"
   },
   {
    "duration": 7,
    "start_time": "2021-12-27T13:30:07.139Z"
   },
   {
    "duration": 132,
    "start_time": "2021-12-27T13:30:18.566Z"
   },
   {
    "duration": 19,
    "start_time": "2021-12-27T13:30:29.056Z"
   },
   {
    "duration": 22,
    "start_time": "2021-12-27T13:30:39.165Z"
   },
   {
    "duration": 37,
    "start_time": "2021-12-27T13:30:49.013Z"
   },
   {
    "duration": 8,
    "start_time": "2021-12-27T13:33:56.946Z"
   },
   {
    "duration": 129,
    "start_time": "2021-12-27T13:33:58.525Z"
   },
   {
    "duration": 30,
    "start_time": "2021-12-27T13:33:59.576Z"
   },
   {
    "duration": 8,
    "start_time": "2021-12-27T13:34:32.114Z"
   },
   {
    "duration": 124,
    "start_time": "2021-12-27T13:34:32.701Z"
   },
   {
    "duration": 29,
    "start_time": "2021-12-27T13:34:33.453Z"
   },
   {
    "duration": 8,
    "start_time": "2021-12-27T13:35:23.434Z"
   },
   {
    "duration": 127,
    "start_time": "2021-12-27T13:35:23.862Z"
   },
   {
    "duration": 29,
    "start_time": "2021-12-27T13:35:24.213Z"
   },
   {
    "duration": 8,
    "start_time": "2021-12-27T13:36:54.433Z"
   },
   {
    "duration": 192,
    "start_time": "2021-12-27T13:36:54.912Z"
   },
   {
    "duration": 30,
    "start_time": "2021-12-27T13:36:55.458Z"
   },
   {
    "duration": 19,
    "start_time": "2021-12-27T13:37:30.990Z"
   },
   {
    "duration": 1588,
    "start_time": "2021-12-27T13:41:55.882Z"
   },
   {
    "duration": 592,
    "start_time": "2021-12-27T13:41:57.474Z"
   },
   {
    "duration": 13,
    "start_time": "2021-12-27T13:41:58.071Z"
   },
   {
    "duration": 26,
    "start_time": "2021-12-27T13:41:58.088Z"
   },
   {
    "duration": 7,
    "start_time": "2021-12-27T13:41:58.117Z"
   },
   {
    "duration": 49,
    "start_time": "2021-12-27T13:41:58.127Z"
   },
   {
    "duration": 10,
    "start_time": "2021-12-27T13:41:58.180Z"
   },
   {
    "duration": 8,
    "start_time": "2021-12-27T13:41:58.193Z"
   },
   {
    "duration": 72,
    "start_time": "2021-12-27T13:41:58.206Z"
   },
   {
    "duration": 14,
    "start_time": "2021-12-27T13:41:58.282Z"
   },
   {
    "duration": 76,
    "start_time": "2021-12-27T13:41:58.299Z"
   },
   {
    "duration": 8,
    "start_time": "2021-12-27T13:41:58.379Z"
   },
   {
    "duration": 7,
    "start_time": "2021-12-27T13:41:58.390Z"
   },
   {
    "duration": 19,
    "start_time": "2021-12-27T13:41:58.400Z"
   },
   {
    "duration": 44,
    "start_time": "2021-12-27T13:41:58.421Z"
   },
   {
    "duration": 41,
    "start_time": "2021-12-27T13:41:58.469Z"
   },
   {
    "duration": 8,
    "start_time": "2021-12-27T13:41:58.513Z"
   },
   {
    "duration": 71,
    "start_time": "2021-12-27T13:41:58.524Z"
   },
   {
    "duration": 13,
    "start_time": "2021-12-27T13:41:58.597Z"
   },
   {
    "duration": 13,
    "start_time": "2021-12-27T13:41:58.613Z"
   },
   {
    "duration": 51,
    "start_time": "2021-12-27T13:41:58.629Z"
   },
   {
    "duration": 35,
    "start_time": "2021-12-27T13:41:58.683Z"
   },
   {
    "duration": 7,
    "start_time": "2021-12-27T13:41:58.720Z"
   },
   {
    "duration": 11,
    "start_time": "2021-12-27T13:41:58.765Z"
   },
   {
    "duration": 13,
    "start_time": "2021-12-27T13:41:58.779Z"
   },
   {
    "duration": 7,
    "start_time": "2021-12-27T13:41:58.796Z"
   },
   {
    "duration": 82,
    "start_time": "2021-12-27T13:41:58.809Z"
   },
   {
    "duration": 42,
    "start_time": "2021-12-27T13:41:58.894Z"
   },
   {
    "duration": 65,
    "start_time": "2021-12-27T13:41:58.939Z"
   },
   {
    "duration": 22,
    "start_time": "2021-12-27T13:41:59.006Z"
   },
   {
    "duration": 65,
    "start_time": "2021-12-27T13:41:59.031Z"
   },
   {
    "duration": 25,
    "start_time": "2021-12-27T13:41:59.098Z"
   },
   {
    "duration": 46,
    "start_time": "2021-12-27T13:41:59.126Z"
   },
   {
    "duration": 4,
    "start_time": "2021-12-27T13:41:59.176Z"
   },
   {
    "duration": 19,
    "start_time": "2021-12-27T13:41:59.184Z"
   },
   {
    "duration": 400,
    "start_time": "2021-12-27T13:41:59.206Z"
   },
   {
    "duration": 416,
    "start_time": "2021-12-27T13:41:59.609Z"
   },
   {
    "duration": 308,
    "start_time": "2021-12-27T13:42:00.028Z"
   },
   {
    "duration": 420,
    "start_time": "2021-12-27T13:42:00.338Z"
   },
   {
    "duration": 50,
    "start_time": "2021-12-27T13:42:00.764Z"
   },
   {
    "duration": 5,
    "start_time": "2021-12-27T13:42:00.816Z"
   },
   {
    "duration": 47,
    "start_time": "2021-12-27T13:42:00.823Z"
   },
   {
    "duration": 222,
    "start_time": "2021-12-27T13:42:00.874Z"
   },
   {
    "duration": 18,
    "start_time": "2021-12-27T13:42:01.098Z"
   },
   {
    "duration": 1374,
    "start_time": "2021-12-28T14:09:11.497Z"
   },
   {
    "duration": 539,
    "start_time": "2021-12-28T14:09:12.874Z"
   },
   {
    "duration": 11,
    "start_time": "2021-12-28T14:09:14.348Z"
   },
   {
    "duration": 23,
    "start_time": "2021-12-28T14:09:14.858Z"
   },
   {
    "duration": 8,
    "start_time": "2021-12-28T14:09:17.163Z"
   },
   {
    "duration": 7,
    "start_time": "2021-12-28T14:09:17.468Z"
   },
   {
    "duration": 10,
    "start_time": "2021-12-28T14:09:20.478Z"
   },
   {
    "duration": 7,
    "start_time": "2021-12-28T14:09:21.238Z"
   },
   {
    "duration": 593,
    "start_time": "2021-12-28T14:10:07.448Z"
   },
   {
    "duration": 5,
    "start_time": "2021-12-28T14:10:11.437Z"
   },
   {
    "duration": 552,
    "start_time": "2021-12-28T14:10:11.648Z"
   },
   {
    "duration": 13,
    "start_time": "2021-12-28T14:10:12.768Z"
   },
   {
    "duration": 18,
    "start_time": "2021-12-28T14:10:23.395Z"
   },
   {
    "duration": 1573,
    "start_time": "2021-12-28T14:10:55.931Z"
   },
   {
    "duration": 563,
    "start_time": "2021-12-28T14:10:57.508Z"
   },
   {
    "duration": 14,
    "start_time": "2021-12-28T14:10:58.076Z"
   },
   {
    "duration": 21,
    "start_time": "2021-12-28T14:10:58.231Z"
   },
   {
    "duration": 11,
    "start_time": "2021-12-28T14:11:00.977Z"
   },
   {
    "duration": 8,
    "start_time": "2021-12-28T14:11:01.151Z"
   },
   {
    "duration": 730,
    "start_time": "2021-12-28T14:11:02.860Z"
   },
   {
    "duration": -201,
    "start_time": "2021-12-28T14:11:03.794Z"
   },
   {
    "duration": 9,
    "start_time": "2021-12-28T14:11:13.051Z"
   },
   {
    "duration": 7,
    "start_time": "2021-12-28T14:11:15.150Z"
   },
   {
    "duration": 31,
    "start_time": "2021-12-28T14:11:20.039Z"
   },
   {
    "duration": 14,
    "start_time": "2021-12-28T14:11:20.571Z"
   },
   {
    "duration": 43,
    "start_time": "2021-12-28T14:11:23.682Z"
   },
   {
    "duration": 6,
    "start_time": "2021-12-28T14:11:25.671Z"
   },
   {
    "duration": 8,
    "start_time": "2021-12-28T14:11:29.120Z"
   },
   {
    "duration": 20,
    "start_time": "2021-12-28T14:11:37.740Z"
   },
   {
    "duration": 11,
    "start_time": "2021-12-28T14:11:39.638Z"
   },
   {
    "duration": 43,
    "start_time": "2021-12-28T14:11:41.391Z"
   },
   {
    "duration": 8,
    "start_time": "2021-12-28T14:11:43.291Z"
   },
   {
    "duration": 24,
    "start_time": "2021-12-28T14:11:50.851Z"
   },
   {
    "duration": 11,
    "start_time": "2021-12-28T14:11:51.360Z"
   },
   {
    "duration": 6,
    "start_time": "2021-12-28T14:12:19.280Z"
   },
   {
    "duration": 12,
    "start_time": "2021-12-28T14:12:31.752Z"
   },
   {
    "duration": 18,
    "start_time": "2021-12-28T14:12:35.042Z"
   },
   {
    "duration": 35,
    "start_time": "2021-12-28T14:12:36.198Z"
   },
   {
    "duration": 7,
    "start_time": "2021-12-28T14:12:45.859Z"
   },
   {
    "duration": 15,
    "start_time": "2021-12-28T14:12:46.099Z"
   },
   {
    "duration": 14,
    "start_time": "2021-12-28T14:12:49.525Z"
   },
   {
    "duration": 6,
    "start_time": "2021-12-28T14:12:52.523Z"
   },
   {
    "duration": 37,
    "start_time": "2021-12-28T14:12:59.089Z"
   },
   {
    "duration": 1430,
    "start_time": "2021-12-28T14:15:03.892Z"
   },
   {
    "duration": 554,
    "start_time": "2021-12-28T14:15:05.325Z"
   },
   {
    "duration": 10,
    "start_time": "2021-12-28T14:15:05.882Z"
   },
   {
    "duration": 28,
    "start_time": "2021-12-28T14:15:05.894Z"
   },
   {
    "duration": 8,
    "start_time": "2021-12-28T14:15:05.924Z"
   },
   {
    "duration": 25,
    "start_time": "2021-12-28T14:15:05.935Z"
   },
   {
    "duration": 12,
    "start_time": "2021-12-28T14:15:05.962Z"
   },
   {
    "duration": 8,
    "start_time": "2021-12-28T14:15:05.978Z"
   },
   {
    "duration": 29,
    "start_time": "2021-12-28T14:15:10.477Z"
   },
   {
    "duration": 11,
    "start_time": "2021-12-28T14:15:11.955Z"
   },
   {
    "duration": 44,
    "start_time": "2021-12-28T14:15:12.297Z"
   },
   {
    "duration": 7,
    "start_time": "2021-12-28T14:15:12.717Z"
   },
   {
    "duration": 8,
    "start_time": "2021-12-28T14:15:12.995Z"
   },
   {
    "duration": 20,
    "start_time": "2021-12-28T14:15:23.427Z"
   },
   {
    "duration": 14,
    "start_time": "2021-12-28T14:15:23.955Z"
   },
   {
    "duration": 31,
    "start_time": "2021-12-28T14:15:24.847Z"
   },
   {
    "duration": 6,
    "start_time": "2021-12-28T14:15:26.807Z"
   },
   {
    "duration": 23,
    "start_time": "2021-12-28T14:15:42.618Z"
   },
   {
    "duration": 12,
    "start_time": "2021-12-28T14:15:43.387Z"
   },
   {
    "duration": 12,
    "start_time": "2021-12-28T14:15:46.247Z"
   },
   {
    "duration": 22,
    "start_time": "2021-12-28T14:15:50.048Z"
   },
   {
    "duration": 39,
    "start_time": "2021-12-28T14:15:53.898Z"
   },
   {
    "duration": 7,
    "start_time": "2021-12-28T14:15:54.355Z"
   },
   {
    "duration": 10,
    "start_time": "2021-12-28T14:15:56.168Z"
   },
   {
    "duration": 12,
    "start_time": "2021-12-28T14:15:57.007Z"
   },
   {
    "duration": 6,
    "start_time": "2021-12-28T14:15:58.948Z"
   },
   {
    "duration": 7,
    "start_time": "2021-12-28T14:16:11.948Z"
   },
   {
    "duration": 36,
    "start_time": "2021-12-28T14:16:36.868Z"
   },
   {
    "duration": 48,
    "start_time": "2021-12-28T14:16:38.318Z"
   },
   {
    "duration": 22,
    "start_time": "2021-12-28T14:22:05.787Z"
   },
   {
    "duration": 33,
    "start_time": "2021-12-28T14:23:15.638Z"
   },
   {
    "duration": 26,
    "start_time": "2021-12-28T14:24:15.437Z"
   },
   {
    "duration": 6,
    "start_time": "2021-12-28T14:27:29.857Z"
   },
   {
    "duration": 27,
    "start_time": "2021-12-28T14:27:32.248Z"
   },
   {
    "duration": 33,
    "start_time": "2021-12-28T14:27:33.047Z"
   },
   {
    "duration": 4,
    "start_time": "2021-12-28T14:27:35.617Z"
   },
   {
    "duration": 19,
    "start_time": "2021-12-28T14:27:38.439Z"
   },
   {
    "duration": 1496,
    "start_time": "2021-12-28T14:28:25.837Z"
   },
   {
    "duration": 590,
    "start_time": "2021-12-28T14:28:27.337Z"
   },
   {
    "duration": 11,
    "start_time": "2021-12-28T14:28:27.930Z"
   },
   {
    "duration": 26,
    "start_time": "2021-12-28T14:28:27.944Z"
   },
   {
    "duration": 8,
    "start_time": "2021-12-28T14:28:27.973Z"
   },
   {
    "duration": 17,
    "start_time": "2021-12-28T14:28:27.984Z"
   },
   {
    "duration": 32,
    "start_time": "2021-12-28T14:28:28.004Z"
   },
   {
    "duration": 23,
    "start_time": "2021-12-28T14:28:28.039Z"
   },
   {
    "duration": 31,
    "start_time": "2021-12-28T14:28:28.064Z"
   },
   {
    "duration": 20,
    "start_time": "2021-12-28T14:28:28.097Z"
   },
   {
    "duration": 78,
    "start_time": "2021-12-28T14:28:28.120Z"
   },
   {
    "duration": 6,
    "start_time": "2021-12-28T14:28:28.201Z"
   },
   {
    "duration": 8,
    "start_time": "2021-12-28T14:28:28.680Z"
   },
   {
    "duration": 26,
    "start_time": "2021-12-28T14:28:29.520Z"
   },
   {
    "duration": 11,
    "start_time": "2021-12-28T14:28:29.692Z"
   },
   {
    "duration": 27,
    "start_time": "2021-12-28T14:28:29.869Z"
   },
   {
    "duration": 6,
    "start_time": "2021-12-28T14:28:30.040Z"
   },
   {
    "duration": 25,
    "start_time": "2021-12-28T14:28:32.106Z"
   },
   {
    "duration": 12,
    "start_time": "2021-12-28T14:28:32.134Z"
   },
   {
    "duration": 16,
    "start_time": "2021-12-28T14:28:32.150Z"
   },
   {
    "duration": 20,
    "start_time": "2021-12-28T14:28:32.529Z"
   },
   {
    "duration": 54,
    "start_time": "2021-12-28T14:28:34.101Z"
   },
   {
    "duration": 9,
    "start_time": "2021-12-28T14:28:35.160Z"
   },
   {
    "duration": 10,
    "start_time": "2021-12-28T14:28:35.391Z"
   },
   {
    "duration": 12,
    "start_time": "2021-12-28T14:28:39.210Z"
   },
   {
    "duration": 7,
    "start_time": "2021-12-28T14:28:39.801Z"
   },
   {
    "duration": 36,
    "start_time": "2021-12-28T14:28:41.018Z"
   },
   {
    "duration": 41,
    "start_time": "2021-12-28T14:28:41.961Z"
   },
   {
    "duration": 34,
    "start_time": "2021-12-28T14:28:43.550Z"
   },
   {
    "duration": 22,
    "start_time": "2021-12-28T14:28:45.000Z"
   },
   {
    "duration": 35,
    "start_time": "2021-12-28T14:28:46.061Z"
   },
   {
    "duration": 26,
    "start_time": "2021-12-28T14:28:47.298Z"
   },
   {
    "duration": 28,
    "start_time": "2021-12-28T14:28:47.691Z"
   },
   {
    "duration": 4,
    "start_time": "2021-12-28T14:28:48.031Z"
   },
   {
    "duration": 20,
    "start_time": "2021-12-28T14:28:49.381Z"
   },
   {
    "duration": 317,
    "start_time": "2021-12-28T14:28:56.449Z"
   },
   {
    "duration": 384,
    "start_time": "2021-12-28T14:29:00.493Z"
   },
   {
    "duration": 409,
    "start_time": "2021-12-28T14:29:03.609Z"
   },
   {
    "duration": 310,
    "start_time": "2021-12-28T14:29:04.741Z"
   },
   {
    "duration": 1529,
    "start_time": "2021-12-28T14:32:54.830Z"
   },
   {
    "duration": 558,
    "start_time": "2021-12-28T14:32:56.363Z"
   },
   {
    "duration": 9,
    "start_time": "2021-12-28T14:32:56.927Z"
   },
   {
    "duration": 32,
    "start_time": "2021-12-28T14:32:56.938Z"
   },
   {
    "duration": 7,
    "start_time": "2021-12-28T14:32:56.973Z"
   },
   {
    "duration": 10,
    "start_time": "2021-12-28T14:32:56.983Z"
   },
   {
    "duration": 9,
    "start_time": "2021-12-28T14:32:56.996Z"
   },
   {
    "duration": 8,
    "start_time": "2021-12-28T14:32:57.008Z"
   },
   {
    "duration": 28,
    "start_time": "2021-12-28T14:32:57.059Z"
   },
   {
    "duration": 10,
    "start_time": "2021-12-28T14:32:57.090Z"
   },
   {
    "duration": 78,
    "start_time": "2021-12-28T14:32:57.103Z"
   },
   {
    "duration": 6,
    "start_time": "2021-12-28T14:32:57.183Z"
   },
   {
    "duration": 9,
    "start_time": "2021-12-28T14:32:57.192Z"
   },
   {
    "duration": 20,
    "start_time": "2021-12-28T14:32:57.204Z"
   },
   {
    "duration": 27,
    "start_time": "2021-12-28T14:32:57.239Z"
   },
   {
    "duration": 26,
    "start_time": "2021-12-28T14:32:57.418Z"
   },
   {
    "duration": 6,
    "start_time": "2021-12-28T14:32:57.588Z"
   },
   {
    "duration": 23,
    "start_time": "2021-12-28T14:32:58.456Z"
   },
   {
    "duration": 12,
    "start_time": "2021-12-28T14:32:58.628Z"
   },
   {
    "duration": 11,
    "start_time": "2021-12-28T14:32:58.986Z"
   },
   {
    "duration": 16,
    "start_time": "2021-12-28T14:32:59.368Z"
   },
   {
    "duration": 37,
    "start_time": "2021-12-28T14:32:59.958Z"
   },
   {
    "duration": 7,
    "start_time": "2021-12-28T14:33:00.139Z"
   },
   {
    "duration": 8,
    "start_time": "2021-12-28T14:33:00.318Z"
   },
   {
    "duration": 13,
    "start_time": "2021-12-28T14:33:01.148Z"
   },
   {
    "duration": 7,
    "start_time": "2021-12-28T14:33:01.336Z"
   },
   {
    "duration": 37,
    "start_time": "2021-12-28T14:33:02.028Z"
   },
   {
    "duration": 43,
    "start_time": "2021-12-28T14:33:02.498Z"
   },
   {
    "duration": 41,
    "start_time": "2021-12-28T14:33:02.878Z"
   },
   {
    "duration": 22,
    "start_time": "2021-12-28T14:33:03.698Z"
   },
   {
    "duration": 35,
    "start_time": "2021-12-28T14:33:04.288Z"
   },
   {
    "duration": 25,
    "start_time": "2021-12-28T14:33:04.688Z"
   },
   {
    "duration": 29,
    "start_time": "2021-12-28T14:33:04.888Z"
   },
   {
    "duration": 5,
    "start_time": "2021-12-28T14:33:05.078Z"
   },
   {
    "duration": 19,
    "start_time": "2021-12-28T14:33:05.596Z"
   },
   {
    "duration": 276,
    "start_time": "2021-12-28T14:33:07.578Z"
   },
   {
    "duration": 283,
    "start_time": "2021-12-28T14:33:07.860Z"
   },
   {
    "duration": 277,
    "start_time": "2021-12-28T14:33:08.146Z"
   },
   {
    "duration": 282,
    "start_time": "2021-12-28T14:33:08.426Z"
   },
   {
    "duration": 1108,
    "start_time": "2021-12-28T14:33:09.948Z"
   },
   {
    "duration": 62,
    "start_time": "2021-12-28T14:34:16.829Z"
   },
   {
    "duration": 8,
    "start_time": "2021-12-28T14:34:19.358Z"
   },
   {
    "duration": 8,
    "start_time": "2021-12-28T14:38:20.870Z"
   },
   {
    "duration": 227,
    "start_time": "2021-12-28T14:38:21.658Z"
   },
   {
    "duration": 19,
    "start_time": "2021-12-28T14:38:23.309Z"
   },
   {
    "duration": 1426,
    "start_time": "2021-12-28T14:39:02.599Z"
   },
   {
    "duration": 554,
    "start_time": "2021-12-28T14:39:04.028Z"
   },
   {
    "duration": 14,
    "start_time": "2021-12-28T14:39:04.586Z"
   },
   {
    "duration": 37,
    "start_time": "2021-12-28T14:39:04.604Z"
   },
   {
    "duration": 22,
    "start_time": "2021-12-28T14:39:04.645Z"
   },
   {
    "duration": 6,
    "start_time": "2021-12-28T14:39:04.675Z"
   },
   {
    "duration": 13,
    "start_time": "2021-12-28T14:39:04.685Z"
   },
   {
    "duration": 58,
    "start_time": "2021-12-28T14:39:04.701Z"
   },
   {
    "duration": 48,
    "start_time": "2021-12-28T14:39:04.763Z"
   },
   {
    "duration": 16,
    "start_time": "2021-12-28T14:39:04.814Z"
   },
   {
    "duration": 72,
    "start_time": "2021-12-28T14:39:04.860Z"
   },
   {
    "duration": 26,
    "start_time": "2021-12-28T14:39:04.935Z"
   },
   {
    "duration": 10,
    "start_time": "2021-12-28T14:39:04.964Z"
   },
   {
    "duration": 22,
    "start_time": "2021-12-28T14:39:04.977Z"
   },
   {
    "duration": 11,
    "start_time": "2021-12-28T14:39:05.003Z"
   },
   {
    "duration": 28,
    "start_time": "2021-12-28T14:39:05.068Z"
   },
   {
    "duration": 7,
    "start_time": "2021-12-28T14:39:05.099Z"
   },
   {
    "duration": 29,
    "start_time": "2021-12-28T14:39:06.309Z"
   },
   {
    "duration": 16,
    "start_time": "2021-12-28T14:39:06.599Z"
   },
   {
    "duration": 12,
    "start_time": "2021-12-28T14:39:06.983Z"
   },
   {
    "duration": 19,
    "start_time": "2021-12-28T14:39:07.496Z"
   },
   {
    "duration": 34,
    "start_time": "2021-12-28T14:39:10.305Z"
   },
   {
    "duration": 7,
    "start_time": "2021-12-28T14:39:11.615Z"
   },
   {
    "duration": 8,
    "start_time": "2021-12-28T14:39:11.795Z"
   },
   {
    "duration": 14,
    "start_time": "2021-12-28T14:39:12.786Z"
   },
   {
    "duration": 8,
    "start_time": "2021-12-28T14:39:12.965Z"
   },
   {
    "duration": 46,
    "start_time": "2021-12-28T14:39:14.094Z"
   },
   {
    "duration": 64,
    "start_time": "2021-12-28T14:39:14.436Z"
   },
   {
    "duration": 43,
    "start_time": "2021-12-28T14:39:15.155Z"
   },
   {
    "duration": 22,
    "start_time": "2021-12-28T14:39:15.895Z"
   },
   {
    "duration": 40,
    "start_time": "2021-12-28T14:39:16.733Z"
   },
   {
    "duration": 28,
    "start_time": "2021-12-28T14:39:17.777Z"
   },
   {
    "duration": 28,
    "start_time": "2021-12-28T14:39:18.025Z"
   },
   {
    "duration": 5,
    "start_time": "2021-12-28T14:39:22.175Z"
   },
   {
    "duration": 28,
    "start_time": "2021-12-28T14:39:23.476Z"
   },
   {
    "duration": 323,
    "start_time": "2021-12-28T14:39:26.515Z"
   },
   {
    "duration": 333,
    "start_time": "2021-12-28T14:39:26.841Z"
   },
   {
    "duration": 285,
    "start_time": "2021-12-28T14:39:27.177Z"
   },
   {
    "duration": 292,
    "start_time": "2021-12-28T14:39:27.465Z"
   },
   {
    "duration": 55,
    "start_time": "2021-12-28T14:39:30.556Z"
   },
   {
    "duration": 7,
    "start_time": "2021-12-28T14:40:19.605Z"
   },
   {
    "duration": 20,
    "start_time": "2021-12-28T14:42:07.794Z"
   },
   {
    "duration": 30,
    "start_time": "2021-12-28T14:42:13.834Z"
   },
   {
    "duration": 8,
    "start_time": "2021-12-28T14:42:46.795Z"
   },
   {
    "duration": 267,
    "start_time": "2021-12-28T14:42:47.232Z"
   },
   {
    "duration": 29,
    "start_time": "2021-12-28T14:42:48.085Z"
   },
   {
    "duration": 41,
    "start_time": "2021-12-28T14:43:15.545Z"
   },
   {
    "duration": 1395,
    "start_time": "2021-12-28T14:44:02.039Z"
   },
   {
    "duration": 569,
    "start_time": "2021-12-28T14:44:03.437Z"
   },
   {
    "duration": 11,
    "start_time": "2021-12-28T14:44:04.009Z"
   },
   {
    "duration": 21,
    "start_time": "2021-12-28T14:44:04.997Z"
   },
   {
    "duration": 15,
    "start_time": "2021-12-28T14:44:16.308Z"
   },
   {
    "duration": 9,
    "start_time": "2021-12-28T14:44:22.037Z"
   },
   {
    "duration": 6,
    "start_time": "2021-12-28T14:44:22.227Z"
   },
   {
    "duration": 11,
    "start_time": "2021-12-28T14:44:22.777Z"
   },
   {
    "duration": 7,
    "start_time": "2021-12-28T14:44:23.227Z"
   },
   {
    "duration": 27,
    "start_time": "2021-12-28T14:44:25.627Z"
   },
   {
    "duration": 12,
    "start_time": "2021-12-28T14:44:25.907Z"
   },
   {
    "duration": 43,
    "start_time": "2021-12-28T14:44:26.397Z"
   },
   {
    "duration": 7,
    "start_time": "2021-12-28T14:44:26.795Z"
   },
   {
    "duration": 7,
    "start_time": "2021-12-28T14:44:27.235Z"
   },
   {
    "duration": 20,
    "start_time": "2021-12-28T14:44:29.787Z"
   },
   {
    "duration": 10,
    "start_time": "2021-12-28T14:44:30.003Z"
   },
   {
    "duration": 26,
    "start_time": "2021-12-28T14:44:32.038Z"
   },
   {
    "duration": 7,
    "start_time": "2021-12-28T14:44:32.068Z"
   },
   {
    "duration": 27,
    "start_time": "2021-12-28T14:44:32.079Z"
   },
   {
    "duration": 12,
    "start_time": "2021-12-28T14:44:32.109Z"
   },
   {
    "duration": 16,
    "start_time": "2021-12-28T14:44:32.158Z"
   },
   {
    "duration": 17,
    "start_time": "2021-12-28T14:44:33.539Z"
   },
   {
    "duration": 34,
    "start_time": "2021-12-28T14:44:33.869Z"
   },
   {
    "duration": 7,
    "start_time": "2021-12-28T14:44:34.249Z"
   },
   {
    "duration": 7,
    "start_time": "2021-12-28T14:44:34.416Z"
   },
   {
    "duration": 12,
    "start_time": "2021-12-28T14:44:36.298Z"
   },
   {
    "duration": 7,
    "start_time": "2021-12-28T14:44:36.458Z"
   },
   {
    "duration": 35,
    "start_time": "2021-12-28T14:44:38.235Z"
   },
   {
    "duration": 57,
    "start_time": "2021-12-28T14:44:45.119Z"
   },
   {
    "duration": 34,
    "start_time": "2021-12-28T14:44:45.786Z"
   },
   {
    "duration": 22,
    "start_time": "2021-12-28T14:44:46.148Z"
   },
   {
    "duration": 39,
    "start_time": "2021-12-28T14:44:46.529Z"
   },
   {
    "duration": 26,
    "start_time": "2021-12-28T14:44:47.088Z"
   },
   {
    "duration": 27,
    "start_time": "2021-12-28T14:44:47.498Z"
   },
   {
    "duration": 4,
    "start_time": "2021-12-28T14:44:47.689Z"
   },
   {
    "duration": 21,
    "start_time": "2021-12-28T14:44:47.858Z"
   },
   {
    "duration": 284,
    "start_time": "2021-12-28T14:44:48.478Z"
   },
   {
    "duration": 425,
    "start_time": "2021-12-28T14:44:48.766Z"
   },
   {
    "duration": 402,
    "start_time": "2021-12-28T14:44:49.195Z"
   },
   {
    "duration": 391,
    "start_time": "2021-12-28T14:44:49.601Z"
   },
   {
    "duration": 24,
    "start_time": "2021-12-28T14:46:42.215Z"
   },
   {
    "duration": 60,
    "start_time": "2021-12-28T14:46:54.867Z"
   },
   {
    "duration": 29,
    "start_time": "2021-12-28T14:46:58.915Z"
   },
   {
    "duration": 27,
    "start_time": "2021-12-28T14:47:17.566Z"
   },
   {
    "duration": 37,
    "start_time": "2021-12-28T14:47:24.427Z"
   },
   {
    "duration": 1377,
    "start_time": "2021-12-28T14:48:13.744Z"
   },
   {
    "duration": 621,
    "start_time": "2021-12-28T14:48:15.124Z"
   },
   {
    "duration": 12,
    "start_time": "2021-12-28T14:48:15.752Z"
   },
   {
    "duration": 28,
    "start_time": "2021-12-28T14:48:15.767Z"
   },
   {
    "duration": 13,
    "start_time": "2021-12-28T14:48:15.798Z"
   },
   {
    "duration": 8,
    "start_time": "2021-12-28T14:48:15.814Z"
   },
   {
    "duration": 38,
    "start_time": "2021-12-28T14:48:15.825Z"
   },
   {
    "duration": 11,
    "start_time": "2021-12-28T14:48:15.865Z"
   },
   {
    "duration": 30,
    "start_time": "2021-12-28T14:48:15.880Z"
   },
   {
    "duration": 12,
    "start_time": "2021-12-28T14:48:15.913Z"
   },
   {
    "duration": 44,
    "start_time": "2021-12-28T14:48:15.960Z"
   },
   {
    "duration": 8,
    "start_time": "2021-12-28T14:48:16.007Z"
   },
   {
    "duration": 11,
    "start_time": "2021-12-28T14:48:16.018Z"
   },
   {
    "duration": 20,
    "start_time": "2021-12-28T14:48:16.059Z"
   },
   {
    "duration": 13,
    "start_time": "2021-12-28T14:48:16.083Z"
   },
   {
    "duration": 64,
    "start_time": "2021-12-28T14:48:16.099Z"
   },
   {
    "duration": 8,
    "start_time": "2021-12-28T14:48:16.166Z"
   },
   {
    "duration": 39,
    "start_time": "2021-12-28T14:48:16.177Z"
   },
   {
    "duration": 45,
    "start_time": "2021-12-28T14:48:16.220Z"
   },
   {
    "duration": 18,
    "start_time": "2021-12-28T14:48:16.268Z"
   },
   {
    "duration": 16,
    "start_time": "2021-12-28T14:48:16.289Z"
   },
   {
    "duration": 93,
    "start_time": "2021-12-28T14:48:16.307Z"
   },
   {
    "duration": 7,
    "start_time": "2021-12-28T14:48:16.403Z"
   },
   {
    "duration": 8,
    "start_time": "2021-12-28T14:48:16.412Z"
   },
   {
    "duration": 49,
    "start_time": "2021-12-28T14:48:16.424Z"
   },
   {
    "duration": 7,
    "start_time": "2021-12-28T14:48:16.476Z"
   },
   {
    "duration": 81,
    "start_time": "2021-12-28T14:48:16.493Z"
   },
   {
    "duration": 61,
    "start_time": "2021-12-28T14:48:16.578Z"
   },
   {
    "duration": 49,
    "start_time": "2021-12-28T14:48:16.643Z"
   },
   {
    "duration": 21,
    "start_time": "2021-12-28T14:48:16.694Z"
   },
   {
    "duration": 62,
    "start_time": "2021-12-28T14:48:16.717Z"
   },
   {
    "duration": 26,
    "start_time": "2021-12-28T14:48:16.782Z"
   },
   {
    "duration": 70,
    "start_time": "2021-12-28T14:48:16.811Z"
   },
   {
    "duration": 5,
    "start_time": "2021-12-28T14:48:16.884Z"
   },
   {
    "duration": 32,
    "start_time": "2021-12-28T14:48:16.893Z"
   },
   {
    "duration": 467,
    "start_time": "2021-12-28T14:48:16.928Z"
   },
   {
    "duration": 421,
    "start_time": "2021-12-28T14:48:17.398Z"
   },
   {
    "duration": 285,
    "start_time": "2021-12-28T14:48:17.822Z"
   },
   {
    "duration": 286,
    "start_time": "2021-12-28T14:48:18.109Z"
   },
   {
    "duration": 463,
    "start_time": "2021-12-28T14:48:18.398Z"
   },
   {
    "duration": 7,
    "start_time": "2021-12-28T14:48:18.864Z"
   },
   {
    "duration": 8,
    "start_time": "2021-12-28T14:48:18.874Z"
   },
   {
    "duration": 9,
    "start_time": "2021-12-28T14:48:18.884Z"
   },
   {
    "duration": 34934,
    "start_time": "2021-12-28T14:48:18.896Z"
   },
   {
    "duration": -289,
    "start_time": "2021-12-28T14:48:54.121Z"
   },
   {
    "duration": 1455,
    "start_time": "2021-12-28T14:50:16.941Z"
   },
   {
    "duration": 604,
    "start_time": "2021-12-28T14:50:18.399Z"
   },
   {
    "duration": 11,
    "start_time": "2021-12-28T14:50:19.007Z"
   },
   {
    "duration": 38,
    "start_time": "2021-12-28T14:50:19.022Z"
   },
   {
    "duration": 10,
    "start_time": "2021-12-28T14:50:19.063Z"
   },
   {
    "duration": 10,
    "start_time": "2021-12-28T14:50:19.077Z"
   },
   {
    "duration": 9,
    "start_time": "2021-12-28T14:50:19.090Z"
   },
   {
    "duration": 9,
    "start_time": "2021-12-28T14:50:19.102Z"
   },
   {
    "duration": 80,
    "start_time": "2021-12-28T14:50:19.115Z"
   },
   {
    "duration": 12,
    "start_time": "2021-12-28T14:50:19.200Z"
   },
   {
    "duration": 84,
    "start_time": "2021-12-28T14:50:19.215Z"
   },
   {
    "duration": 7,
    "start_time": "2021-12-28T14:50:19.301Z"
   },
   {
    "duration": 9,
    "start_time": "2021-12-28T14:50:19.311Z"
   },
   {
    "duration": 48,
    "start_time": "2021-12-28T14:50:19.323Z"
   },
   {
    "duration": 14,
    "start_time": "2021-12-28T14:50:19.374Z"
   },
   {
    "duration": 25,
    "start_time": "2021-12-28T14:50:19.390Z"
   },
   {
    "duration": 6,
    "start_time": "2021-12-28T14:50:19.417Z"
   },
   {
    "duration": 33,
    "start_time": "2021-12-28T14:50:19.461Z"
   },
   {
    "duration": 12,
    "start_time": "2021-12-28T14:50:19.496Z"
   },
   {
    "duration": 11,
    "start_time": "2021-12-28T14:50:19.510Z"
   },
   {
    "duration": 54,
    "start_time": "2021-12-28T14:50:19.524Z"
   },
   {
    "duration": 36,
    "start_time": "2021-12-28T14:50:19.581Z"
   },
   {
    "duration": 7,
    "start_time": "2021-12-28T14:50:19.619Z"
   },
   {
    "duration": 38,
    "start_time": "2021-12-28T14:50:19.628Z"
   },
   {
    "duration": 16,
    "start_time": "2021-12-28T14:50:19.669Z"
   },
   {
    "duration": 11,
    "start_time": "2021-12-28T14:50:19.687Z"
   },
   {
    "duration": 77,
    "start_time": "2021-12-28T14:50:19.705Z"
   },
   {
    "duration": 42,
    "start_time": "2021-12-28T14:50:19.786Z"
   },
   {
    "duration": 61,
    "start_time": "2021-12-28T14:50:19.831Z"
   },
   {
    "duration": 22,
    "start_time": "2021-12-28T14:50:19.894Z"
   },
   {
    "duration": 68,
    "start_time": "2021-12-28T14:50:19.919Z"
   },
   {
    "duration": 26,
    "start_time": "2021-12-28T14:50:19.990Z"
   },
   {
    "duration": 53,
    "start_time": "2021-12-28T14:50:20.018Z"
   },
   {
    "duration": 5,
    "start_time": "2021-12-28T14:50:20.074Z"
   },
   {
    "duration": 33,
    "start_time": "2021-12-28T14:50:20.081Z"
   },
   {
    "duration": 346,
    "start_time": "2021-12-28T14:50:20.116Z"
   },
   {
    "duration": 314,
    "start_time": "2021-12-28T14:50:20.465Z"
   },
   {
    "duration": 310,
    "start_time": "2021-12-28T14:50:20.782Z"
   },
   {
    "duration": 338,
    "start_time": "2021-12-28T14:50:21.095Z"
   },
   {
    "duration": 73,
    "start_time": "2021-12-28T14:50:21.436Z"
   },
   {
    "duration": 7,
    "start_time": "2021-12-28T14:50:21.511Z"
   },
   {
    "duration": 7,
    "start_time": "2021-12-28T14:50:21.520Z"
   },
   {
    "duration": 33,
    "start_time": "2021-12-28T14:50:21.530Z"
   },
   {
    "duration": 294,
    "start_time": "2021-12-28T14:50:21.566Z"
   },
   {
    "duration": 47,
    "start_time": "2021-12-28T14:50:21.863Z"
   },
   {
    "duration": 157,
    "start_time": "2021-12-28T14:51:03.068Z"
   },
   {
    "duration": 36,
    "start_time": "2021-12-28T14:51:06.688Z"
   },
   {
    "duration": 35,
    "start_time": "2021-12-28T14:51:32.777Z"
   },
   {
    "duration": 1430,
    "start_time": "2021-12-28T14:51:47.672Z"
   },
   {
    "duration": 564,
    "start_time": "2021-12-28T14:51:49.105Z"
   },
   {
    "duration": 11,
    "start_time": "2021-12-28T14:51:49.672Z"
   },
   {
    "duration": 21,
    "start_time": "2021-12-28T14:51:49.686Z"
   },
   {
    "duration": 8,
    "start_time": "2021-12-28T14:51:49.709Z"
   },
   {
    "duration": 40,
    "start_time": "2021-12-28T14:51:49.719Z"
   },
   {
    "duration": 9,
    "start_time": "2021-12-28T14:51:49.762Z"
   },
   {
    "duration": 9,
    "start_time": "2021-12-28T14:51:49.773Z"
   },
   {
    "duration": 32,
    "start_time": "2021-12-28T14:51:49.786Z"
   },
   {
    "duration": 16,
    "start_time": "2021-12-28T14:51:49.860Z"
   },
   {
    "duration": 98,
    "start_time": "2021-12-28T14:51:49.880Z"
   },
   {
    "duration": 8,
    "start_time": "2021-12-28T14:51:49.981Z"
   },
   {
    "duration": 9,
    "start_time": "2021-12-28T14:51:49.993Z"
   },
   {
    "duration": 58,
    "start_time": "2021-12-28T14:51:50.005Z"
   },
   {
    "duration": 13,
    "start_time": "2021-12-28T14:51:50.066Z"
   },
   {
    "duration": 29,
    "start_time": "2021-12-28T14:51:50.082Z"
   },
   {
    "duration": 8,
    "start_time": "2021-12-28T14:51:50.114Z"
   },
   {
    "duration": 25,
    "start_time": "2021-12-28T14:51:50.160Z"
   },
   {
    "duration": 11,
    "start_time": "2021-12-28T14:51:50.188Z"
   },
   {
    "duration": 11,
    "start_time": "2021-12-28T14:51:50.202Z"
   },
   {
    "duration": 58,
    "start_time": "2021-12-28T14:51:50.215Z"
   },
   {
    "duration": 34,
    "start_time": "2021-12-28T14:51:50.275Z"
   },
   {
    "duration": 8,
    "start_time": "2021-12-28T14:51:50.312Z"
   },
   {
    "duration": 39,
    "start_time": "2021-12-28T14:51:50.322Z"
   },
   {
    "duration": 13,
    "start_time": "2021-12-28T14:51:50.364Z"
   },
   {
    "duration": 8,
    "start_time": "2021-12-28T14:51:50.380Z"
   },
   {
    "duration": 79,
    "start_time": "2021-12-28T14:51:50.394Z"
   },
   {
    "duration": 46,
    "start_time": "2021-12-28T14:51:50.476Z"
   },
   {
    "duration": 60,
    "start_time": "2021-12-28T14:51:50.525Z"
   },
   {
    "duration": 22,
    "start_time": "2021-12-28T14:51:50.587Z"
   },
   {
    "duration": 59,
    "start_time": "2021-12-28T14:51:50.611Z"
   },
   {
    "duration": 24,
    "start_time": "2021-12-28T14:51:50.673Z"
   },
   {
    "duration": 27,
    "start_time": "2021-12-28T14:51:50.699Z"
   },
   {
    "duration": 34,
    "start_time": "2021-12-28T14:51:50.729Z"
   },
   {
    "duration": 21,
    "start_time": "2021-12-28T14:51:50.766Z"
   },
   {
    "duration": 311,
    "start_time": "2021-12-28T14:51:50.789Z"
   },
   {
    "duration": 308,
    "start_time": "2021-12-28T14:51:51.103Z"
   },
   {
    "duration": 291,
    "start_time": "2021-12-28T14:51:51.413Z"
   },
   {
    "duration": 283,
    "start_time": "2021-12-28T14:51:51.707Z"
   },
   {
    "duration": 25,
    "start_time": "2021-12-28T14:51:51.992Z"
   },
   {
    "duration": 6,
    "start_time": "2021-12-28T14:51:52.020Z"
   },
   {
    "duration": 33,
    "start_time": "2021-12-28T14:51:52.029Z"
   },
   {
    "duration": 8,
    "start_time": "2021-12-28T14:51:52.065Z"
   },
   {
    "duration": 12417,
    "start_time": "2021-12-28T14:51:52.075Z"
   },
   {
    "duration": -321,
    "start_time": "2021-12-28T14:52:04.816Z"
   },
   {
    "duration": 489,
    "start_time": "2021-12-28T14:52:40.483Z"
   },
   {
    "duration": 1493,
    "start_time": "2021-12-28T14:52:55.631Z"
   },
   {
    "duration": 593,
    "start_time": "2021-12-28T14:52:57.127Z"
   },
   {
    "duration": 11,
    "start_time": "2021-12-28T14:52:57.723Z"
   },
   {
    "duration": 38,
    "start_time": "2021-12-28T14:52:57.737Z"
   },
   {
    "duration": 8,
    "start_time": "2021-12-28T14:52:57.778Z"
   },
   {
    "duration": 8,
    "start_time": "2021-12-28T14:52:57.788Z"
   },
   {
    "duration": 13,
    "start_time": "2021-12-28T14:52:57.798Z"
   },
   {
    "duration": 7,
    "start_time": "2021-12-28T14:52:57.814Z"
   },
   {
    "duration": 61,
    "start_time": "2021-12-28T14:52:57.824Z"
   },
   {
    "duration": 13,
    "start_time": "2021-12-28T14:52:57.888Z"
   },
   {
    "duration": 74,
    "start_time": "2021-12-28T14:52:57.903Z"
   },
   {
    "duration": 9,
    "start_time": "2021-12-28T14:52:57.980Z"
   },
   {
    "duration": 13,
    "start_time": "2021-12-28T14:52:57.992Z"
   },
   {
    "duration": 22,
    "start_time": "2021-12-28T14:52:58.008Z"
   },
   {
    "duration": 39,
    "start_time": "2021-12-28T14:52:58.032Z"
   },
   {
    "duration": 30,
    "start_time": "2021-12-28T14:52:58.075Z"
   },
   {
    "duration": 7,
    "start_time": "2021-12-28T14:52:58.107Z"
   },
   {
    "duration": 52,
    "start_time": "2021-12-28T14:52:58.116Z"
   },
   {
    "duration": 13,
    "start_time": "2021-12-28T14:52:58.171Z"
   },
   {
    "duration": 28,
    "start_time": "2021-12-28T14:52:58.187Z"
   },
   {
    "duration": 27,
    "start_time": "2021-12-28T14:52:58.218Z"
   },
   {
    "duration": 39,
    "start_time": "2021-12-28T14:52:58.260Z"
   },
   {
    "duration": 7,
    "start_time": "2021-12-28T14:52:58.305Z"
   },
   {
    "duration": 14,
    "start_time": "2021-12-28T14:52:58.314Z"
   },
   {
    "duration": 41,
    "start_time": "2021-12-28T14:52:58.330Z"
   },
   {
    "duration": 16,
    "start_time": "2021-12-28T14:52:58.374Z"
   },
   {
    "duration": 51,
    "start_time": "2021-12-28T14:52:58.393Z"
   },
   {
    "duration": 47,
    "start_time": "2021-12-28T14:52:58.447Z"
   },
   {
    "duration": 35,
    "start_time": "2021-12-28T14:52:58.497Z"
   },
   {
    "duration": 44,
    "start_time": "2021-12-28T14:52:58.535Z"
   },
   {
    "duration": 34,
    "start_time": "2021-12-28T14:52:58.582Z"
   },
   {
    "duration": 49,
    "start_time": "2021-12-28T14:52:58.619Z"
   },
   {
    "duration": 29,
    "start_time": "2021-12-28T14:52:58.671Z"
   },
   {
    "duration": 4,
    "start_time": "2021-12-28T14:52:58.702Z"
   },
   {
    "duration": 52,
    "start_time": "2021-12-28T14:52:58.709Z"
   },
   {
    "duration": 302,
    "start_time": "2021-12-28T14:52:58.763Z"
   },
   {
    "duration": 391,
    "start_time": "2021-12-28T14:52:59.068Z"
   },
   {
    "duration": 413,
    "start_time": "2021-12-28T14:52:59.472Z"
   },
   {
    "duration": 285,
    "start_time": "2021-12-28T14:52:59.888Z"
   },
   {
    "duration": 32,
    "start_time": "2021-12-28T14:53:00.176Z"
   },
   {
    "duration": 7,
    "start_time": "2021-12-28T14:53:00.210Z"
   },
   {
    "duration": 8,
    "start_time": "2021-12-28T14:53:00.219Z"
   },
   {
    "duration": 33,
    "start_time": "2021-12-28T14:53:00.230Z"
   },
   {
    "duration": 11865,
    "start_time": "2021-12-28T14:53:00.265Z"
   },
   {
    "duration": -344,
    "start_time": "2021-12-28T14:53:12.476Z"
   },
   {
    "duration": 34,
    "start_time": "2021-12-28T14:53:27.243Z"
   },
   {
    "duration": 432,
    "start_time": "2021-12-28T14:54:26.673Z"
   },
   {
    "duration": 1472,
    "start_time": "2021-12-28T14:54:33.662Z"
   },
   {
    "duration": 559,
    "start_time": "2021-12-28T14:54:35.137Z"
   },
   {
    "duration": 10,
    "start_time": "2021-12-28T14:54:35.699Z"
   },
   {
    "duration": 22,
    "start_time": "2021-12-28T14:54:35.711Z"
   },
   {
    "duration": 8,
    "start_time": "2021-12-28T14:54:35.735Z"
   },
   {
    "duration": 6,
    "start_time": "2021-12-28T14:54:35.760Z"
   },
   {
    "duration": 20,
    "start_time": "2021-12-28T14:54:35.769Z"
   },
   {
    "duration": 7,
    "start_time": "2021-12-28T14:54:35.793Z"
   },
   {
    "duration": 58,
    "start_time": "2021-12-28T14:54:35.803Z"
   },
   {
    "duration": 16,
    "start_time": "2021-12-28T14:54:35.864Z"
   },
   {
    "duration": 45,
    "start_time": "2021-12-28T14:54:35.883Z"
   },
   {
    "duration": 34,
    "start_time": "2021-12-28T14:54:35.931Z"
   },
   {
    "duration": 19,
    "start_time": "2021-12-28T14:54:35.968Z"
   },
   {
    "duration": 19,
    "start_time": "2021-12-28T14:54:35.989Z"
   },
   {
    "duration": 54,
    "start_time": "2021-12-28T14:54:36.011Z"
   },
   {
    "duration": 27,
    "start_time": "2021-12-28T14:54:36.069Z"
   },
   {
    "duration": 5,
    "start_time": "2021-12-28T14:54:36.099Z"
   },
   {
    "duration": 23,
    "start_time": "2021-12-28T14:54:36.106Z"
   },
   {
    "duration": 42,
    "start_time": "2021-12-28T14:54:36.131Z"
   },
   {
    "duration": 15,
    "start_time": "2021-12-28T14:54:36.176Z"
   },
   {
    "duration": 22,
    "start_time": "2021-12-28T14:54:36.194Z"
   },
   {
    "duration": 67,
    "start_time": "2021-12-28T14:54:36.218Z"
   },
   {
    "duration": 7,
    "start_time": "2021-12-28T14:54:36.290Z"
   },
   {
    "duration": 13,
    "start_time": "2021-12-28T14:54:36.299Z"
   },
   {
    "duration": 12,
    "start_time": "2021-12-28T14:54:36.314Z"
   },
   {
    "duration": 7,
    "start_time": "2021-12-28T14:54:36.360Z"
   },
   {
    "duration": 37,
    "start_time": "2021-12-28T14:54:36.369Z"
   },
   {
    "duration": 72,
    "start_time": "2021-12-28T14:54:36.409Z"
   },
   {
    "duration": 34,
    "start_time": "2021-12-28T14:54:36.483Z"
   },
   {
    "duration": 48,
    "start_time": "2021-12-28T14:54:36.520Z"
   },
   {
    "duration": 46,
    "start_time": "2021-12-28T14:54:36.570Z"
   },
   {
    "duration": 42,
    "start_time": "2021-12-28T14:54:36.619Z"
   },
   {
    "duration": 39,
    "start_time": "2021-12-28T14:54:36.664Z"
   },
   {
    "duration": 5,
    "start_time": "2021-12-28T14:54:36.706Z"
   },
   {
    "duration": 49,
    "start_time": "2021-12-28T14:54:36.713Z"
   },
   {
    "duration": 308,
    "start_time": "2021-12-28T14:54:36.765Z"
   },
   {
    "duration": 293,
    "start_time": "2021-12-28T14:54:37.076Z"
   },
   {
    "duration": 293,
    "start_time": "2021-12-28T14:54:37.371Z"
   },
   {
    "duration": 301,
    "start_time": "2021-12-28T14:54:37.666Z"
   },
   {
    "duration": 47,
    "start_time": "2021-12-28T14:54:37.969Z"
   },
   {
    "duration": 6,
    "start_time": "2021-12-28T14:54:38.018Z"
   },
   {
    "duration": 34,
    "start_time": "2021-12-28T14:54:38.027Z"
   },
   {
    "duration": 8,
    "start_time": "2021-12-28T14:54:38.063Z"
   },
   {
    "duration": 5,
    "start_time": "2021-12-28T14:54:38.073Z"
   },
   {
    "duration": 36,
    "start_time": "2021-12-28T14:54:38.080Z"
   },
   {
    "duration": 385,
    "start_time": "2021-12-28T14:58:51.233Z"
   },
   {
    "duration": 57,
    "start_time": "2021-12-28T14:58:53.603Z"
   },
   {
    "duration": 10600,
    "start_time": "2021-12-28T14:59:26.523Z"
   },
   {
    "duration": 17,
    "start_time": "2021-12-28T15:00:04.664Z"
   },
   {
    "duration": 7,
    "start_time": "2021-12-28T15:03:06.701Z"
   },
   {
    "duration": 1475,
    "start_time": "2021-12-28T15:04:32.227Z"
   },
   {
    "duration": 565,
    "start_time": "2021-12-28T15:04:33.705Z"
   },
   {
    "duration": 10,
    "start_time": "2021-12-28T15:04:34.274Z"
   },
   {
    "duration": 25,
    "start_time": "2021-12-28T15:04:34.286Z"
   },
   {
    "duration": 9,
    "start_time": "2021-12-28T15:04:34.313Z"
   },
   {
    "duration": 7,
    "start_time": "2021-12-28T15:04:34.325Z"
   },
   {
    "duration": 9,
    "start_time": "2021-12-28T15:04:34.360Z"
   },
   {
    "duration": 10,
    "start_time": "2021-12-28T15:04:34.372Z"
   },
   {
    "duration": 27,
    "start_time": "2021-12-28T15:04:34.386Z"
   },
   {
    "duration": 45,
    "start_time": "2021-12-28T15:04:34.416Z"
   },
   {
    "duration": 43,
    "start_time": "2021-12-28T15:04:34.463Z"
   },
   {
    "duration": 7,
    "start_time": "2021-12-28T15:04:34.509Z"
   },
   {
    "duration": 10,
    "start_time": "2021-12-28T15:04:34.518Z"
   },
   {
    "duration": 19,
    "start_time": "2021-12-28T15:04:34.560Z"
   },
   {
    "duration": 11,
    "start_time": "2021-12-28T15:04:34.582Z"
   },
   {
    "duration": 28,
    "start_time": "2021-12-28T15:04:34.596Z"
   },
   {
    "duration": 8,
    "start_time": "2021-12-28T15:04:34.662Z"
   },
   {
    "duration": 32,
    "start_time": "2021-12-28T15:04:34.674Z"
   },
   {
    "duration": 12,
    "start_time": "2021-12-28T15:04:34.708Z"
   },
   {
    "duration": 46,
    "start_time": "2021-12-28T15:04:34.722Z"
   },
   {
    "duration": 21,
    "start_time": "2021-12-28T15:04:34.771Z"
   },
   {
    "duration": 34,
    "start_time": "2021-12-28T15:04:34.795Z"
   },
   {
    "duration": 29,
    "start_time": "2021-12-28T15:04:34.832Z"
   },
   {
    "duration": 10,
    "start_time": "2021-12-28T15:04:34.864Z"
   },
   {
    "duration": 14,
    "start_time": "2021-12-28T15:04:34.876Z"
   },
   {
    "duration": 8,
    "start_time": "2021-12-28T15:04:34.892Z"
   },
   {
    "duration": 76,
    "start_time": "2021-12-28T15:04:34.906Z"
   },
   {
    "duration": 43,
    "start_time": "2021-12-28T15:04:34.985Z"
   },
   {
    "duration": 55,
    "start_time": "2021-12-28T15:04:35.031Z"
   },
   {
    "duration": 23,
    "start_time": "2021-12-28T15:04:35.089Z"
   },
   {
    "duration": 60,
    "start_time": "2021-12-28T15:04:35.114Z"
   },
   {
    "duration": 24,
    "start_time": "2021-12-28T15:04:35.177Z"
   },
   {
    "duration": 28,
    "start_time": "2021-12-28T15:04:35.203Z"
   },
   {
    "duration": 27,
    "start_time": "2021-12-28T15:04:35.233Z"
   },
   {
    "duration": 23,
    "start_time": "2021-12-28T15:04:35.263Z"
   },
   {
    "duration": 331,
    "start_time": "2021-12-28T15:04:35.288Z"
   },
   {
    "duration": 331,
    "start_time": "2021-12-28T15:04:35.621Z"
   },
   {
    "duration": 385,
    "start_time": "2021-12-28T15:04:35.955Z"
   },
   {
    "duration": 281,
    "start_time": "2021-12-28T15:04:36.343Z"
   },
   {
    "duration": 63,
    "start_time": "2021-12-28T15:04:36.627Z"
   },
   {
    "duration": 6,
    "start_time": "2021-12-28T15:04:36.693Z"
   },
   {
    "duration": 6,
    "start_time": "2021-12-28T15:04:36.702Z"
   },
   {
    "duration": 7,
    "start_time": "2021-12-28T15:04:36.711Z"
   },
   {
    "duration": 262,
    "start_time": "2021-12-28T15:04:36.721Z"
   },
   {
    "duration": 37,
    "start_time": "2021-12-28T15:04:36.986Z"
   },
   {
    "duration": 1420,
    "start_time": "2021-12-28T15:05:49.596Z"
   },
   {
    "duration": 586,
    "start_time": "2021-12-28T15:05:51.019Z"
   },
   {
    "duration": 10,
    "start_time": "2021-12-28T15:05:51.609Z"
   },
   {
    "duration": 26,
    "start_time": "2021-12-28T15:05:51.622Z"
   },
   {
    "duration": 14,
    "start_time": "2021-12-28T15:05:51.651Z"
   },
   {
    "duration": 10,
    "start_time": "2021-12-28T15:05:51.667Z"
   },
   {
    "duration": 15,
    "start_time": "2021-12-28T15:05:51.679Z"
   },
   {
    "duration": 10,
    "start_time": "2021-12-28T15:05:51.696Z"
   },
   {
    "duration": 61,
    "start_time": "2021-12-28T15:05:51.710Z"
   },
   {
    "duration": 12,
    "start_time": "2021-12-28T15:05:51.775Z"
   },
   {
    "duration": 74,
    "start_time": "2021-12-28T15:05:51.789Z"
   },
   {
    "duration": 8,
    "start_time": "2021-12-28T15:05:51.866Z"
   },
   {
    "duration": 9,
    "start_time": "2021-12-28T15:05:51.877Z"
   },
   {
    "duration": 20,
    "start_time": "2021-12-28T15:05:51.889Z"
   },
   {
    "duration": 49,
    "start_time": "2021-12-28T15:05:51.911Z"
   },
   {
    "duration": 27,
    "start_time": "2021-12-28T15:05:51.963Z"
   },
   {
    "duration": 7,
    "start_time": "2021-12-28T15:05:51.993Z"
   },
   {
    "duration": 23,
    "start_time": "2021-12-28T15:05:52.002Z"
   },
   {
    "duration": 12,
    "start_time": "2021-12-28T15:05:52.060Z"
   },
   {
    "duration": 12,
    "start_time": "2021-12-28T15:05:52.074Z"
   },
   {
    "duration": 18,
    "start_time": "2021-12-28T15:05:52.089Z"
   },
   {
    "duration": 72,
    "start_time": "2021-12-28T15:05:52.110Z"
   },
   {
    "duration": 7,
    "start_time": "2021-12-28T15:05:52.184Z"
   },
   {
    "duration": 13,
    "start_time": "2021-12-28T15:05:52.193Z"
   },
   {
    "duration": 13,
    "start_time": "2021-12-28T15:05:52.209Z"
   },
   {
    "duration": 9,
    "start_time": "2021-12-28T15:05:52.260Z"
   },
   {
    "duration": 36,
    "start_time": "2021-12-28T15:05:52.277Z"
   },
   {
    "duration": 81,
    "start_time": "2021-12-28T15:05:52.316Z"
   },
   {
    "duration": 37,
    "start_time": "2021-12-28T15:05:52.400Z"
   },
   {
    "duration": 40,
    "start_time": "2021-12-28T15:05:52.440Z"
   },
   {
    "duration": 36,
    "start_time": "2021-12-28T15:05:52.483Z"
   },
   {
    "duration": 55,
    "start_time": "2021-12-28T15:05:52.522Z"
   },
   {
    "duration": 30,
    "start_time": "2021-12-28T15:05:52.580Z"
   },
   {
    "duration": 5,
    "start_time": "2021-12-28T15:05:52.613Z"
   },
   {
    "duration": 52,
    "start_time": "2021-12-28T15:05:52.620Z"
   },
   {
    "duration": 321,
    "start_time": "2021-12-28T15:05:52.675Z"
   },
   {
    "duration": 284,
    "start_time": "2021-12-28T15:05:52.999Z"
   },
   {
    "duration": 297,
    "start_time": "2021-12-28T15:05:53.285Z"
   },
   {
    "duration": 298,
    "start_time": "2021-12-28T15:05:53.585Z"
   },
   {
    "duration": 622,
    "start_time": "2021-12-28T15:05:53.887Z"
   },
   {
    "duration": 8,
    "start_time": "2021-12-28T15:05:54.512Z"
   },
   {
    "duration": 36,
    "start_time": "2021-12-28T15:05:54.523Z"
   },
   {
    "duration": 13,
    "start_time": "2021-12-28T15:05:54.564Z"
   },
   {
    "duration": 26,
    "start_time": "2021-12-28T15:05:54.582Z"
   },
   {
    "duration": 56,
    "start_time": "2021-12-28T15:05:54.612Z"
   },
   {
    "duration": 1400,
    "start_time": "2021-12-28T15:24:34.487Z"
   },
   {
    "duration": 837,
    "start_time": "2021-12-28T15:24:35.890Z"
   },
   {
    "duration": 9,
    "start_time": "2021-12-28T15:24:36.731Z"
   },
   {
    "duration": 28,
    "start_time": "2021-12-28T15:24:36.743Z"
   },
   {
    "duration": 9,
    "start_time": "2021-12-28T15:24:36.773Z"
   },
   {
    "duration": 9,
    "start_time": "2021-12-28T15:24:36.784Z"
   },
   {
    "duration": 9,
    "start_time": "2021-12-28T15:24:36.796Z"
   },
   {
    "duration": 52,
    "start_time": "2021-12-28T15:24:36.807Z"
   },
   {
    "duration": 27,
    "start_time": "2021-12-28T15:24:36.863Z"
   },
   {
    "duration": 10,
    "start_time": "2021-12-28T15:24:36.893Z"
   },
   {
    "duration": 81,
    "start_time": "2021-12-28T15:24:36.905Z"
   },
   {
    "duration": 7,
    "start_time": "2021-12-28T15:24:36.989Z"
   },
   {
    "duration": 8,
    "start_time": "2021-12-28T15:24:36.998Z"
   },
   {
    "duration": 19,
    "start_time": "2021-12-28T15:24:37.008Z"
   },
   {
    "duration": 10,
    "start_time": "2021-12-28T15:24:37.059Z"
   },
   {
    "duration": 41,
    "start_time": "2021-12-28T15:24:37.073Z"
   },
   {
    "duration": 8,
    "start_time": "2021-12-28T15:24:37.118Z"
   },
   {
    "duration": 38,
    "start_time": "2021-12-28T15:24:37.159Z"
   },
   {
    "duration": 16,
    "start_time": "2021-12-28T15:24:37.201Z"
   },
   {
    "duration": 41,
    "start_time": "2021-12-28T15:24:37.221Z"
   },
   {
    "duration": 20,
    "start_time": "2021-12-28T15:24:37.266Z"
   },
   {
    "duration": 36,
    "start_time": "2021-12-28T15:24:37.289Z"
   },
   {
    "duration": 35,
    "start_time": "2021-12-28T15:24:37.327Z"
   },
   {
    "duration": 7,
    "start_time": "2021-12-28T15:24:37.365Z"
   },
   {
    "duration": 11,
    "start_time": "2021-12-28T15:24:37.375Z"
   },
   {
    "duration": 8,
    "start_time": "2021-12-28T15:24:37.388Z"
   },
   {
    "duration": 88,
    "start_time": "2021-12-28T15:24:37.402Z"
   },
   {
    "duration": 41,
    "start_time": "2021-12-28T15:24:37.492Z"
   },
   {
    "duration": 37,
    "start_time": "2021-12-28T15:24:37.559Z"
   },
   {
    "duration": 21,
    "start_time": "2021-12-28T15:24:37.598Z"
   },
   {
    "duration": 60,
    "start_time": "2021-12-28T15:24:37.622Z"
   },
   {
    "duration": 25,
    "start_time": "2021-12-28T15:24:37.684Z"
   },
   {
    "duration": 52,
    "start_time": "2021-12-28T15:24:37.712Z"
   },
   {
    "duration": 5,
    "start_time": "2021-12-28T15:24:37.766Z"
   },
   {
    "duration": 20,
    "start_time": "2021-12-28T15:24:37.773Z"
   },
   {
    "duration": 317,
    "start_time": "2021-12-28T15:24:37.796Z"
   },
   {
    "duration": 282,
    "start_time": "2021-12-28T15:24:38.115Z"
   },
   {
    "duration": 274,
    "start_time": "2021-12-28T15:24:38.400Z"
   },
   {
    "duration": 373,
    "start_time": "2021-12-28T15:24:38.678Z"
   },
   {
    "duration": 52,
    "start_time": "2021-12-28T15:24:39.058Z"
   },
   {
    "duration": 7,
    "start_time": "2021-12-28T15:24:39.113Z"
   },
   {
    "duration": 10,
    "start_time": "2021-12-28T15:24:39.122Z"
   },
   {
    "duration": 8,
    "start_time": "2021-12-28T15:24:39.160Z"
   },
   {
    "duration": 8,
    "start_time": "2021-12-28T15:24:39.170Z"
   },
   {
    "duration": 40,
    "start_time": "2021-12-28T15:24:39.180Z"
   },
   {
    "duration": 25,
    "start_time": "2021-12-28T15:25:56.627Z"
   },
   {
    "duration": 16,
    "start_time": "2021-12-28T15:39:14.196Z"
   },
   {
    "duration": 6,
    "start_time": "2021-12-28T15:39:40.420Z"
   },
   {
    "duration": 20,
    "start_time": "2021-12-28T15:39:48.973Z"
   },
   {
    "duration": 5,
    "start_time": "2021-12-28T15:39:52.213Z"
   },
   {
    "duration": 1479,
    "start_time": "2021-12-28T15:42:43.041Z"
   },
   {
    "duration": 557,
    "start_time": "2021-12-28T15:42:44.523Z"
   },
   {
    "duration": 10,
    "start_time": "2021-12-28T15:42:45.083Z"
   },
   {
    "duration": 21,
    "start_time": "2021-12-28T15:42:45.096Z"
   },
   {
    "duration": 8,
    "start_time": "2021-12-28T15:42:45.119Z"
   },
   {
    "duration": 30,
    "start_time": "2021-12-28T15:42:45.129Z"
   },
   {
    "duration": 12,
    "start_time": "2021-12-28T15:42:45.162Z"
   },
   {
    "duration": 10,
    "start_time": "2021-12-28T15:42:45.176Z"
   },
   {
    "duration": 27,
    "start_time": "2021-12-28T15:42:45.190Z"
   },
   {
    "duration": 48,
    "start_time": "2021-12-28T15:42:45.220Z"
   },
   {
    "duration": 42,
    "start_time": "2021-12-28T15:42:45.271Z"
   },
   {
    "duration": 6,
    "start_time": "2021-12-28T15:42:45.316Z"
   },
   {
    "duration": 44,
    "start_time": "2021-12-28T15:42:45.324Z"
   },
   {
    "duration": 20,
    "start_time": "2021-12-28T15:42:45.371Z"
   },
   {
    "duration": 11,
    "start_time": "2021-12-28T15:42:45.394Z"
   },
   {
    "duration": 86,
    "start_time": "2021-12-28T15:42:45.408Z"
   },
   {
    "duration": 8,
    "start_time": "2021-12-28T15:42:45.497Z"
   },
   {
    "duration": 63,
    "start_time": "2021-12-28T15:42:45.508Z"
   },
   {
    "duration": 14,
    "start_time": "2021-12-28T15:42:45.574Z"
   },
   {
    "duration": 16,
    "start_time": "2021-12-28T15:42:45.591Z"
   },
   {
    "duration": 21,
    "start_time": "2021-12-28T15:42:45.610Z"
   },
   {
    "duration": 35,
    "start_time": "2021-12-28T15:42:45.660Z"
   },
   {
    "duration": 9,
    "start_time": "2021-12-28T15:42:45.697Z"
   },
   {
    "duration": 9,
    "start_time": "2021-12-28T15:42:45.709Z"
   },
   {
    "duration": 50,
    "start_time": "2021-12-28T15:42:45.721Z"
   },
   {
    "duration": 10,
    "start_time": "2021-12-28T15:42:45.774Z"
   },
   {
    "duration": 37,
    "start_time": "2021-12-28T15:42:45.790Z"
   },
   {
    "duration": 69,
    "start_time": "2021-12-28T15:42:45.830Z"
   },
   {
    "duration": 33,
    "start_time": "2021-12-28T15:42:45.902Z"
   },
   {
    "duration": 21,
    "start_time": "2021-12-28T15:42:45.960Z"
   },
   {
    "duration": 36,
    "start_time": "2021-12-28T15:42:45.984Z"
   },
   {
    "duration": 50,
    "start_time": "2021-12-28T15:42:46.024Z"
   },
   {
    "duration": 30,
    "start_time": "2021-12-28T15:42:46.077Z"
   },
   {
    "duration": 5,
    "start_time": "2021-12-28T15:42:46.110Z"
   },
   {
    "duration": 58,
    "start_time": "2021-12-28T15:42:46.119Z"
   },
   {
    "duration": 309,
    "start_time": "2021-12-28T15:42:46.180Z"
   },
   {
    "duration": 280,
    "start_time": "2021-12-28T15:42:46.491Z"
   },
   {
    "duration": 291,
    "start_time": "2021-12-28T15:42:46.774Z"
   },
   {
    "duration": 291,
    "start_time": "2021-12-28T15:42:47.068Z"
   },
   {
    "duration": 665,
    "start_time": "2021-12-28T15:42:47.362Z"
   },
   {
    "duration": -392,
    "start_time": "2021-12-28T15:42:48.422Z"
   },
   {
    "duration": -394,
    "start_time": "2021-12-28T15:42:48.426Z"
   },
   {
    "duration": -407,
    "start_time": "2021-12-28T15:42:48.441Z"
   },
   {
    "duration": -408,
    "start_time": "2021-12-28T15:42:48.444Z"
   },
   {
    "duration": -420,
    "start_time": "2021-12-28T15:42:48.458Z"
   },
   {
    "duration": -421,
    "start_time": "2021-12-28T15:42:48.461Z"
   },
   {
    "duration": -432,
    "start_time": "2021-12-28T15:42:48.473Z"
   },
   {
    "duration": -433,
    "start_time": "2021-12-28T15:42:48.476Z"
   },
   {
    "duration": 19,
    "start_time": "2021-12-28T15:43:15.860Z"
   },
   {
    "duration": 16,
    "start_time": "2021-12-28T15:45:12.775Z"
   },
   {
    "duration": 42,
    "start_time": "2021-12-28T15:45:25.951Z"
   },
   {
    "duration": 6,
    "start_time": "2021-12-28T15:45:30.792Z"
   },
   {
    "duration": 29,
    "start_time": "2021-12-28T15:45:46.672Z"
   },
   {
    "duration": 5,
    "start_time": "2021-12-28T15:46:06.694Z"
   },
   {
    "duration": 2041,
    "start_time": "2021-12-28T16:06:44.544Z"
   },
   {
    "duration": 852,
    "start_time": "2021-12-28T16:06:46.589Z"
   },
   {
    "duration": 12,
    "start_time": "2021-12-28T16:06:47.446Z"
   },
   {
    "duration": 23,
    "start_time": "2021-12-28T16:06:47.460Z"
   },
   {
    "duration": 8,
    "start_time": "2021-12-28T16:06:47.485Z"
   },
   {
    "duration": 7,
    "start_time": "2021-12-28T16:06:47.495Z"
   },
   {
    "duration": 11,
    "start_time": "2021-12-28T16:06:47.504Z"
   },
   {
    "duration": 45,
    "start_time": "2021-12-28T16:06:47.518Z"
   },
   {
    "duration": 27,
    "start_time": "2021-12-28T16:06:47.569Z"
   },
   {
    "duration": 12,
    "start_time": "2021-12-28T16:06:47.600Z"
   },
   {
    "duration": 82,
    "start_time": "2021-12-28T16:06:47.616Z"
   },
   {
    "duration": 8,
    "start_time": "2021-12-28T16:06:47.700Z"
   },
   {
    "duration": 48,
    "start_time": "2021-12-28T16:06:47.711Z"
   },
   {
    "duration": 22,
    "start_time": "2021-12-28T16:06:47.761Z"
   },
   {
    "duration": 12,
    "start_time": "2021-12-28T16:06:47.786Z"
   },
   {
    "duration": 59,
    "start_time": "2021-12-28T16:06:47.800Z"
   },
   {
    "duration": 6,
    "start_time": "2021-12-28T16:06:47.861Z"
   },
   {
    "duration": 22,
    "start_time": "2021-12-28T16:06:47.870Z"
   },
   {
    "duration": 11,
    "start_time": "2021-12-28T16:06:47.895Z"
   },
   {
    "duration": 52,
    "start_time": "2021-12-28T16:06:47.908Z"
   },
   {
    "duration": 16,
    "start_time": "2021-12-28T16:06:47.962Z"
   },
   {
    "duration": 34,
    "start_time": "2021-12-28T16:06:47.981Z"
   },
   {
    "duration": 7,
    "start_time": "2021-12-28T16:06:48.017Z"
   },
   {
    "duration": 35,
    "start_time": "2021-12-28T16:06:48.026Z"
   },
   {
    "duration": 16,
    "start_time": "2021-12-28T16:06:48.064Z"
   },
   {
    "duration": 8,
    "start_time": "2021-12-28T16:06:48.083Z"
   },
   {
    "duration": 84,
    "start_time": "2021-12-28T16:06:48.099Z"
   },
   {
    "duration": 43,
    "start_time": "2021-12-28T16:06:48.187Z"
   },
   {
    "duration": 57,
    "start_time": "2021-12-28T16:06:48.233Z"
   },
   {
    "duration": 22,
    "start_time": "2021-12-28T16:06:48.293Z"
   },
   {
    "duration": 65,
    "start_time": "2021-12-28T16:06:48.318Z"
   },
   {
    "duration": 25,
    "start_time": "2021-12-28T16:06:48.385Z"
   },
   {
    "duration": 60,
    "start_time": "2021-12-28T16:06:48.412Z"
   },
   {
    "duration": 4,
    "start_time": "2021-12-28T16:06:48.475Z"
   },
   {
    "duration": 31,
    "start_time": "2021-12-28T16:06:48.481Z"
   },
   {
    "duration": 319,
    "start_time": "2021-12-28T16:06:48.514Z"
   },
   {
    "duration": 288,
    "start_time": "2021-12-28T16:06:48.836Z"
   },
   {
    "duration": 292,
    "start_time": "2021-12-28T16:06:49.126Z"
   },
   {
    "duration": 295,
    "start_time": "2021-12-28T16:06:49.420Z"
   },
   {
    "duration": 12,
    "start_time": "2021-12-28T16:06:49.717Z"
   },
   {
    "duration": 66,
    "start_time": "2021-12-28T16:06:49.732Z"
   },
   {
    "duration": 8,
    "start_time": "2021-12-28T16:06:49.801Z"
   },
   {
    "duration": 7,
    "start_time": "2021-12-28T16:06:49.811Z"
   },
   {
    "duration": 41,
    "start_time": "2021-12-28T16:06:49.820Z"
   },
   {
    "duration": 241,
    "start_time": "2021-12-28T16:06:49.864Z"
   },
   {
    "duration": 26,
    "start_time": "2021-12-28T16:06:50.107Z"
   },
   {
    "duration": 24,
    "start_time": "2021-12-28T16:06:50.136Z"
   },
   {
    "duration": 7,
    "start_time": "2021-12-28T16:07:43.566Z"
   },
   {
    "duration": 8,
    "start_time": "2021-12-28T16:07:55.674Z"
   },
   {
    "duration": 8,
    "start_time": "2021-12-28T16:08:08.293Z"
   },
   {
    "duration": 284,
    "start_time": "2021-12-28T16:08:27.676Z"
   },
   {
    "duration": 264,
    "start_time": "2021-12-28T16:08:40.470Z"
   },
   {
    "duration": 277,
    "start_time": "2021-12-28T16:08:51.288Z"
   },
   {
    "duration": 265,
    "start_time": "2021-12-28T16:09:01.741Z"
   },
   {
    "duration": 509,
    "start_time": "2021-12-28T16:10:31.872Z"
   },
   {
    "duration": 20,
    "start_time": "2021-12-28T16:10:36.782Z"
   },
   {
    "duration": 1494,
    "start_time": "2021-12-28T22:18:22.751Z"
   },
   {
    "duration": 565,
    "start_time": "2021-12-28T22:18:24.743Z"
   },
   {
    "duration": 11,
    "start_time": "2021-12-28T22:18:25.833Z"
   },
   {
    "duration": 30,
    "start_time": "2021-12-28T22:18:26.441Z"
   },
   {
    "duration": 9,
    "start_time": "2021-12-28T22:18:28.510Z"
   },
   {
    "duration": 6,
    "start_time": "2021-12-28T22:18:31.455Z"
   },
   {
    "duration": 9,
    "start_time": "2021-12-28T22:18:32.335Z"
   },
   {
    "duration": 7,
    "start_time": "2021-12-28T22:18:32.817Z"
   },
   {
    "duration": 29,
    "start_time": "2021-12-28T22:18:35.599Z"
   },
   {
    "duration": 11,
    "start_time": "2021-12-28T22:18:35.800Z"
   },
   {
    "duration": 50,
    "start_time": "2021-12-28T22:18:37.659Z"
   },
   {
    "duration": 9,
    "start_time": "2021-12-28T22:18:37.863Z"
   },
   {
    "duration": 8,
    "start_time": "2021-12-28T22:18:38.555Z"
   },
   {
    "duration": 7,
    "start_time": "2021-12-28T22:18:55.271Z"
   },
   {
    "duration": 8,
    "start_time": "2021-12-28T22:19:18.345Z"
   },
   {
    "duration": 8,
    "start_time": "2021-12-28T22:20:04.527Z"
   },
   {
    "duration": 5,
    "start_time": "2021-12-28T22:23:31.250Z"
   },
   {
    "duration": 559,
    "start_time": "2021-12-28T22:23:31.672Z"
   },
   {
    "duration": 1372,
    "start_time": "2021-12-28T22:23:39.355Z"
   },
   {
    "duration": 562,
    "start_time": "2021-12-28T22:23:40.729Z"
   },
   {
    "duration": 11,
    "start_time": "2021-12-28T22:23:41.703Z"
   },
   {
    "duration": 21,
    "start_time": "2021-12-28T22:23:43.535Z"
   },
   {
    "duration": 8,
    "start_time": "2021-12-28T22:23:43.943Z"
   },
   {
    "duration": 7,
    "start_time": "2021-12-28T22:23:44.358Z"
   },
   {
    "duration": 10,
    "start_time": "2021-12-28T22:23:44.778Z"
   },
   {
    "duration": 8,
    "start_time": "2021-12-28T22:23:45.999Z"
   },
   {
    "duration": 28,
    "start_time": "2021-12-28T22:23:46.831Z"
   },
   {
    "duration": 12,
    "start_time": "2021-12-28T22:23:50.920Z"
   },
   {
    "duration": 48,
    "start_time": "2021-12-28T22:23:51.512Z"
   },
   {
    "duration": 7,
    "start_time": "2021-12-28T22:23:51.842Z"
   },
   {
    "duration": 9,
    "start_time": "2021-12-28T22:23:52.830Z"
   },
   {
    "duration": 26,
    "start_time": "2021-12-28T22:24:27.053Z"
   },
   {
    "duration": 11,
    "start_time": "2021-12-28T22:24:28.290Z"
   },
   {
    "duration": 25,
    "start_time": "2021-12-28T22:24:28.936Z"
   },
   {
    "duration": 585,
    "start_time": "2021-12-28T22:28:00.155Z"
   },
   {
    "duration": 7,
    "start_time": "2021-12-28T22:28:06.946Z"
   },
   {
    "duration": 24,
    "start_time": "2021-12-28T22:28:56.992Z"
   },
   {
    "duration": 12,
    "start_time": "2021-12-28T22:28:59.078Z"
   },
   {
    "duration": 11,
    "start_time": "2021-12-28T22:29:03.151Z"
   },
   {
    "duration": 16,
    "start_time": "2021-12-28T22:29:10.531Z"
   },
   {
    "duration": 35,
    "start_time": "2021-12-28T22:29:35.215Z"
   },
   {
    "duration": 7,
    "start_time": "2021-12-28T22:29:44.581Z"
   },
   {
    "duration": 8,
    "start_time": "2021-12-28T22:30:29.598Z"
   },
   {
    "duration": 48,
    "start_time": "2021-12-28T22:36:16.532Z"
   },
   {
    "duration": 46,
    "start_time": "2021-12-28T22:36:19.438Z"
   },
   {
    "duration": 288,
    "start_time": "2021-12-28T22:37:09.463Z"
   },
   {
    "duration": 320,
    "start_time": "2021-12-28T22:37:19.783Z"
   },
   {
    "duration": 320,
    "start_time": "2021-12-28T22:37:32.542Z"
   },
   {
    "duration": 12,
    "start_time": "2021-12-28T22:38:01.320Z"
   },
   {
    "duration": 1383,
    "start_time": "2021-12-28T22:38:23.907Z"
   },
   {
    "duration": 589,
    "start_time": "2021-12-28T22:38:25.293Z"
   },
   {
    "duration": 11,
    "start_time": "2021-12-28T22:38:25.885Z"
   },
   {
    "duration": 21,
    "start_time": "2021-12-28T22:38:25.898Z"
   },
   {
    "duration": 8,
    "start_time": "2021-12-28T22:38:25.922Z"
   },
   {
    "duration": 10,
    "start_time": "2021-12-28T22:38:25.932Z"
   },
   {
    "duration": 32,
    "start_time": "2021-12-28T22:38:25.945Z"
   },
   {
    "duration": 8,
    "start_time": "2021-12-28T22:38:25.980Z"
   },
   {
    "duration": 35,
    "start_time": "2021-12-28T22:38:27.157Z"
   },
   {
    "duration": 11,
    "start_time": "2021-12-28T22:38:27.327Z"
   },
   {
    "duration": 57,
    "start_time": "2021-12-28T22:38:29.157Z"
   },
   {
    "duration": 7,
    "start_time": "2021-12-28T22:38:29.331Z"
   },
   {
    "duration": 8,
    "start_time": "2021-12-28T22:38:29.548Z"
   },
   {
    "duration": 21,
    "start_time": "2021-12-28T22:38:34.597Z"
   },
   {
    "duration": 11,
    "start_time": "2021-12-28T22:38:34.787Z"
   },
   {
    "duration": 30,
    "start_time": "2021-12-28T22:38:34.967Z"
   },
   {
    "duration": 7,
    "start_time": "2021-12-28T22:38:36.436Z"
   },
   {
    "duration": 23,
    "start_time": "2021-12-28T22:38:36.917Z"
   },
   {
    "duration": 12,
    "start_time": "2021-12-28T22:38:37.396Z"
   },
   {
    "duration": 11,
    "start_time": "2021-12-28T22:38:37.887Z"
   },
   {
    "duration": 16,
    "start_time": "2021-12-28T22:38:46.740Z"
   },
   {
    "duration": 38,
    "start_time": "2021-12-28T22:38:49.314Z"
   },
   {
    "duration": 8,
    "start_time": "2021-12-28T22:38:49.671Z"
   },
   {
    "duration": 9,
    "start_time": "2021-12-28T22:38:49.980Z"
   },
   {
    "duration": 13,
    "start_time": "2021-12-28T22:38:53.587Z"
   },
   {
    "duration": 46,
    "start_time": "2021-12-28T22:38:56.793Z"
   },
   {
    "duration": 13,
    "start_time": "2021-12-28T22:38:57.995Z"
   },
   {
    "duration": 49,
    "start_time": "2021-12-28T22:39:03.637Z"
   },
   {
    "duration": 1322,
    "start_time": "2021-12-28T22:40:37.012Z"
   },
   {
    "duration": 617,
    "start_time": "2021-12-28T22:40:38.337Z"
   },
   {
    "duration": 12,
    "start_time": "2021-12-28T22:40:38.956Z"
   },
   {
    "duration": 23,
    "start_time": "2021-12-28T22:40:38.971Z"
   },
   {
    "duration": 11,
    "start_time": "2021-12-28T22:40:38.997Z"
   },
   {
    "duration": 15,
    "start_time": "2021-12-28T22:40:39.010Z"
   },
   {
    "duration": 39,
    "start_time": "2021-12-28T22:40:39.027Z"
   },
   {
    "duration": 23,
    "start_time": "2021-12-28T22:40:39.068Z"
   },
   {
    "duration": 33,
    "start_time": "2021-12-28T22:40:39.096Z"
   },
   {
    "duration": 12,
    "start_time": "2021-12-28T22:40:39.132Z"
   },
   {
    "duration": 65,
    "start_time": "2021-12-28T22:40:39.146Z"
   },
   {
    "duration": 7,
    "start_time": "2021-12-28T22:40:39.214Z"
   },
   {
    "duration": 17,
    "start_time": "2021-12-28T22:40:39.224Z"
   },
   {
    "duration": 27,
    "start_time": "2021-12-28T22:40:39.266Z"
   },
   {
    "duration": 11,
    "start_time": "2021-12-28T22:40:39.296Z"
   },
   {
    "duration": 33,
    "start_time": "2021-12-28T22:40:39.310Z"
   },
   {
    "duration": 7,
    "start_time": "2021-12-28T22:40:39.364Z"
   },
   {
    "duration": 45,
    "start_time": "2021-12-28T22:40:39.373Z"
   },
   {
    "duration": 12,
    "start_time": "2021-12-28T22:40:39.420Z"
   },
   {
    "duration": 41,
    "start_time": "2021-12-28T22:40:39.435Z"
   },
   {
    "duration": 17,
    "start_time": "2021-12-28T22:40:39.479Z"
   },
   {
    "duration": 37,
    "start_time": "2021-12-28T22:40:39.498Z"
   },
   {
    "duration": 33,
    "start_time": "2021-12-28T22:40:39.537Z"
   },
   {
    "duration": 8,
    "start_time": "2021-12-28T22:40:39.574Z"
   },
   {
    "duration": 15,
    "start_time": "2021-12-28T22:40:39.585Z"
   },
   {
    "duration": 68,
    "start_time": "2021-12-28T22:40:39.603Z"
   },
   {
    "duration": 44,
    "start_time": "2021-12-28T22:40:39.676Z"
   },
   {
    "duration": 50,
    "start_time": "2021-12-28T22:40:39.723Z"
   },
   {
    "duration": 23,
    "start_time": "2021-12-28T22:40:39.775Z"
   },
   {
    "duration": 34,
    "start_time": "2021-12-28T22:40:39.800Z"
   },
   {
    "duration": 54,
    "start_time": "2021-12-28T22:40:39.837Z"
   },
   {
    "duration": 28,
    "start_time": "2021-12-28T22:40:39.893Z"
   },
   {
    "duration": 4,
    "start_time": "2021-12-28T22:40:39.924Z"
   },
   {
    "duration": 53,
    "start_time": "2021-12-28T22:40:39.932Z"
   },
   {
    "duration": 14,
    "start_time": "2021-12-28T22:40:39.988Z"
   },
   {
    "duration": 78,
    "start_time": "2021-12-28T22:40:40.005Z"
   },
   {
    "duration": 7,
    "start_time": "2021-12-28T22:40:40.086Z"
   },
   {
    "duration": 9,
    "start_time": "2021-12-28T22:40:40.096Z"
   },
   {
    "duration": 276,
    "start_time": "2021-12-28T22:40:40.109Z"
   },
   {
    "duration": 19,
    "start_time": "2021-12-28T22:40:40.388Z"
   },
   {
    "duration": 314,
    "start_time": "2021-12-28T22:40:40.409Z"
   },
   {
    "duration": 290,
    "start_time": "2021-12-28T22:40:40.725Z"
   },
   {
    "duration": 291,
    "start_time": "2021-12-28T22:40:41.018Z"
   },
   {
    "duration": 293,
    "start_time": "2021-12-28T22:40:41.311Z"
   },
   {
    "duration": 3,
    "start_time": "2021-12-28T22:40:41.607Z"
   },
   {
    "duration": 97,
    "start_time": "2021-12-28T22:51:43.147Z"
   },
   {
    "duration": 11,
    "start_time": "2021-12-28T23:02:58.941Z"
   },
   {
    "duration": 15,
    "start_time": "2021-12-28T23:03:13.218Z"
   },
   {
    "duration": 433,
    "start_time": "2021-12-28T23:03:22.351Z"
   },
   {
    "duration": 296,
    "start_time": "2021-12-28T23:03:38.346Z"
   },
   {
    "duration": 17,
    "start_time": "2021-12-28T23:03:45.991Z"
   },
   {
    "duration": 335,
    "start_time": "2021-12-28T23:04:20.152Z"
   },
   {
    "duration": 11,
    "start_time": "2021-12-28T23:04:45.032Z"
   },
   {
    "duration": 11,
    "start_time": "2021-12-28T23:05:32.302Z"
   },
   {
    "duration": 11,
    "start_time": "2021-12-28T23:05:42.701Z"
   },
   {
    "duration": 16,
    "start_time": "2021-12-28T23:06:03.252Z"
   },
   {
    "duration": 11,
    "start_time": "2021-12-28T23:06:33.480Z"
   },
   {
    "duration": 391,
    "start_time": "2021-12-28T23:10:15.260Z"
   },
   {
    "duration": 7617,
    "start_time": "2021-12-28T23:10:23.306Z"
   },
   {
    "duration": 2729,
    "start_time": "2021-12-28T23:10:46.507Z"
   },
   {
    "duration": 7628,
    "start_time": "2021-12-28T23:12:32.027Z"
   },
   {
    "duration": 25,
    "start_time": "2021-12-28T23:12:45.971Z"
   },
   {
    "duration": 1380,
    "start_time": "2021-12-28T23:32:30.191Z"
   },
   {
    "duration": 580,
    "start_time": "2021-12-28T23:32:31.573Z"
   },
   {
    "duration": 10,
    "start_time": "2021-12-28T23:32:32.157Z"
   },
   {
    "duration": 25,
    "start_time": "2021-12-28T23:32:32.170Z"
   },
   {
    "duration": 9,
    "start_time": "2021-12-28T23:32:32.197Z"
   },
   {
    "duration": 11,
    "start_time": "2021-12-28T23:32:32.208Z"
   },
   {
    "duration": 44,
    "start_time": "2021-12-28T23:32:32.221Z"
   },
   {
    "duration": 9,
    "start_time": "2021-12-28T23:32:32.271Z"
   },
   {
    "duration": 28,
    "start_time": "2021-12-28T23:32:32.283Z"
   },
   {
    "duration": 10,
    "start_time": "2021-12-28T23:32:32.314Z"
   },
   {
    "duration": 81,
    "start_time": "2021-12-28T23:32:32.327Z"
   },
   {
    "duration": 7,
    "start_time": "2021-12-28T23:32:32.411Z"
   },
   {
    "duration": 10,
    "start_time": "2021-12-28T23:32:32.421Z"
   },
   {
    "duration": 47,
    "start_time": "2021-12-28T23:32:32.434Z"
   },
   {
    "duration": 11,
    "start_time": "2021-12-28T23:32:32.483Z"
   },
   {
    "duration": 27,
    "start_time": "2021-12-28T23:32:32.497Z"
   },
   {
    "duration": 45,
    "start_time": "2021-12-28T23:32:32.527Z"
   },
   {
    "duration": 23,
    "start_time": "2021-12-28T23:32:32.574Z"
   },
   {
    "duration": 12,
    "start_time": "2021-12-28T23:32:32.599Z"
   },
   {
    "duration": 14,
    "start_time": "2021-12-28T23:32:32.613Z"
   },
   {
    "duration": 48,
    "start_time": "2021-12-28T23:32:32.629Z"
   },
   {
    "duration": 35,
    "start_time": "2021-12-28T23:32:32.679Z"
   },
   {
    "duration": 7,
    "start_time": "2021-12-28T23:32:32.719Z"
   },
   {
    "duration": 39,
    "start_time": "2021-12-28T23:32:32.729Z"
   },
   {
    "duration": 13,
    "start_time": "2021-12-28T23:32:32.771Z"
   },
   {
    "duration": 38,
    "start_time": "2021-12-28T23:32:32.786Z"
   },
   {
    "duration": 70,
    "start_time": "2021-12-28T23:32:32.826Z"
   },
   {
    "duration": 35,
    "start_time": "2021-12-28T23:32:32.899Z"
   },
   {
    "duration": 43,
    "start_time": "2021-12-28T23:32:32.936Z"
   },
   {
    "duration": 35,
    "start_time": "2021-12-28T23:32:32.981Z"
   },
   {
    "duration": 56,
    "start_time": "2021-12-28T23:32:33.019Z"
   },
   {
    "duration": 30,
    "start_time": "2021-12-28T23:32:33.077Z"
   },
   {
    "duration": 4,
    "start_time": "2021-12-28T23:32:33.109Z"
   },
   {
    "duration": 56,
    "start_time": "2021-12-28T23:32:33.115Z"
   },
   {
    "duration": 15,
    "start_time": "2021-12-28T23:32:33.173Z"
   },
   {
    "duration": 42,
    "start_time": "2021-12-28T23:32:33.191Z"
   },
   {
    "duration": 5,
    "start_time": "2021-12-28T23:32:33.235Z"
   },
   {
    "duration": 8,
    "start_time": "2021-12-28T23:32:33.263Z"
   },
   {
    "duration": 259,
    "start_time": "2021-12-28T23:32:33.275Z"
   },
   {
    "duration": 29,
    "start_time": "2021-12-28T23:32:33.537Z"
   },
   {
    "duration": 13,
    "start_time": "2021-12-28T23:32:33.575Z"
   },
   {
    "duration": 313,
    "start_time": "2021-12-28T23:32:33.590Z"
   },
   {
    "duration": 300,
    "start_time": "2021-12-28T23:32:33.905Z"
   },
   {
    "duration": 295,
    "start_time": "2021-12-28T23:32:34.208Z"
   },
   {
    "duration": 281,
    "start_time": "2021-12-28T23:32:34.506Z"
   },
   {
    "duration": 3,
    "start_time": "2021-12-28T23:32:34.789Z"
   },
   {
    "duration": 10,
    "start_time": "2021-12-28T23:35:49.354Z"
   },
   {
    "duration": 23,
    "start_time": "2021-12-28T23:37:23.853Z"
   },
   {
    "duration": 20,
    "start_time": "2021-12-28T23:37:32.184Z"
   },
   {
    "duration": 19,
    "start_time": "2021-12-28T23:40:19.131Z"
   },
   {
    "duration": 307,
    "start_time": "2021-12-28T23:43:14.504Z"
   },
   {
    "duration": 340,
    "start_time": "2021-12-28T23:45:45.601Z"
   },
   {
    "duration": 424,
    "start_time": "2021-12-28T23:46:21.895Z"
   },
   {
    "duration": 292,
    "start_time": "2021-12-28T23:46:26.235Z"
   },
   {
    "duration": 383,
    "start_time": "2021-12-28T23:46:34.406Z"
   },
   {
    "duration": 460,
    "start_time": "2021-12-28T23:46:41.640Z"
   },
   {
    "duration": 492,
    "start_time": "2021-12-28T23:46:47.085Z"
   },
   {
    "duration": 682,
    "start_time": "2021-12-28T23:48:07.525Z"
   },
   {
    "duration": 1269,
    "start_time": "2021-12-28T23:49:34.804Z"
   },
   {
    "duration": 562,
    "start_time": "2021-12-28T23:50:29.869Z"
   },
   {
    "duration": 862,
    "start_time": "2021-12-28T23:50:48.143Z"
   },
   {
    "duration": 584,
    "start_time": "2021-12-28T23:50:56.163Z"
   },
   {
    "duration": 609,
    "start_time": "2021-12-28T23:52:22.134Z"
   },
   {
    "duration": 584,
    "start_time": "2021-12-28T23:56:41.714Z"
   },
   {
    "duration": 616,
    "start_time": "2021-12-28T23:57:43.363Z"
   },
   {
    "duration": 704,
    "start_time": "2021-12-28T23:57:50.074Z"
   },
   {
    "duration": 866,
    "start_time": "2021-12-28T23:58:06.383Z"
   },
   {
    "duration": 724,
    "start_time": "2021-12-29T00:00:24.265Z"
   },
   {
    "duration": 593,
    "start_time": "2021-12-29T00:02:09.489Z"
   },
   {
    "duration": 622,
    "start_time": "2021-12-29T00:02:49.201Z"
   },
   {
    "duration": 593,
    "start_time": "2021-12-29T00:02:54.851Z"
   },
   {
    "duration": 318,
    "start_time": "2021-12-29T00:03:14.104Z"
   },
   {
    "duration": 885,
    "start_time": "2021-12-29T00:03:27.581Z"
   },
   {
    "duration": 362,
    "start_time": "2021-12-29T00:08:25.836Z"
   },
   {
    "duration": 551,
    "start_time": "2021-12-29T00:08:46.946Z"
   },
   {
    "duration": 6,
    "start_time": "2021-12-29T00:09:06.795Z"
   },
   {
    "duration": 294,
    "start_time": "2021-12-29T00:09:12.136Z"
   },
   {
    "duration": 924,
    "start_time": "2021-12-29T00:10:39.346Z"
   },
   {
    "duration": 590,
    "start_time": "2021-12-29T00:10:57.346Z"
   },
   {
    "duration": 306,
    "start_time": "2021-12-29T00:13:56.424Z"
   },
   {
    "duration": 295,
    "start_time": "2021-12-29T00:14:25.028Z"
   },
   {
    "duration": 783,
    "start_time": "2021-12-29T00:23:14.440Z"
   },
   {
    "duration": 754,
    "start_time": "2021-12-29T00:24:19.360Z"
   },
   {
    "duration": 1079,
    "start_time": "2021-12-29T00:24:25.760Z"
   },
   {
    "duration": 552,
    "start_time": "2021-12-29T00:24:37.758Z"
   },
   {
    "duration": 540,
    "start_time": "2021-12-29T00:24:50.264Z"
   },
   {
    "duration": 921,
    "start_time": "2021-12-29T00:24:57.530Z"
   },
   {
    "duration": 851,
    "start_time": "2021-12-29T00:25:17.931Z"
   },
   {
    "duration": 741,
    "start_time": "2021-12-29T00:25:46.680Z"
   },
   {
    "duration": 749,
    "start_time": "2021-12-29T00:27:31.826Z"
   },
   {
    "duration": 764,
    "start_time": "2021-12-29T00:27:39.864Z"
   },
   {
    "duration": 509,
    "start_time": "2021-12-29T00:27:45.526Z"
   },
   {
    "duration": 732,
    "start_time": "2021-12-29T00:28:28.215Z"
   },
   {
    "duration": 751,
    "start_time": "2021-12-29T00:28:43.152Z"
   },
   {
    "duration": 533,
    "start_time": "2021-12-29T00:28:49.726Z"
   },
   {
    "duration": 786,
    "start_time": "2021-12-29T00:28:57.795Z"
   },
   {
    "duration": 537,
    "start_time": "2021-12-29T00:29:02.996Z"
   },
   {
    "duration": 527,
    "start_time": "2021-12-29T00:29:30.174Z"
   },
   {
    "duration": 520,
    "start_time": "2021-12-29T00:30:29.505Z"
   },
   {
    "duration": 522,
    "start_time": "2021-12-29T00:30:44.514Z"
   },
   {
    "duration": 521,
    "start_time": "2021-12-29T00:31:33.417Z"
   },
   {
    "duration": 708,
    "start_time": "2021-12-29T00:31:40.505Z"
   },
   {
    "duration": 975,
    "start_time": "2021-12-29T00:32:05.005Z"
   },
   {
    "duration": 963,
    "start_time": "2021-12-29T00:32:13.944Z"
   },
   {
    "duration": 1563,
    "start_time": "2021-12-29T00:32:22.535Z"
   },
   {
    "duration": 676,
    "start_time": "2021-12-29T00:32:27.801Z"
   },
   {
    "duration": 952,
    "start_time": "2021-12-29T00:32:37.472Z"
   },
   {
    "duration": 335,
    "start_time": "2021-12-29T00:33:01.410Z"
   },
   {
    "duration": 985,
    "start_time": "2021-12-29T00:33:05.900Z"
   },
   {
    "duration": 1176,
    "start_time": "2021-12-29T00:36:00.920Z"
   },
   {
    "duration": 851,
    "start_time": "2021-12-29T00:36:14.039Z"
   },
   {
    "duration": 675,
    "start_time": "2021-12-29T00:36:29.859Z"
   },
   {
    "duration": 732,
    "start_time": "2021-12-29T00:36:34.468Z"
   },
   {
    "duration": 668,
    "start_time": "2021-12-29T00:36:52.069Z"
   },
   {
    "duration": 827,
    "start_time": "2021-12-29T00:36:59.159Z"
   },
   {
    "duration": 731,
    "start_time": "2021-12-29T00:37:05.819Z"
   },
   {
    "duration": 707,
    "start_time": "2021-12-29T00:38:42.590Z"
   },
   {
    "duration": 913,
    "start_time": "2021-12-29T00:38:47.607Z"
   },
   {
    "duration": 4,
    "start_time": "2021-12-29T00:43:01.095Z"
   },
   {
    "duration": 927,
    "start_time": "2021-12-29T00:45:14.583Z"
   },
   {
    "duration": 922,
    "start_time": "2021-12-29T00:46:25.712Z"
   },
   {
    "duration": 587,
    "start_time": "2021-12-29T00:46:46.315Z"
   },
   {
    "duration": 1762,
    "start_time": "2021-12-29T00:47:10.625Z"
   },
   {
    "duration": 891,
    "start_time": "2021-12-29T00:47:34.874Z"
   },
   {
    "duration": 127,
    "start_time": "2021-12-29T00:53:14.272Z"
   },
   {
    "duration": 331,
    "start_time": "2021-12-29T00:53:24.955Z"
   },
   {
    "duration": 466,
    "start_time": "2021-12-29T00:54:05.684Z"
   },
   {
    "duration": 293,
    "start_time": "2021-12-29T00:59:05.963Z"
   },
   {
    "duration": 488,
    "start_time": "2021-12-29T01:02:28.404Z"
   },
   {
    "duration": 483,
    "start_time": "2021-12-29T01:02:48.123Z"
   },
   {
    "duration": 488,
    "start_time": "2021-12-29T01:04:44.407Z"
   },
   {
    "duration": 503,
    "start_time": "2021-12-29T01:04:49.392Z"
   },
   {
    "duration": 356,
    "start_time": "2021-12-29T01:05:54.668Z"
   },
   {
    "duration": 490,
    "start_time": "2021-12-29T01:06:03.964Z"
   },
   {
    "duration": 759,
    "start_time": "2021-12-29T01:06:13.966Z"
   },
   {
    "duration": 465,
    "start_time": "2021-12-29T01:07:06.046Z"
   },
   {
    "duration": 569,
    "start_time": "2021-12-29T01:07:12.616Z"
   },
   {
    "duration": 582,
    "start_time": "2021-12-29T01:07:21.846Z"
   },
   {
    "duration": 762,
    "start_time": "2021-12-29T01:07:25.426Z"
   },
   {
    "duration": 539,
    "start_time": "2021-12-29T01:07:42.112Z"
   },
   {
    "duration": 591,
    "start_time": "2021-12-29T01:08:03.944Z"
   },
   {
    "duration": 571,
    "start_time": "2021-12-29T01:08:11.224Z"
   },
   {
    "duration": 541,
    "start_time": "2021-12-29T01:08:39.591Z"
   },
   {
    "duration": 594,
    "start_time": "2021-12-29T01:08:43.961Z"
   },
   {
    "duration": 12,
    "start_time": "2021-12-29T01:09:16.520Z"
   },
   {
    "duration": 597,
    "start_time": "2021-12-29T01:09:18.935Z"
   },
   {
    "duration": 548,
    "start_time": "2021-12-29T01:11:23.311Z"
   },
   {
    "duration": 384,
    "start_time": "2021-12-29T01:11:45.143Z"
   },
   {
    "duration": 1498,
    "start_time": "2021-12-29T01:12:52.438Z"
   },
   {
    "duration": 570,
    "start_time": "2021-12-29T01:12:53.938Z"
   },
   {
    "duration": 13,
    "start_time": "2021-12-29T01:12:54.513Z"
   },
   {
    "duration": 20,
    "start_time": "2021-12-29T01:12:54.529Z"
   },
   {
    "duration": 15,
    "start_time": "2021-12-29T01:12:54.562Z"
   },
   {
    "duration": 6,
    "start_time": "2021-12-29T01:12:54.579Z"
   },
   {
    "duration": 8,
    "start_time": "2021-12-29T01:12:54.588Z"
   },
   {
    "duration": 7,
    "start_time": "2021-12-29T01:12:54.599Z"
   },
   {
    "duration": 71,
    "start_time": "2021-12-29T01:12:54.609Z"
   },
   {
    "duration": 10,
    "start_time": "2021-12-29T01:12:54.683Z"
   },
   {
    "duration": 42,
    "start_time": "2021-12-29T01:12:54.696Z"
   },
   {
    "duration": 30,
    "start_time": "2021-12-29T01:12:54.741Z"
   },
   {
    "duration": 8,
    "start_time": "2021-12-29T01:12:54.774Z"
   },
   {
    "duration": 23,
    "start_time": "2021-12-29T01:12:54.784Z"
   },
   {
    "duration": 10,
    "start_time": "2021-12-29T01:12:54.810Z"
   },
   {
    "duration": 70,
    "start_time": "2021-12-29T01:12:54.822Z"
   },
   {
    "duration": 8,
    "start_time": "2021-12-29T01:12:54.894Z"
   },
   {
    "duration": 22,
    "start_time": "2021-12-29T01:12:54.904Z"
   },
   {
    "duration": 11,
    "start_time": "2021-12-29T01:12:54.928Z"
   },
   {
    "duration": 13,
    "start_time": "2021-12-29T01:12:54.962Z"
   },
   {
    "duration": 19,
    "start_time": "2021-12-29T01:12:54.978Z"
   },
   {
    "duration": 79,
    "start_time": "2021-12-29T01:12:54.999Z"
   },
   {
    "duration": 7,
    "start_time": "2021-12-29T01:12:55.086Z"
   },
   {
    "duration": 8,
    "start_time": "2021-12-29T01:12:55.096Z"
   },
   {
    "duration": 12,
    "start_time": "2021-12-29T01:12:55.107Z"
   },
   {
    "duration": 68,
    "start_time": "2021-12-29T01:12:55.121Z"
   },
   {
    "duration": 43,
    "start_time": "2021-12-29T01:12:55.192Z"
   },
   {
    "duration": 58,
    "start_time": "2021-12-29T01:12:55.237Z"
   },
   {
    "duration": 21,
    "start_time": "2021-12-29T01:12:55.297Z"
   },
   {
    "duration": 60,
    "start_time": "2021-12-29T01:12:55.320Z"
   },
   {
    "duration": 24,
    "start_time": "2021-12-29T01:12:55.383Z"
   },
   {
    "duration": 27,
    "start_time": "2021-12-29T01:12:55.410Z"
   },
   {
    "duration": 24,
    "start_time": "2021-12-29T01:12:55.439Z"
   },
   {
    "duration": 27,
    "start_time": "2021-12-29T01:12:55.466Z"
   },
   {
    "duration": 14,
    "start_time": "2021-12-29T01:12:55.497Z"
   },
   {
    "duration": 81,
    "start_time": "2021-12-29T01:12:55.514Z"
   },
   {
    "duration": 5,
    "start_time": "2021-12-29T01:12:55.597Z"
   },
   {
    "duration": 7,
    "start_time": "2021-12-29T01:12:55.604Z"
   },
   {
    "duration": 267,
    "start_time": "2021-12-29T01:12:55.614Z"
   },
   {
    "duration": 19,
    "start_time": "2021-12-29T01:12:55.884Z"
   },
   {
    "duration": 11,
    "start_time": "2021-12-29T01:12:55.905Z"
   },
   {
    "duration": 7,
    "start_time": "2021-12-29T01:12:55.918Z"
   },
   {
    "duration": 740,
    "start_time": "2021-12-29T01:12:55.928Z"
   },
   {
    "duration": 487,
    "start_time": "2021-12-29T01:12:56.671Z"
   },
   {
    "duration": 4,
    "start_time": "2021-12-29T01:12:57.161Z"
   },
   {
    "duration": 782,
    "start_time": "2021-12-29T01:14:18.584Z"
   },
   {
    "duration": 459,
    "start_time": "2021-12-29T01:14:52.129Z"
   },
   {
    "duration": 749,
    "start_time": "2021-12-29T01:22:12.629Z"
   },
   {
    "duration": 651,
    "start_time": "2021-12-29T01:22:54.849Z"
   },
   {
    "duration": 742,
    "start_time": "2021-12-29T01:24:25.544Z"
   },
   {
    "duration": 515,
    "start_time": "2021-12-29T01:24:51.304Z"
   },
   {
    "duration": 457,
    "start_time": "2021-12-29T01:24:57.157Z"
   },
   {
    "duration": 497,
    "start_time": "2021-12-29T01:25:12.103Z"
   },
   {
    "duration": 594,
    "start_time": "2021-12-29T01:28:43.155Z"
   },
   {
    "duration": 658,
    "start_time": "2021-12-29T01:28:53.185Z"
   },
   {
    "duration": 7,
    "start_time": "2021-12-29T01:37:26.509Z"
   },
   {
    "duration": 8,
    "start_time": "2021-12-29T01:37:34.289Z"
   },
   {
    "duration": 7,
    "start_time": "2021-12-29T01:37:56.519Z"
   },
   {
    "duration": 7,
    "start_time": "2021-12-29T01:37:57.221Z"
   },
   {
    "duration": 7,
    "start_time": "2021-12-29T01:38:47.224Z"
   },
   {
    "duration": 7,
    "start_time": "2021-12-29T01:38:57.279Z"
   },
   {
    "duration": 6,
    "start_time": "2021-12-29T01:39:13.623Z"
   },
   {
    "duration": 7,
    "start_time": "2021-12-29T01:39:34.584Z"
   },
   {
    "duration": 1438,
    "start_time": "2021-12-29T01:44:32.193Z"
   },
   {
    "duration": 553,
    "start_time": "2021-12-29T01:44:33.633Z"
   },
   {
    "duration": 15,
    "start_time": "2021-12-29T01:44:34.189Z"
   },
   {
    "duration": 29,
    "start_time": "2021-12-29T01:44:34.207Z"
   },
   {
    "duration": 31,
    "start_time": "2021-12-29T01:44:34.239Z"
   },
   {
    "duration": 7,
    "start_time": "2021-12-29T01:44:34.273Z"
   },
   {
    "duration": 10,
    "start_time": "2021-12-29T01:44:34.282Z"
   },
   {
    "duration": 10,
    "start_time": "2021-12-29T01:44:34.294Z"
   },
   {
    "duration": 62,
    "start_time": "2021-12-29T01:44:34.309Z"
   },
   {
    "duration": 14,
    "start_time": "2021-12-29T01:44:34.377Z"
   },
   {
    "duration": 43,
    "start_time": "2021-12-29T01:44:34.394Z"
   },
   {
    "duration": 7,
    "start_time": "2021-12-29T01:44:34.464Z"
   },
   {
    "duration": 8,
    "start_time": "2021-12-29T01:44:34.475Z"
   },
   {
    "duration": 18,
    "start_time": "2021-12-29T01:44:34.486Z"
   },
   {
    "duration": 10,
    "start_time": "2021-12-29T01:44:34.507Z"
   },
   {
    "duration": 77,
    "start_time": "2021-12-29T01:44:34.519Z"
   },
   {
    "duration": 6,
    "start_time": "2021-12-29T01:44:34.599Z"
   },
   {
    "duration": 27,
    "start_time": "2021-12-29T01:44:34.608Z"
   },
   {
    "duration": 42,
    "start_time": "2021-12-29T01:44:34.638Z"
   },
   {
    "duration": 12,
    "start_time": "2021-12-29T01:44:34.683Z"
   },
   {
    "duration": 19,
    "start_time": "2021-12-29T01:44:34.698Z"
   },
   {
    "duration": 77,
    "start_time": "2021-12-29T01:44:34.720Z"
   },
   {
    "duration": 6,
    "start_time": "2021-12-29T01:44:34.800Z"
   },
   {
    "duration": 8,
    "start_time": "2021-12-29T01:44:34.808Z"
   },
   {
    "duration": 11,
    "start_time": "2021-12-29T01:44:34.818Z"
   },
   {
    "duration": 72,
    "start_time": "2021-12-29T01:44:34.831Z"
   },
   {
    "duration": 67,
    "start_time": "2021-12-29T01:44:34.909Z"
   },
   {
    "duration": 36,
    "start_time": "2021-12-29T01:44:34.979Z"
   },
   {
    "duration": 21,
    "start_time": "2021-12-29T01:44:35.018Z"
   },
   {
    "duration": 37,
    "start_time": "2021-12-29T01:44:35.068Z"
   },
   {
    "duration": 31,
    "start_time": "2021-12-29T01:44:35.108Z"
   },
   {
    "duration": 40,
    "start_time": "2021-12-29T01:44:35.163Z"
   },
   {
    "duration": 5,
    "start_time": "2021-12-29T01:44:35.206Z"
   },
   {
    "duration": 23,
    "start_time": "2021-12-29T01:44:35.213Z"
   },
   {
    "duration": 42,
    "start_time": "2021-12-29T01:44:35.238Z"
   },
   {
    "duration": 42,
    "start_time": "2021-12-29T01:44:35.282Z"
   },
   {
    "duration": 6,
    "start_time": "2021-12-29T01:44:35.327Z"
   },
   {
    "duration": 7,
    "start_time": "2021-12-29T01:44:35.369Z"
   },
   {
    "duration": 256,
    "start_time": "2021-12-29T01:44:35.379Z"
   },
   {
    "duration": 31,
    "start_time": "2021-12-29T01:44:35.637Z"
   },
   {
    "duration": 15,
    "start_time": "2021-12-29T01:44:35.671Z"
   },
   {
    "duration": 8,
    "start_time": "2021-12-29T01:44:35.688Z"
   },
   {
    "duration": 702,
    "start_time": "2021-12-29T01:44:35.699Z"
   },
   {
    "duration": 509,
    "start_time": "2021-12-29T01:44:36.404Z"
   },
   {
    "duration": 6,
    "start_time": "2021-12-29T01:44:36.915Z"
   },
   {
    "duration": 7,
    "start_time": "2021-12-29T01:44:36.924Z"
   },
   {
    "duration": 30,
    "start_time": "2021-12-29T01:44:36.934Z"
   },
   {
    "duration": 11,
    "start_time": "2021-12-29T01:44:36.971Z"
   },
   {
    "duration": 6,
    "start_time": "2021-12-29T01:44:36.985Z"
   },
   {
    "duration": 6,
    "start_time": "2021-12-29T01:44:36.994Z"
   },
   {
    "duration": 676,
    "start_time": "2021-12-29T01:44:37.002Z"
   },
   {
    "duration": 496,
    "start_time": "2021-12-29T01:44:37.681Z"
   },
   {
    "duration": 7,
    "start_time": "2021-12-29T01:44:38.180Z"
   },
   {
    "duration": 7,
    "start_time": "2021-12-29T01:44:38.191Z"
   },
   {
    "duration": 7,
    "start_time": "2021-12-29T01:44:38.202Z"
   },
   {
    "duration": 54,
    "start_time": "2021-12-29T01:44:38.212Z"
   },
   {
    "duration": 7,
    "start_time": "2021-12-29T01:44:38.272Z"
   },
   {
    "duration": 6,
    "start_time": "2021-12-29T01:44:38.282Z"
   },
   {
    "duration": 608,
    "start_time": "2021-12-29T01:44:38.290Z"
   },
   {
    "duration": 573,
    "start_time": "2021-12-29T01:44:38.901Z"
   },
   {
    "duration": 9,
    "start_time": "2021-12-29T01:44:39.477Z"
   },
   {
    "duration": 6,
    "start_time": "2021-12-29T01:44:39.488Z"
   },
   {
    "duration": 6,
    "start_time": "2021-12-29T01:44:39.496Z"
   },
   {
    "duration": 6,
    "start_time": "2021-12-29T01:44:39.504Z"
   },
   {
    "duration": 6,
    "start_time": "2021-12-29T01:44:39.512Z"
   },
   {
    "duration": 6,
    "start_time": "2021-12-29T01:44:39.571Z"
   },
   {
    "duration": 5,
    "start_time": "2021-12-29T01:44:39.580Z"
   },
   {
    "duration": 1074,
    "start_time": "2021-12-29T14:54:46.969Z"
   },
   {
    "duration": 392,
    "start_time": "2021-12-29T14:54:48.045Z"
   },
   {
    "duration": 7,
    "start_time": "2021-12-29T14:54:48.442Z"
   },
   {
    "duration": 16,
    "start_time": "2021-12-29T14:54:48.450Z"
   },
   {
    "duration": 5,
    "start_time": "2021-12-29T14:54:48.468Z"
   },
   {
    "duration": 6,
    "start_time": "2021-12-29T14:54:48.474Z"
   },
   {
    "duration": 6,
    "start_time": "2021-12-29T14:54:48.492Z"
   },
   {
    "duration": 6,
    "start_time": "2021-12-29T14:54:48.500Z"
   },
   {
    "duration": 22,
    "start_time": "2021-12-29T14:54:48.508Z"
   },
   {
    "duration": 7,
    "start_time": "2021-12-29T14:54:48.531Z"
   },
   {
    "duration": 52,
    "start_time": "2021-12-29T14:54:48.539Z"
   },
   {
    "duration": 4,
    "start_time": "2021-12-29T14:54:48.593Z"
   },
   {
    "duration": 11,
    "start_time": "2021-12-29T14:54:48.598Z"
   },
   {
    "duration": 26,
    "start_time": "2021-12-29T14:54:48.610Z"
   },
   {
    "duration": 8,
    "start_time": "2021-12-29T14:54:48.637Z"
   },
   {
    "duration": 27,
    "start_time": "2021-12-29T14:54:48.647Z"
   },
   {
    "duration": 4,
    "start_time": "2021-12-29T14:54:48.676Z"
   },
   {
    "duration": 24,
    "start_time": "2021-12-29T14:54:48.682Z"
   },
   {
    "duration": 7,
    "start_time": "2021-12-29T14:54:48.707Z"
   },
   {
    "duration": 11,
    "start_time": "2021-12-29T14:54:48.716Z"
   },
   {
    "duration": 15,
    "start_time": "2021-12-29T14:54:48.729Z"
   },
   {
    "duration": 48,
    "start_time": "2021-12-29T14:54:48.749Z"
   },
   {
    "duration": 5,
    "start_time": "2021-12-29T14:54:48.800Z"
   },
   {
    "duration": 8,
    "start_time": "2021-12-29T14:54:48.807Z"
   },
   {
    "duration": 16,
    "start_time": "2021-12-29T14:54:48.816Z"
   },
   {
    "duration": 27,
    "start_time": "2021-12-29T14:54:48.834Z"
   },
   {
    "duration": 44,
    "start_time": "2021-12-29T14:54:48.864Z"
   },
   {
    "duration": 24,
    "start_time": "2021-12-29T14:54:48.910Z"
   },
   {
    "duration": 14,
    "start_time": "2021-12-29T14:54:48.936Z"
   },
   {
    "duration": 52,
    "start_time": "2021-12-29T14:54:48.952Z"
   },
   {
    "duration": 18,
    "start_time": "2021-12-29T14:54:49.006Z"
   },
   {
    "duration": 19,
    "start_time": "2021-12-29T14:54:49.026Z"
   },
   {
    "duration": 3,
    "start_time": "2021-12-29T14:54:49.046Z"
   },
   {
    "duration": 17,
    "start_time": "2021-12-29T14:54:49.050Z"
   },
   {
    "duration": 30,
    "start_time": "2021-12-29T14:54:49.068Z"
   },
   {
    "duration": 24,
    "start_time": "2021-12-29T14:54:49.099Z"
   },
   {
    "duration": 4,
    "start_time": "2021-12-29T14:54:49.124Z"
   },
   {
    "duration": 6,
    "start_time": "2021-12-29T14:54:49.129Z"
   },
   {
    "duration": 158,
    "start_time": "2021-12-29T14:54:49.137Z"
   },
   {
    "duration": 13,
    "start_time": "2021-12-29T14:54:49.296Z"
   },
   {
    "duration": 8,
    "start_time": "2021-12-29T14:54:49.310Z"
   },
   {
    "duration": 5,
    "start_time": "2021-12-29T14:54:49.320Z"
   },
   {
    "duration": 435,
    "start_time": "2021-12-29T14:54:49.326Z"
   },
   {
    "duration": 364,
    "start_time": "2021-12-29T14:54:49.763Z"
   },
   {
    "duration": 5,
    "start_time": "2021-12-29T14:54:50.128Z"
   },
   {
    "duration": 5,
    "start_time": "2021-12-29T14:54:50.135Z"
   },
   {
    "duration": 5,
    "start_time": "2021-12-29T14:54:50.141Z"
   },
   {
    "duration": 4,
    "start_time": "2021-12-29T14:54:50.148Z"
   },
   {
    "duration": 4,
    "start_time": "2021-12-29T14:54:50.154Z"
   },
   {
    "duration": 5,
    "start_time": "2021-12-29T14:54:50.192Z"
   },
   {
    "duration": 415,
    "start_time": "2021-12-29T14:54:50.199Z"
   },
   {
    "duration": 324,
    "start_time": "2021-12-29T14:54:50.616Z"
   },
   {
    "duration": 4,
    "start_time": "2021-12-29T14:54:50.942Z"
   },
   {
    "duration": 7,
    "start_time": "2021-12-29T14:54:50.948Z"
   },
   {
    "duration": 7,
    "start_time": "2021-12-29T14:54:50.957Z"
   },
   {
    "duration": 25,
    "start_time": "2021-12-29T14:54:50.966Z"
   },
   {
    "duration": 4,
    "start_time": "2021-12-29T14:54:50.993Z"
   },
   {
    "duration": 8,
    "start_time": "2021-12-29T14:54:50.999Z"
   },
   {
    "duration": 384,
    "start_time": "2021-12-29T14:54:51.009Z"
   },
   {
    "duration": 424,
    "start_time": "2021-12-29T14:54:51.395Z"
   },
   {
    "duration": 5,
    "start_time": "2021-12-29T14:54:51.820Z"
   },
   {
    "duration": 8,
    "start_time": "2021-12-29T14:54:51.826Z"
   },
   {
    "duration": 7,
    "start_time": "2021-12-29T14:54:51.835Z"
   },
   {
    "duration": 9,
    "start_time": "2021-12-29T14:54:51.843Z"
   },
   {
    "duration": 5,
    "start_time": "2021-12-29T14:54:51.854Z"
   },
   {
    "duration": 6,
    "start_time": "2021-12-29T14:54:51.860Z"
   },
   {
    "duration": 22,
    "start_time": "2021-12-29T14:54:51.870Z"
   },
   {
    "duration": 1166,
    "start_time": "2021-12-29T15:10:13.584Z"
   },
   {
    "duration": 438,
    "start_time": "2021-12-29T15:10:14.752Z"
   },
   {
    "duration": 7,
    "start_time": "2021-12-29T15:10:15.192Z"
   },
   {
    "duration": 16,
    "start_time": "2021-12-29T15:10:15.201Z"
   },
   {
    "duration": 7,
    "start_time": "2021-12-29T15:10:15.220Z"
   },
   {
    "duration": 8,
    "start_time": "2021-12-29T15:10:15.228Z"
   },
   {
    "duration": 6,
    "start_time": "2021-12-29T15:10:15.238Z"
   },
   {
    "duration": 6,
    "start_time": "2021-12-29T15:10:15.246Z"
   },
   {
    "duration": 52,
    "start_time": "2021-12-29T15:10:15.254Z"
   },
   {
    "duration": 6,
    "start_time": "2021-12-29T15:10:15.308Z"
   },
   {
    "duration": 33,
    "start_time": "2021-12-29T15:10:15.316Z"
   },
   {
    "duration": 5,
    "start_time": "2021-12-29T15:10:15.350Z"
   },
   {
    "duration": 7,
    "start_time": "2021-12-29T15:10:15.356Z"
   },
   {
    "duration": 34,
    "start_time": "2021-12-29T15:10:15.365Z"
   },
   {
    "duration": 7,
    "start_time": "2021-12-29T15:10:15.401Z"
   },
   {
    "duration": 23,
    "start_time": "2021-12-29T15:10:15.409Z"
   },
   {
    "duration": 5,
    "start_time": "2021-12-29T15:10:15.433Z"
   },
   {
    "duration": 20,
    "start_time": "2021-12-29T15:10:15.440Z"
   },
   {
    "duration": 34,
    "start_time": "2021-12-29T15:10:15.461Z"
   },
   {
    "duration": 9,
    "start_time": "2021-12-29T15:10:15.497Z"
   },
   {
    "duration": 13,
    "start_time": "2021-12-29T15:10:15.508Z"
   },
   {
    "duration": 25,
    "start_time": "2021-12-29T15:10:15.522Z"
   },
   {
    "duration": 5,
    "start_time": "2021-12-29T15:10:15.550Z"
   },
   {
    "duration": 35,
    "start_time": "2021-12-29T15:10:15.557Z"
   },
   {
    "duration": 7,
    "start_time": "2021-12-29T15:10:15.594Z"
   },
   {
    "duration": 27,
    "start_time": "2021-12-29T15:10:15.603Z"
   },
   {
    "duration": 30,
    "start_time": "2021-12-29T15:10:15.632Z"
   },
   {
    "duration": 49,
    "start_time": "2021-12-29T15:10:15.664Z"
   },
   {
    "duration": 14,
    "start_time": "2021-12-29T15:10:15.715Z"
   },
   {
    "duration": 24,
    "start_time": "2021-12-29T15:10:15.731Z"
   },
   {
    "duration": 41,
    "start_time": "2021-12-29T15:10:15.756Z"
   },
   {
    "duration": 20,
    "start_time": "2021-12-29T15:10:15.798Z"
   },
   {
    "duration": 3,
    "start_time": "2021-12-29T15:10:15.820Z"
   },
   {
    "duration": 15,
    "start_time": "2021-12-29T15:10:15.825Z"
   },
   {
    "duration": 8,
    "start_time": "2021-12-29T15:10:15.841Z"
   },
   {
    "duration": 51,
    "start_time": "2021-12-29T15:10:15.851Z"
   },
   {
    "duration": 4,
    "start_time": "2021-12-29T15:10:15.904Z"
   },
   {
    "duration": 6,
    "start_time": "2021-12-29T15:10:15.910Z"
   },
   {
    "duration": 156,
    "start_time": "2021-12-29T15:10:15.917Z"
   },
   {
    "duration": 17,
    "start_time": "2021-12-29T15:10:16.075Z"
   },
   {
    "duration": 9,
    "start_time": "2021-12-29T15:10:16.094Z"
   },
   {
    "duration": 6,
    "start_time": "2021-12-29T15:10:16.104Z"
   },
   {
    "duration": 399,
    "start_time": "2021-12-29T15:10:16.112Z"
   },
   {
    "duration": 327,
    "start_time": "2021-12-29T15:10:16.513Z"
   },
   {
    "duration": 4,
    "start_time": "2021-12-29T15:10:16.842Z"
   },
   {
    "duration": 34,
    "start_time": "2021-12-29T15:10:16.848Z"
   },
   {
    "duration": 33,
    "start_time": "2021-12-29T15:10:16.884Z"
   },
   {
    "duration": 21,
    "start_time": "2021-12-29T15:10:16.919Z"
   },
   {
    "duration": 35,
    "start_time": "2021-12-29T15:10:16.942Z"
   },
   {
    "duration": 23,
    "start_time": "2021-12-29T15:10:16.979Z"
   },
   {
    "duration": 392,
    "start_time": "2021-12-29T15:10:17.004Z"
   },
   {
    "duration": 328,
    "start_time": "2021-12-29T15:10:17.398Z"
   },
   {
    "duration": 6,
    "start_time": "2021-12-29T15:10:17.728Z"
   },
   {
    "duration": 7,
    "start_time": "2021-12-29T15:10:17.736Z"
   },
   {
    "duration": 10,
    "start_time": "2021-12-29T15:10:17.744Z"
   },
   {
    "duration": 6,
    "start_time": "2021-12-29T15:10:17.755Z"
   },
   {
    "duration": 31,
    "start_time": "2021-12-29T15:10:17.762Z"
   },
   {
    "duration": 6,
    "start_time": "2021-12-29T15:10:17.795Z"
   },
   {
    "duration": 358,
    "start_time": "2021-12-29T15:10:17.803Z"
   },
   {
    "duration": 430,
    "start_time": "2021-12-29T15:10:18.163Z"
   },
   {
    "duration": 5,
    "start_time": "2021-12-29T15:10:18.594Z"
   },
   {
    "duration": 9,
    "start_time": "2021-12-29T15:10:18.600Z"
   },
   {
    "duration": 13,
    "start_time": "2021-12-29T15:10:18.610Z"
   },
   {
    "duration": 10,
    "start_time": "2021-12-29T15:10:18.625Z"
   },
   {
    "duration": 7,
    "start_time": "2021-12-29T15:10:18.637Z"
   },
   {
    "duration": 7,
    "start_time": "2021-12-29T15:10:18.645Z"
   },
   {
    "duration": 4,
    "start_time": "2021-12-29T15:10:18.653Z"
   },
   {
    "duration": 14,
    "start_time": "2021-12-29T15:16:28.393Z"
   },
   {
    "duration": 267,
    "start_time": "2021-12-29T15:20:52.247Z"
   },
   {
    "duration": 6,
    "start_time": "2021-12-29T15:21:48.617Z"
   },
   {
    "duration": 13,
    "start_time": "2021-12-29T15:22:58.087Z"
   },
   {
    "duration": 176,
    "start_time": "2021-12-29T15:23:22.627Z"
   },
   {
    "duration": 5,
    "start_time": "2021-12-29T15:23:25.907Z"
   },
   {
    "duration": 5,
    "start_time": "2021-12-29T15:23:47.796Z"
   },
   {
    "duration": 13,
    "start_time": "2021-12-29T15:24:02.057Z"
   },
   {
    "duration": 5,
    "start_time": "2021-12-29T15:24:15.688Z"
   },
   {
    "duration": 5,
    "start_time": "2021-12-29T15:24:17.237Z"
   },
   {
    "duration": 192,
    "start_time": "2021-12-29T15:25:42.767Z"
   },
   {
    "duration": 76,
    "start_time": "2021-12-29T15:25:56.217Z"
   },
   {
    "duration": 15,
    "start_time": "2021-12-29T15:28:05.594Z"
   },
   {
    "duration": 7,
    "start_time": "2021-12-29T15:28:13.908Z"
   },
   {
    "duration": 10,
    "start_time": "2021-12-29T15:28:33.168Z"
   },
   {
    "duration": 4,
    "start_time": "2021-12-29T15:36:49.525Z"
   },
   {
    "duration": 5,
    "start_time": "2021-12-29T15:39:03.796Z"
   },
   {
    "duration": 9,
    "start_time": "2021-12-29T15:39:06.261Z"
   },
   {
    "duration": 1465,
    "start_time": "2021-12-29T20:28:12.151Z"
   },
   {
    "duration": 5,
    "start_time": "2021-12-29T20:28:48.852Z"
   },
   {
    "duration": 507,
    "start_time": "2021-12-29T20:28:49.043Z"
   },
   {
    "duration": 10,
    "start_time": "2021-12-29T20:28:49.553Z"
   },
   {
    "duration": 22,
    "start_time": "2021-12-29T20:28:49.566Z"
   },
   {
    "duration": 9,
    "start_time": "2021-12-29T20:28:49.925Z"
   },
   {
    "duration": 6,
    "start_time": "2021-12-29T20:28:50.103Z"
   },
   {
    "duration": 9,
    "start_time": "2021-12-29T20:28:51.882Z"
   },
   {
    "duration": 10,
    "start_time": "2021-12-29T20:29:05.088Z"
   },
   {
    "duration": 26,
    "start_time": "2021-12-29T20:29:20.535Z"
   },
   {
    "duration": 1319,
    "start_time": "2021-12-29T20:32:23.554Z"
   },
   {
    "duration": 478,
    "start_time": "2021-12-29T20:32:24.876Z"
   },
   {
    "duration": 10,
    "start_time": "2021-12-29T20:32:28.580Z"
   },
   {
    "duration": 22,
    "start_time": "2021-12-29T20:32:30.237Z"
   },
   {
    "duration": 8,
    "start_time": "2021-12-29T20:32:31.428Z"
   },
   {
    "duration": 6,
    "start_time": "2021-12-29T20:32:32.108Z"
   },
   {
    "duration": 9,
    "start_time": "2021-12-29T20:32:32.388Z"
   },
   {
    "duration": 7,
    "start_time": "2021-12-29T20:32:32.580Z"
   },
   {
    "duration": 28,
    "start_time": "2021-12-29T20:32:37.878Z"
   },
   {
    "duration": 11,
    "start_time": "2021-12-29T20:32:39.608Z"
   },
   {
    "duration": 42,
    "start_time": "2021-12-29T20:32:41.727Z"
   },
   {
    "duration": 8,
    "start_time": "2021-12-29T20:32:42.137Z"
   },
   {
    "duration": 8,
    "start_time": "2021-12-29T20:32:42.327Z"
   },
   {
    "duration": 1475,
    "start_time": "2021-12-29T20:36:05.811Z"
   },
   {
    "duration": 533,
    "start_time": "2021-12-29T20:36:07.289Z"
   },
   {
    "duration": 12,
    "start_time": "2021-12-29T20:36:07.825Z"
   },
   {
    "duration": 23,
    "start_time": "2021-12-29T20:36:07.840Z"
   },
   {
    "duration": 9,
    "start_time": "2021-12-29T20:36:07.866Z"
   },
   {
    "duration": 45,
    "start_time": "2021-12-29T20:36:07.878Z"
   },
   {
    "duration": 11,
    "start_time": "2021-12-29T20:36:09.739Z"
   },
   {
    "duration": 8,
    "start_time": "2021-12-29T20:36:09.919Z"
   },
   {
    "duration": 31,
    "start_time": "2021-12-29T20:36:11.760Z"
   },
   {
    "duration": 15,
    "start_time": "2021-12-29T20:36:13.025Z"
   },
   {
    "duration": 73,
    "start_time": "2021-12-29T20:36:13.193Z"
   },
   {
    "duration": 7,
    "start_time": "2021-12-29T20:36:13.581Z"
   },
   {
    "duration": 7,
    "start_time": "2021-12-29T20:36:13.762Z"
   },
   {
    "duration": 20,
    "start_time": "2021-12-29T20:36:15.827Z"
   },
   {
    "duration": 11,
    "start_time": "2021-12-29T20:36:16.032Z"
   },
   {
    "duration": 26,
    "start_time": "2021-12-29T20:36:17.605Z"
   },
   {
    "duration": 7,
    "start_time": "2021-12-29T20:36:17.907Z"
   },
   {
    "duration": 6,
    "start_time": "2021-12-29T20:36:47.385Z"
   },
   {
    "duration": 1484,
    "start_time": "2021-12-29T20:36:54.481Z"
   },
   {
    "duration": 519,
    "start_time": "2021-12-29T20:36:55.968Z"
   },
   {
    "duration": 10,
    "start_time": "2021-12-29T20:36:56.490Z"
   },
   {
    "duration": 29,
    "start_time": "2021-12-29T20:36:56.502Z"
   },
   {
    "duration": 13,
    "start_time": "2021-12-29T20:36:56.533Z"
   },
   {
    "duration": 15,
    "start_time": "2021-12-29T20:36:56.548Z"
   },
   {
    "duration": 19,
    "start_time": "2021-12-29T20:36:56.565Z"
   },
   {
    "duration": 18,
    "start_time": "2021-12-29T20:36:56.588Z"
   },
   {
    "duration": 26,
    "start_time": "2021-12-29T20:36:58.719Z"
   },
   {
    "duration": 12,
    "start_time": "2021-12-29T20:36:58.880Z"
   },
   {
    "duration": 41,
    "start_time": "2021-12-29T20:37:00.569Z"
   },
   {
    "duration": 7,
    "start_time": "2021-12-29T20:37:00.740Z"
   },
   {
    "duration": 9,
    "start_time": "2021-12-29T20:37:00.881Z"
   },
   {
    "duration": 20,
    "start_time": "2021-12-29T20:37:02.979Z"
   },
   {
    "duration": 10,
    "start_time": "2021-12-29T20:37:04.580Z"
   },
   {
    "duration": 26,
    "start_time": "2021-12-29T20:37:04.701Z"
   },
   {
    "duration": 7,
    "start_time": "2021-12-29T20:37:05.208Z"
   },
   {
    "duration": 22,
    "start_time": "2021-12-29T20:37:07.558Z"
   },
   {
    "duration": 12,
    "start_time": "2021-12-29T20:37:07.731Z"
   },
   {
    "duration": 11,
    "start_time": "2021-12-29T20:37:09.812Z"
   },
   {
    "duration": 15,
    "start_time": "2021-12-29T20:37:12.241Z"
   },
   {
    "duration": 44,
    "start_time": "2021-12-29T20:37:16.369Z"
   },
   {
    "duration": 7,
    "start_time": "2021-12-29T20:37:17.205Z"
   },
   {
    "duration": 6,
    "start_time": "2021-12-29T20:37:42.028Z"
   },
   {
    "duration": 8,
    "start_time": "2021-12-29T20:37:43.254Z"
   },
   {
    "duration": 7,
    "start_time": "2021-12-29T20:38:18.397Z"
   },
   {
    "duration": 557,
    "start_time": "2021-12-29T20:39:11.751Z"
   },
   {
    "duration": 35,
    "start_time": "2021-12-29T20:39:15.120Z"
   },
   {
    "duration": 45,
    "start_time": "2021-12-29T20:39:16.220Z"
   },
   {
    "duration": 35,
    "start_time": "2021-12-29T20:39:24.761Z"
   },
   {
    "duration": 20,
    "start_time": "2021-12-29T20:39:34.601Z"
   },
   {
    "duration": 31,
    "start_time": "2021-12-29T20:39:35.872Z"
   },
   {
    "duration": 23,
    "start_time": "2021-12-29T20:40:55.161Z"
   },
   {
    "duration": 26,
    "start_time": "2021-12-29T20:40:55.770Z"
   },
   {
    "duration": 5,
    "start_time": "2021-12-29T20:41:01.920Z"
   },
   {
    "duration": 19,
    "start_time": "2021-12-29T20:41:07.768Z"
   },
   {
    "duration": 13,
    "start_time": "2021-12-29T20:45:47.705Z"
   },
   {
    "duration": 39,
    "start_time": "2021-12-29T20:45:48.802Z"
   },
   {
    "duration": 5,
    "start_time": "2021-12-29T20:45:51.778Z"
   },
   {
    "duration": 5,
    "start_time": "2021-12-29T20:46:24.713Z"
   },
   {
    "duration": 20,
    "start_time": "2021-12-29T20:47:03.376Z"
   },
   {
    "duration": 6,
    "start_time": "2021-12-29T20:48:52.445Z"
   },
   {
    "duration": 226,
    "start_time": "2021-12-29T20:53:32.211Z"
   },
   {
    "duration": 19,
    "start_time": "2021-12-29T20:53:33.581Z"
   },
   {
    "duration": 14,
    "start_time": "2021-12-29T20:54:06.511Z"
   },
   {
    "duration": 18,
    "start_time": "2021-12-29T20:56:38.595Z"
   },
   {
    "duration": 9,
    "start_time": "2021-12-29T20:58:06.440Z"
   },
   {
    "duration": 7,
    "start_time": "2021-12-29T21:08:22.935Z"
   },
   {
    "duration": 572,
    "start_time": "2021-12-29T21:20:55.751Z"
   },
   {
    "duration": 8,
    "start_time": "2021-12-29T21:37:47.337Z"
   },
   {
    "duration": 1510,
    "start_time": "2021-12-29T21:39:58.558Z"
   },
   {
    "duration": 507,
    "start_time": "2021-12-29T21:40:00.071Z"
   },
   {
    "duration": 10,
    "start_time": "2021-12-29T21:40:00.581Z"
   },
   {
    "duration": 29,
    "start_time": "2021-12-29T21:40:00.594Z"
   },
   {
    "duration": 9,
    "start_time": "2021-12-29T21:40:00.625Z"
   },
   {
    "duration": 9,
    "start_time": "2021-12-29T21:40:00.637Z"
   },
   {
    "duration": 19,
    "start_time": "2021-12-29T21:40:00.649Z"
   },
   {
    "duration": 11,
    "start_time": "2021-12-29T21:40:00.673Z"
   },
   {
    "duration": 78,
    "start_time": "2021-12-29T21:40:00.687Z"
   },
   {
    "duration": 15,
    "start_time": "2021-12-29T21:40:00.769Z"
   },
   {
    "duration": 72,
    "start_time": "2021-12-29T21:40:00.878Z"
   },
   {
    "duration": 9,
    "start_time": "2021-12-29T21:40:01.041Z"
   },
   {
    "duration": 12,
    "start_time": "2021-12-29T21:40:01.181Z"
   },
   {
    "duration": 23,
    "start_time": "2021-12-29T21:40:01.788Z"
   },
   {
    "duration": 13,
    "start_time": "2021-12-29T21:40:01.978Z"
   },
   {
    "duration": 27,
    "start_time": "2021-12-29T21:40:02.160Z"
   },
   {
    "duration": 6,
    "start_time": "2021-12-29T21:40:02.610Z"
   },
   {
    "duration": 24,
    "start_time": "2021-12-29T21:40:03.170Z"
   },
   {
    "duration": 14,
    "start_time": "2021-12-29T21:40:03.350Z"
   },
   {
    "duration": 12,
    "start_time": "2021-12-29T21:40:03.770Z"
   },
   {
    "duration": 16,
    "start_time": "2021-12-29T21:40:04.240Z"
   },
   {
    "duration": 41,
    "start_time": "2021-12-29T21:40:04.688Z"
   },
   {
    "duration": 7,
    "start_time": "2021-12-29T21:40:04.870Z"
   },
   {
    "duration": 8,
    "start_time": "2021-12-29T21:40:05.080Z"
   },
   {
    "duration": 12,
    "start_time": "2021-12-29T21:40:06.300Z"
   },
   {
    "duration": 46,
    "start_time": "2021-12-29T21:40:07.300Z"
   },
   {
    "duration": 58,
    "start_time": "2021-12-29T21:40:07.701Z"
   },
   {
    "duration": 46,
    "start_time": "2021-12-29T21:40:08.091Z"
   },
   {
    "duration": 23,
    "start_time": "2021-12-29T21:40:08.480Z"
   },
   {
    "duration": 33,
    "start_time": "2021-12-29T21:40:08.870Z"
   },
   {
    "duration": 25,
    "start_time": "2021-12-29T21:40:09.480Z"
   },
   {
    "duration": 25,
    "start_time": "2021-12-29T21:40:09.710Z"
   },
   {
    "duration": 5,
    "start_time": "2021-12-29T21:40:10.120Z"
   },
   {
    "duration": 22,
    "start_time": "2021-12-29T21:40:10.320Z"
   },
   {
    "duration": 12,
    "start_time": "2021-12-29T21:40:13.480Z"
   },
   {
    "duration": 38,
    "start_time": "2021-12-29T21:40:14.080Z"
   },
   {
    "duration": 6,
    "start_time": "2021-12-29T21:40:14.370Z"
   },
   {
    "duration": 20,
    "start_time": "2021-12-29T21:40:15.280Z"
   },
   {
    "duration": 471,
    "start_time": "2021-12-29T21:40:20.170Z"
   },
   {
    "duration": 8,
    "start_time": "2021-12-29T21:41:54.319Z"
   },
   {
    "duration": 9,
    "start_time": "2021-12-29T21:42:05.019Z"
   },
   {
    "duration": 18,
    "start_time": "2021-12-29T21:42:41.627Z"
   },
   {
    "duration": 11,
    "start_time": "2021-12-29T21:43:51.919Z"
   },
   {
    "duration": 317,
    "start_time": "2021-12-29T21:44:24.834Z"
   },
   {
    "duration": 89,
    "start_time": "2021-12-29T21:44:32.769Z"
   },
   {
    "duration": 312,
    "start_time": "2021-12-29T21:44:42.801Z"
   },
   {
    "duration": 634,
    "start_time": "2021-12-29T21:44:50.845Z"
   },
   {
    "duration": 347,
    "start_time": "2021-12-29T21:45:15.386Z"
   },
   {
    "duration": 14,
    "start_time": "2021-12-29T21:45:26.059Z"
   },
   {
    "duration": 323,
    "start_time": "2021-12-29T21:45:32.799Z"
   },
   {
    "duration": 12,
    "start_time": "2021-12-29T21:46:08.831Z"
   },
   {
    "duration": 16,
    "start_time": "2021-12-29T21:46:13.146Z"
   },
   {
    "duration": 10,
    "start_time": "2021-12-29T21:46:28.921Z"
   },
   {
    "duration": 12,
    "start_time": "2021-12-29T21:47:06.932Z"
   },
   {
    "duration": 10,
    "start_time": "2021-12-29T21:47:12.032Z"
   },
   {
    "duration": 11,
    "start_time": "2021-12-29T21:47:19.379Z"
   },
   {
    "duration": 13,
    "start_time": "2021-12-29T21:47:28.267Z"
   },
   {
    "duration": 11,
    "start_time": "2021-12-29T21:47:36.579Z"
   },
   {
    "duration": 9,
    "start_time": "2021-12-29T21:47:42.872Z"
   },
   {
    "duration": 9,
    "start_time": "2021-12-29T21:48:24.521Z"
   },
   {
    "duration": 12,
    "start_time": "2021-12-29T21:48:30.392Z"
   },
   {
    "duration": 305,
    "start_time": "2021-12-29T21:51:30.257Z"
   },
   {
    "duration": 295,
    "start_time": "2021-12-29T21:51:52.511Z"
   },
   {
    "duration": 305,
    "start_time": "2021-12-29T21:52:10.361Z"
   },
   {
    "duration": 322,
    "start_time": "2021-12-29T21:55:23.465Z"
   },
   {
    "duration": 5,
    "start_time": "2021-12-29T21:56:01.391Z"
   },
   {
    "duration": 1446,
    "start_time": "2021-12-29T21:56:42.821Z"
   },
   {
    "duration": 488,
    "start_time": "2021-12-29T21:56:44.271Z"
   },
   {
    "duration": 9,
    "start_time": "2021-12-29T21:56:44.762Z"
   },
   {
    "duration": 23,
    "start_time": "2021-12-29T21:56:44.774Z"
   },
   {
    "duration": 7,
    "start_time": "2021-12-29T21:56:44.799Z"
   },
   {
    "duration": 6,
    "start_time": "2021-12-29T21:56:44.824Z"
   },
   {
    "duration": 8,
    "start_time": "2021-12-29T21:56:44.832Z"
   },
   {
    "duration": 8,
    "start_time": "2021-12-29T21:56:44.843Z"
   },
   {
    "duration": 27,
    "start_time": "2021-12-29T21:56:46.183Z"
   },
   {
    "duration": 11,
    "start_time": "2021-12-29T21:56:46.349Z"
   },
   {
    "duration": 46,
    "start_time": "2021-12-29T21:56:46.509Z"
   },
   {
    "duration": 6,
    "start_time": "2021-12-29T21:56:46.676Z"
   },
   {
    "duration": 8,
    "start_time": "2021-12-29T21:56:46.865Z"
   },
   {
    "duration": 18,
    "start_time": "2021-12-29T21:56:47.386Z"
   },
   {
    "duration": 10,
    "start_time": "2021-12-29T21:56:47.564Z"
   },
   {
    "duration": 25,
    "start_time": "2021-12-29T21:56:47.744Z"
   },
   {
    "duration": 6,
    "start_time": "2021-12-29T21:56:47.924Z"
   },
   {
    "duration": 23,
    "start_time": "2021-12-29T21:56:48.509Z"
   },
   {
    "duration": 12,
    "start_time": "2021-12-29T21:56:48.669Z"
   },
   {
    "duration": 12,
    "start_time": "2021-12-29T21:56:49.044Z"
   },
   {
    "duration": 15,
    "start_time": "2021-12-29T21:56:49.404Z"
   },
   {
    "duration": 50,
    "start_time": "2021-12-29T21:56:49.782Z"
   },
   {
    "duration": 9,
    "start_time": "2021-12-29T21:56:49.949Z"
   },
   {
    "duration": 7,
    "start_time": "2021-12-29T21:56:50.154Z"
   },
   {
    "duration": 17,
    "start_time": "2021-12-29T21:56:50.684Z"
   },
   {
    "duration": 36,
    "start_time": "2021-12-29T21:56:55.265Z"
   },
   {
    "duration": 40,
    "start_time": "2021-12-29T21:56:55.924Z"
   },
   {
    "duration": 32,
    "start_time": "2021-12-29T21:56:56.804Z"
   },
   {
    "duration": 21,
    "start_time": "2021-12-29T21:56:57.444Z"
   },
   {
    "duration": 33,
    "start_time": "2021-12-29T21:56:58.054Z"
   },
   {
    "duration": 25,
    "start_time": "2021-12-29T21:57:00.109Z"
   },
   {
    "duration": 30,
    "start_time": "2021-12-29T21:57:00.305Z"
   },
   {
    "duration": 4,
    "start_time": "2021-12-29T21:57:01.104Z"
   },
   {
    "duration": 18,
    "start_time": "2021-12-29T21:57:01.925Z"
   },
   {
    "duration": 12,
    "start_time": "2021-12-29T21:57:03.024Z"
   },
   {
    "duration": 41,
    "start_time": "2021-12-29T21:57:03.394Z"
   },
   {
    "duration": 7,
    "start_time": "2021-12-29T21:57:03.584Z"
   },
   {
    "duration": 30,
    "start_time": "2021-12-29T21:57:03.941Z"
   },
   {
    "duration": 11,
    "start_time": "2021-12-29T21:57:04.315Z"
   },
   {
    "duration": 12,
    "start_time": "2021-12-29T21:57:04.669Z"
   },
   {
    "duration": 19,
    "start_time": "2021-12-29T21:57:06.349Z"
   },
   {
    "duration": 5,
    "start_time": "2021-12-29T21:57:07.654Z"
   },
   {
    "duration": 8,
    "start_time": "2021-12-29T21:57:11.194Z"
   },
   {
    "duration": 222,
    "start_time": "2021-12-29T21:57:11.869Z"
   },
   {
    "duration": 21,
    "start_time": "2021-12-29T21:57:12.364Z"
   },
   {
    "duration": 11,
    "start_time": "2021-12-29T21:57:15.275Z"
   },
   {
    "duration": 19,
    "start_time": "2021-12-29T21:57:16.364Z"
   },
   {
    "duration": 8,
    "start_time": "2021-12-29T21:57:17.790Z"
   },
   {
    "duration": 602,
    "start_time": "2021-12-29T21:57:19.574Z"
   },
   {
    "duration": 461,
    "start_time": "2021-12-29T21:57:22.829Z"
   },
   {
    "duration": 6,
    "start_time": "2021-12-29T21:57:25.244Z"
   },
   {
    "duration": 7,
    "start_time": "2021-12-29T21:57:25.541Z"
   },
   {
    "duration": 7,
    "start_time": "2021-12-29T21:57:26.044Z"
   },
   {
    "duration": 7,
    "start_time": "2021-12-29T21:57:27.724Z"
   },
   {
    "duration": 6,
    "start_time": "2021-12-29T21:57:27.941Z"
   },
   {
    "duration": 8,
    "start_time": "2021-12-29T21:57:28.144Z"
   },
   {
    "duration": 886,
    "start_time": "2021-12-29T21:58:05.719Z"
   },
   {
    "duration": 667,
    "start_time": "2021-12-29T21:58:06.609Z"
   },
   {
    "duration": 7,
    "start_time": "2021-12-29T21:58:07.281Z"
   },
   {
    "duration": 13,
    "start_time": "2021-12-29T21:58:07.291Z"
   },
   {
    "duration": 8,
    "start_time": "2021-12-29T21:58:07.324Z"
   },
   {
    "duration": 8,
    "start_time": "2021-12-29T21:58:07.335Z"
   },
   {
    "duration": 8,
    "start_time": "2021-12-29T21:58:07.871Z"
   },
   {
    "duration": 9,
    "start_time": "2021-12-29T21:58:08.039Z"
   },
   {
    "duration": 539,
    "start_time": "2021-12-29T21:58:08.387Z"
   },
   {
    "duration": 553,
    "start_time": "2021-12-29T21:58:08.929Z"
   },
   {
    "duration": 6,
    "start_time": "2021-12-29T21:58:09.485Z"
   },
   {
    "duration": 31,
    "start_time": "2021-12-29T21:58:09.493Z"
   },
   {
    "duration": 5,
    "start_time": "2021-12-29T21:58:09.527Z"
   },
   {
    "duration": 6,
    "start_time": "2021-12-29T21:58:09.534Z"
   },
   {
    "duration": 6,
    "start_time": "2021-12-29T21:58:09.542Z"
   },
   {
    "duration": 6,
    "start_time": "2021-12-29T21:58:09.604Z"
   },
   {
    "duration": 10,
    "start_time": "2021-12-29T21:58:10.351Z"
   },
   {
    "duration": 18,
    "start_time": "2021-12-29T21:58:10.744Z"
   },
   {
    "duration": 417,
    "start_time": "2021-12-29T22:01:30.342Z"
   },
   {
    "duration": 6,
    "start_time": "2021-12-29T22:01:45.897Z"
   },
   {
    "duration": 519,
    "start_time": "2021-12-29T22:10:20.023Z"
   },
   {
    "duration": 425,
    "start_time": "2021-12-29T22:10:20.615Z"
   },
   {
    "duration": 1472,
    "start_time": "2021-12-29T22:10:25.806Z"
   },
   {
    "duration": 499,
    "start_time": "2021-12-29T22:10:27.281Z"
   },
   {
    "duration": 10,
    "start_time": "2021-12-29T22:10:27.783Z"
   },
   {
    "duration": 21,
    "start_time": "2021-12-29T22:10:27.795Z"
   },
   {
    "duration": 7,
    "start_time": "2021-12-29T22:10:27.824Z"
   },
   {
    "duration": 7,
    "start_time": "2021-12-29T22:10:27.833Z"
   },
   {
    "duration": 9,
    "start_time": "2021-12-29T22:10:27.842Z"
   },
   {
    "duration": 8,
    "start_time": "2021-12-29T22:10:27.855Z"
   },
   {
    "duration": 65,
    "start_time": "2021-12-29T22:10:27.865Z"
   },
   {
    "duration": 10,
    "start_time": "2021-12-29T22:10:27.932Z"
   },
   {
    "duration": 40,
    "start_time": "2021-12-29T22:10:27.944Z"
   },
   {
    "duration": 7,
    "start_time": "2021-12-29T22:10:27.986Z"
   },
   {
    "duration": 34,
    "start_time": "2021-12-29T22:10:27.995Z"
   },
   {
    "duration": 18,
    "start_time": "2021-12-29T22:10:28.031Z"
   },
   {
    "duration": 10,
    "start_time": "2021-12-29T22:10:28.053Z"
   },
   {
    "duration": 74,
    "start_time": "2021-12-29T22:10:28.066Z"
   },
   {
    "duration": 8,
    "start_time": "2021-12-29T22:10:28.143Z"
   },
   {
    "duration": 39,
    "start_time": "2021-12-29T22:10:28.154Z"
   },
   {
    "duration": 37,
    "start_time": "2021-12-29T22:10:28.196Z"
   },
   {
    "duration": 20,
    "start_time": "2021-12-29T22:10:28.236Z"
   },
   {
    "duration": 23,
    "start_time": "2021-12-29T22:10:28.259Z"
   },
   {
    "duration": 72,
    "start_time": "2021-12-29T22:10:28.285Z"
   },
   {
    "duration": 7,
    "start_time": "2021-12-29T22:10:28.363Z"
   },
   {
    "duration": 8,
    "start_time": "2021-12-29T22:10:28.374Z"
   },
   {
    "duration": 46,
    "start_time": "2021-12-29T22:10:28.385Z"
   },
   {
    "duration": 34,
    "start_time": "2021-12-29T22:10:28.433Z"
   },
   {
    "duration": 69,
    "start_time": "2021-12-29T22:10:28.469Z"
   },
   {
    "duration": 34,
    "start_time": "2021-12-29T22:10:28.541Z"
   },
   {
    "duration": 45,
    "start_time": "2021-12-29T22:10:28.578Z"
   },
   {
    "duration": 33,
    "start_time": "2021-12-29T22:10:28.626Z"
   },
   {
    "duration": 24,
    "start_time": "2021-12-29T22:10:28.662Z"
   },
   {
    "duration": 57,
    "start_time": "2021-12-29T22:10:28.689Z"
   },
   {
    "duration": 4,
    "start_time": "2021-12-29T22:10:28.748Z"
   },
   {
    "duration": 24,
    "start_time": "2021-12-29T22:10:28.754Z"
   },
   {
    "duration": 13,
    "start_time": "2021-12-29T22:10:28.780Z"
   },
   {
    "duration": 61,
    "start_time": "2021-12-29T22:10:28.795Z"
   },
   {
    "duration": 4,
    "start_time": "2021-12-29T22:10:28.859Z"
   },
   {
    "duration": 18,
    "start_time": "2021-12-29T22:10:28.866Z"
   },
   {
    "duration": 7,
    "start_time": "2021-12-29T22:10:28.886Z"
   },
   {
    "duration": 11,
    "start_time": "2021-12-29T22:10:28.924Z"
   },
   {
    "duration": 18,
    "start_time": "2021-12-29T22:10:28.937Z"
   },
   {
    "duration": 5,
    "start_time": "2021-12-29T22:10:28.957Z"
   },
   {
    "duration": 8,
    "start_time": "2021-12-29T22:10:28.964Z"
   },
   {
    "duration": 261,
    "start_time": "2021-12-29T22:10:28.974Z"
   },
   {
    "duration": 19,
    "start_time": "2021-12-29T22:10:29.237Z"
   },
   {
    "duration": 9,
    "start_time": "2021-12-29T22:10:29.259Z"
   },
   {
    "duration": 18,
    "start_time": "2021-12-29T22:10:29.271Z"
   },
   {
    "duration": 37,
    "start_time": "2021-12-29T22:10:29.291Z"
   },
   {
    "duration": 588,
    "start_time": "2021-12-29T22:10:29.331Z"
   },
   {
    "duration": 435,
    "start_time": "2021-12-29T22:10:29.924Z"
   },
   {
    "duration": 6,
    "start_time": "2021-12-29T22:10:30.361Z"
   },
   {
    "duration": 17,
    "start_time": "2021-12-29T22:10:30.370Z"
   },
   {
    "duration": 20,
    "start_time": "2021-12-29T22:10:30.389Z"
   },
   {
    "duration": 24,
    "start_time": "2021-12-29T22:10:30.411Z"
   },
   {
    "duration": 15,
    "start_time": "2021-12-29T22:10:30.437Z"
   },
   {
    "duration": 19,
    "start_time": "2021-12-29T22:10:30.454Z"
   },
   {
    "duration": 542,
    "start_time": "2021-12-29T22:10:30.475Z"
   },
   {
    "duration": 440,
    "start_time": "2021-12-29T22:10:31.023Z"
   },
   {
    "duration": 7,
    "start_time": "2021-12-29T22:10:31.465Z"
   },
   {
    "duration": 9,
    "start_time": "2021-12-29T22:10:31.474Z"
   },
   {
    "duration": 8,
    "start_time": "2021-12-29T22:10:31.485Z"
   },
   {
    "duration": 6,
    "start_time": "2021-12-29T22:10:31.523Z"
   },
   {
    "duration": 10,
    "start_time": "2021-12-29T22:10:31.531Z"
   },
   {
    "duration": 30,
    "start_time": "2021-12-29T22:10:31.543Z"
   },
   {
    "duration": 636,
    "start_time": "2021-12-29T22:10:31.576Z"
   },
   {
    "duration": 518,
    "start_time": "2021-12-29T22:10:32.215Z"
   },
   {
    "duration": 7,
    "start_time": "2021-12-29T22:10:32.736Z"
   },
   {
    "duration": 5,
    "start_time": "2021-12-29T22:10:32.752Z"
   },
   {
    "duration": 7,
    "start_time": "2021-12-29T22:10:32.761Z"
   },
   {
    "duration": 54,
    "start_time": "2021-12-29T22:10:32.771Z"
   },
   {
    "duration": 7,
    "start_time": "2021-12-29T22:10:32.828Z"
   },
   {
    "duration": 8,
    "start_time": "2021-12-29T22:10:32.838Z"
   },
   {
    "duration": 9,
    "start_time": "2021-12-29T22:10:32.849Z"
   },
   {
    "duration": 15,
    "start_time": "2021-12-29T22:10:32.861Z"
   },
   {
    "duration": 3,
    "start_time": "2021-12-29T22:10:32.924Z"
   },
   {
    "duration": 14,
    "start_time": "2021-12-29T22:32:06.204Z"
   },
   {
    "duration": 1544,
    "start_time": "2021-12-29T22:47:20.015Z"
   },
   {
    "duration": 509,
    "start_time": "2021-12-29T22:47:21.561Z"
   },
   {
    "duration": 9,
    "start_time": "2021-12-29T22:47:22.074Z"
   },
   {
    "duration": 20,
    "start_time": "2021-12-29T22:47:22.086Z"
   },
   {
    "duration": 22,
    "start_time": "2021-12-29T22:47:22.108Z"
   },
   {
    "duration": 7,
    "start_time": "2021-12-29T22:47:22.132Z"
   },
   {
    "duration": 9,
    "start_time": "2021-12-29T22:47:22.142Z"
   },
   {
    "duration": 6,
    "start_time": "2021-12-29T22:47:22.155Z"
   },
   {
    "duration": 66,
    "start_time": "2021-12-29T22:47:22.164Z"
   },
   {
    "duration": 12,
    "start_time": "2021-12-29T22:47:22.232Z"
   },
   {
    "duration": 45,
    "start_time": "2021-12-29T22:47:22.246Z"
   },
   {
    "duration": 31,
    "start_time": "2021-12-29T22:47:22.294Z"
   },
   {
    "duration": 12,
    "start_time": "2021-12-29T22:47:22.328Z"
   },
   {
    "duration": 18,
    "start_time": "2021-12-29T22:47:22.342Z"
   },
   {
    "duration": 11,
    "start_time": "2021-12-29T22:47:22.362Z"
   },
   {
    "duration": 69,
    "start_time": "2021-12-29T22:47:22.376Z"
   },
   {
    "duration": 6,
    "start_time": "2021-12-29T22:47:22.447Z"
   },
   {
    "duration": 24,
    "start_time": "2021-12-29T22:47:22.455Z"
   },
   {
    "duration": 11,
    "start_time": "2021-12-29T22:47:22.481Z"
   },
   {
    "duration": 38,
    "start_time": "2021-12-29T22:47:22.494Z"
   },
   {
    "duration": 30,
    "start_time": "2021-12-29T22:47:22.535Z"
   },
   {
    "duration": 56,
    "start_time": "2021-12-29T22:47:22.568Z"
   },
   {
    "duration": 7,
    "start_time": "2021-12-29T22:47:22.629Z"
   },
   {
    "duration": 8,
    "start_time": "2021-12-29T22:47:22.640Z"
   },
   {
    "duration": 10,
    "start_time": "2021-12-29T22:47:22.650Z"
   },
   {
    "duration": 64,
    "start_time": "2021-12-29T22:47:22.662Z"
   },
   {
    "duration": 38,
    "start_time": "2021-12-29T22:47:22.728Z"
   },
   {
    "duration": 29,
    "start_time": "2021-12-29T22:47:22.769Z"
   },
   {
    "duration": 40,
    "start_time": "2021-12-29T22:47:22.800Z"
   },
   {
    "duration": 30,
    "start_time": "2021-12-29T22:47:22.842Z"
   },
   {
    "duration": 50,
    "start_time": "2021-12-29T22:47:22.874Z"
   },
   {
    "duration": 26,
    "start_time": "2021-12-29T22:47:22.927Z"
   },
   {
    "duration": 4,
    "start_time": "2021-12-29T22:47:22.955Z"
   },
   {
    "duration": 19,
    "start_time": "2021-12-29T22:47:22.961Z"
   },
   {
    "duration": 40,
    "start_time": "2021-12-29T22:47:22.983Z"
   },
   {
    "duration": 38,
    "start_time": "2021-12-29T22:47:23.025Z"
   },
   {
    "duration": 4,
    "start_time": "2021-12-29T22:47:23.066Z"
   },
   {
    "duration": 19,
    "start_time": "2021-12-29T22:47:23.072Z"
   },
   {
    "duration": 40,
    "start_time": "2021-12-29T22:47:23.093Z"
   },
   {
    "duration": 7,
    "start_time": "2021-12-29T22:47:23.136Z"
   },
   {
    "duration": 14,
    "start_time": "2021-12-29T22:47:23.145Z"
   },
   {
    "duration": 17,
    "start_time": "2021-12-29T22:47:23.161Z"
   },
   {
    "duration": 44,
    "start_time": "2021-12-29T22:47:23.181Z"
   },
   {
    "duration": 113,
    "start_time": "2021-12-29T22:47:23.228Z"
   },
   {
    "duration": -548,
    "start_time": "2021-12-29T22:47:23.892Z"
   },
   {
    "duration": -551,
    "start_time": "2021-12-29T22:47:23.896Z"
   },
   {
    "duration": -554,
    "start_time": "2021-12-29T22:47:23.901Z"
   },
   {
    "duration": -556,
    "start_time": "2021-12-29T22:47:23.904Z"
   },
   {
    "duration": -559,
    "start_time": "2021-12-29T22:47:23.908Z"
   },
   {
    "duration": -561,
    "start_time": "2021-12-29T22:47:23.912Z"
   },
   {
    "duration": -563,
    "start_time": "2021-12-29T22:47:23.915Z"
   },
   {
    "duration": -565,
    "start_time": "2021-12-29T22:47:23.918Z"
   },
   {
    "duration": -567,
    "start_time": "2021-12-29T22:47:23.922Z"
   },
   {
    "duration": -569,
    "start_time": "2021-12-29T22:47:23.925Z"
   },
   {
    "duration": -570,
    "start_time": "2021-12-29T22:47:23.928Z"
   },
   {
    "duration": -573,
    "start_time": "2021-12-29T22:47:23.932Z"
   },
   {
    "duration": -574,
    "start_time": "2021-12-29T22:47:23.935Z"
   },
   {
    "duration": -574,
    "start_time": "2021-12-29T22:47:23.938Z"
   },
   {
    "duration": -577,
    "start_time": "2021-12-29T22:47:23.942Z"
   },
   {
    "duration": -579,
    "start_time": "2021-12-29T22:47:23.945Z"
   },
   {
    "duration": -587,
    "start_time": "2021-12-29T22:47:23.954Z"
   },
   {
    "duration": -589,
    "start_time": "2021-12-29T22:47:23.957Z"
   },
   {
    "duration": -590,
    "start_time": "2021-12-29T22:47:23.960Z"
   },
   {
    "duration": -592,
    "start_time": "2021-12-29T22:47:23.963Z"
   },
   {
    "duration": -595,
    "start_time": "2021-12-29T22:47:23.967Z"
   },
   {
    "duration": -596,
    "start_time": "2021-12-29T22:47:23.970Z"
   },
   {
    "duration": -599,
    "start_time": "2021-12-29T22:47:23.975Z"
   },
   {
    "duration": -602,
    "start_time": "2021-12-29T22:47:23.979Z"
   },
   {
    "duration": -604,
    "start_time": "2021-12-29T22:47:23.983Z"
   },
   {
    "duration": -605,
    "start_time": "2021-12-29T22:47:23.986Z"
   },
   {
    "duration": -586,
    "start_time": "2021-12-29T22:47:24.008Z"
   },
   {
    "duration": -588,
    "start_time": "2021-12-29T22:47:24.012Z"
   },
   {
    "duration": -596,
    "start_time": "2021-12-29T22:47:24.021Z"
   },
   {
    "duration": -597,
    "start_time": "2021-12-29T22:47:24.024Z"
   },
   {
    "duration": -599,
    "start_time": "2021-12-29T22:47:24.028Z"
   },
   {
    "duration": -601,
    "start_time": "2021-12-29T22:47:24.031Z"
   },
   {
    "duration": -603,
    "start_time": "2021-12-29T22:47:24.035Z"
   },
   {
    "duration": 12,
    "start_time": "2021-12-29T22:47:49.013Z"
   },
   {
    "duration": 70,
    "start_time": "2021-12-29T22:50:55.232Z"
   },
   {
    "duration": 63,
    "start_time": "2021-12-29T22:51:00.041Z"
   },
   {
    "duration": 29,
    "start_time": "2021-12-29T22:52:46.273Z"
   },
   {
    "duration": 1384,
    "start_time": "2021-12-29T22:58:49.977Z"
   },
   {
    "duration": 486,
    "start_time": "2021-12-29T22:58:51.363Z"
   },
   {
    "duration": 9,
    "start_time": "2021-12-29T22:58:51.852Z"
   },
   {
    "duration": 23,
    "start_time": "2021-12-29T22:58:51.864Z"
   },
   {
    "duration": 7,
    "start_time": "2021-12-29T22:58:51.889Z"
   },
   {
    "duration": 26,
    "start_time": "2021-12-29T22:58:51.898Z"
   },
   {
    "duration": 9,
    "start_time": "2021-12-29T22:58:51.927Z"
   },
   {
    "duration": 9,
    "start_time": "2021-12-29T22:58:51.938Z"
   },
   {
    "duration": 28,
    "start_time": "2021-12-29T22:58:51.951Z"
   },
   {
    "duration": 42,
    "start_time": "2021-12-29T22:58:51.982Z"
   },
   {
    "duration": 43,
    "start_time": "2021-12-29T22:58:52.026Z"
   },
   {
    "duration": 6,
    "start_time": "2021-12-29T22:58:52.072Z"
   },
   {
    "duration": 20,
    "start_time": "2021-12-29T22:58:52.080Z"
   },
   {
    "duration": 38,
    "start_time": "2021-12-29T22:58:52.102Z"
   },
   {
    "duration": 10,
    "start_time": "2021-12-29T22:58:52.142Z"
   },
   {
    "duration": 25,
    "start_time": "2021-12-29T22:58:52.154Z"
   },
   {
    "duration": 6,
    "start_time": "2021-12-29T22:58:52.181Z"
   },
   {
    "duration": 23,
    "start_time": "2021-12-29T22:58:52.224Z"
   },
   {
    "duration": 11,
    "start_time": "2021-12-29T22:58:52.249Z"
   },
   {
    "duration": 14,
    "start_time": "2021-12-29T22:58:52.262Z"
   },
   {
    "duration": 46,
    "start_time": "2021-12-29T22:58:52.278Z"
   },
   {
    "duration": 43,
    "start_time": "2021-12-29T22:58:52.327Z"
   },
   {
    "duration": 6,
    "start_time": "2021-12-29T22:58:52.372Z"
   },
   {
    "duration": 10,
    "start_time": "2021-12-29T22:58:52.380Z"
   },
   {
    "duration": 39,
    "start_time": "2021-12-29T22:58:52.392Z"
   },
   {
    "duration": 33,
    "start_time": "2021-12-29T22:58:52.434Z"
   },
   {
    "duration": 63,
    "start_time": "2021-12-29T22:58:52.473Z"
   },
   {
    "duration": 33,
    "start_time": "2021-12-29T22:58:52.541Z"
   },
   {
    "duration": 50,
    "start_time": "2021-12-29T22:58:52.576Z"
   },
   {
    "duration": 33,
    "start_time": "2021-12-29T22:58:52.629Z"
   },
   {
    "duration": 24,
    "start_time": "2021-12-29T22:58:52.665Z"
   },
   {
    "duration": 53,
    "start_time": "2021-12-29T22:58:52.692Z"
   },
   {
    "duration": 5,
    "start_time": "2021-12-29T22:58:52.749Z"
   },
   {
    "duration": 20,
    "start_time": "2021-12-29T22:58:52.756Z"
   },
   {
    "duration": 47,
    "start_time": "2021-12-29T22:58:52.778Z"
   },
   {
    "duration": 38,
    "start_time": "2021-12-29T22:58:52.827Z"
   },
   {
    "duration": 5,
    "start_time": "2021-12-29T22:58:52.867Z"
   },
   {
    "duration": 21,
    "start_time": "2021-12-29T22:58:52.874Z"
   },
   {
    "duration": 11,
    "start_time": "2021-12-29T22:58:52.922Z"
   },
   {
    "duration": 10,
    "start_time": "2021-12-29T22:58:52.936Z"
   },
   {
    "duration": 25,
    "start_time": "2021-12-29T22:58:52.949Z"
   },
   {
    "duration": 13,
    "start_time": "2021-12-29T22:58:52.977Z"
   },
   {
    "duration": 31,
    "start_time": "2021-12-29T22:58:52.993Z"
   },
   {
    "duration": 222,
    "start_time": "2021-12-29T22:58:53.027Z"
   },
   {
    "duration": 21,
    "start_time": "2021-12-29T22:58:53.252Z"
   },
   {
    "duration": 11,
    "start_time": "2021-12-29T22:58:53.276Z"
   },
   {
    "duration": 50,
    "start_time": "2021-12-29T22:58:53.290Z"
   },
   {
    "duration": 8,
    "start_time": "2021-12-29T22:58:53.343Z"
   },
   {
    "duration": 599,
    "start_time": "2021-12-29T22:58:53.354Z"
   },
   {
    "duration": 520,
    "start_time": "2021-12-29T22:58:53.955Z"
   },
   {
    "duration": 5,
    "start_time": "2021-12-29T22:58:54.478Z"
   },
   {
    "duration": 7,
    "start_time": "2021-12-29T22:58:54.486Z"
   },
   {
    "duration": 31,
    "start_time": "2021-12-29T22:58:54.495Z"
   },
   {
    "duration": 8,
    "start_time": "2021-12-29T22:58:54.528Z"
   },
   {
    "duration": 6,
    "start_time": "2021-12-29T22:58:54.539Z"
   },
   {
    "duration": 7,
    "start_time": "2021-12-29T22:58:54.549Z"
   },
   {
    "duration": 575,
    "start_time": "2021-12-29T22:58:54.559Z"
   },
   {
    "duration": 470,
    "start_time": "2021-12-29T22:58:55.136Z"
   },
   {
    "duration": 14,
    "start_time": "2021-12-29T22:58:55.609Z"
   },
   {
    "duration": 5,
    "start_time": "2021-12-29T22:58:55.625Z"
   },
   {
    "duration": 8,
    "start_time": "2021-12-29T22:58:55.632Z"
   },
   {
    "duration": 5,
    "start_time": "2021-12-29T22:58:55.643Z"
   },
   {
    "duration": 6,
    "start_time": "2021-12-29T22:58:55.650Z"
   },
   {
    "duration": 8,
    "start_time": "2021-12-29T22:58:55.658Z"
   },
   {
    "duration": 558,
    "start_time": "2021-12-29T22:58:55.669Z"
   },
   {
    "duration": 499,
    "start_time": "2021-12-29T22:58:56.229Z"
   },
   {
    "duration": 6,
    "start_time": "2021-12-29T22:58:56.730Z"
   },
   {
    "duration": 13,
    "start_time": "2021-12-29T22:58:56.739Z"
   },
   {
    "duration": 8,
    "start_time": "2021-12-29T22:58:56.755Z"
   },
   {
    "duration": 16,
    "start_time": "2021-12-29T22:58:56.766Z"
   },
   {
    "duration": 41,
    "start_time": "2021-12-29T22:58:56.784Z"
   },
   {
    "duration": 7,
    "start_time": "2021-12-29T22:58:56.827Z"
   },
   {
    "duration": 9,
    "start_time": "2021-12-29T22:58:56.836Z"
   },
   {
    "duration": 12,
    "start_time": "2021-12-29T22:58:56.847Z"
   },
   {
    "duration": 84,
    "start_time": "2021-12-29T22:58:56.861Z"
   },
   {
    "duration": 21,
    "start_time": "2021-12-29T22:58:56.947Z"
   },
   {
    "duration": 1508,
    "start_time": "2021-12-29T23:20:29.986Z"
   },
   {
    "duration": 505,
    "start_time": "2021-12-29T23:20:31.497Z"
   },
   {
    "duration": 11,
    "start_time": "2021-12-29T23:20:32.005Z"
   },
   {
    "duration": 30,
    "start_time": "2021-12-29T23:20:32.020Z"
   },
   {
    "duration": 8,
    "start_time": "2021-12-29T23:20:32.053Z"
   },
   {
    "duration": 9,
    "start_time": "2021-12-29T23:20:32.064Z"
   },
   {
    "duration": 11,
    "start_time": "2021-12-29T23:20:32.076Z"
   },
   {
    "duration": 8,
    "start_time": "2021-12-29T23:20:32.124Z"
   },
   {
    "duration": 28,
    "start_time": "2021-12-29T23:20:32.136Z"
   },
   {
    "duration": 12,
    "start_time": "2021-12-29T23:20:32.167Z"
   },
   {
    "duration": 43,
    "start_time": "2021-12-29T23:20:32.223Z"
   },
   {
    "duration": 7,
    "start_time": "2021-12-29T23:20:32.269Z"
   },
   {
    "duration": 11,
    "start_time": "2021-12-29T23:20:32.279Z"
   },
   {
    "duration": 19,
    "start_time": "2021-12-29T23:20:32.324Z"
   },
   {
    "duration": 10,
    "start_time": "2021-12-29T23:20:32.346Z"
   },
   {
    "duration": 30,
    "start_time": "2021-12-29T23:20:32.359Z"
   },
   {
    "duration": 38,
    "start_time": "2021-12-29T23:20:32.391Z"
   },
   {
    "duration": 28,
    "start_time": "2021-12-29T23:20:32.432Z"
   },
   {
    "duration": 14,
    "start_time": "2021-12-29T23:20:32.463Z"
   },
   {
    "duration": 50,
    "start_time": "2021-12-29T23:20:32.479Z"
   },
   {
    "duration": 19,
    "start_time": "2021-12-29T23:20:32.531Z"
   },
   {
    "duration": 44,
    "start_time": "2021-12-29T23:20:32.552Z"
   },
   {
    "duration": 7,
    "start_time": "2021-12-29T23:20:32.622Z"
   },
   {
    "duration": 9,
    "start_time": "2021-12-29T23:20:32.635Z"
   },
   {
    "duration": 12,
    "start_time": "2021-12-29T23:20:32.647Z"
   },
   {
    "duration": 78,
    "start_time": "2021-12-29T23:20:32.661Z"
   },
   {
    "duration": 39,
    "start_time": "2021-12-29T23:20:32.742Z"
   },
   {
    "duration": 52,
    "start_time": "2021-12-29T23:20:32.783Z"
   },
   {
    "duration": 20,
    "start_time": "2021-12-29T23:20:32.837Z"
   },
   {
    "duration": 33,
    "start_time": "2021-12-29T23:20:32.859Z"
   },
   {
    "duration": 48,
    "start_time": "2021-12-29T23:20:32.895Z"
   },
   {
    "duration": 26,
    "start_time": "2021-12-29T23:20:32.945Z"
   },
   {
    "duration": 4,
    "start_time": "2021-12-29T23:20:32.973Z"
   },
   {
    "duration": 47,
    "start_time": "2021-12-29T23:20:32.979Z"
   },
   {
    "duration": 13,
    "start_time": "2021-12-29T23:20:33.029Z"
   },
   {
    "duration": 41,
    "start_time": "2021-12-29T23:20:33.045Z"
   },
   {
    "duration": 37,
    "start_time": "2021-12-29T23:20:33.088Z"
   },
   {
    "duration": 26,
    "start_time": "2021-12-29T23:20:33.127Z"
   },
   {
    "duration": 12,
    "start_time": "2021-12-29T23:20:33.156Z"
   },
   {
    "duration": 7,
    "start_time": "2021-12-29T23:20:33.171Z"
   },
   {
    "duration": 58,
    "start_time": "2021-12-29T23:20:33.180Z"
   },
   {
    "duration": 5,
    "start_time": "2021-12-29T23:20:33.240Z"
   },
   {
    "duration": 15,
    "start_time": "2021-12-29T23:20:33.247Z"
   },
   {
    "duration": 252,
    "start_time": "2021-12-29T23:20:33.264Z"
   },
   {
    "duration": 19,
    "start_time": "2021-12-29T23:20:33.522Z"
   },
   {
    "duration": 18,
    "start_time": "2021-12-29T23:20:33.543Z"
   },
   {
    "duration": 16,
    "start_time": "2021-12-29T23:20:33.564Z"
   },
   {
    "duration": 8,
    "start_time": "2021-12-29T23:20:33.582Z"
   },
   {
    "duration": 631,
    "start_time": "2021-12-29T23:20:33.592Z"
   },
   {
    "duration": 468,
    "start_time": "2021-12-29T23:20:34.225Z"
   },
   {
    "duration": 5,
    "start_time": "2021-12-29T23:20:34.696Z"
   },
   {
    "duration": 20,
    "start_time": "2021-12-29T23:20:34.704Z"
   },
   {
    "duration": 10,
    "start_time": "2021-12-29T23:20:34.727Z"
   },
   {
    "duration": 7,
    "start_time": "2021-12-29T23:20:34.739Z"
   },
   {
    "duration": 8,
    "start_time": "2021-12-29T23:20:34.748Z"
   },
   {
    "duration": 8,
    "start_time": "2021-12-29T23:20:34.758Z"
   },
   {
    "duration": 592,
    "start_time": "2021-12-29T23:20:34.768Z"
   },
   {
    "duration": 468,
    "start_time": "2021-12-29T23:20:35.363Z"
   },
   {
    "duration": 6,
    "start_time": "2021-12-29T23:20:35.833Z"
   },
   {
    "duration": 9,
    "start_time": "2021-12-29T23:20:35.842Z"
   },
   {
    "duration": 11,
    "start_time": "2021-12-29T23:20:35.854Z"
   },
   {
    "duration": 7,
    "start_time": "2021-12-29T23:20:35.868Z"
   },
   {
    "duration": 6,
    "start_time": "2021-12-29T23:20:35.878Z"
   },
   {
    "duration": 6,
    "start_time": "2021-12-29T23:20:35.924Z"
   },
   {
    "duration": 513,
    "start_time": "2021-12-29T23:20:35.932Z"
   },
   {
    "duration": 533,
    "start_time": "2021-12-29T23:20:36.448Z"
   },
   {
    "duration": 7,
    "start_time": "2021-12-29T23:20:36.983Z"
   },
   {
    "duration": 27,
    "start_time": "2021-12-29T23:20:36.997Z"
   },
   {
    "duration": 10,
    "start_time": "2021-12-29T23:20:37.028Z"
   },
   {
    "duration": 8,
    "start_time": "2021-12-29T23:20:37.040Z"
   },
   {
    "duration": 7,
    "start_time": "2021-12-29T23:20:37.051Z"
   },
   {
    "duration": 6,
    "start_time": "2021-12-29T23:20:37.061Z"
   },
   {
    "duration": 8,
    "start_time": "2021-12-29T23:20:37.070Z"
   },
   {
    "duration": 13,
    "start_time": "2021-12-29T23:20:37.124Z"
   },
   {
    "duration": 64,
    "start_time": "2021-12-29T23:20:37.141Z"
   },
   {
    "duration": 27,
    "start_time": "2021-12-29T23:20:37.208Z"
   },
   {
    "duration": 1467,
    "start_time": "2021-12-29T23:21:24.020Z"
   },
   {
    "duration": 497,
    "start_time": "2021-12-29T23:21:25.490Z"
   },
   {
    "duration": 10,
    "start_time": "2021-12-29T23:21:25.990Z"
   },
   {
    "duration": 28,
    "start_time": "2021-12-29T23:21:26.003Z"
   },
   {
    "duration": 10,
    "start_time": "2021-12-29T23:21:26.033Z"
   },
   {
    "duration": 7,
    "start_time": "2021-12-29T23:21:26.045Z"
   },
   {
    "duration": 10,
    "start_time": "2021-12-29T23:21:26.055Z"
   },
   {
    "duration": 9,
    "start_time": "2021-12-29T23:21:26.067Z"
   },
   {
    "duration": 68,
    "start_time": "2021-12-29T23:21:26.081Z"
   },
   {
    "duration": 10,
    "start_time": "2021-12-29T23:21:26.152Z"
   },
   {
    "duration": 70,
    "start_time": "2021-12-29T23:21:26.165Z"
   },
   {
    "duration": 6,
    "start_time": "2021-12-29T23:21:26.238Z"
   },
   {
    "duration": 9,
    "start_time": "2021-12-29T23:21:26.246Z"
   },
   {
    "duration": 17,
    "start_time": "2021-12-29T23:21:26.258Z"
   },
   {
    "duration": 9,
    "start_time": "2021-12-29T23:21:26.277Z"
   },
   {
    "duration": 24,
    "start_time": "2021-12-29T23:21:26.324Z"
   },
   {
    "duration": 6,
    "start_time": "2021-12-29T23:21:26.350Z"
   },
   {
    "duration": 23,
    "start_time": "2021-12-29T23:21:26.358Z"
   },
   {
    "duration": 44,
    "start_time": "2021-12-29T23:21:26.383Z"
   },
   {
    "duration": 11,
    "start_time": "2021-12-29T23:21:26.430Z"
   },
   {
    "duration": 16,
    "start_time": "2021-12-29T23:21:26.443Z"
   },
   {
    "duration": 73,
    "start_time": "2021-12-29T23:21:26.461Z"
   },
   {
    "duration": 7,
    "start_time": "2021-12-29T23:21:26.536Z"
   },
   {
    "duration": 9,
    "start_time": "2021-12-29T23:21:26.545Z"
   },
   {
    "duration": 12,
    "start_time": "2021-12-29T23:21:26.557Z"
   },
   {
    "duration": 66,
    "start_time": "2021-12-29T23:21:26.571Z"
   },
   {
    "duration": 37,
    "start_time": "2021-12-29T23:21:26.643Z"
   },
   {
    "duration": 53,
    "start_time": "2021-12-29T23:21:26.684Z"
   },
   {
    "duration": 19,
    "start_time": "2021-12-29T23:21:26.740Z"
   },
   {
    "duration": 31,
    "start_time": "2021-12-29T23:21:26.761Z"
   },
   {
    "duration": 46,
    "start_time": "2021-12-29T23:21:26.795Z"
   },
   {
    "duration": 27,
    "start_time": "2021-12-29T23:21:26.843Z"
   },
   {
    "duration": 3,
    "start_time": "2021-12-29T23:21:26.873Z"
   },
   {
    "duration": 53,
    "start_time": "2021-12-29T23:21:26.879Z"
   },
   {
    "duration": 20,
    "start_time": "2021-12-29T23:21:26.934Z"
   },
   {
    "duration": 37,
    "start_time": "2021-12-29T23:21:26.957Z"
   },
   {
    "duration": 4,
    "start_time": "2021-12-29T23:21:26.996Z"
   },
   {
    "duration": 36,
    "start_time": "2021-12-29T23:21:27.003Z"
   },
   {
    "duration": 12,
    "start_time": "2021-12-29T23:21:27.041Z"
   },
   {
    "duration": 6,
    "start_time": "2021-12-29T23:21:27.055Z"
   },
   {
    "duration": 18,
    "start_time": "2021-12-29T23:21:27.064Z"
   },
   {
    "duration": 43,
    "start_time": "2021-12-29T23:21:27.084Z"
   },
   {
    "duration": 7,
    "start_time": "2021-12-29T23:21:27.130Z"
   },
   {
    "duration": 230,
    "start_time": "2021-12-29T23:21:27.139Z"
   },
   {
    "duration": 19,
    "start_time": "2021-12-29T23:21:27.372Z"
   },
   {
    "duration": 31,
    "start_time": "2021-12-29T23:21:27.393Z"
   },
   {
    "duration": 18,
    "start_time": "2021-12-29T23:21:27.426Z"
   },
   {
    "duration": 7,
    "start_time": "2021-12-29T23:21:27.446Z"
   },
   {
    "duration": 595,
    "start_time": "2021-12-29T23:21:27.455Z"
   },
   {
    "duration": 514,
    "start_time": "2021-12-29T23:21:28.052Z"
   },
   {
    "duration": 6,
    "start_time": "2021-12-29T23:21:28.568Z"
   },
   {
    "duration": 8,
    "start_time": "2021-12-29T23:21:28.576Z"
   },
   {
    "duration": 11,
    "start_time": "2021-12-29T23:21:28.586Z"
   },
   {
    "duration": 27,
    "start_time": "2021-12-29T23:21:28.599Z"
   },
   {
    "duration": 7,
    "start_time": "2021-12-29T23:21:28.628Z"
   },
   {
    "duration": 7,
    "start_time": "2021-12-29T23:21:28.637Z"
   },
   {
    "duration": 548,
    "start_time": "2021-12-29T23:21:28.647Z"
   },
   {
    "duration": 452,
    "start_time": "2021-12-29T23:21:29.197Z"
   },
   {
    "duration": 6,
    "start_time": "2021-12-29T23:21:29.652Z"
   },
   {
    "duration": 10,
    "start_time": "2021-12-29T23:21:29.660Z"
   },
   {
    "duration": 11,
    "start_time": "2021-12-29T23:21:29.672Z"
   },
   {
    "duration": 7,
    "start_time": "2021-12-29T23:21:29.685Z"
   },
   {
    "duration": 6,
    "start_time": "2021-12-29T23:21:29.724Z"
   },
   {
    "duration": 10,
    "start_time": "2021-12-29T23:21:29.732Z"
   },
   {
    "duration": 528,
    "start_time": "2021-12-29T23:21:29.744Z"
   },
   {
    "duration": 563,
    "start_time": "2021-12-29T23:21:30.274Z"
   },
   {
    "duration": 6,
    "start_time": "2021-12-29T23:21:30.839Z"
   },
   {
    "duration": 39,
    "start_time": "2021-12-29T23:21:30.847Z"
   },
   {
    "duration": 43,
    "start_time": "2021-12-29T23:21:30.889Z"
   },
   {
    "duration": 16,
    "start_time": "2021-12-29T23:21:30.935Z"
   },
   {
    "duration": 23,
    "start_time": "2021-12-29T23:21:30.954Z"
   },
   {
    "duration": 28,
    "start_time": "2021-12-29T23:21:30.979Z"
   },
   {
    "duration": 21,
    "start_time": "2021-12-29T23:21:31.010Z"
   },
   {
    "duration": 22,
    "start_time": "2021-12-29T23:21:31.033Z"
   },
   {
    "duration": 84,
    "start_time": "2021-12-29T23:21:31.057Z"
   },
   {
    "duration": 22,
    "start_time": "2021-12-29T23:21:31.144Z"
   },
   {
    "duration": 1413,
    "start_time": "2021-12-29T23:22:55.442Z"
   },
   {
    "duration": 462,
    "start_time": "2021-12-29T23:22:56.858Z"
   },
   {
    "duration": 9,
    "start_time": "2021-12-29T23:22:57.323Z"
   },
   {
    "duration": 23,
    "start_time": "2021-12-29T23:22:57.335Z"
   },
   {
    "duration": 10,
    "start_time": "2021-12-29T23:22:57.360Z"
   },
   {
    "duration": 12,
    "start_time": "2021-12-29T23:22:57.373Z"
   },
   {
    "duration": 39,
    "start_time": "2021-12-29T23:22:57.388Z"
   },
   {
    "duration": 8,
    "start_time": "2021-12-29T23:22:57.432Z"
   },
   {
    "duration": 27,
    "start_time": "2021-12-29T23:22:57.444Z"
   },
   {
    "duration": 51,
    "start_time": "2021-12-29T23:22:57.474Z"
   },
   {
    "duration": 39,
    "start_time": "2021-12-29T23:22:57.528Z"
   },
   {
    "duration": 8,
    "start_time": "2021-12-29T23:22:57.570Z"
   },
   {
    "duration": 45,
    "start_time": "2021-12-29T23:22:57.581Z"
   },
   {
    "duration": 20,
    "start_time": "2021-12-29T23:22:57.629Z"
   },
   {
    "duration": 12,
    "start_time": "2021-12-29T23:22:57.652Z"
   },
   {
    "duration": 68,
    "start_time": "2021-12-29T23:22:57.667Z"
   },
   {
    "duration": 7,
    "start_time": "2021-12-29T23:22:57.738Z"
   },
   {
    "duration": 26,
    "start_time": "2021-12-29T23:22:57.747Z"
   },
   {
    "duration": 48,
    "start_time": "2021-12-29T23:22:57.775Z"
   },
   {
    "duration": 13,
    "start_time": "2021-12-29T23:22:57.826Z"
   },
   {
    "duration": 17,
    "start_time": "2021-12-29T23:22:57.842Z"
   },
   {
    "duration": 79,
    "start_time": "2021-12-29T23:22:57.861Z"
   },
   {
    "duration": 6,
    "start_time": "2021-12-29T23:22:57.948Z"
   },
   {
    "duration": 8,
    "start_time": "2021-12-29T23:22:57.960Z"
   },
   {
    "duration": 13,
    "start_time": "2021-12-29T23:22:57.971Z"
   },
   {
    "duration": 70,
    "start_time": "2021-12-29T23:22:57.987Z"
   },
   {
    "duration": 65,
    "start_time": "2021-12-29T23:22:58.059Z"
   },
   {
    "duration": 37,
    "start_time": "2021-12-29T23:22:58.128Z"
   },
   {
    "duration": 23,
    "start_time": "2021-12-29T23:22:58.168Z"
   },
   {
    "duration": 64,
    "start_time": "2021-12-29T23:22:58.194Z"
   },
   {
    "duration": 24,
    "start_time": "2021-12-29T23:22:58.261Z"
   },
   {
    "duration": 56,
    "start_time": "2021-12-29T23:22:58.288Z"
   },
   {
    "duration": 4,
    "start_time": "2021-12-29T23:22:58.347Z"
   },
   {
    "duration": 21,
    "start_time": "2021-12-29T23:22:58.353Z"
   },
   {
    "duration": 13,
    "start_time": "2021-12-29T23:22:58.377Z"
   },
   {
    "duration": 61,
    "start_time": "2021-12-29T23:22:58.393Z"
   },
   {
    "duration": 6,
    "start_time": "2021-12-29T23:22:58.456Z"
   },
   {
    "duration": 20,
    "start_time": "2021-12-29T23:22:58.465Z"
   },
   {
    "duration": 48,
    "start_time": "2021-12-29T23:22:58.487Z"
   },
   {
    "duration": 7,
    "start_time": "2021-12-29T23:22:58.537Z"
   },
   {
    "duration": 17,
    "start_time": "2021-12-29T23:22:58.547Z"
   },
   {
    "duration": 14,
    "start_time": "2021-12-29T23:22:58.566Z"
   },
   {
    "duration": 40,
    "start_time": "2021-12-29T23:22:58.583Z"
   },
   {
    "duration": 227,
    "start_time": "2021-12-29T23:22:58.626Z"
   },
   {
    "duration": 22,
    "start_time": "2021-12-29T23:22:58.856Z"
   },
   {
    "duration": 42,
    "start_time": "2021-12-29T23:22:58.881Z"
   },
   {
    "duration": 19,
    "start_time": "2021-12-29T23:22:58.926Z"
   },
   {
    "duration": 9,
    "start_time": "2021-12-29T23:22:58.948Z"
   },
   {
    "duration": 580,
    "start_time": "2021-12-29T23:22:58.960Z"
   },
   {
    "duration": 473,
    "start_time": "2021-12-29T23:22:59.542Z"
   },
   {
    "duration": 8,
    "start_time": "2021-12-29T23:23:00.017Z"
   },
   {
    "duration": 9,
    "start_time": "2021-12-29T23:23:00.028Z"
   },
   {
    "duration": 13,
    "start_time": "2021-12-29T23:23:00.039Z"
   },
   {
    "duration": 8,
    "start_time": "2021-12-29T23:23:00.054Z"
   },
   {
    "duration": 14,
    "start_time": "2021-12-29T23:23:00.064Z"
   },
   {
    "duration": 8,
    "start_time": "2021-12-29T23:23:00.080Z"
   },
   {
    "duration": 547,
    "start_time": "2021-12-29T23:23:00.124Z"
   },
   {
    "duration": 481,
    "start_time": "2021-12-29T23:23:00.673Z"
   },
   {
    "duration": 6,
    "start_time": "2021-12-29T23:23:01.156Z"
   },
   {
    "duration": 13,
    "start_time": "2021-12-29T23:23:01.164Z"
   },
   {
    "duration": 16,
    "start_time": "2021-12-29T23:23:01.180Z"
   },
   {
    "duration": 28,
    "start_time": "2021-12-29T23:23:01.198Z"
   },
   {
    "duration": 6,
    "start_time": "2021-12-29T23:23:01.229Z"
   },
   {
    "duration": 18,
    "start_time": "2021-12-29T23:23:01.238Z"
   },
   {
    "duration": 540,
    "start_time": "2021-12-29T23:23:01.259Z"
   },
   {
    "duration": 556,
    "start_time": "2021-12-29T23:23:01.801Z"
   },
   {
    "duration": 6,
    "start_time": "2021-12-29T23:23:02.360Z"
   },
   {
    "duration": 8,
    "start_time": "2021-12-29T23:23:02.373Z"
   },
   {
    "duration": 10,
    "start_time": "2021-12-29T23:23:02.384Z"
   },
   {
    "duration": 28,
    "start_time": "2021-12-29T23:23:02.396Z"
   },
   {
    "duration": 11,
    "start_time": "2021-12-29T23:23:02.427Z"
   },
   {
    "duration": 8,
    "start_time": "2021-12-29T23:23:02.440Z"
   },
   {
    "duration": 11,
    "start_time": "2021-12-29T23:23:02.450Z"
   },
   {
    "duration": 16,
    "start_time": "2021-12-29T23:23:02.463Z"
   },
   {
    "duration": 108,
    "start_time": "2021-12-29T23:23:02.481Z"
   },
   {
    "duration": 24,
    "start_time": "2021-12-29T23:23:02.591Z"
   },
   {
    "duration": 1457,
    "start_time": "2021-12-29T23:23:20.623Z"
   },
   {
    "duration": 499,
    "start_time": "2021-12-29T23:23:22.083Z"
   },
   {
    "duration": 10,
    "start_time": "2021-12-29T23:23:22.585Z"
   },
   {
    "duration": 26,
    "start_time": "2021-12-29T23:23:22.598Z"
   },
   {
    "duration": 8,
    "start_time": "2021-12-29T23:23:22.626Z"
   },
   {
    "duration": 8,
    "start_time": "2021-12-29T23:23:22.637Z"
   },
   {
    "duration": 11,
    "start_time": "2021-12-29T23:23:22.648Z"
   },
   {
    "duration": 9,
    "start_time": "2021-12-29T23:23:22.662Z"
   },
   {
    "duration": 29,
    "start_time": "2021-12-29T23:23:22.722Z"
   },
   {
    "duration": 10,
    "start_time": "2021-12-29T23:23:22.755Z"
   },
   {
    "duration": 72,
    "start_time": "2021-12-29T23:23:22.768Z"
   },
   {
    "duration": 7,
    "start_time": "2021-12-29T23:23:22.842Z"
   },
   {
    "duration": 23,
    "start_time": "2021-12-29T23:23:22.852Z"
   },
   {
    "duration": 26,
    "start_time": "2021-12-29T23:23:22.877Z"
   },
   {
    "duration": 26,
    "start_time": "2021-12-29T23:23:22.905Z"
   },
   {
    "duration": 26,
    "start_time": "2021-12-29T23:23:22.934Z"
   },
   {
    "duration": 6,
    "start_time": "2021-12-29T23:23:22.963Z"
   },
   {
    "duration": 22,
    "start_time": "2021-12-29T23:23:22.971Z"
   },
   {
    "duration": 35,
    "start_time": "2021-12-29T23:23:22.996Z"
   },
   {
    "duration": 11,
    "start_time": "2021-12-29T23:23:23.034Z"
   },
   {
    "duration": 20,
    "start_time": "2021-12-29T23:23:23.047Z"
   },
   {
    "duration": 69,
    "start_time": "2021-12-29T23:23:23.069Z"
   },
   {
    "duration": 7,
    "start_time": "2021-12-29T23:23:23.140Z"
   },
   {
    "duration": 9,
    "start_time": "2021-12-29T23:23:23.149Z"
   },
   {
    "duration": 12,
    "start_time": "2021-12-29T23:23:23.160Z"
   },
   {
    "duration": 71,
    "start_time": "2021-12-29T23:23:23.174Z"
   },
   {
    "duration": 39,
    "start_time": "2021-12-29T23:23:23.251Z"
   },
   {
    "duration": 49,
    "start_time": "2021-12-29T23:23:23.293Z"
   },
   {
    "duration": 20,
    "start_time": "2021-12-29T23:23:23.344Z"
   },
   {
    "duration": 30,
    "start_time": "2021-12-29T23:23:23.367Z"
   },
   {
    "duration": 44,
    "start_time": "2021-12-29T23:23:23.399Z"
   },
   {
    "duration": 27,
    "start_time": "2021-12-29T23:23:23.445Z"
   },
   {
    "duration": 4,
    "start_time": "2021-12-29T23:23:23.475Z"
   },
   {
    "duration": 51,
    "start_time": "2021-12-29T23:23:23.481Z"
   },
   {
    "duration": 16,
    "start_time": "2021-12-29T23:23:23.535Z"
   },
   {
    "duration": 36,
    "start_time": "2021-12-29T23:23:23.553Z"
   },
   {
    "duration": 5,
    "start_time": "2021-12-29T23:23:23.591Z"
   },
   {
    "duration": 39,
    "start_time": "2021-12-29T23:23:23.599Z"
   },
   {
    "duration": 12,
    "start_time": "2021-12-29T23:23:23.640Z"
   },
   {
    "duration": 6,
    "start_time": "2021-12-29T23:23:23.654Z"
   },
   {
    "duration": 17,
    "start_time": "2021-12-29T23:23:23.663Z"
   },
   {
    "duration": 42,
    "start_time": "2021-12-29T23:23:23.682Z"
   },
   {
    "duration": 8,
    "start_time": "2021-12-29T23:23:23.726Z"
   },
   {
    "duration": 235,
    "start_time": "2021-12-29T23:23:23.736Z"
   },
   {
    "duration": 18,
    "start_time": "2021-12-29T23:23:23.973Z"
   },
   {
    "duration": 29,
    "start_time": "2021-12-29T23:23:23.994Z"
   },
   {
    "duration": 19,
    "start_time": "2021-12-29T23:23:24.025Z"
   },
   {
    "duration": 11,
    "start_time": "2021-12-29T23:23:24.046Z"
   },
   {
    "duration": 601,
    "start_time": "2021-12-29T23:23:24.059Z"
   },
   {
    "duration": 470,
    "start_time": "2021-12-29T23:23:24.663Z"
   },
   {
    "duration": 7,
    "start_time": "2021-12-29T23:23:25.137Z"
   },
   {
    "duration": 7,
    "start_time": "2021-12-29T23:23:25.147Z"
   },
   {
    "duration": 8,
    "start_time": "2021-12-29T23:23:25.157Z"
   },
   {
    "duration": 7,
    "start_time": "2021-12-29T23:23:25.168Z"
   },
   {
    "duration": 8,
    "start_time": "2021-12-29T23:23:25.224Z"
   },
   {
    "duration": 8,
    "start_time": "2021-12-29T23:23:25.234Z"
   },
   {
    "duration": 579,
    "start_time": "2021-12-29T23:23:25.244Z"
   },
   {
    "duration": 450,
    "start_time": "2021-12-29T23:23:25.825Z"
   },
   {
    "duration": 5,
    "start_time": "2021-12-29T23:23:26.278Z"
   },
   {
    "duration": 18,
    "start_time": "2021-12-29T23:23:26.285Z"
   },
   {
    "duration": 30,
    "start_time": "2021-12-29T23:23:26.305Z"
   },
   {
    "duration": 34,
    "start_time": "2021-12-29T23:23:26.337Z"
   },
   {
    "duration": 41,
    "start_time": "2021-12-29T23:23:26.373Z"
   },
   {
    "duration": 32,
    "start_time": "2021-12-29T23:23:26.416Z"
   },
   {
    "duration": 506,
    "start_time": "2021-12-29T23:23:26.451Z"
   },
   {
    "duration": 522,
    "start_time": "2021-12-29T23:23:26.959Z"
   },
   {
    "duration": 6,
    "start_time": "2021-12-29T23:23:27.483Z"
   },
   {
    "duration": 28,
    "start_time": "2021-12-29T23:23:27.491Z"
   },
   {
    "duration": 10,
    "start_time": "2021-12-29T23:23:27.523Z"
   },
   {
    "duration": 20,
    "start_time": "2021-12-29T23:23:27.535Z"
   },
   {
    "duration": 6,
    "start_time": "2021-12-29T23:23:27.558Z"
   },
   {
    "duration": 16,
    "start_time": "2021-12-29T23:23:27.566Z"
   },
   {
    "duration": 33,
    "start_time": "2021-12-29T23:23:27.584Z"
   },
   {
    "duration": 25,
    "start_time": "2021-12-29T23:23:27.619Z"
   },
   {
    "duration": 87,
    "start_time": "2021-12-29T23:23:27.646Z"
   },
   {
    "duration": 19,
    "start_time": "2021-12-29T23:23:27.735Z"
   },
   {
    "duration": 1448,
    "start_time": "2021-12-29T23:24:38.024Z"
   },
   {
    "duration": 584,
    "start_time": "2021-12-29T23:24:39.474Z"
   },
   {
    "duration": 10,
    "start_time": "2021-12-29T23:24:40.061Z"
   },
   {
    "duration": 36,
    "start_time": "2021-12-29T23:24:40.074Z"
   },
   {
    "duration": 12,
    "start_time": "2021-12-29T23:24:40.113Z"
   },
   {
    "duration": 17,
    "start_time": "2021-12-29T23:24:40.128Z"
   },
   {
    "duration": 23,
    "start_time": "2021-12-29T23:24:40.148Z"
   },
   {
    "duration": 31,
    "start_time": "2021-12-29T23:24:40.173Z"
   },
   {
    "duration": 31,
    "start_time": "2021-12-29T23:24:40.208Z"
   },
   {
    "duration": 22,
    "start_time": "2021-12-29T23:24:40.242Z"
   },
   {
    "duration": 66,
    "start_time": "2021-12-29T23:24:40.268Z"
   },
   {
    "duration": 7,
    "start_time": "2021-12-29T23:24:40.337Z"
   },
   {
    "duration": 15,
    "start_time": "2021-12-29T23:24:40.346Z"
   },
   {
    "duration": 39,
    "start_time": "2021-12-29T23:24:40.363Z"
   },
   {
    "duration": 21,
    "start_time": "2021-12-29T23:24:40.405Z"
   },
   {
    "duration": 35,
    "start_time": "2021-12-29T23:24:40.428Z"
   },
   {
    "duration": 18,
    "start_time": "2021-12-29T23:24:40.466Z"
   },
   {
    "duration": 49,
    "start_time": "2021-12-29T23:24:40.486Z"
   },
   {
    "duration": 17,
    "start_time": "2021-12-29T23:24:40.538Z"
   },
   {
    "duration": 25,
    "start_time": "2021-12-29T23:24:40.557Z"
   },
   {
    "duration": 42,
    "start_time": "2021-12-29T23:24:40.584Z"
   },
   {
    "duration": 42,
    "start_time": "2021-12-29T23:24:40.629Z"
   },
   {
    "duration": 6,
    "start_time": "2021-12-29T23:24:40.674Z"
   },
   {
    "duration": 28,
    "start_time": "2021-12-29T23:24:40.683Z"
   },
   {
    "duration": 15,
    "start_time": "2021-12-29T23:24:40.724Z"
   },
   {
    "duration": 47,
    "start_time": "2021-12-29T23:24:40.741Z"
   },
   {
    "duration": 51,
    "start_time": "2021-12-29T23:24:40.795Z"
   },
   {
    "duration": 31,
    "start_time": "2021-12-29T23:24:40.850Z"
   },
   {
    "duration": 45,
    "start_time": "2021-12-29T23:24:40.884Z"
   },
   {
    "duration": 32,
    "start_time": "2021-12-29T23:24:40.931Z"
   },
   {
    "duration": 25,
    "start_time": "2021-12-29T23:24:40.967Z"
   },
   {
    "duration": 52,
    "start_time": "2021-12-29T23:24:40.995Z"
   },
   {
    "duration": 5,
    "start_time": "2021-12-29T23:24:41.050Z"
   },
   {
    "duration": 34,
    "start_time": "2021-12-29T23:24:41.058Z"
   },
   {
    "duration": 35,
    "start_time": "2021-12-29T23:24:41.094Z"
   },
   {
    "duration": 52,
    "start_time": "2021-12-29T23:24:41.132Z"
   },
   {
    "duration": 6,
    "start_time": "2021-12-29T23:24:41.186Z"
   },
   {
    "duration": 30,
    "start_time": "2021-12-29T23:24:41.195Z"
   },
   {
    "duration": 25,
    "start_time": "2021-12-29T23:24:41.228Z"
   },
   {
    "duration": 19,
    "start_time": "2021-12-29T23:24:41.256Z"
   },
   {
    "duration": 27,
    "start_time": "2021-12-29T23:24:41.277Z"
   },
   {
    "duration": 20,
    "start_time": "2021-12-29T23:24:41.306Z"
   },
   {
    "duration": 9,
    "start_time": "2021-12-29T23:24:41.328Z"
   },
   {
    "duration": 233,
    "start_time": "2021-12-29T23:24:41.339Z"
   },
   {
    "duration": 19,
    "start_time": "2021-12-29T23:24:41.575Z"
   },
   {
    "duration": 34,
    "start_time": "2021-12-29T23:24:41.596Z"
   },
   {
    "duration": 19,
    "start_time": "2021-12-29T23:24:41.632Z"
   },
   {
    "duration": 9,
    "start_time": "2021-12-29T23:24:41.653Z"
   },
   {
    "duration": 613,
    "start_time": "2021-12-29T23:24:41.664Z"
   },
   {
    "duration": 460,
    "start_time": "2021-12-29T23:24:42.280Z"
   },
   {
    "duration": 5,
    "start_time": "2021-12-29T23:24:42.742Z"
   },
   {
    "duration": 7,
    "start_time": "2021-12-29T23:24:42.750Z"
   },
   {
    "duration": 10,
    "start_time": "2021-12-29T23:24:42.760Z"
   },
   {
    "duration": 9,
    "start_time": "2021-12-29T23:24:42.772Z"
   },
   {
    "duration": 41,
    "start_time": "2021-12-29T23:24:42.784Z"
   },
   {
    "duration": 7,
    "start_time": "2021-12-29T23:24:42.827Z"
   },
   {
    "duration": 629,
    "start_time": "2021-12-29T23:24:42.837Z"
   },
   {
    "duration": 457,
    "start_time": "2021-12-29T23:24:43.469Z"
   },
   {
    "duration": 6,
    "start_time": "2021-12-29T23:24:43.928Z"
   },
   {
    "duration": 8,
    "start_time": "2021-12-29T23:24:43.936Z"
   },
   {
    "duration": 7,
    "start_time": "2021-12-29T23:24:43.946Z"
   },
   {
    "duration": 6,
    "start_time": "2021-12-29T23:24:43.956Z"
   },
   {
    "duration": 6,
    "start_time": "2021-12-29T23:24:43.964Z"
   },
   {
    "duration": 52,
    "start_time": "2021-12-29T23:24:43.972Z"
   },
   {
    "duration": 496,
    "start_time": "2021-12-29T23:24:44.027Z"
   },
   {
    "duration": 493,
    "start_time": "2021-12-29T23:24:44.525Z"
   },
   {
    "duration": 6,
    "start_time": "2021-12-29T23:24:45.021Z"
   },
   {
    "duration": 34,
    "start_time": "2021-12-29T23:24:45.030Z"
   },
   {
    "duration": 30,
    "start_time": "2021-12-29T23:24:45.066Z"
   },
   {
    "duration": 31,
    "start_time": "2021-12-29T23:24:45.099Z"
   },
   {
    "duration": 27,
    "start_time": "2021-12-29T23:24:45.133Z"
   },
   {
    "duration": 21,
    "start_time": "2021-12-29T23:24:45.163Z"
   },
   {
    "duration": 26,
    "start_time": "2021-12-29T23:24:45.186Z"
   },
   {
    "duration": 42,
    "start_time": "2021-12-29T23:24:45.215Z"
   },
   {
    "duration": 87,
    "start_time": "2021-12-29T23:24:45.259Z"
   },
   {
    "duration": 22,
    "start_time": "2021-12-29T23:24:45.349Z"
   },
   {
    "duration": 1500,
    "start_time": "2021-12-29T23:26:09.288Z"
   },
   {
    "duration": 490,
    "start_time": "2021-12-29T23:26:10.791Z"
   },
   {
    "duration": 10,
    "start_time": "2021-12-29T23:26:11.284Z"
   },
   {
    "duration": 27,
    "start_time": "2021-12-29T23:26:11.296Z"
   },
   {
    "duration": 8,
    "start_time": "2021-12-29T23:26:11.326Z"
   },
   {
    "duration": 8,
    "start_time": "2021-12-29T23:26:11.337Z"
   },
   {
    "duration": 11,
    "start_time": "2021-12-29T23:26:11.347Z"
   },
   {
    "duration": 9,
    "start_time": "2021-12-29T23:26:11.360Z"
   },
   {
    "duration": 62,
    "start_time": "2021-12-29T23:26:11.373Z"
   },
   {
    "duration": 11,
    "start_time": "2021-12-29T23:26:11.438Z"
   },
   {
    "duration": 41,
    "start_time": "2021-12-29T23:26:11.451Z"
   },
   {
    "duration": 31,
    "start_time": "2021-12-29T23:26:11.494Z"
   },
   {
    "duration": 9,
    "start_time": "2021-12-29T23:26:11.527Z"
   },
   {
    "duration": 19,
    "start_time": "2021-12-29T23:26:11.538Z"
   },
   {
    "duration": 9,
    "start_time": "2021-12-29T23:26:11.560Z"
   },
   {
    "duration": 65,
    "start_time": "2021-12-29T23:26:11.572Z"
   },
   {
    "duration": 6,
    "start_time": "2021-12-29T23:26:11.640Z"
   },
   {
    "duration": 23,
    "start_time": "2021-12-29T23:26:11.648Z"
   },
   {
    "duration": 11,
    "start_time": "2021-12-29T23:26:11.673Z"
   },
   {
    "duration": 46,
    "start_time": "2021-12-29T23:26:11.686Z"
   },
   {
    "duration": 17,
    "start_time": "2021-12-29T23:26:11.735Z"
   },
   {
    "duration": 43,
    "start_time": "2021-12-29T23:26:11.755Z"
   },
   {
    "duration": 27,
    "start_time": "2021-12-29T23:26:11.800Z"
   },
   {
    "duration": 9,
    "start_time": "2021-12-29T23:26:11.829Z"
   },
   {
    "duration": 12,
    "start_time": "2021-12-29T23:26:11.841Z"
   },
   {
    "duration": 72,
    "start_time": "2021-12-29T23:26:11.857Z"
   },
   {
    "duration": 39,
    "start_time": "2021-12-29T23:26:11.936Z"
   },
   {
    "duration": 57,
    "start_time": "2021-12-29T23:26:11.979Z"
   },
   {
    "duration": 20,
    "start_time": "2021-12-29T23:26:12.038Z"
   },
   {
    "duration": 30,
    "start_time": "2021-12-29T23:26:12.061Z"
   },
   {
    "duration": 49,
    "start_time": "2021-12-29T23:26:12.094Z"
   },
   {
    "duration": 29,
    "start_time": "2021-12-29T23:26:12.145Z"
   },
   {
    "duration": 4,
    "start_time": "2021-12-29T23:26:12.177Z"
   },
   {
    "duration": 52,
    "start_time": "2021-12-29T23:26:12.184Z"
   },
   {
    "duration": 29,
    "start_time": "2021-12-29T23:26:12.239Z"
   },
   {
    "duration": 62,
    "start_time": "2021-12-29T23:26:12.271Z"
   },
   {
    "duration": 6,
    "start_time": "2021-12-29T23:26:12.336Z"
   },
   {
    "duration": 50,
    "start_time": "2021-12-29T23:26:12.345Z"
   },
   {
    "duration": 20,
    "start_time": "2021-12-29T23:26:12.397Z"
   },
   {
    "duration": 33,
    "start_time": "2021-12-29T23:26:12.419Z"
   },
   {
    "duration": 37,
    "start_time": "2021-12-29T23:26:12.454Z"
   },
   {
    "duration": 19,
    "start_time": "2021-12-29T23:26:12.494Z"
   },
   {
    "duration": 36,
    "start_time": "2021-12-29T23:26:12.516Z"
   },
   {
    "duration": 272,
    "start_time": "2021-12-29T23:26:12.554Z"
   },
   {
    "duration": 22,
    "start_time": "2021-12-29T23:26:12.829Z"
   },
   {
    "duration": 33,
    "start_time": "2021-12-29T23:26:12.854Z"
   },
   {
    "duration": 42,
    "start_time": "2021-12-29T23:26:12.890Z"
   },
   {
    "duration": 8,
    "start_time": "2021-12-29T23:26:12.934Z"
   },
   {
    "duration": 684,
    "start_time": "2021-12-29T23:26:12.944Z"
   },
   {
    "duration": 500,
    "start_time": "2021-12-29T23:26:13.631Z"
   },
   {
    "duration": 6,
    "start_time": "2021-12-29T23:26:14.133Z"
   },
   {
    "duration": 39,
    "start_time": "2021-12-29T23:26:14.141Z"
   },
   {
    "duration": 33,
    "start_time": "2021-12-29T23:26:14.182Z"
   },
   {
    "duration": 25,
    "start_time": "2021-12-29T23:26:14.217Z"
   },
   {
    "duration": 36,
    "start_time": "2021-12-29T23:26:14.245Z"
   },
   {
    "duration": 21,
    "start_time": "2021-12-29T23:26:14.284Z"
   },
   {
    "duration": 544,
    "start_time": "2021-12-29T23:26:14.307Z"
   },
   {
    "duration": 453,
    "start_time": "2021-12-29T23:26:14.853Z"
   },
   {
    "duration": 6,
    "start_time": "2021-12-29T23:26:15.308Z"
   },
   {
    "duration": 5,
    "start_time": "2021-12-29T23:26:15.324Z"
   },
   {
    "duration": 8,
    "start_time": "2021-12-29T23:26:15.331Z"
   },
   {
    "duration": 8,
    "start_time": "2021-12-29T23:26:15.341Z"
   },
   {
    "duration": 6,
    "start_time": "2021-12-29T23:26:15.351Z"
   },
   {
    "duration": 7,
    "start_time": "2021-12-29T23:26:15.359Z"
   },
   {
    "duration": 566,
    "start_time": "2021-12-29T23:26:15.368Z"
   },
   {
    "duration": 538,
    "start_time": "2021-12-29T23:26:15.937Z"
   },
   {
    "duration": 6,
    "start_time": "2021-12-29T23:26:16.478Z"
   },
   {
    "duration": 9,
    "start_time": "2021-12-29T23:26:16.486Z"
   },
   {
    "duration": 27,
    "start_time": "2021-12-29T23:26:16.497Z"
   },
   {
    "duration": 6,
    "start_time": "2021-12-29T23:26:16.526Z"
   },
   {
    "duration": 7,
    "start_time": "2021-12-29T23:26:16.534Z"
   },
   {
    "duration": 7,
    "start_time": "2021-12-29T23:26:16.543Z"
   },
   {
    "duration": 8,
    "start_time": "2021-12-29T23:26:16.552Z"
   },
   {
    "duration": 61,
    "start_time": "2021-12-29T23:26:16.562Z"
   },
   {
    "duration": 62,
    "start_time": "2021-12-29T23:26:16.626Z"
   },
   {
    "duration": 20,
    "start_time": "2021-12-29T23:26:16.691Z"
   },
   {
    "duration": 1434,
    "start_time": "2021-12-29T23:27:19.853Z"
   },
   {
    "duration": 502,
    "start_time": "2021-12-29T23:27:21.290Z"
   },
   {
    "duration": 11,
    "start_time": "2021-12-29T23:27:21.796Z"
   },
   {
    "duration": 28,
    "start_time": "2021-12-29T23:27:21.810Z"
   },
   {
    "duration": 8,
    "start_time": "2021-12-29T23:27:21.841Z"
   },
   {
    "duration": 13,
    "start_time": "2021-12-29T23:27:21.852Z"
   },
   {
    "duration": 9,
    "start_time": "2021-12-29T23:27:21.868Z"
   },
   {
    "duration": 46,
    "start_time": "2021-12-29T23:27:21.881Z"
   },
   {
    "duration": 29,
    "start_time": "2021-12-29T23:27:21.931Z"
   },
   {
    "duration": 11,
    "start_time": "2021-12-29T23:27:21.963Z"
   },
   {
    "duration": 84,
    "start_time": "2021-12-29T23:27:21.976Z"
   },
   {
    "duration": 9,
    "start_time": "2021-12-29T23:27:22.063Z"
   },
   {
    "duration": 11,
    "start_time": "2021-12-29T23:27:22.075Z"
   },
   {
    "duration": 49,
    "start_time": "2021-12-29T23:27:22.089Z"
   },
   {
    "duration": 11,
    "start_time": "2021-12-29T23:27:22.141Z"
   },
   {
    "duration": 29,
    "start_time": "2021-12-29T23:27:22.155Z"
   },
   {
    "duration": 42,
    "start_time": "2021-12-29T23:27:22.187Z"
   },
   {
    "duration": 26,
    "start_time": "2021-12-29T23:27:22.231Z"
   },
   {
    "duration": 11,
    "start_time": "2021-12-29T23:27:22.260Z"
   },
   {
    "duration": 49,
    "start_time": "2021-12-29T23:27:22.274Z"
   },
   {
    "duration": 16,
    "start_time": "2021-12-29T23:27:22.326Z"
   },
   {
    "duration": 42,
    "start_time": "2021-12-29T23:27:22.344Z"
   },
   {
    "duration": 33,
    "start_time": "2021-12-29T23:27:22.392Z"
   },
   {
    "duration": 8,
    "start_time": "2021-12-29T23:27:22.429Z"
   },
   {
    "duration": 11,
    "start_time": "2021-12-29T23:27:22.440Z"
   },
   {
    "duration": 70,
    "start_time": "2021-12-29T23:27:22.453Z"
   },
   {
    "duration": 39,
    "start_time": "2021-12-29T23:27:22.526Z"
   },
   {
    "duration": 55,
    "start_time": "2021-12-29T23:27:22.568Z"
   },
   {
    "duration": 21,
    "start_time": "2021-12-29T23:27:22.625Z"
   },
   {
    "duration": 31,
    "start_time": "2021-12-29T23:27:22.648Z"
   },
   {
    "duration": 52,
    "start_time": "2021-12-29T23:27:22.681Z"
   },
   {
    "duration": 27,
    "start_time": "2021-12-29T23:27:22.736Z"
   },
   {
    "duration": 4,
    "start_time": "2021-12-29T23:27:22.765Z"
   },
   {
    "duration": 20,
    "start_time": "2021-12-29T23:27:22.771Z"
   },
   {
    "duration": 36,
    "start_time": "2021-12-29T23:27:22.794Z"
   },
   {
    "duration": 40,
    "start_time": "2021-12-29T23:27:22.832Z"
   },
   {
    "duration": 5,
    "start_time": "2021-12-29T23:27:22.874Z"
   },
   {
    "duration": 51,
    "start_time": "2021-12-29T23:27:22.881Z"
   },
   {
    "duration": 13,
    "start_time": "2021-12-29T23:27:22.934Z"
   },
   {
    "duration": 8,
    "start_time": "2021-12-29T23:27:22.949Z"
   },
   {
    "duration": 20,
    "start_time": "2021-12-29T23:27:22.959Z"
   },
   {
    "duration": 10,
    "start_time": "2021-12-29T23:27:22.981Z"
   },
   {
    "duration": 8,
    "start_time": "2021-12-29T23:27:23.023Z"
   },
   {
    "duration": 253,
    "start_time": "2021-12-29T23:27:23.033Z"
   },
   {
    "duration": 20,
    "start_time": "2021-12-29T23:27:23.288Z"
   },
   {
    "duration": 25,
    "start_time": "2021-12-29T23:27:23.311Z"
   },
   {
    "duration": 20,
    "start_time": "2021-12-29T23:27:23.338Z"
   },
   {
    "duration": 8,
    "start_time": "2021-12-29T23:27:23.361Z"
   },
   {
    "duration": 733,
    "start_time": "2021-12-29T23:27:23.372Z"
   },
   {
    "duration": 441,
    "start_time": "2021-12-29T23:27:24.107Z"
   },
   {
    "duration": 7,
    "start_time": "2021-12-29T23:27:24.550Z"
   },
   {
    "duration": 12,
    "start_time": "2021-12-29T23:27:24.559Z"
   },
   {
    "duration": 18,
    "start_time": "2021-12-29T23:27:24.574Z"
   },
   {
    "duration": 36,
    "start_time": "2021-12-29T23:27:24.595Z"
   },
   {
    "duration": 14,
    "start_time": "2021-12-29T23:27:24.634Z"
   },
   {
    "duration": 16,
    "start_time": "2021-12-29T23:27:24.651Z"
   },
   {
    "duration": 572,
    "start_time": "2021-12-29T23:27:24.670Z"
   },
   {
    "duration": 472,
    "start_time": "2021-12-29T23:27:25.244Z"
   },
   {
    "duration": 8,
    "start_time": "2021-12-29T23:27:25.718Z"
   },
   {
    "duration": 9,
    "start_time": "2021-12-29T23:27:25.729Z"
   },
   {
    "duration": 7,
    "start_time": "2021-12-29T23:27:25.742Z"
   },
   {
    "duration": 7,
    "start_time": "2021-12-29T23:27:25.752Z"
   },
   {
    "duration": 9,
    "start_time": "2021-12-29T23:27:25.761Z"
   },
   {
    "duration": 53,
    "start_time": "2021-12-29T23:27:25.772Z"
   },
   {
    "duration": 552,
    "start_time": "2021-12-29T23:27:25.828Z"
   },
   {
    "duration": 583,
    "start_time": "2021-12-29T23:27:26.383Z"
   },
   {
    "duration": 6,
    "start_time": "2021-12-29T23:27:26.969Z"
   },
   {
    "duration": 6,
    "start_time": "2021-12-29T23:27:26.983Z"
   },
   {
    "duration": 33,
    "start_time": "2021-12-29T23:27:26.992Z"
   },
   {
    "duration": 6,
    "start_time": "2021-12-29T23:27:27.028Z"
   },
   {
    "duration": 13,
    "start_time": "2021-12-29T23:27:27.036Z"
   },
   {
    "duration": 12,
    "start_time": "2021-12-29T23:27:27.051Z"
   },
   {
    "duration": 8,
    "start_time": "2021-12-29T23:27:27.066Z"
   },
   {
    "duration": 51,
    "start_time": "2021-12-29T23:27:27.076Z"
   },
   {
    "duration": 65,
    "start_time": "2021-12-29T23:27:27.129Z"
   },
   {
    "duration": 26,
    "start_time": "2021-12-29T23:27:27.197Z"
   },
   {
    "duration": 1647,
    "start_time": "2021-12-31T10:01:38.880Z"
   },
   {
    "duration": 741,
    "start_time": "2021-12-31T10:01:40.531Z"
   },
   {
    "duration": 14,
    "start_time": "2021-12-31T10:01:54.561Z"
   },
   {
    "duration": 26,
    "start_time": "2021-12-31T10:02:02.743Z"
   },
   {
    "duration": 11,
    "start_time": "2021-12-31T10:02:08.178Z"
   },
   {
    "duration": 7,
    "start_time": "2021-12-31T10:02:10.153Z"
   },
   {
    "duration": 8,
    "start_time": "2021-12-31T10:02:12.296Z"
   },
   {
    "duration": 8,
    "start_time": "2021-12-31T10:02:12.849Z"
   },
   {
    "duration": 27,
    "start_time": "2021-12-31T10:03:06.695Z"
   },
   {
    "duration": 10,
    "start_time": "2021-12-31T10:03:06.856Z"
   },
   {
    "duration": 42,
    "start_time": "2021-12-31T10:03:07.368Z"
   },
   {
    "duration": 7,
    "start_time": "2021-12-31T10:03:14.440Z"
   },
   {
    "duration": 8,
    "start_time": "2021-12-31T10:03:14.655Z"
   },
   {
    "duration": 19,
    "start_time": "2021-12-31T10:03:16.750Z"
   },
   {
    "duration": 10,
    "start_time": "2021-12-31T10:03:17.167Z"
   },
   {
    "duration": 26,
    "start_time": "2021-12-31T10:03:17.406Z"
   },
   {
    "duration": 7,
    "start_time": "2021-12-31T10:03:17.799Z"
   },
   {
    "duration": 23,
    "start_time": "2021-12-31T10:03:20.086Z"
   },
   {
    "duration": 11,
    "start_time": "2021-12-31T10:03:20.271Z"
   },
   {
    "duration": 11,
    "start_time": "2021-12-31T10:03:20.654Z"
   },
   {
    "duration": 16,
    "start_time": "2021-12-31T10:03:29.478Z"
   },
   {
    "duration": 43,
    "start_time": "2021-12-31T10:03:34.166Z"
   },
   {
    "duration": 6,
    "start_time": "2021-12-31T10:03:34.623Z"
   },
   {
    "duration": 7,
    "start_time": "2021-12-31T10:03:34.886Z"
   },
   {
    "duration": 11,
    "start_time": "2021-12-31T10:03:37.062Z"
   },
   {
    "duration": 34,
    "start_time": "2021-12-31T10:04:13.328Z"
   },
   {
    "duration": 42,
    "start_time": "2021-12-31T10:04:37.301Z"
   },
   {
    "duration": 36,
    "start_time": "2021-12-31T10:05:02.926Z"
   },
   {
    "duration": 44,
    "start_time": "2021-12-31T10:05:48.677Z"
   },
   {
    "duration": 14,
    "start_time": "2021-12-31T10:08:12.067Z"
   },
   {
    "duration": 21,
    "start_time": "2021-12-31T10:08:32.979Z"
   },
   {
    "duration": 34,
    "start_time": "2021-12-31T10:08:33.499Z"
   },
   {
    "duration": 25,
    "start_time": "2021-12-31T10:08:39.770Z"
   },
   {
    "duration": 30,
    "start_time": "2021-12-31T10:08:40.690Z"
   },
   {
    "duration": 5,
    "start_time": "2021-12-31T10:09:03.265Z"
   },
   {
    "duration": 19,
    "start_time": "2021-12-31T10:09:08.362Z"
   },
   {
    "duration": 9141,
    "start_time": "2021-12-31T10:10:43.022Z"
   },
   {
    "duration": 5,
    "start_time": "2021-12-31T10:11:09.616Z"
   },
   {
    "duration": 548,
    "start_time": "2021-12-31T10:11:09.831Z"
   },
   {
    "duration": 10,
    "start_time": "2021-12-31T10:11:10.382Z"
   },
   {
    "duration": 32,
    "start_time": "2021-12-31T10:11:10.396Z"
   },
   {
    "duration": 8,
    "start_time": "2021-12-31T10:11:10.470Z"
   },
   {
    "duration": 8,
    "start_time": "2021-12-31T10:11:10.608Z"
   },
   {
    "duration": 9,
    "start_time": "2021-12-31T10:11:10.774Z"
   },
   {
    "duration": 7,
    "start_time": "2021-12-31T10:11:10.919Z"
   },
   {
    "duration": 37,
    "start_time": "2021-12-31T10:11:11.530Z"
   },
   {
    "duration": 11,
    "start_time": "2021-12-31T10:11:11.680Z"
   },
   {
    "duration": 46,
    "start_time": "2021-12-31T10:11:11.814Z"
   },
   {
    "duration": 7,
    "start_time": "2021-12-31T10:11:11.991Z"
   },
   {
    "duration": 7,
    "start_time": "2021-12-31T10:11:12.151Z"
   },
   {
    "duration": 20,
    "start_time": "2021-12-31T10:11:12.783Z"
   },
   {
    "duration": 10,
    "start_time": "2021-12-31T10:11:12.959Z"
   },
   {
    "duration": 25,
    "start_time": "2021-12-31T10:11:13.112Z"
   },
   {
    "duration": 7,
    "start_time": "2021-12-31T10:11:13.273Z"
   },
   {
    "duration": 23,
    "start_time": "2021-12-31T10:11:13.727Z"
   },
   {
    "duration": 12,
    "start_time": "2021-12-31T10:11:13.871Z"
   },
   {
    "duration": 11,
    "start_time": "2021-12-31T10:11:14.607Z"
   },
   {
    "duration": 16,
    "start_time": "2021-12-31T10:11:14.967Z"
   },
   {
    "duration": 43,
    "start_time": "2021-12-31T10:11:15.343Z"
   },
   {
    "duration": 6,
    "start_time": "2021-12-31T10:11:15.496Z"
   },
   {
    "duration": 7,
    "start_time": "2021-12-31T10:11:15.640Z"
   },
   {
    "duration": 11,
    "start_time": "2021-12-31T10:11:16.111Z"
   },
   {
    "duration": 35,
    "start_time": "2021-12-31T10:11:17.191Z"
   },
   {
    "duration": 42,
    "start_time": "2021-12-31T10:11:17.583Z"
   },
   {
    "duration": 27,
    "start_time": "2021-12-31T10:11:18.439Z"
   },
   {
    "duration": 21,
    "start_time": "2021-12-31T10:11:19.463Z"
   },
   {
    "duration": 30,
    "start_time": "2021-12-31T10:11:20.381Z"
   },
   {
    "duration": 24,
    "start_time": "2021-12-31T10:11:25.135Z"
   },
   {
    "duration": 26,
    "start_time": "2021-12-31T10:11:25.687Z"
   },
   {
    "duration": 13,
    "start_time": "2021-12-31T10:11:27.671Z"
   },
   {
    "duration": 18,
    "start_time": "2021-12-31T10:11:37.353Z"
   },
   {
    "duration": 8,
    "start_time": "2021-12-31T10:13:51.534Z"
   },
   {
    "duration": 6,
    "start_time": "2021-12-31T10:14:02.525Z"
   },
   {
    "duration": 11,
    "start_time": "2021-12-31T10:14:16.999Z"
   },
   {
    "duration": 10,
    "start_time": "2021-12-31T10:17:44.569Z"
   },
   {
    "duration": 40,
    "start_time": "2021-12-31T10:17:55.224Z"
   },
   {
    "duration": 5,
    "start_time": "2021-12-31T10:18:04.690Z"
   },
   {
    "duration": 26,
    "start_time": "2021-12-31T10:18:11.906Z"
   },
   {
    "duration": 12,
    "start_time": "2021-12-31T10:18:17.081Z"
   },
   {
    "duration": 9131,
    "start_time": "2021-12-31T10:18:32.251Z"
   },
   {
    "duration": 5,
    "start_time": "2021-12-31T10:18:49.161Z"
   },
   {
    "duration": 7,
    "start_time": "2021-12-31T10:20:30.975Z"
   },
   {
    "duration": 18,
    "start_time": "2021-12-31T10:20:32.215Z"
   },
   {
    "duration": 5,
    "start_time": "2021-12-31T10:20:32.950Z"
   },
   {
    "duration": 7,
    "start_time": "2021-12-31T10:25:32.171Z"
   },
   {
    "duration": 19,
    "start_time": "2021-12-31T10:30:49.380Z"
   },
   {
    "duration": 9,
    "start_time": "2021-12-31T10:31:16.380Z"
   },
   {
    "duration": 221,
    "start_time": "2021-12-31T10:32:25.596Z"
   },
   {
    "duration": 19,
    "start_time": "2021-12-31T10:32:25.958Z"
   },
   {
    "duration": 10,
    "start_time": "2021-12-31T10:32:32.364Z"
   },
   {
    "duration": 17,
    "start_time": "2021-12-31T10:32:47.022Z"
   },
   {
    "duration": 7,
    "start_time": "2021-12-31T10:33:12.652Z"
   },
   {
    "duration": 589,
    "start_time": "2021-12-31T10:33:16.995Z"
   },
   {
    "duration": 484,
    "start_time": "2021-12-31T10:34:27.122Z"
   },
   {
    "duration": 6,
    "start_time": "2021-12-31T10:34:35.043Z"
   },
   {
    "duration": 6,
    "start_time": "2021-12-31T10:34:36.227Z"
   },
   {
    "duration": 7,
    "start_time": "2021-12-31T10:34:38.043Z"
   },
   {
    "duration": 6,
    "start_time": "2021-12-31T10:34:39.291Z"
   },
   {
    "duration": 6,
    "start_time": "2021-12-31T10:34:39.875Z"
   },
   {
    "duration": 6,
    "start_time": "2021-12-31T10:34:40.715Z"
   },
   {
    "duration": 559,
    "start_time": "2021-12-31T10:34:42.450Z"
   },
   {
    "duration": 480,
    "start_time": "2021-12-31T10:34:43.067Z"
   },
   {
    "duration": 6,
    "start_time": "2021-12-31T10:34:43.550Z"
   },
   {
    "duration": 5,
    "start_time": "2021-12-31T10:34:43.699Z"
   },
   {
    "duration": 6,
    "start_time": "2021-12-31T10:34:43.987Z"
   },
   {
    "duration": 6,
    "start_time": "2021-12-31T10:34:44.163Z"
   },
   {
    "duration": 6,
    "start_time": "2021-12-31T10:34:44.307Z"
   },
   {
    "duration": 6,
    "start_time": "2021-12-31T10:34:44.467Z"
   },
   {
    "duration": 517,
    "start_time": "2021-12-31T10:34:44.875Z"
   },
   {
    "duration": 484,
    "start_time": "2021-12-31T10:34:45.666Z"
   },
   {
    "duration": 7,
    "start_time": "2021-12-31T10:34:46.186Z"
   },
   {
    "duration": 6,
    "start_time": "2021-12-31T10:34:46.362Z"
   },
   {
    "duration": 6,
    "start_time": "2021-12-31T10:34:46.530Z"
   },
   {
    "duration": 6,
    "start_time": "2021-12-31T10:34:46.674Z"
   },
   {
    "duration": 8,
    "start_time": "2021-12-31T10:34:46.842Z"
   },
   {
    "duration": 7,
    "start_time": "2021-12-31T10:34:47.010Z"
   },
   {
    "duration": 8,
    "start_time": "2021-12-31T10:36:18.770Z"
   },
   {
    "duration": 11,
    "start_time": "2021-12-31T10:40:36.134Z"
   },
   {
    "duration": 341,
    "start_time": "2021-12-31T10:41:14.981Z"
   },
   {
    "duration": 34,
    "start_time": "2021-12-31T10:52:57.891Z"
   },
   {
    "duration": 13,
    "start_time": "2021-12-31T10:54:30.865Z"
   },
   {
    "duration": 85,
    "start_time": "2021-12-31T10:54:51.601Z"
   },
   {
    "duration": 11,
    "start_time": "2021-12-31T10:55:23.457Z"
   },
   {
    "duration": 13,
    "start_time": "2021-12-31T10:56:03.404Z"
   },
   {
    "duration": 120,
    "start_time": "2021-12-31T10:56:22.631Z"
   },
   {
    "duration": 33,
    "start_time": "2021-12-31T10:56:58.152Z"
   },
   {
    "duration": 18,
    "start_time": "2021-12-31T10:57:27.775Z"
   },
   {
    "duration": 39,
    "start_time": "2021-12-31T10:57:35.022Z"
   },
   {
    "duration": 518,
    "start_time": "2021-12-31T10:59:41.916Z"
   },
   {
    "duration": 19,
    "start_time": "2021-12-31T11:00:16.051Z"
   },
   {
    "duration": 12,
    "start_time": "2021-12-31T11:00:25.356Z"
   },
   {
    "duration": 26,
    "start_time": "2021-12-31T11:00:56.288Z"
   },
   {
    "duration": 11,
    "start_time": "2021-12-31T11:01:10.576Z"
   },
   {
    "duration": 51,
    "start_time": "2021-12-31T11:03:17.281Z"
   },
   {
    "duration": 1142,
    "start_time": "2022-01-22T14:16:00.642Z"
   },
   {
    "duration": 383,
    "start_time": "2022-01-22T14:16:02.415Z"
   },
   {
    "duration": 8,
    "start_time": "2022-01-22T14:16:05.266Z"
   },
   {
    "duration": 13,
    "start_time": "2022-01-22T14:16:05.454Z"
   },
   {
    "duration": 6,
    "start_time": "2022-01-22T14:16:06.131Z"
   },
   {
    "duration": 6,
    "start_time": "2022-01-22T14:16:06.140Z"
   },
   {
    "duration": 6,
    "start_time": "2022-01-22T14:16:08.628Z"
   },
   {
    "duration": 6,
    "start_time": "2022-01-22T14:16:08.783Z"
   },
   {
    "duration": 19,
    "start_time": "2022-01-22T14:16:14.201Z"
   },
   {
    "duration": 7,
    "start_time": "2022-01-22T14:16:14.353Z"
   },
   {
    "duration": 28,
    "start_time": "2022-01-22T14:16:14.533Z"
   },
   {
    "duration": 5,
    "start_time": "2022-01-22T14:16:14.708Z"
   },
   {
    "duration": 6,
    "start_time": "2022-01-22T14:16:37.139Z"
   },
   {
    "duration": 5,
    "start_time": "2022-01-22T14:16:48.760Z"
   },
   {
    "duration": 16,
    "start_time": "2022-01-22T14:16:51.347Z"
   },
   {
    "duration": 7,
    "start_time": "2022-01-22T14:16:51.553Z"
   },
   {
    "duration": 18,
    "start_time": "2022-01-22T14:16:51.725Z"
   },
   {
    "duration": 5,
    "start_time": "2022-01-22T14:16:53.743Z"
   },
   {
    "duration": 16,
    "start_time": "2022-01-22T14:16:57.012Z"
   },
   {
    "duration": 8,
    "start_time": "2022-01-22T14:16:57.175Z"
   },
   {
    "duration": 7,
    "start_time": "2022-01-22T14:16:59.456Z"
   },
   {
    "duration": 12,
    "start_time": "2022-01-22T14:17:31.703Z"
   },
   {
    "duration": 19,
    "start_time": "2022-01-22T14:17:41.293Z"
   },
   {
    "duration": 12,
    "start_time": "2022-01-22T16:11:47.107Z"
   },
   {
    "duration": 8,
    "start_time": "2022-01-22T16:11:48.217Z"
   },
   {
    "duration": 7,
    "start_time": "2022-01-22T16:11:54.962Z"
   },
   {
    "duration": 5,
    "start_time": "2022-01-22T16:11:55.480Z"
   },
   {
    "duration": 18,
    "start_time": "2022-01-22T16:11:56.777Z"
   },
   {
    "duration": 10,
    "start_time": "2022-01-22T16:11:56.950Z"
   },
   {
    "duration": 8,
    "start_time": "2022-01-22T16:11:57.597Z"
   },
   {
    "duration": 12,
    "start_time": "2022-01-22T16:11:57.931Z"
   },
   {
    "duration": 34,
    "start_time": "2022-01-22T16:11:58.553Z"
   },
   {
    "duration": 7,
    "start_time": "2022-01-22T16:11:58.738Z"
   },
   {
    "duration": 6,
    "start_time": "2022-01-22T16:11:58.907Z"
   },
   {
    "duration": 9,
    "start_time": "2022-01-22T16:12:00.037Z"
   },
   {
    "duration": 25,
    "start_time": "2022-01-22T16:12:05.566Z"
   },
   {
    "duration": 29,
    "start_time": "2022-01-22T16:12:06.468Z"
   },
   {
    "duration": 25,
    "start_time": "2022-01-22T16:12:08.683Z"
   },
   {
    "duration": 21,
    "start_time": "2022-01-22T16:18:15.197Z"
   },
   {
    "duration": 30,
    "start_time": "2022-01-22T16:18:41.527Z"
   },
   {
    "duration": 15,
    "start_time": "2022-01-22T16:18:59.023Z"
   },
   {
    "duration": 29,
    "start_time": "2022-01-22T16:18:59.738Z"
   },
   {
    "duration": 17,
    "start_time": "2022-01-22T16:19:00.854Z"
   },
   {
    "duration": 23,
    "start_time": "2022-01-22T16:19:01.031Z"
   },
   {
    "duration": 3,
    "start_time": "2022-01-22T16:19:01.423Z"
   },
   {
    "duration": 13,
    "start_time": "2022-01-22T16:19:03.312Z"
   },
   {
    "duration": 11,
    "start_time": "2022-01-22T16:19:04.197Z"
   },
   {
    "duration": 30,
    "start_time": "2022-01-22T16:19:04.558Z"
   },
   {
    "duration": 4,
    "start_time": "2022-01-22T16:19:04.756Z"
   },
   {
    "duration": 13,
    "start_time": "2022-01-22T16:19:06.793Z"
   },
   {
    "duration": 11,
    "start_time": "2022-01-22T16:19:07.135Z"
   },
   {
    "duration": 5,
    "start_time": "2022-01-22T16:19:07.313Z"
   },
   {
    "duration": 12,
    "start_time": "2022-01-22T16:19:08.150Z"
   },
   {
    "duration": 3,
    "start_time": "2022-01-22T16:19:08.488Z"
   },
   {
    "duration": 6,
    "start_time": "2022-01-22T16:19:16.754Z"
   },
   {
    "duration": 140,
    "start_time": "2022-01-22T16:19:20.834Z"
   },
   {
    "duration": 14,
    "start_time": "2022-01-22T16:19:20.976Z"
   },
   {
    "duration": 8,
    "start_time": "2022-01-22T16:19:21.276Z"
   },
   {
    "duration": 12,
    "start_time": "2022-01-22T16:19:22.967Z"
   },
   {
    "duration": 6,
    "start_time": "2022-01-22T16:19:25.968Z"
   },
   {
    "duration": 363,
    "start_time": "2022-01-22T16:19:26.825Z"
   },
   {
    "duration": 337,
    "start_time": "2022-01-22T16:19:36.722Z"
   },
   {
    "duration": 5,
    "start_time": "2022-01-22T16:19:39.496Z"
   },
   {
    "duration": 4,
    "start_time": "2022-01-22T16:19:39.672Z"
   },
   {
    "duration": 4,
    "start_time": "2022-01-22T16:19:39.832Z"
   },
   {
    "duration": 8,
    "start_time": "2022-01-22T16:19:40.010Z"
   },
   {
    "duration": 10,
    "start_time": "2022-01-22T16:19:40.184Z"
   },
   {
    "duration": 5,
    "start_time": "2022-01-22T16:19:40.468Z"
   },
   {
    "duration": 373,
    "start_time": "2022-01-22T16:20:03.755Z"
   },
   {
    "duration": 386,
    "start_time": "2022-01-22T16:20:09.138Z"
   },
   {
    "duration": 5,
    "start_time": "2022-01-22T16:20:11.078Z"
   },
   {
    "duration": 5,
    "start_time": "2022-01-22T16:20:11.239Z"
   },
   {
    "duration": 4,
    "start_time": "2022-01-22T16:20:11.409Z"
   },
   {
    "duration": 5,
    "start_time": "2022-01-22T16:20:11.555Z"
   },
   {
    "duration": 4,
    "start_time": "2022-01-22T16:20:11.712Z"
   },
   {
    "duration": 4,
    "start_time": "2022-01-22T16:20:11.874Z"
   },
   {
    "duration": 314,
    "start_time": "2022-01-22T16:20:14.513Z"
   },
   {
    "duration": 424,
    "start_time": "2022-01-22T16:20:18.441Z"
   },
   {
    "duration": 5,
    "start_time": "2022-01-22T16:20:20.615Z"
   },
   {
    "duration": 5,
    "start_time": "2022-01-22T16:20:20.787Z"
   },
   {
    "duration": 5,
    "start_time": "2022-01-22T16:20:21.097Z"
   },
   {
    "duration": 26,
    "start_time": "2022-01-22T16:20:21.104Z"
   },
   {
    "duration": 4,
    "start_time": "2022-01-22T16:20:21.503Z"
   },
   {
    "duration": 4,
    "start_time": "2022-01-22T16:20:22.966Z"
   },
   {
    "duration": 6,
    "start_time": "2022-01-22T16:20:26.595Z"
   },
   {
    "duration": 9,
    "start_time": "2022-01-22T16:20:41.563Z"
   },
   {
    "duration": 1142,
    "start_time": "2022-01-22T16:46:10.945Z"
   },
   {
    "duration": 387,
    "start_time": "2022-01-22T16:46:12.089Z"
   },
   {
    "duration": 7,
    "start_time": "2022-01-22T16:46:12.478Z"
   },
   {
    "duration": 23,
    "start_time": "2022-01-22T16:46:12.487Z"
   },
   {
    "duration": 7,
    "start_time": "2022-01-22T16:46:12.512Z"
   },
   {
    "duration": 10,
    "start_time": "2022-01-22T16:46:12.520Z"
   },
   {
    "duration": 6,
    "start_time": "2022-01-22T16:46:12.532Z"
   },
   {
    "duration": 24,
    "start_time": "2022-01-22T16:46:12.540Z"
   },
   {
    "duration": 20,
    "start_time": "2022-01-22T16:46:12.565Z"
   },
   {
    "duration": 6,
    "start_time": "2022-01-22T16:46:12.587Z"
   },
   {
    "duration": 28,
    "start_time": "2022-01-22T16:46:12.594Z"
   },
   {
    "duration": 5,
    "start_time": "2022-01-22T16:46:12.623Z"
   },
   {
    "duration": 12,
    "start_time": "2022-01-22T16:46:12.629Z"
   },
   {
    "duration": 21,
    "start_time": "2022-01-22T16:46:12.644Z"
   },
   {
    "duration": 14,
    "start_time": "2022-01-22T16:46:12.666Z"
   },
   {
    "duration": 9,
    "start_time": "2022-01-22T16:46:12.682Z"
   },
   {
    "duration": 19,
    "start_time": "2022-01-22T16:46:12.693Z"
   },
   {
    "duration": 4,
    "start_time": "2022-01-22T16:46:12.714Z"
   },
   {
    "duration": 44,
    "start_time": "2022-01-22T16:46:12.720Z"
   },
   {
    "duration": 8,
    "start_time": "2022-01-22T16:46:12.766Z"
   },
   {
    "duration": 6,
    "start_time": "2022-01-22T16:46:12.776Z"
   },
   {
    "duration": 15,
    "start_time": "2022-01-22T16:46:12.784Z"
   },
   {
    "duration": 56,
    "start_time": "2022-01-22T16:46:12.803Z"
   },
   {
    "duration": 7,
    "start_time": "2022-01-22T16:46:12.861Z"
   },
   {
    "duration": 5,
    "start_time": "2022-01-22T16:46:12.870Z"
   },
   {
    "duration": 7,
    "start_time": "2022-01-22T16:46:12.876Z"
   },
   {
    "duration": 28,
    "start_time": "2022-01-22T16:46:12.885Z"
   },
   {
    "duration": 47,
    "start_time": "2022-01-22T16:46:12.914Z"
   },
   {
    "duration": 22,
    "start_time": "2022-01-22T16:46:12.962Z"
   },
   {
    "duration": 14,
    "start_time": "2022-01-22T16:46:12.985Z"
   },
   {
    "duration": 21,
    "start_time": "2022-01-22T16:46:13.000Z"
   },
   {
    "duration": 34,
    "start_time": "2022-01-22T16:46:13.022Z"
   },
   {
    "duration": 19,
    "start_time": "2022-01-22T16:46:13.057Z"
   },
   {
    "duration": 3,
    "start_time": "2022-01-22T16:46:13.077Z"
   },
   {
    "duration": 14,
    "start_time": "2022-01-22T16:46:13.081Z"
   },
   {
    "duration": 14,
    "start_time": "2022-01-22T16:46:13.097Z"
   },
   {
    "duration": 44,
    "start_time": "2022-01-22T16:46:13.112Z"
   },
   {
    "duration": 4,
    "start_time": "2022-01-22T16:46:13.157Z"
   },
   {
    "duration": 12,
    "start_time": "2022-01-22T16:46:13.163Z"
   },
   {
    "duration": 7,
    "start_time": "2022-01-22T16:46:13.177Z"
   },
   {
    "duration": 5,
    "start_time": "2022-01-22T16:46:13.186Z"
   },
   {
    "duration": 13,
    "start_time": "2022-01-22T16:46:13.193Z"
   },
   {
    "duration": 3,
    "start_time": "2022-01-22T16:46:13.241Z"
   },
   {
    "duration": 12,
    "start_time": "2022-01-22T16:46:13.246Z"
   },
   {
    "duration": 139,
    "start_time": "2022-01-22T16:46:13.259Z"
   },
   {
    "duration": 12,
    "start_time": "2022-01-22T16:46:13.399Z"
   },
   {
    "duration": 10,
    "start_time": "2022-01-22T16:46:13.413Z"
   },
   {
    "duration": 26,
    "start_time": "2022-01-22T16:46:13.424Z"
   },
   {
    "duration": 6,
    "start_time": "2022-01-22T16:46:13.451Z"
   },
   {
    "duration": 357,
    "start_time": "2022-01-22T16:46:13.458Z"
   },
   {
    "duration": 318,
    "start_time": "2022-01-22T16:46:13.816Z"
   },
   {
    "duration": 4,
    "start_time": "2022-01-22T16:46:14.143Z"
   },
   {
    "duration": 28,
    "start_time": "2022-01-22T16:46:14.149Z"
   },
   {
    "duration": 16,
    "start_time": "2022-01-22T16:46:14.178Z"
   },
   {
    "duration": 5,
    "start_time": "2022-01-22T16:46:14.196Z"
   },
   {
    "duration": 9,
    "start_time": "2022-01-22T16:46:14.202Z"
   },
   {
    "duration": 10,
    "start_time": "2022-01-22T16:46:14.212Z"
   },
   {
    "duration": 328,
    "start_time": "2022-01-22T16:46:14.224Z"
   },
   {
    "duration": 293,
    "start_time": "2022-01-22T16:46:14.554Z"
   },
   {
    "duration": 4,
    "start_time": "2022-01-22T16:46:14.849Z"
   },
   {
    "duration": 9,
    "start_time": "2022-01-22T16:46:14.855Z"
   },
   {
    "duration": 6,
    "start_time": "2022-01-22T16:46:14.865Z"
   },
   {
    "duration": 4,
    "start_time": "2022-01-22T16:46:14.872Z"
   },
   {
    "duration": 6,
    "start_time": "2022-01-22T16:46:14.877Z"
   },
   {
    "duration": 4,
    "start_time": "2022-01-22T16:46:14.884Z"
   },
   {
    "duration": 324,
    "start_time": "2022-01-22T16:46:14.890Z"
   },
   {
    "duration": 390,
    "start_time": "2022-01-22T16:46:15.216Z"
   },
   {
    "duration": 4,
    "start_time": "2022-01-22T16:46:15.610Z"
   },
   {
    "duration": 13,
    "start_time": "2022-01-22T16:46:15.616Z"
   },
   {
    "duration": 9,
    "start_time": "2022-01-22T16:46:15.630Z"
   },
   {
    "duration": 19,
    "start_time": "2022-01-22T16:46:15.641Z"
   },
   {
    "duration": 20,
    "start_time": "2022-01-22T16:46:15.662Z"
   },
   {
    "duration": 9,
    "start_time": "2022-01-22T16:46:15.684Z"
   },
   {
    "duration": 19,
    "start_time": "2022-01-22T16:46:15.694Z"
   },
   {
    "duration": 49,
    "start_time": "2022-01-22T16:46:15.714Z"
   },
   {
    "duration": 64,
    "start_time": "2022-01-22T16:46:15.765Z"
   },
   {
    "duration": 17,
    "start_time": "2022-01-22T16:46:15.830Z"
   },
   {
    "duration": 8,
    "start_time": "2022-01-22T16:48:54.154Z"
   },
   {
    "duration": 5,
    "start_time": "2022-01-22T16:49:34.253Z"
   },
   {
    "duration": 5,
    "start_time": "2022-01-22T16:49:40.758Z"
   },
   {
    "duration": 4,
    "start_time": "2022-01-22T16:50:38.974Z"
   },
   {
    "duration": 5,
    "start_time": "2022-01-22T16:50:58.362Z"
   },
   {
    "duration": 4,
    "start_time": "2022-01-22T16:51:20.333Z"
   },
   {
    "duration": 4,
    "start_time": "2022-01-22T16:51:38.115Z"
   },
   {
    "duration": 4,
    "start_time": "2022-01-22T16:53:06.354Z"
   },
   {
    "duration": 6,
    "start_time": "2022-01-22T16:54:02.221Z"
   },
   {
    "duration": 9,
    "start_time": "2022-01-22T16:54:14.056Z"
   },
   {
    "duration": 79,
    "start_time": "2022-01-22T16:54:28.101Z"
   },
   {
    "duration": 81,
    "start_time": "2022-01-22T16:54:46.966Z"
   },
   {
    "duration": 8,
    "start_time": "2022-01-22T16:55:00.848Z"
   },
   {
    "duration": 10,
    "start_time": "2022-01-22T16:55:02.943Z"
   },
   {
    "duration": 1093,
    "start_time": "2022-01-22T16:55:12.689Z"
   },
   {
    "duration": 396,
    "start_time": "2022-01-22T16:55:13.784Z"
   },
   {
    "duration": 7,
    "start_time": "2022-01-22T16:55:14.182Z"
   },
   {
    "duration": 43,
    "start_time": "2022-01-22T16:55:14.191Z"
   },
   {
    "duration": 15,
    "start_time": "2022-01-22T16:55:14.236Z"
   },
   {
    "duration": 5,
    "start_time": "2022-01-22T16:55:15.371Z"
   },
   {
    "duration": 6,
    "start_time": "2022-01-22T16:55:15.529Z"
   },
   {
    "duration": 5,
    "start_time": "2022-01-22T16:55:15.694Z"
   },
   {
    "duration": 20,
    "start_time": "2022-01-22T16:55:16.378Z"
   },
   {
    "duration": 7,
    "start_time": "2022-01-22T16:55:16.725Z"
   },
   {
    "duration": 31,
    "start_time": "2022-01-22T16:55:16.918Z"
   },
   {
    "duration": 5,
    "start_time": "2022-01-22T16:55:17.259Z"
   },
   {
    "duration": 6,
    "start_time": "2022-01-22T16:55:17.454Z"
   },
   {
    "duration": 15,
    "start_time": "2022-01-22T16:55:17.655Z"
   },
   {
    "duration": 14,
    "start_time": "2022-01-22T16:55:19.079Z"
   },
   {
    "duration": 6,
    "start_time": "2022-01-22T16:55:19.272Z"
   },
   {
    "duration": 18,
    "start_time": "2022-01-22T16:55:19.484Z"
   },
   {
    "duration": 5,
    "start_time": "2022-01-22T16:55:19.915Z"
   },
   {
    "duration": 17,
    "start_time": "2022-01-22T16:55:20.955Z"
   },
   {
    "duration": 11,
    "start_time": "2022-01-22T16:55:21.358Z"
   },
   {
    "duration": 11,
    "start_time": "2022-01-22T16:55:22.369Z"
   },
   {
    "duration": 11,
    "start_time": "2022-01-22T16:55:25.399Z"
   },
   {
    "duration": 30,
    "start_time": "2022-01-22T16:55:28.959Z"
   },
   {
    "duration": 6,
    "start_time": "2022-01-22T16:55:29.444Z"
   },
   {
    "duration": 6,
    "start_time": "2022-01-22T16:55:30.111Z"
   },
   {
    "duration": 11,
    "start_time": "2022-01-22T16:55:32.294Z"
   },
   {
    "duration": 4,
    "start_time": "2022-01-22T16:55:34.229Z"
   },
   {
    "duration": 8,
    "start_time": "2022-01-22T16:55:35.881Z"
   },
   {
    "duration": 1088,
    "start_time": "2022-01-22T16:57:09.008Z"
   },
   {
    "duration": 394,
    "start_time": "2022-01-22T16:57:10.098Z"
   },
   {
    "duration": 8,
    "start_time": "2022-01-22T16:57:11.308Z"
   },
   {
    "duration": 14,
    "start_time": "2022-01-22T16:57:11.720Z"
   },
   {
    "duration": 5,
    "start_time": "2022-01-22T16:57:11.989Z"
   },
   {
    "duration": 5,
    "start_time": "2022-01-22T16:57:13.573Z"
   },
   {
    "duration": 7,
    "start_time": "2022-01-22T16:57:13.732Z"
   },
   {
    "duration": 4,
    "start_time": "2022-01-22T16:57:13.895Z"
   },
   {
    "duration": 24,
    "start_time": "2022-01-22T16:57:15.173Z"
   },
   {
    "duration": 8,
    "start_time": "2022-01-22T16:57:15.365Z"
   },
   {
    "duration": 29,
    "start_time": "2022-01-22T16:57:15.778Z"
   },
   {
    "duration": 5,
    "start_time": "2022-01-22T16:57:16.001Z"
   },
   {
    "duration": 6,
    "start_time": "2022-01-22T16:57:16.487Z"
   },
   {
    "duration": 17,
    "start_time": "2022-01-22T16:57:16.657Z"
   },
   {
    "duration": 17,
    "start_time": "2022-01-22T16:57:17.859Z"
   },
   {
    "duration": 8,
    "start_time": "2022-01-22T16:57:18.038Z"
   },
   {
    "duration": 18,
    "start_time": "2022-01-22T16:57:18.400Z"
   },
   {
    "duration": 7,
    "start_time": "2022-01-22T16:57:18.846Z"
   },
   {
    "duration": 19,
    "start_time": "2022-01-22T16:57:19.269Z"
   },
   {
    "duration": 9,
    "start_time": "2022-01-22T16:57:19.463Z"
   },
   {
    "duration": 8,
    "start_time": "2022-01-22T16:57:20.368Z"
   },
   {
    "duration": 10,
    "start_time": "2022-01-22T16:57:22.496Z"
   },
   {
    "duration": 31,
    "start_time": "2022-01-22T16:57:24.511Z"
   },
   {
    "duration": 6,
    "start_time": "2022-01-22T16:57:24.738Z"
   },
   {
    "duration": 7,
    "start_time": "2022-01-22T16:57:24.859Z"
   },
   {
    "duration": 10,
    "start_time": "2022-01-22T16:57:26.698Z"
   },
   {
    "duration": 348,
    "start_time": "2022-01-22T16:57:31.059Z"
   },
   {
    "duration": 10,
    "start_time": "2022-01-22T16:57:52.442Z"
   },
   {
    "duration": 9,
    "start_time": "2022-01-22T16:57:54.600Z"
   },
   {
    "duration": 1287,
    "start_time": "2022-01-22T16:58:02.896Z"
   },
   {
    "duration": 438,
    "start_time": "2022-01-22T16:58:04.186Z"
   },
   {
    "duration": 8,
    "start_time": "2022-01-22T16:58:04.626Z"
   },
   {
    "duration": 42,
    "start_time": "2022-01-22T16:58:04.635Z"
   },
   {
    "duration": 30,
    "start_time": "2022-01-22T16:58:04.678Z"
   },
   {
    "duration": 6,
    "start_time": "2022-01-22T16:58:05.455Z"
   },
   {
    "duration": 17,
    "start_time": "2022-01-22T16:58:05.462Z"
   },
   {
    "duration": 11,
    "start_time": "2022-01-22T16:58:05.481Z"
   },
   {
    "duration": 49,
    "start_time": "2022-01-22T16:58:05.494Z"
   },
   {
    "duration": 10,
    "start_time": "2022-01-22T16:58:05.549Z"
   },
   {
    "duration": 49,
    "start_time": "2022-01-22T16:58:05.561Z"
   },
   {
    "duration": 5,
    "start_time": "2022-01-22T16:58:05.612Z"
   },
   {
    "duration": 23,
    "start_time": "2022-01-22T16:58:05.619Z"
   },
   {
    "duration": 15,
    "start_time": "2022-01-22T16:58:05.758Z"
   },
   {
    "duration": 24,
    "start_time": "2022-01-22T16:58:07.433Z"
   },
   {
    "duration": 8,
    "start_time": "2022-01-22T16:58:07.610Z"
   },
   {
    "duration": 22,
    "start_time": "2022-01-22T16:58:07.790Z"
   },
   {
    "duration": 5,
    "start_time": "2022-01-22T16:58:07.968Z"
   },
   {
    "duration": 18,
    "start_time": "2022-01-22T16:58:09.354Z"
   },
   {
    "duration": 8,
    "start_time": "2022-01-22T16:58:09.602Z"
   },
   {
    "duration": 9,
    "start_time": "2022-01-22T16:58:10.499Z"
   },
   {
    "duration": 11,
    "start_time": "2022-01-22T16:58:12.998Z"
   },
   {
    "duration": 32,
    "start_time": "2022-01-22T16:58:13.686Z"
   },
   {
    "duration": 6,
    "start_time": "2022-01-22T16:58:15.501Z"
   },
   {
    "duration": 8,
    "start_time": "2022-01-22T16:58:15.748Z"
   },
   {
    "duration": 12,
    "start_time": "2022-01-22T16:58:17.170Z"
   },
   {
    "duration": 8,
    "start_time": "2022-01-22T16:58:17.813Z"
   },
   {
    "duration": 11,
    "start_time": "2022-01-22T16:58:18.913Z"
   },
   {
    "duration": 25,
    "start_time": "2022-01-22T16:59:30.558Z"
   },
   {
    "duration": 34,
    "start_time": "2022-01-22T16:59:31.326Z"
   },
   {
    "duration": 25,
    "start_time": "2022-01-22T16:59:32.811Z"
   },
   {
    "duration": 416,
    "start_time": "2022-01-22T17:01:19.097Z"
   },
   {
    "duration": 265,
    "start_time": "2022-01-22T17:01:40.542Z"
   },
   {
    "duration": 17,
    "start_time": "2022-01-22T17:02:04.971Z"
   },
   {
    "duration": 8,
    "start_time": "2022-01-22T17:02:14.097Z"
   },
   {
    "duration": 18,
    "start_time": "2022-01-22T17:04:01.780Z"
   },
   {
    "duration": 8,
    "start_time": "2022-01-22T17:04:04.935Z"
   },
   {
    "duration": 1149,
    "start_time": "2022-01-22T17:05:48.834Z"
   },
   {
    "duration": 397,
    "start_time": "2022-01-22T17:05:49.985Z"
   },
   {
    "duration": 7,
    "start_time": "2022-01-22T17:05:50.384Z"
   },
   {
    "duration": 35,
    "start_time": "2022-01-22T17:05:50.393Z"
   },
   {
    "duration": 46,
    "start_time": "2022-01-22T17:05:50.429Z"
   },
   {
    "duration": 15,
    "start_time": "2022-01-22T17:05:50.476Z"
   },
   {
    "duration": 32,
    "start_time": "2022-01-22T17:05:50.492Z"
   },
   {
    "duration": 25,
    "start_time": "2022-01-22T17:05:50.526Z"
   },
   {
    "duration": 42,
    "start_time": "2022-01-22T17:05:50.553Z"
   },
   {
    "duration": 11,
    "start_time": "2022-01-22T17:05:50.596Z"
   },
   {
    "duration": 50,
    "start_time": "2022-01-22T17:05:50.609Z"
   },
   {
    "duration": 7,
    "start_time": "2022-01-22T17:05:50.661Z"
   },
   {
    "duration": 20,
    "start_time": "2022-01-22T17:05:50.669Z"
   },
   {
    "duration": 46,
    "start_time": "2022-01-22T17:05:50.690Z"
   },
   {
    "duration": 39,
    "start_time": "2022-01-22T17:05:50.738Z"
   },
   {
    "duration": 19,
    "start_time": "2022-01-22T17:05:50.779Z"
   },
   {
    "duration": 50,
    "start_time": "2022-01-22T17:05:50.800Z"
   },
   {
    "duration": 14,
    "start_time": "2022-01-22T17:05:50.852Z"
   },
   {
    "duration": 27,
    "start_time": "2022-01-22T17:05:50.868Z"
   },
   {
    "duration": 16,
    "start_time": "2022-01-22T17:05:50.897Z"
   },
   {
    "duration": 23,
    "start_time": "2022-01-22T17:05:50.915Z"
   },
   {
    "duration": 40,
    "start_time": "2022-01-22T17:05:50.940Z"
   },
   {
    "duration": 37,
    "start_time": "2022-01-22T17:05:50.984Z"
   },
   {
    "duration": 5,
    "start_time": "2022-01-22T17:05:51.023Z"
   },
   {
    "duration": 34,
    "start_time": "2022-01-22T17:05:51.029Z"
   },
   {
    "duration": 20,
    "start_time": "2022-01-22T17:05:51.065Z"
   },
   {
    "duration": 36,
    "start_time": "2022-01-22T17:05:51.086Z"
   },
   {
    "duration": 18,
    "start_time": "2022-01-22T17:05:51.124Z"
   },
   {
    "duration": 45,
    "start_time": "2022-01-22T17:05:51.144Z"
   },
   {
    "duration": 30,
    "start_time": "2022-01-22T17:05:51.190Z"
   },
   {
    "duration": 39,
    "start_time": "2022-01-22T17:05:51.221Z"
   },
   {
    "duration": 40,
    "start_time": "2022-01-22T17:05:51.262Z"
   },
   {
    "duration": 13,
    "start_time": "2022-01-22T17:05:51.304Z"
   },
   {
    "duration": 20,
    "start_time": "2022-01-22T17:05:51.319Z"
   },
   {
    "duration": 47,
    "start_time": "2022-01-22T17:05:51.341Z"
   },
   {
    "duration": 16,
    "start_time": "2022-01-22T17:05:51.390Z"
   },
   {
    "duration": 49,
    "start_time": "2022-01-22T17:05:51.407Z"
   },
   {
    "duration": 5,
    "start_time": "2022-01-22T17:05:51.458Z"
   },
   {
    "duration": 33,
    "start_time": "2022-01-22T17:05:51.465Z"
   },
   {
    "duration": 36,
    "start_time": "2022-01-22T17:05:51.500Z"
   },
   {
    "duration": 45,
    "start_time": "2022-01-22T17:05:51.538Z"
   },
   {
    "duration": 5,
    "start_time": "2022-01-22T17:05:51.585Z"
   },
   {
    "duration": 46,
    "start_time": "2022-01-22T17:05:51.591Z"
   },
   {
    "duration": 36,
    "start_time": "2022-01-22T17:05:51.639Z"
   },
   {
    "duration": 25,
    "start_time": "2022-01-22T17:05:51.677Z"
   },
   {
    "duration": 29,
    "start_time": "2022-01-22T17:05:51.704Z"
   },
   {
    "duration": 10,
    "start_time": "2022-01-22T17:05:51.735Z"
   },
   {
    "duration": 38,
    "start_time": "2022-01-22T17:05:51.747Z"
   },
   {
    "duration": 368,
    "start_time": "2022-01-22T17:05:51.786Z"
   },
   {
    "duration": -362,
    "start_time": "2022-01-22T17:05:52.519Z"
   },
   {
    "duration": -364,
    "start_time": "2022-01-22T17:05:52.522Z"
   },
   {
    "duration": -367,
    "start_time": "2022-01-22T17:05:52.526Z"
   },
   {
    "duration": -369,
    "start_time": "2022-01-22T17:05:52.529Z"
   },
   {
    "duration": -372,
    "start_time": "2022-01-22T17:05:52.533Z"
   },
   {
    "duration": -399,
    "start_time": "2022-01-22T17:05:52.561Z"
   },
   {
    "duration": -432,
    "start_time": "2022-01-22T17:05:52.596Z"
   },
   {
    "duration": -447,
    "start_time": "2022-01-22T17:05:52.612Z"
   },
   {
    "duration": -464,
    "start_time": "2022-01-22T17:05:52.630Z"
   },
   {
    "duration": -478,
    "start_time": "2022-01-22T17:05:52.645Z"
   },
   {
    "duration": -492,
    "start_time": "2022-01-22T17:05:52.661Z"
   },
   {
    "duration": -508,
    "start_time": "2022-01-22T17:05:52.678Z"
   },
   {
    "duration": -513,
    "start_time": "2022-01-22T17:05:52.684Z"
   },
   {
    "duration": -516,
    "start_time": "2022-01-22T17:05:52.688Z"
   },
   {
    "duration": -520,
    "start_time": "2022-01-22T17:05:52.693Z"
   },
   {
    "duration": -527,
    "start_time": "2022-01-22T17:05:52.701Z"
   },
   {
    "duration": -531,
    "start_time": "2022-01-22T17:05:52.705Z"
   },
   {
    "duration": -536,
    "start_time": "2022-01-22T17:05:52.711Z"
   },
   {
    "duration": -540,
    "start_time": "2022-01-22T17:05:52.716Z"
   },
   {
    "duration": -544,
    "start_time": "2022-01-22T17:05:52.721Z"
   },
   {
    "duration": -547,
    "start_time": "2022-01-22T17:05:52.725Z"
   },
   {
    "duration": -553,
    "start_time": "2022-01-22T17:05:52.731Z"
   },
   {
    "duration": -556,
    "start_time": "2022-01-22T17:05:52.735Z"
   },
   {
    "duration": -559,
    "start_time": "2022-01-22T17:05:52.739Z"
   },
   {
    "duration": -563,
    "start_time": "2022-01-22T17:05:52.744Z"
   },
   {
    "duration": -571,
    "start_time": "2022-01-22T17:05:52.753Z"
   },
   {
    "duration": -574,
    "start_time": "2022-01-22T17:05:52.757Z"
   },
   {
    "duration": -579,
    "start_time": "2022-01-22T17:05:52.762Z"
   },
   {
    "duration": -583,
    "start_time": "2022-01-22T17:05:52.767Z"
   },
   {
    "duration": -585,
    "start_time": "2022-01-22T17:05:52.771Z"
   },
   {
    "duration": -599,
    "start_time": "2022-01-22T17:05:52.786Z"
   },
   {
    "duration": -603,
    "start_time": "2022-01-22T17:05:52.791Z"
   },
   {
    "duration": -609,
    "start_time": "2022-01-22T17:05:52.798Z"
   },
   {
    "duration": -613,
    "start_time": "2022-01-22T17:05:52.803Z"
   },
   {
    "duration": -615,
    "start_time": "2022-01-22T17:05:52.807Z"
   },
   {
    "duration": 9,
    "start_time": "2022-01-22T17:18:18.554Z"
   },
   {
    "duration": 5,
    "start_time": "2022-01-22T17:18:35.174Z"
   },
   {
    "duration": 4,
    "start_time": "2022-01-22T17:18:43.386Z"
   },
   {
    "duration": 5,
    "start_time": "2022-01-22T17:18:53.958Z"
   },
   {
    "duration": 5,
    "start_time": "2022-01-22T17:19:01.210Z"
   },
   {
    "duration": 5,
    "start_time": "2022-01-22T17:19:12.395Z"
   },
   {
    "duration": 5,
    "start_time": "2022-01-22T17:19:15.362Z"
   },
   {
    "duration": 5,
    "start_time": "2022-01-22T17:19:42.003Z"
   },
   {
    "duration": 5,
    "start_time": "2022-01-22T17:19:47.775Z"
   },
   {
    "duration": 5,
    "start_time": "2022-01-22T17:19:58.697Z"
   },
   {
    "duration": 4,
    "start_time": "2022-01-22T17:20:04.581Z"
   },
   {
    "duration": 5,
    "start_time": "2022-01-22T17:21:26.031Z"
   },
   {
    "duration": 6,
    "start_time": "2022-01-22T17:21:51.685Z"
   },
   {
    "duration": 5,
    "start_time": "2022-01-22T17:26:49.705Z"
   },
   {
    "duration": 5,
    "start_time": "2022-01-22T17:27:10.138Z"
   },
   {
    "duration": 6,
    "start_time": "2022-01-22T17:27:52.442Z"
   },
   {
    "duration": 5,
    "start_time": "2022-01-22T17:28:09.820Z"
   },
   {
    "duration": 5,
    "start_time": "2022-01-22T17:28:41.316Z"
   },
   {
    "duration": 5,
    "start_time": "2022-01-22T17:28:56.607Z"
   },
   {
    "duration": 5,
    "start_time": "2022-01-22T17:29:25.073Z"
   },
   {
    "duration": 5,
    "start_time": "2022-01-22T17:29:29.680Z"
   },
   {
    "duration": 5,
    "start_time": "2022-01-22T17:29:34.386Z"
   },
   {
    "duration": 5,
    "start_time": "2022-01-22T17:29:53.683Z"
   },
   {
    "duration": 5,
    "start_time": "2022-01-22T17:30:02.323Z"
   },
   {
    "duration": 5,
    "start_time": "2022-01-22T17:30:37.702Z"
   },
   {
    "duration": 5,
    "start_time": "2022-01-22T17:30:42.022Z"
   },
   {
    "duration": 6,
    "start_time": "2022-01-22T17:30:59.498Z"
   },
   {
    "duration": 4,
    "start_time": "2022-01-22T17:31:08.833Z"
   },
   {
    "duration": 6,
    "start_time": "2022-01-22T17:31:36.600Z"
   },
   {
    "duration": 4,
    "start_time": "2022-01-22T17:31:45.678Z"
   },
   {
    "duration": 4,
    "start_time": "2022-01-22T17:31:53.190Z"
   },
   {
    "duration": 5,
    "start_time": "2022-01-22T17:32:29.020Z"
   },
   {
    "duration": 5,
    "start_time": "2022-01-22T17:32:56.461Z"
   },
   {
    "duration": 5,
    "start_time": "2022-01-22T17:33:38.989Z"
   },
   {
    "duration": 4,
    "start_time": "2022-01-22T17:34:25.371Z"
   },
   {
    "duration": 4,
    "start_time": "2022-01-22T17:35:22.541Z"
   },
   {
    "duration": 8,
    "start_time": "2022-01-22T17:35:29.494Z"
   },
   {
    "duration": 3061,
    "start_time": "2022-01-22T17:35:44.580Z"
   },
   {
    "duration": 12,
    "start_time": "2022-01-22T17:35:50.343Z"
   },
   {
    "duration": 8,
    "start_time": "2022-01-22T17:35:55.665Z"
   },
   {
    "duration": 13,
    "start_time": "2022-01-22T17:35:59.856Z"
   },
   {
    "duration": 1172,
    "start_time": "2022-01-22T17:37:37.234Z"
   },
   {
    "duration": 409,
    "start_time": "2022-01-22T17:37:38.408Z"
   },
   {
    "duration": 8,
    "start_time": "2022-01-22T17:37:38.819Z"
   },
   {
    "duration": 16,
    "start_time": "2022-01-22T17:37:38.828Z"
   },
   {
    "duration": 5,
    "start_time": "2022-01-22T17:37:38.846Z"
   },
   {
    "duration": 5,
    "start_time": "2022-01-22T17:37:38.853Z"
   },
   {
    "duration": 7,
    "start_time": "2022-01-22T17:37:38.860Z"
   },
   {
    "duration": 6,
    "start_time": "2022-01-22T17:37:38.869Z"
   },
   {
    "duration": 20,
    "start_time": "2022-01-22T17:37:39.249Z"
   },
   {
    "duration": 7,
    "start_time": "2022-01-22T17:37:39.425Z"
   },
   {
    "duration": 30,
    "start_time": "2022-01-22T17:37:39.596Z"
   },
   {
    "duration": 5,
    "start_time": "2022-01-22T17:37:39.763Z"
   },
   {
    "duration": 5,
    "start_time": "2022-01-22T17:37:39.957Z"
   },
   {
    "duration": 15,
    "start_time": "2022-01-22T17:37:40.135Z"
   },
   {
    "duration": 16,
    "start_time": "2022-01-22T17:37:41.033Z"
   },
   {
    "duration": 7,
    "start_time": "2022-01-22T17:37:41.208Z"
   },
   {
    "duration": 19,
    "start_time": "2022-01-22T17:37:41.399Z"
   },
   {
    "duration": 5,
    "start_time": "2022-01-22T17:37:41.558Z"
   },
   {
    "duration": 17,
    "start_time": "2022-01-22T17:37:42.096Z"
   },
   {
    "duration": 7,
    "start_time": "2022-01-22T17:37:42.301Z"
   },
   {
    "duration": 7,
    "start_time": "2022-01-22T17:37:42.667Z"
   },
   {
    "duration": 10,
    "start_time": "2022-01-22T17:37:43.013Z"
   },
   {
    "duration": 30,
    "start_time": "2022-01-22T17:37:43.379Z"
   },
   {
    "duration": 4,
    "start_time": "2022-01-22T17:37:43.567Z"
   },
   {
    "duration": 5,
    "start_time": "2022-01-22T17:37:43.836Z"
   },
   {
    "duration": 7,
    "start_time": "2022-01-22T17:37:44.270Z"
   },
   {
    "duration": 6,
    "start_time": "2022-01-22T17:37:44.625Z"
   },
   {
    "duration": 7,
    "start_time": "2022-01-22T17:37:44.802Z"
   },
   {
    "duration": 24,
    "start_time": "2022-01-22T17:37:46.332Z"
   },
   {
    "duration": 29,
    "start_time": "2022-01-22T17:37:46.581Z"
   },
   {
    "duration": 28,
    "start_time": "2022-01-22T17:37:46.976Z"
   },
   {
    "duration": 23,
    "start_time": "2022-01-22T17:37:48.776Z"
   },
   {
    "duration": 6,
    "start_time": "2022-01-22T17:37:48.954Z"
   },
   {
    "duration": 15,
    "start_time": "2022-01-22T17:37:50.137Z"
   },
   {
    "duration": 24,
    "start_time": "2022-01-22T17:37:50.575Z"
   },
   {
    "duration": 18,
    "start_time": "2022-01-22T17:37:51.108Z"
   },
   {
    "duration": 20,
    "start_time": "2022-01-22T17:37:51.293Z"
   },
   {
    "duration": 3,
    "start_time": "2022-01-22T17:37:51.648Z"
   },
   {
    "duration": 14,
    "start_time": "2022-01-22T17:37:51.825Z"
   },
   {
    "duration": 8,
    "start_time": "2022-01-22T17:37:52.734Z"
   },
   {
    "duration": 21,
    "start_time": "2022-01-22T17:37:53.119Z"
   },
   {
    "duration": 4,
    "start_time": "2022-01-22T17:37:53.326Z"
   },
   {
    "duration": 14,
    "start_time": "2022-01-22T17:37:53.748Z"
   },
   {
    "duration": 10,
    "start_time": "2022-01-22T17:37:54.148Z"
   },
   {
    "duration": 6,
    "start_time": "2022-01-22T17:37:54.507Z"
   },
   {
    "duration": 11,
    "start_time": "2022-01-22T17:37:55.406Z"
   },
   {
    "duration": 3,
    "start_time": "2022-01-22T17:37:56.029Z"
   },
   {
    "duration": 5,
    "start_time": "2022-01-22T17:37:57.182Z"
   },
   {
    "duration": 8,
    "start_time": "2022-01-22T17:37:57.402Z"
   },
   {
    "duration": 3168,
    "start_time": "2022-01-22T17:38:06.901Z"
   },
   {
    "duration": 14,
    "start_time": "2022-01-22T17:38:11.063Z"
   },
   {
    "duration": 8,
    "start_time": "2022-01-22T17:38:12.229Z"
   },
   {
    "duration": 12,
    "start_time": "2022-01-22T17:38:14.816Z"
   },
   {
    "duration": 6,
    "start_time": "2022-01-22T17:38:20.942Z"
   },
   {
    "duration": 351,
    "start_time": "2022-01-22T17:38:25.283Z"
   },
   {
    "duration": 352,
    "start_time": "2022-01-22T17:38:43.003Z"
   },
   {
    "duration": 5,
    "start_time": "2022-01-22T17:38:46.003Z"
   },
   {
    "duration": 5,
    "start_time": "2022-01-22T17:38:46.833Z"
   },
   {
    "duration": 6,
    "start_time": "2022-01-22T17:38:47.152Z"
   },
   {
    "duration": 6,
    "start_time": "2022-01-22T17:38:47.159Z"
   },
   {
    "duration": 5,
    "start_time": "2022-01-22T17:38:47.330Z"
   },
   {
    "duration": 5,
    "start_time": "2022-01-22T17:38:47.511Z"
   },
   {
    "duration": 344,
    "start_time": "2022-01-22T17:38:49.426Z"
   },
   {
    "duration": 294,
    "start_time": "2022-01-22T17:39:01.967Z"
   },
   {
    "duration": 4,
    "start_time": "2022-01-22T17:39:02.309Z"
   },
   {
    "duration": 5,
    "start_time": "2022-01-22T17:39:02.501Z"
   },
   {
    "duration": 5,
    "start_time": "2022-01-22T17:39:02.675Z"
   },
   {
    "duration": 5,
    "start_time": "2022-01-22T17:39:03.106Z"
   },
   {
    "duration": 4,
    "start_time": "2022-01-22T17:39:03.287Z"
   },
   {
    "duration": 5,
    "start_time": "2022-01-22T17:39:03.463Z"
   },
   {
    "duration": 292,
    "start_time": "2022-01-22T17:39:05.755Z"
   },
   {
    "duration": 381,
    "start_time": "2022-01-22T17:39:06.277Z"
   },
   {
    "duration": 4,
    "start_time": "2022-01-22T17:39:06.660Z"
   },
   {
    "duration": 5,
    "start_time": "2022-01-22T17:39:06.801Z"
   },
   {
    "duration": 4,
    "start_time": "2022-01-22T17:39:06.967Z"
   },
   {
    "duration": 5,
    "start_time": "2022-01-22T17:39:07.142Z"
   },
   {
    "duration": 5,
    "start_time": "2022-01-22T17:39:07.309Z"
   },
   {
    "duration": 5,
    "start_time": "2022-01-22T17:39:07.494Z"
   },
   {
    "duration": 6,
    "start_time": "2022-01-22T17:39:09.009Z"
   },
   {
    "duration": 9,
    "start_time": "2022-01-22T17:39:10.851Z"
   },
   {
    "duration": 53,
    "start_time": "2022-01-22T17:39:14.553Z"
   },
   {
    "duration": 15,
    "start_time": "2022-01-22T17:39:16.978Z"
   },
   {
    "duration": 1127,
    "start_time": "2022-01-22T17:47:54.858Z"
   },
   {
    "duration": 391,
    "start_time": "2022-01-22T17:47:55.987Z"
   },
   {
    "duration": 8,
    "start_time": "2022-01-22T17:47:56.380Z"
   },
   {
    "duration": 16,
    "start_time": "2022-01-22T17:47:56.390Z"
   },
   {
    "duration": 16,
    "start_time": "2022-01-22T17:47:56.407Z"
   },
   {
    "duration": 11,
    "start_time": "2022-01-22T17:47:56.425Z"
   },
   {
    "duration": 11,
    "start_time": "2022-01-22T17:47:56.437Z"
   },
   {
    "duration": 12,
    "start_time": "2022-01-22T17:47:56.450Z"
   },
   {
    "duration": 27,
    "start_time": "2022-01-22T17:47:56.464Z"
   },
   {
    "duration": 7,
    "start_time": "2022-01-22T17:47:56.493Z"
   },
   {
    "duration": 38,
    "start_time": "2022-01-22T17:47:56.502Z"
   },
   {
    "duration": 5,
    "start_time": "2022-01-22T17:47:56.542Z"
   },
   {
    "duration": 13,
    "start_time": "2022-01-22T17:47:56.548Z"
   },
   {
    "duration": 19,
    "start_time": "2022-01-22T17:47:56.563Z"
   },
   {
    "duration": 15,
    "start_time": "2022-01-22T17:47:56.583Z"
   },
   {
    "duration": 9,
    "start_time": "2022-01-22T17:47:56.600Z"
   },
   {
    "duration": 40,
    "start_time": "2022-01-22T17:47:56.611Z"
   },
   {
    "duration": 6,
    "start_time": "2022-01-22T17:47:56.652Z"
   },
   {
    "duration": 19,
    "start_time": "2022-01-22T17:47:56.659Z"
   },
   {
    "duration": 7,
    "start_time": "2022-01-22T17:47:56.679Z"
   },
   {
    "duration": 20,
    "start_time": "2022-01-22T17:47:56.688Z"
   },
   {
    "duration": 20,
    "start_time": "2022-01-22T17:47:56.710Z"
   },
   {
    "duration": 35,
    "start_time": "2022-01-22T17:47:56.734Z"
   },
   {
    "duration": 5,
    "start_time": "2022-01-22T17:47:56.772Z"
   },
   {
    "duration": 20,
    "start_time": "2022-01-22T17:47:56.779Z"
   },
   {
    "duration": 14,
    "start_time": "2022-01-22T17:47:56.800Z"
   },
   {
    "duration": 18,
    "start_time": "2022-01-22T17:47:56.816Z"
   },
   {
    "duration": 20,
    "start_time": "2022-01-22T17:47:56.835Z"
   },
   {
    "duration": 40,
    "start_time": "2022-01-22T17:47:56.857Z"
   },
   {
    "duration": 27,
    "start_time": "2022-01-22T17:47:56.898Z"
   },
   {
    "duration": 21,
    "start_time": "2022-01-22T17:47:56.927Z"
   },
   {
    "duration": 23,
    "start_time": "2022-01-22T17:47:56.950Z"
   },
   {
    "duration": 6,
    "start_time": "2022-01-22T17:47:56.975Z"
   },
   {
    "duration": 26,
    "start_time": "2022-01-22T17:47:56.983Z"
   },
   {
    "duration": 29,
    "start_time": "2022-01-22T17:47:57.010Z"
   },
   {
    "duration": 15,
    "start_time": "2022-01-22T17:47:57.041Z"
   },
   {
    "duration": 21,
    "start_time": "2022-01-22T17:47:57.058Z"
   },
   {
    "duration": 2,
    "start_time": "2022-01-22T17:47:57.081Z"
   },
   {
    "duration": 27,
    "start_time": "2022-01-22T17:47:57.085Z"
   },
   {
    "duration": 18,
    "start_time": "2022-01-22T17:47:57.114Z"
   },
   {
    "duration": 25,
    "start_time": "2022-01-22T17:47:57.134Z"
   },
   {
    "duration": 4,
    "start_time": "2022-01-22T17:47:57.161Z"
   },
   {
    "duration": 24,
    "start_time": "2022-01-22T17:47:57.167Z"
   },
   {
    "duration": 18,
    "start_time": "2022-01-22T17:47:57.192Z"
   },
   {
    "duration": 6,
    "start_time": "2022-01-22T17:47:57.212Z"
   },
   {
    "duration": 19,
    "start_time": "2022-01-22T17:47:57.219Z"
   },
   {
    "duration": 7,
    "start_time": "2022-01-22T17:47:57.239Z"
   },
   {
    "duration": 8,
    "start_time": "2022-01-22T17:47:57.248Z"
   },
   {
    "duration": 11,
    "start_time": "2022-01-22T17:47:57.257Z"
   },
   {
    "duration": 3320,
    "start_time": "2022-01-22T17:47:57.269Z"
   },
   {
    "duration": 12,
    "start_time": "2022-01-22T17:48:00.590Z"
   },
   {
    "duration": 38,
    "start_time": "2022-01-22T17:48:00.603Z"
   },
   {
    "duration": 42,
    "start_time": "2022-01-22T17:48:00.643Z"
   },
   {
    "duration": 10,
    "start_time": "2022-01-22T17:48:00.686Z"
   },
   {
    "duration": 403,
    "start_time": "2022-01-22T17:48:00.698Z"
   },
   {
    "duration": 347,
    "start_time": "2022-01-22T17:48:01.102Z"
   },
   {
    "duration": 4,
    "start_time": "2022-01-22T17:48:01.451Z"
   },
   {
    "duration": 41,
    "start_time": "2022-01-22T17:48:01.457Z"
   },
   {
    "duration": 28,
    "start_time": "2022-01-22T17:48:01.500Z"
   },
   {
    "duration": 55,
    "start_time": "2022-01-22T17:48:01.530Z"
   },
   {
    "duration": 39,
    "start_time": "2022-01-22T17:48:01.587Z"
   },
   {
    "duration": 14,
    "start_time": "2022-01-22T17:48:01.628Z"
   },
   {
    "duration": 373,
    "start_time": "2022-01-22T17:48:01.643Z"
   },
   {
    "duration": 433,
    "start_time": "2022-01-22T17:48:02.019Z"
   },
   {
    "duration": 5,
    "start_time": "2022-01-22T17:48:02.454Z"
   },
   {
    "duration": 29,
    "start_time": "2022-01-22T17:48:02.461Z"
   },
   {
    "duration": 23,
    "start_time": "2022-01-22T17:48:02.492Z"
   },
   {
    "duration": 24,
    "start_time": "2022-01-22T17:48:02.522Z"
   },
   {
    "duration": 19,
    "start_time": "2022-01-22T17:48:02.548Z"
   },
   {
    "duration": 34,
    "start_time": "2022-01-22T17:48:02.569Z"
   },
   {
    "duration": 521,
    "start_time": "2022-01-22T17:48:02.605Z"
   },
   {
    "duration": 514,
    "start_time": "2022-01-22T17:48:03.128Z"
   },
   {
    "duration": 6,
    "start_time": "2022-01-22T17:48:03.644Z"
   },
   {
    "duration": 37,
    "start_time": "2022-01-22T17:48:03.652Z"
   },
   {
    "duration": 27,
    "start_time": "2022-01-22T17:48:03.691Z"
   },
   {
    "duration": 27,
    "start_time": "2022-01-22T17:48:03.720Z"
   },
   {
    "duration": 29,
    "start_time": "2022-01-22T17:48:03.749Z"
   },
   {
    "duration": 31,
    "start_time": "2022-01-22T17:48:03.779Z"
   },
   {
    "duration": 25,
    "start_time": "2022-01-22T17:48:03.812Z"
   },
   {
    "duration": 34,
    "start_time": "2022-01-22T17:48:03.839Z"
   },
   {
    "duration": 53,
    "start_time": "2022-01-22T17:48:03.874Z"
   },
   {
    "duration": 14,
    "start_time": "2022-01-22T17:48:03.929Z"
   },
   {
    "duration": 13,
    "start_time": "2022-01-22T17:58:25.925Z"
   },
   {
    "duration": 10,
    "start_time": "2022-01-22T17:59:09.656Z"
   },
   {
    "duration": 1084,
    "start_time": "2022-01-22T18:01:23.603Z"
   },
   {
    "duration": 385,
    "start_time": "2022-01-22T18:01:24.689Z"
   },
   {
    "duration": 6,
    "start_time": "2022-01-22T18:01:25.076Z"
   },
   {
    "duration": 15,
    "start_time": "2022-01-22T18:01:25.084Z"
   },
   {
    "duration": 5,
    "start_time": "2022-01-22T18:01:25.100Z"
   },
   {
    "duration": 7,
    "start_time": "2022-01-22T18:01:25.106Z"
   },
   {
    "duration": 13,
    "start_time": "2022-01-22T18:01:25.114Z"
   },
   {
    "duration": 7,
    "start_time": "2022-01-22T18:01:25.129Z"
   },
   {
    "duration": 20,
    "start_time": "2022-01-22T18:01:25.138Z"
   },
   {
    "duration": 6,
    "start_time": "2022-01-22T18:01:25.160Z"
   },
   {
    "duration": 31,
    "start_time": "2022-01-22T18:01:25.167Z"
   },
   {
    "duration": 4,
    "start_time": "2022-01-22T18:01:25.199Z"
   },
   {
    "duration": 9,
    "start_time": "2022-01-22T18:01:25.205Z"
   },
   {
    "duration": 29,
    "start_time": "2022-01-22T18:01:25.215Z"
   },
   {
    "duration": 13,
    "start_time": "2022-01-22T18:01:25.246Z"
   },
   {
    "duration": 11,
    "start_time": "2022-01-22T18:01:25.260Z"
   },
   {
    "duration": 22,
    "start_time": "2022-01-22T18:01:25.272Z"
   },
   {
    "duration": 4,
    "start_time": "2022-01-22T18:01:25.296Z"
   },
   {
    "duration": 24,
    "start_time": "2022-01-22T18:01:25.301Z"
   },
   {
    "duration": 19,
    "start_time": "2022-01-22T18:01:25.327Z"
   },
   {
    "duration": 19,
    "start_time": "2022-01-22T18:01:25.347Z"
   },
   {
    "duration": 16,
    "start_time": "2022-01-22T18:01:25.368Z"
   },
   {
    "duration": 31,
    "start_time": "2022-01-22T18:01:25.388Z"
   },
   {
    "duration": 4,
    "start_time": "2022-01-22T18:01:25.422Z"
   },
   {
    "duration": 14,
    "start_time": "2022-01-22T18:01:25.427Z"
   },
   {
    "duration": 7,
    "start_time": "2022-01-22T18:01:25.442Z"
   },
   {
    "duration": 9,
    "start_time": "2022-01-22T18:01:25.450Z"
   },
   {
    "duration": 24,
    "start_time": "2022-01-22T18:01:25.460Z"
   },
   {
    "duration": 41,
    "start_time": "2022-01-22T18:01:25.486Z"
   },
   {
    "duration": 28,
    "start_time": "2022-01-22T18:01:25.529Z"
   },
   {
    "duration": 22,
    "start_time": "2022-01-22T18:01:25.559Z"
   },
   {
    "duration": 22,
    "start_time": "2022-01-22T18:01:25.582Z"
   },
   {
    "duration": 6,
    "start_time": "2022-01-22T18:01:25.606Z"
   },
   {
    "duration": 37,
    "start_time": "2022-01-22T18:01:25.613Z"
   },
   {
    "duration": 24,
    "start_time": "2022-01-22T18:01:25.651Z"
   },
   {
    "duration": 16,
    "start_time": "2022-01-22T18:01:25.677Z"
   },
   {
    "duration": 41,
    "start_time": "2022-01-22T18:01:25.694Z"
   },
   {
    "duration": 4,
    "start_time": "2022-01-22T18:01:25.737Z"
   },
   {
    "duration": 33,
    "start_time": "2022-01-22T18:01:25.742Z"
   },
   {
    "duration": 24,
    "start_time": "2022-01-22T18:01:25.776Z"
   },
   {
    "duration": 49,
    "start_time": "2022-01-22T18:01:25.801Z"
   },
   {
    "duration": 5,
    "start_time": "2022-01-22T18:01:25.852Z"
   },
   {
    "duration": 49,
    "start_time": "2022-01-22T18:01:25.858Z"
   },
   {
    "duration": 27,
    "start_time": "2022-01-22T18:01:25.908Z"
   },
   {
    "duration": 4,
    "start_time": "2022-01-22T18:01:25.937Z"
   },
   {
    "duration": 11,
    "start_time": "2022-01-22T18:01:25.943Z"
   },
   {
    "duration": 4,
    "start_time": "2022-01-22T18:01:25.955Z"
   },
   {
    "duration": 9,
    "start_time": "2022-01-22T18:01:25.960Z"
   },
   {
    "duration": 13,
    "start_time": "2022-01-22T18:01:25.970Z"
   },
   {
    "duration": 2980,
    "start_time": "2022-01-22T18:01:25.984Z"
   },
   {
    "duration": 11,
    "start_time": "2022-01-22T18:01:28.966Z"
   },
   {
    "duration": 27,
    "start_time": "2022-01-22T18:01:28.979Z"
   },
   {
    "duration": 26,
    "start_time": "2022-01-22T18:01:29.008Z"
   },
   {
    "duration": 13,
    "start_time": "2022-01-22T18:01:29.036Z"
   },
   {
    "duration": 360,
    "start_time": "2022-01-22T18:01:29.050Z"
   },
   {
    "duration": 362,
    "start_time": "2022-01-22T18:01:29.412Z"
   },
   {
    "duration": 4,
    "start_time": "2022-01-22T18:01:29.775Z"
   },
   {
    "duration": 15,
    "start_time": "2022-01-22T18:01:29.781Z"
   },
   {
    "duration": 6,
    "start_time": "2022-01-22T18:01:29.798Z"
   },
   {
    "duration": 7,
    "start_time": "2022-01-22T18:01:29.806Z"
   },
   {
    "duration": 4,
    "start_time": "2022-01-22T18:01:29.815Z"
   },
   {
    "duration": 5,
    "start_time": "2022-01-22T18:01:29.821Z"
   },
   {
    "duration": 313,
    "start_time": "2022-01-22T18:01:29.841Z"
   },
   {
    "duration": 285,
    "start_time": "2022-01-22T18:01:30.156Z"
   },
   {
    "duration": 4,
    "start_time": "2022-01-22T18:01:30.442Z"
   },
   {
    "duration": 24,
    "start_time": "2022-01-22T18:01:30.448Z"
   },
   {
    "duration": 14,
    "start_time": "2022-01-22T18:01:30.473Z"
   },
   {
    "duration": 25,
    "start_time": "2022-01-22T18:01:30.492Z"
   },
   {
    "duration": 11,
    "start_time": "2022-01-22T18:01:30.519Z"
   },
   {
    "duration": 20,
    "start_time": "2022-01-22T18:01:30.531Z"
   },
   {
    "duration": 327,
    "start_time": "2022-01-22T18:01:30.552Z"
   },
   {
    "duration": 409,
    "start_time": "2022-01-22T18:01:30.881Z"
   },
   {
    "duration": 5,
    "start_time": "2022-01-22T18:01:31.291Z"
   },
   {
    "duration": 8,
    "start_time": "2022-01-22T18:01:31.297Z"
   },
   {
    "duration": 7,
    "start_time": "2022-01-22T18:01:31.306Z"
   },
   {
    "duration": 6,
    "start_time": "2022-01-22T18:01:31.314Z"
   },
   {
    "duration": 21,
    "start_time": "2022-01-22T18:01:31.321Z"
   },
   {
    "duration": 9,
    "start_time": "2022-01-22T18:01:31.344Z"
   },
   {
    "duration": 10,
    "start_time": "2022-01-22T18:01:31.354Z"
   },
   {
    "duration": 42,
    "start_time": "2022-01-22T18:01:31.366Z"
   },
   {
    "duration": 10,
    "start_time": "2022-01-22T18:01:31.410Z"
   },
   {
    "duration": 20,
    "start_time": "2022-01-22T18:01:31.422Z"
   },
   {
    "duration": 18,
    "start_time": "2022-01-22T18:01:31.443Z"
   },
   {
    "duration": 55,
    "start_time": "2022-01-22T18:01:31.462Z"
   },
   {
    "duration": 12,
    "start_time": "2022-01-22T18:01:31.519Z"
   },
   {
    "duration": 1094,
    "start_time": "2022-01-23T17:12:56.870Z"
   },
   {
    "duration": 376,
    "start_time": "2022-01-23T17:13:04.516Z"
   },
   {
    "duration": 8,
    "start_time": "2022-01-23T17:13:14.901Z"
   },
   {
    "duration": 13,
    "start_time": "2022-01-23T17:13:19.027Z"
   },
   {
    "duration": 9,
    "start_time": "2022-01-23T17:13:20.987Z"
   },
   {
    "duration": 5,
    "start_time": "2022-01-23T17:13:25.009Z"
   },
   {
    "duration": 7,
    "start_time": "2022-01-23T17:13:33.782Z"
   },
   {
    "duration": 5,
    "start_time": "2022-01-23T17:13:35.958Z"
   },
   {
    "duration": 20,
    "start_time": "2022-01-23T17:13:44.416Z"
   },
   {
    "duration": 8,
    "start_time": "2022-01-23T17:13:46.451Z"
   },
   {
    "duration": 27,
    "start_time": "2022-01-23T17:13:47.374Z"
   },
   {
    "duration": 5,
    "start_time": "2022-01-23T17:13:48.052Z"
   },
   {
    "duration": 6,
    "start_time": "2022-01-23T17:13:49.635Z"
   },
   {
    "duration": 14,
    "start_time": "2022-01-23T17:13:51.224Z"
   },
   {
    "duration": 15,
    "start_time": "2022-01-23T17:13:56.111Z"
   },
   {
    "duration": 7,
    "start_time": "2022-01-23T17:13:57.744Z"
   },
   {
    "duration": 19,
    "start_time": "2022-01-23T17:13:57.930Z"
   },
   {
    "duration": 5,
    "start_time": "2022-01-23T17:13:58.579Z"
   },
   {
    "duration": 17,
    "start_time": "2022-01-23T17:13:59.764Z"
   },
   {
    "duration": 8,
    "start_time": "2022-01-23T17:13:59.938Z"
   },
   {
    "duration": 7,
    "start_time": "2022-01-23T17:14:01.434Z"
   },
   {
    "duration": 10,
    "start_time": "2022-01-23T17:14:01.781Z"
   },
   {
    "duration": 30,
    "start_time": "2022-01-23T17:14:02.977Z"
   },
   {
    "duration": 5,
    "start_time": "2022-01-23T17:14:03.158Z"
   },
   {
    "duration": 5,
    "start_time": "2022-01-23T17:14:03.672Z"
   },
   {
    "duration": 7,
    "start_time": "2022-01-23T17:14:14.118Z"
   },
   {
    "duration": 4,
    "start_time": "2022-01-23T17:14:14.550Z"
   },
   {
    "duration": 9,
    "start_time": "2022-01-23T17:14:16.172Z"
   },
   {
    "duration": 25,
    "start_time": "2022-01-23T17:14:44.052Z"
   },
   {
    "duration": 28,
    "start_time": "2022-01-23T17:14:45.976Z"
   },
   {
    "duration": 23,
    "start_time": "2022-01-23T17:14:47.092Z"
   },
   {
    "duration": 22,
    "start_time": "2022-01-23T17:14:49.547Z"
   },
   {
    "duration": 7,
    "start_time": "2022-01-23T17:14:50.265Z"
   },
   {
    "duration": 15,
    "start_time": "2022-01-23T17:14:51.906Z"
   },
   {
    "duration": 25,
    "start_time": "2022-01-23T17:14:52.366Z"
   },
   {
    "duration": 17,
    "start_time": "2022-01-23T17:14:52.894Z"
   },
   {
    "duration": 21,
    "start_time": "2022-01-23T17:14:53.077Z"
   },
   {
    "duration": 3,
    "start_time": "2022-01-23T17:14:53.441Z"
   },
   {
    "duration": 15,
    "start_time": "2022-01-23T17:14:53.757Z"
   },
   {
    "duration": 8,
    "start_time": "2022-01-23T17:14:54.663Z"
   },
   {
    "duration": 20,
    "start_time": "2022-01-23T17:14:55.044Z"
   },
   {
    "duration": 3,
    "start_time": "2022-01-23T17:14:55.242Z"
   },
   {
    "duration": 12,
    "start_time": "2022-01-23T17:14:55.619Z"
   },
   {
    "duration": 8,
    "start_time": "2022-01-23T17:14:55.986Z"
   },
   {
    "duration": 5,
    "start_time": "2022-01-23T17:14:56.181Z"
   },
   {
    "duration": 12,
    "start_time": "2022-01-23T17:14:56.567Z"
   },
   {
    "duration": 3,
    "start_time": "2022-01-23T17:14:56.954Z"
   },
   {
    "duration": 5,
    "start_time": "2022-01-23T17:14:58.271Z"
   },
   {
    "duration": 7,
    "start_time": "2022-01-23T17:14:58.723Z"
   },
   {
    "duration": 3048,
    "start_time": "2022-01-23T17:15:09.079Z"
   },
   {
    "duration": 12,
    "start_time": "2022-01-23T17:15:12.572Z"
   },
   {
    "duration": 8,
    "start_time": "2022-01-23T17:16:58.402Z"
   },
   {
    "duration": 12,
    "start_time": "2022-01-23T17:16:59.165Z"
   },
   {
    "duration": 7,
    "start_time": "2022-01-23T17:17:03.397Z"
   },
   {
    "duration": 379,
    "start_time": "2022-01-23T17:17:06.157Z"
   },
   {
    "duration": 326,
    "start_time": "2022-01-23T17:17:07.520Z"
   },
   {
    "duration": 5,
    "start_time": "2022-01-23T17:17:12.261Z"
   },
   {
    "duration": 4,
    "start_time": "2022-01-23T17:17:12.465Z"
   },
   {
    "duration": 5,
    "start_time": "2022-01-23T17:17:12.640Z"
   },
   {
    "duration": 5,
    "start_time": "2022-01-23T17:17:12.807Z"
   },
   {
    "duration": 4,
    "start_time": "2022-01-23T17:17:12.990Z"
   },
   {
    "duration": 4,
    "start_time": "2022-01-23T17:17:13.175Z"
   },
   {
    "duration": 360,
    "start_time": "2022-01-23T17:17:14.182Z"
   },
   {
    "duration": 343,
    "start_time": "2022-01-23T17:17:14.550Z"
   },
   {
    "duration": 5,
    "start_time": "2022-01-23T17:17:14.914Z"
   },
   {
    "duration": 4,
    "start_time": "2022-01-23T17:17:15.096Z"
   },
   {
    "duration": 4,
    "start_time": "2022-01-23T17:17:15.276Z"
   },
   {
    "duration": 5,
    "start_time": "2022-01-23T17:17:15.448Z"
   },
   {
    "duration": 5,
    "start_time": "2022-01-23T17:17:15.632Z"
   },
   {
    "duration": 5,
    "start_time": "2022-01-23T17:17:15.819Z"
   },
   {
    "duration": 357,
    "start_time": "2022-01-23T17:17:16.363Z"
   },
   {
    "duration": 378,
    "start_time": "2022-01-23T17:17:16.753Z"
   },
   {
    "duration": 4,
    "start_time": "2022-01-23T17:17:17.133Z"
   },
   {
    "duration": 4,
    "start_time": "2022-01-23T17:17:17.314Z"
   },
   {
    "duration": 4,
    "start_time": "2022-01-23T17:17:17.513Z"
   },
   {
    "duration": 4,
    "start_time": "2022-01-23T17:17:17.725Z"
   },
   {
    "duration": 5,
    "start_time": "2022-01-23T17:17:18.189Z"
   },
   {
    "duration": 6,
    "start_time": "2022-01-23T17:17:18.395Z"
   },
   {
    "duration": 6,
    "start_time": "2022-01-23T17:17:19.946Z"
   },
   {
    "duration": 8,
    "start_time": "2022-01-23T17:17:23.623Z"
   },
   {
    "duration": 10,
    "start_time": "2022-01-23T17:17:24.538Z"
   },
   {
    "duration": 10,
    "start_time": "2022-01-23T17:17:24.819Z"
   },
   {
    "duration": 13,
    "start_time": "2022-01-23T17:17:25.431Z"
   },
   {
    "duration": 47,
    "start_time": "2022-01-23T17:17:38.234Z"
   },
   {
    "duration": 13,
    "start_time": "2022-01-23T17:17:38.574Z"
   },
   {
    "duration": 1152,
    "start_time": "2022-01-23T17:50:30.640Z"
   },
   {
    "duration": 398,
    "start_time": "2022-01-23T17:50:31.794Z"
   },
   {
    "duration": 8,
    "start_time": "2022-01-23T17:50:32.195Z"
   },
   {
    "duration": 19,
    "start_time": "2022-01-23T17:50:32.205Z"
   },
   {
    "duration": 7,
    "start_time": "2022-01-23T17:50:32.226Z"
   },
   {
    "duration": 11,
    "start_time": "2022-01-23T17:50:32.235Z"
   },
   {
    "duration": 7,
    "start_time": "2022-01-23T17:50:32.248Z"
   },
   {
    "duration": 6,
    "start_time": "2022-01-23T17:50:32.257Z"
   },
   {
    "duration": 19,
    "start_time": "2022-01-23T17:50:32.265Z"
   },
   {
    "duration": 7,
    "start_time": "2022-01-23T17:50:32.312Z"
   },
   {
    "duration": 31,
    "start_time": "2022-01-23T17:50:32.321Z"
   },
   {
    "duration": 5,
    "start_time": "2022-01-23T17:50:32.355Z"
   },
   {
    "duration": 9,
    "start_time": "2022-01-23T17:50:32.362Z"
   },
   {
    "duration": 43,
    "start_time": "2022-01-23T17:50:32.372Z"
   },
   {
    "duration": 13,
    "start_time": "2022-01-23T17:50:32.417Z"
   },
   {
    "duration": 17,
    "start_time": "2022-01-23T17:50:32.432Z"
   },
   {
    "duration": 24,
    "start_time": "2022-01-23T17:50:32.451Z"
   },
   {
    "duration": 4,
    "start_time": "2022-01-23T17:50:32.477Z"
   },
   {
    "duration": 43,
    "start_time": "2022-01-23T17:50:32.483Z"
   },
   {
    "duration": 9,
    "start_time": "2022-01-23T17:50:32.528Z"
   },
   {
    "duration": 13,
    "start_time": "2022-01-23T17:50:32.539Z"
   },
   {
    "duration": 10,
    "start_time": "2022-01-23T17:50:32.554Z"
   },
   {
    "duration": 54,
    "start_time": "2022-01-23T17:50:32.568Z"
   },
   {
    "duration": 5,
    "start_time": "2022-01-23T17:50:32.625Z"
   },
   {
    "duration": 8,
    "start_time": "2022-01-23T17:50:32.632Z"
   },
   {
    "duration": 8,
    "start_time": "2022-01-23T17:50:32.642Z"
   },
   {
    "duration": 5,
    "start_time": "2022-01-23T17:50:32.651Z"
   },
   {
    "duration": 10,
    "start_time": "2022-01-23T17:50:32.657Z"
   },
   {
    "duration": 57,
    "start_time": "2022-01-23T17:50:32.669Z"
   },
   {
    "duration": 28,
    "start_time": "2022-01-23T17:50:32.727Z"
   },
   {
    "duration": 22,
    "start_time": "2022-01-23T17:50:32.757Z"
   },
   {
    "duration": 38,
    "start_time": "2022-01-23T17:50:32.781Z"
   },
   {
    "duration": 7,
    "start_time": "2022-01-23T17:50:32.821Z"
   },
   {
    "duration": 16,
    "start_time": "2022-01-23T17:50:32.830Z"
   },
   {
    "duration": 23,
    "start_time": "2022-01-23T17:50:32.848Z"
   },
   {
    "duration": 41,
    "start_time": "2022-01-23T17:50:32.873Z"
   },
   {
    "duration": 20,
    "start_time": "2022-01-23T17:50:32.915Z"
   },
   {
    "duration": 2,
    "start_time": "2022-01-23T17:50:32.937Z"
   },
   {
    "duration": 28,
    "start_time": "2022-01-23T17:50:32.941Z"
   },
   {
    "duration": 22,
    "start_time": "2022-01-23T17:50:32.970Z"
   },
   {
    "duration": 25,
    "start_time": "2022-01-23T17:50:32.993Z"
   },
   {
    "duration": 4,
    "start_time": "2022-01-23T17:50:33.019Z"
   },
   {
    "duration": 14,
    "start_time": "2022-01-23T17:50:33.025Z"
   },
   {
    "duration": 10,
    "start_time": "2022-01-23T17:50:33.041Z"
   },
   {
    "duration": 6,
    "start_time": "2022-01-23T17:50:33.053Z"
   },
   {
    "duration": 53,
    "start_time": "2022-01-23T17:50:33.060Z"
   },
   {
    "duration": 3,
    "start_time": "2022-01-23T17:50:33.116Z"
   },
   {
    "duration": 6,
    "start_time": "2022-01-23T17:50:33.121Z"
   },
   {
    "duration": 8,
    "start_time": "2022-01-23T17:50:33.128Z"
   },
   {
    "duration": 3234,
    "start_time": "2022-01-23T17:50:33.138Z"
   },
   {
    "duration": 13,
    "start_time": "2022-01-23T17:50:36.373Z"
   },
   {
    "duration": 24,
    "start_time": "2022-01-23T17:50:36.388Z"
   },
   {
    "duration": 15,
    "start_time": "2022-01-23T17:50:36.413Z"
   },
   {
    "duration": 5,
    "start_time": "2022-01-23T17:50:36.430Z"
   },
   {
    "duration": 399,
    "start_time": "2022-01-23T17:50:36.437Z"
   },
   {
    "duration": 320,
    "start_time": "2022-01-23T17:50:36.838Z"
   },
   {
    "duration": 4,
    "start_time": "2022-01-23T17:50:37.160Z"
   },
   {
    "duration": 6,
    "start_time": "2022-01-23T17:50:37.166Z"
   },
   {
    "duration": 10,
    "start_time": "2022-01-23T17:50:37.174Z"
   },
   {
    "duration": 5,
    "start_time": "2022-01-23T17:50:37.185Z"
   },
   {
    "duration": 22,
    "start_time": "2022-01-23T17:50:37.191Z"
   },
   {
    "duration": 3,
    "start_time": "2022-01-23T17:50:37.215Z"
   },
   {
    "duration": 352,
    "start_time": "2022-01-23T17:50:37.220Z"
   },
   {
    "duration": 374,
    "start_time": "2022-01-23T17:50:37.573Z"
   },
   {
    "duration": 4,
    "start_time": "2022-01-23T17:50:37.948Z"
   },
   {
    "duration": 7,
    "start_time": "2022-01-23T17:50:37.954Z"
   },
   {
    "duration": 4,
    "start_time": "2022-01-23T17:50:37.963Z"
   },
   {
    "duration": 4,
    "start_time": "2022-01-23T17:50:37.972Z"
   },
   {
    "duration": 9,
    "start_time": "2022-01-23T17:50:37.978Z"
   },
   {
    "duration": 5,
    "start_time": "2022-01-23T17:50:38.012Z"
   },
   {
    "duration": 352,
    "start_time": "2022-01-23T17:50:38.019Z"
   },
   {
    "duration": 383,
    "start_time": "2022-01-23T17:50:38.373Z"
   },
   {
    "duration": 4,
    "start_time": "2022-01-23T17:50:38.758Z"
   },
   {
    "duration": 5,
    "start_time": "2022-01-23T17:50:38.763Z"
   },
   {
    "duration": 5,
    "start_time": "2022-01-23T17:50:38.770Z"
   },
   {
    "duration": 11,
    "start_time": "2022-01-23T17:50:38.776Z"
   },
   {
    "duration": 24,
    "start_time": "2022-01-23T17:50:38.789Z"
   },
   {
    "duration": 5,
    "start_time": "2022-01-23T17:50:38.814Z"
   },
   {
    "duration": 7,
    "start_time": "2022-01-23T17:50:38.820Z"
   },
   {
    "duration": 9,
    "start_time": "2022-01-23T17:50:38.828Z"
   },
   {
    "duration": 8,
    "start_time": "2022-01-23T17:50:38.839Z"
   },
   {
    "duration": 9,
    "start_time": "2022-01-23T17:50:38.849Z"
   },
   {
    "duration": 11,
    "start_time": "2022-01-23T17:50:38.859Z"
   },
   {
    "duration": 67,
    "start_time": "2022-01-23T17:50:38.871Z"
   },
   {
    "duration": 13,
    "start_time": "2022-01-23T17:50:38.940Z"
   },
   {
    "duration": 8,
    "start_time": "2022-01-23T17:51:04.324Z"
   },
   {
    "duration": 9,
    "start_time": "2022-01-23T17:51:16.016Z"
   },
   {
    "duration": 1169,
    "start_time": "2022-01-23T17:51:43.091Z"
   },
   {
    "duration": 393,
    "start_time": "2022-01-23T17:51:44.262Z"
   },
   {
    "duration": 7,
    "start_time": "2022-01-23T17:51:44.656Z"
   },
   {
    "duration": 25,
    "start_time": "2022-01-23T17:51:44.665Z"
   },
   {
    "duration": 5,
    "start_time": "2022-01-23T17:51:44.692Z"
   },
   {
    "duration": 6,
    "start_time": "2022-01-23T17:51:44.698Z"
   },
   {
    "duration": 17,
    "start_time": "2022-01-23T17:51:44.706Z"
   },
   {
    "duration": 7,
    "start_time": "2022-01-23T17:51:44.725Z"
   },
   {
    "duration": 24,
    "start_time": "2022-01-23T17:51:44.735Z"
   },
   {
    "duration": 8,
    "start_time": "2022-01-23T17:51:44.761Z"
   },
   {
    "duration": 47,
    "start_time": "2022-01-23T17:51:44.771Z"
   },
   {
    "duration": 5,
    "start_time": "2022-01-23T17:51:44.820Z"
   },
   {
    "duration": 8,
    "start_time": "2022-01-23T17:51:44.826Z"
   },
   {
    "duration": 15,
    "start_time": "2022-01-23T17:51:44.835Z"
   },
   {
    "duration": 15,
    "start_time": "2022-01-23T17:51:44.851Z"
   },
   {
    "duration": 10,
    "start_time": "2022-01-23T17:51:44.867Z"
   },
   {
    "duration": 48,
    "start_time": "2022-01-23T17:51:44.879Z"
   },
   {
    "duration": 5,
    "start_time": "2022-01-23T17:51:44.928Z"
   },
   {
    "duration": 17,
    "start_time": "2022-01-23T17:51:44.934Z"
   },
   {
    "duration": 7,
    "start_time": "2022-01-23T17:51:44.952Z"
   },
   {
    "duration": 7,
    "start_time": "2022-01-23T17:51:44.961Z"
   },
   {
    "duration": 42,
    "start_time": "2022-01-23T17:51:44.970Z"
   },
   {
    "duration": 32,
    "start_time": "2022-01-23T17:51:45.017Z"
   },
   {
    "duration": 5,
    "start_time": "2022-01-23T17:51:45.051Z"
   },
   {
    "duration": 9,
    "start_time": "2022-01-23T17:51:45.057Z"
   },
   {
    "duration": 8,
    "start_time": "2022-01-23T17:51:45.067Z"
   },
   {
    "duration": 6,
    "start_time": "2022-01-23T17:51:45.076Z"
   },
   {
    "duration": 8,
    "start_time": "2022-01-23T17:51:45.113Z"
   },
   {
    "duration": 28,
    "start_time": "2022-01-23T17:51:45.122Z"
   },
   {
    "duration": 30,
    "start_time": "2022-01-23T17:51:45.151Z"
   },
   {
    "duration": 44,
    "start_time": "2022-01-23T17:51:45.182Z"
   },
   {
    "duration": 24,
    "start_time": "2022-01-23T17:51:45.227Z"
   },
   {
    "duration": 7,
    "start_time": "2022-01-23T17:51:45.252Z"
   },
   {
    "duration": 18,
    "start_time": "2022-01-23T17:51:45.260Z"
   },
   {
    "duration": 48,
    "start_time": "2022-01-23T17:51:45.280Z"
   },
   {
    "duration": 18,
    "start_time": "2022-01-23T17:51:45.329Z"
   },
   {
    "duration": 19,
    "start_time": "2022-01-23T17:51:45.348Z"
   },
   {
    "duration": 3,
    "start_time": "2022-01-23T17:51:45.368Z"
   },
   {
    "duration": 16,
    "start_time": "2022-01-23T17:51:45.372Z"
   },
   {
    "duration": 30,
    "start_time": "2022-01-23T17:51:45.389Z"
   },
   {
    "duration": 19,
    "start_time": "2022-01-23T17:51:45.421Z"
   },
   {
    "duration": 3,
    "start_time": "2022-01-23T17:51:45.442Z"
   },
   {
    "duration": 16,
    "start_time": "2022-01-23T17:51:45.446Z"
   },
   {
    "duration": 10,
    "start_time": "2022-01-23T17:51:45.463Z"
   },
   {
    "duration": 4,
    "start_time": "2022-01-23T17:51:45.475Z"
   },
   {
    "duration": 41,
    "start_time": "2022-01-23T17:51:45.481Z"
   },
   {
    "duration": 5,
    "start_time": "2022-01-23T17:51:45.524Z"
   },
   {
    "duration": 5,
    "start_time": "2022-01-23T17:51:45.531Z"
   },
   {
    "duration": 7,
    "start_time": "2022-01-23T17:51:45.537Z"
   },
   {
    "duration": 3089,
    "start_time": "2022-01-23T17:51:45.546Z"
   },
   {
    "duration": 12,
    "start_time": "2022-01-23T17:51:48.637Z"
   },
   {
    "duration": 9,
    "start_time": "2022-01-23T17:51:48.650Z"
   },
   {
    "duration": 11,
    "start_time": "2022-01-23T17:51:48.661Z"
   },
   {
    "duration": 5,
    "start_time": "2022-01-23T17:51:48.673Z"
   },
   {
    "duration": 409,
    "start_time": "2022-01-23T17:51:48.679Z"
   },
   {
    "duration": 367,
    "start_time": "2022-01-23T17:51:49.090Z"
   },
   {
    "duration": 3,
    "start_time": "2022-01-23T17:51:49.459Z"
   },
   {
    "duration": 5,
    "start_time": "2022-01-23T17:51:49.464Z"
   },
   {
    "duration": 5,
    "start_time": "2022-01-23T17:51:49.470Z"
   },
   {
    "duration": 6,
    "start_time": "2022-01-23T17:51:49.476Z"
   },
   {
    "duration": 29,
    "start_time": "2022-01-23T17:51:49.483Z"
   },
   {
    "duration": 5,
    "start_time": "2022-01-23T17:51:49.514Z"
   },
   {
    "duration": 357,
    "start_time": "2022-01-23T17:51:49.520Z"
   },
   {
    "duration": 362,
    "start_time": "2022-01-23T17:51:49.879Z"
   },
   {
    "duration": 3,
    "start_time": "2022-01-23T17:51:50.243Z"
   },
   {
    "duration": 5,
    "start_time": "2022-01-23T17:51:50.248Z"
   },
   {
    "duration": 5,
    "start_time": "2022-01-23T17:51:50.254Z"
   },
   {
    "duration": 5,
    "start_time": "2022-01-23T17:51:50.264Z"
   },
   {
    "duration": 4,
    "start_time": "2022-01-23T17:51:50.270Z"
   },
   {
    "duration": 5,
    "start_time": "2022-01-23T17:51:50.276Z"
   },
   {
    "duration": 355,
    "start_time": "2022-01-23T17:51:50.282Z"
   },
   {
    "duration": 408,
    "start_time": "2022-01-23T17:51:50.639Z"
   },
   {
    "duration": 4,
    "start_time": "2022-01-23T17:51:51.049Z"
   },
   {
    "duration": 8,
    "start_time": "2022-01-23T17:51:51.055Z"
   },
   {
    "duration": 14,
    "start_time": "2022-01-23T17:51:51.064Z"
   },
   {
    "duration": 19,
    "start_time": "2022-01-23T17:51:51.080Z"
   },
   {
    "duration": 4,
    "start_time": "2022-01-23T17:51:51.101Z"
   },
   {
    "duration": 9,
    "start_time": "2022-01-23T17:51:51.107Z"
   },
   {
    "duration": 7,
    "start_time": "2022-01-23T17:51:51.118Z"
   },
   {
    "duration": 11,
    "start_time": "2022-01-23T17:51:51.126Z"
   },
   {
    "duration": 9,
    "start_time": "2022-01-23T17:51:51.138Z"
   },
   {
    "duration": 9,
    "start_time": "2022-01-23T17:51:51.149Z"
   },
   {
    "duration": 14,
    "start_time": "2022-01-23T17:51:51.159Z"
   },
   {
    "duration": 42,
    "start_time": "2022-01-23T17:51:51.175Z"
   },
   {
    "duration": 49,
    "start_time": "2022-01-23T17:51:51.219Z"
   },
   {
    "duration": 14,
    "start_time": "2022-01-23T17:51:51.270Z"
   },
   {
    "duration": 4,
    "start_time": "2022-01-23T18:03:47.285Z"
   },
   {
    "duration": 9,
    "start_time": "2022-01-23T18:05:56.053Z"
   },
   {
    "duration": 6,
    "start_time": "2022-01-23T18:06:14.540Z"
   },
   {
    "duration": 5,
    "start_time": "2022-01-23T18:06:43.322Z"
   },
   {
    "duration": 8,
    "start_time": "2022-01-23T18:09:54.717Z"
   },
   {
    "duration": 8,
    "start_time": "2022-01-23T18:10:04.433Z"
   },
   {
    "duration": 7,
    "start_time": "2022-01-23T18:10:45.939Z"
   },
   {
    "duration": 5,
    "start_time": "2022-01-23T18:11:28.322Z"
   },
   {
    "duration": 1179,
    "start_time": "2022-01-23T19:04:41.900Z"
   },
   {
    "duration": 403,
    "start_time": "2022-01-23T19:04:43.081Z"
   },
   {
    "duration": 7,
    "start_time": "2022-01-23T19:04:43.487Z"
   },
   {
    "duration": 15,
    "start_time": "2022-01-23T19:04:43.496Z"
   },
   {
    "duration": 8,
    "start_time": "2022-01-23T19:04:43.513Z"
   },
   {
    "duration": 6,
    "start_time": "2022-01-23T19:04:43.523Z"
   },
   {
    "duration": 9,
    "start_time": "2022-01-23T19:04:43.531Z"
   },
   {
    "duration": 10,
    "start_time": "2022-01-23T19:04:43.543Z"
   },
   {
    "duration": 25,
    "start_time": "2022-01-23T19:04:43.555Z"
   },
   {
    "duration": 6,
    "start_time": "2022-01-23T19:04:43.581Z"
   },
   {
    "duration": 34,
    "start_time": "2022-01-23T19:04:43.613Z"
   },
   {
    "duration": 6,
    "start_time": "2022-01-23T19:04:43.649Z"
   },
   {
    "duration": 6,
    "start_time": "2022-01-23T19:04:43.658Z"
   },
   {
    "duration": 67,
    "start_time": "2022-01-23T19:04:43.665Z"
   },
   {
    "duration": 37,
    "start_time": "2022-01-23T19:04:43.733Z"
   },
   {
    "duration": 8,
    "start_time": "2022-01-23T19:04:43.771Z"
   },
   {
    "duration": 23,
    "start_time": "2022-01-23T19:04:43.781Z"
   },
   {
    "duration": 12,
    "start_time": "2022-01-23T19:04:43.806Z"
   },
   {
    "duration": 20,
    "start_time": "2022-01-23T19:04:43.820Z"
   },
   {
    "duration": 9,
    "start_time": "2022-01-23T19:04:43.842Z"
   },
   {
    "duration": 12,
    "start_time": "2022-01-23T19:04:43.853Z"
   },
   {
    "duration": 14,
    "start_time": "2022-01-23T19:04:43.867Z"
   },
   {
    "duration": 53,
    "start_time": "2022-01-23T19:04:43.885Z"
   },
   {
    "duration": 5,
    "start_time": "2022-01-23T19:04:43.941Z"
   },
   {
    "duration": 10,
    "start_time": "2022-01-23T19:04:43.948Z"
   },
   {
    "duration": 9,
    "start_time": "2022-01-23T19:04:43.959Z"
   },
   {
    "duration": 5,
    "start_time": "2022-01-23T19:04:43.969Z"
   },
   {
    "duration": 43,
    "start_time": "2022-01-23T19:04:43.976Z"
   },
   {
    "duration": 27,
    "start_time": "2022-01-23T19:04:44.021Z"
   },
   {
    "duration": 31,
    "start_time": "2022-01-23T19:04:44.050Z"
   },
   {
    "duration": 47,
    "start_time": "2022-01-23T19:04:44.082Z"
   },
   {
    "duration": 26,
    "start_time": "2022-01-23T19:04:44.131Z"
   },
   {
    "duration": 7,
    "start_time": "2022-01-23T19:04:44.159Z"
   },
   {
    "duration": 16,
    "start_time": "2022-01-23T19:04:44.167Z"
   },
   {
    "duration": 48,
    "start_time": "2022-01-23T19:04:44.185Z"
   },
   {
    "duration": 19,
    "start_time": "2022-01-23T19:04:44.234Z"
   },
   {
    "duration": 20,
    "start_time": "2022-01-23T19:04:44.255Z"
   },
   {
    "duration": 3,
    "start_time": "2022-01-23T19:04:44.276Z"
   },
   {
    "duration": 40,
    "start_time": "2022-01-23T19:04:44.280Z"
   },
   {
    "duration": 12,
    "start_time": "2022-01-23T19:04:44.322Z"
   },
   {
    "duration": 24,
    "start_time": "2022-01-23T19:04:44.336Z"
   },
   {
    "duration": 4,
    "start_time": "2022-01-23T19:04:44.362Z"
   },
   {
    "duration": 13,
    "start_time": "2022-01-23T19:04:44.367Z"
   },
   {
    "duration": 39,
    "start_time": "2022-01-23T19:04:44.382Z"
   },
   {
    "duration": 6,
    "start_time": "2022-01-23T19:04:44.423Z"
   },
   {
    "duration": 14,
    "start_time": "2022-01-23T19:04:44.431Z"
   },
   {
    "duration": 10,
    "start_time": "2022-01-23T19:04:44.448Z"
   },
   {
    "duration": 8,
    "start_time": "2022-01-23T19:04:44.460Z"
   },
   {
    "duration": 4,
    "start_time": "2022-01-23T19:04:44.470Z"
   },
   {
    "duration": 38,
    "start_time": "2022-01-23T19:04:44.476Z"
   },
   {
    "duration": 7,
    "start_time": "2022-01-23T19:04:44.516Z"
   },
   {
    "duration": 10,
    "start_time": "2022-01-23T19:04:44.525Z"
   },
   {
    "duration": 3413,
    "start_time": "2022-01-23T19:04:44.537Z"
   },
   {
    "duration": 14,
    "start_time": "2022-01-23T19:04:47.952Z"
   },
   {
    "duration": 9,
    "start_time": "2022-01-23T19:04:47.967Z"
   },
   {
    "duration": 37,
    "start_time": "2022-01-23T19:04:47.977Z"
   },
   {
    "duration": 7,
    "start_time": "2022-01-23T19:04:48.016Z"
   },
   {
    "duration": 413,
    "start_time": "2022-01-23T19:04:48.025Z"
   },
   {
    "duration": 351,
    "start_time": "2022-01-23T19:04:48.440Z"
   },
   {
    "duration": 4,
    "start_time": "2022-01-23T19:04:48.793Z"
   },
   {
    "duration": 16,
    "start_time": "2022-01-23T19:04:48.798Z"
   },
   {
    "duration": 4,
    "start_time": "2022-01-23T19:04:48.816Z"
   },
   {
    "duration": 5,
    "start_time": "2022-01-23T19:04:48.822Z"
   },
   {
    "duration": 5,
    "start_time": "2022-01-23T19:04:48.829Z"
   },
   {
    "duration": 5,
    "start_time": "2022-01-23T19:04:48.835Z"
   },
   {
    "duration": 424,
    "start_time": "2022-01-23T19:04:48.842Z"
   },
   {
    "duration": 374,
    "start_time": "2022-01-23T19:04:49.268Z"
   },
   {
    "duration": 5,
    "start_time": "2022-01-23T19:04:49.648Z"
   },
   {
    "duration": 8,
    "start_time": "2022-01-23T19:04:49.655Z"
   },
   {
    "duration": 5,
    "start_time": "2022-01-23T19:04:49.664Z"
   },
   {
    "duration": 6,
    "start_time": "2022-01-23T19:04:49.670Z"
   },
   {
    "duration": 4,
    "start_time": "2022-01-23T19:04:49.677Z"
   },
   {
    "duration": 34,
    "start_time": "2022-01-23T19:04:49.683Z"
   },
   {
    "duration": 437,
    "start_time": "2022-01-23T19:04:49.719Z"
   },
   {
    "duration": 377,
    "start_time": "2022-01-23T19:04:50.158Z"
   },
   {
    "duration": 5,
    "start_time": "2022-01-23T19:04:50.537Z"
   },
   {
    "duration": 7,
    "start_time": "2022-01-23T19:04:50.544Z"
   },
   {
    "duration": 4,
    "start_time": "2022-01-23T19:04:50.553Z"
   },
   {
    "duration": 5,
    "start_time": "2022-01-23T19:04:50.558Z"
   },
   {
    "duration": 5,
    "start_time": "2022-01-23T19:04:50.565Z"
   },
   {
    "duration": 6,
    "start_time": "2022-01-23T19:04:50.571Z"
   },
   {
    "duration": 36,
    "start_time": "2022-01-23T19:04:50.579Z"
   },
   {
    "duration": 9,
    "start_time": "2022-01-23T19:04:50.617Z"
   },
   {
    "duration": 9,
    "start_time": "2022-01-23T19:04:50.628Z"
   },
   {
    "duration": 9,
    "start_time": "2022-01-23T19:04:50.639Z"
   },
   {
    "duration": 11,
    "start_time": "2022-01-23T19:04:50.650Z"
   },
   {
    "duration": 49,
    "start_time": "2022-01-23T19:04:50.663Z"
   },
   {
    "duration": 50,
    "start_time": "2022-01-23T19:04:50.714Z"
   },
   {
    "duration": 13,
    "start_time": "2022-01-23T19:04:50.766Z"
   },
   {
    "duration": 4,
    "start_time": "2022-01-23T19:17:14.862Z"
   },
   {
    "duration": 4,
    "start_time": "2022-01-23T19:17:19.784Z"
   },
   {
    "duration": 4,
    "start_time": "2022-01-23T19:17:52.628Z"
   },
   {
    "duration": 5,
    "start_time": "2022-01-23T19:18:02.379Z"
   },
   {
    "duration": 13,
    "start_time": "2022-01-23T19:18:21.194Z"
   },
   {
    "duration": 8,
    "start_time": "2022-01-23T19:18:26.014Z"
   },
   {
    "duration": 5,
    "start_time": "2022-01-23T19:20:01.852Z"
   },
   {
    "duration": 1130,
    "start_time": "2022-01-23T19:45:27.688Z"
   },
   {
    "duration": 377,
    "start_time": "2022-01-23T19:45:28.820Z"
   },
   {
    "duration": 8,
    "start_time": "2022-01-23T19:45:29.202Z"
   },
   {
    "duration": 14,
    "start_time": "2022-01-23T19:45:29.211Z"
   },
   {
    "duration": 5,
    "start_time": "2022-01-23T19:45:29.226Z"
   },
   {
    "duration": 6,
    "start_time": "2022-01-23T19:45:29.233Z"
   },
   {
    "duration": 7,
    "start_time": "2022-01-23T19:45:29.240Z"
   },
   {
    "duration": 5,
    "start_time": "2022-01-23T19:45:29.249Z"
   },
   {
    "duration": 22,
    "start_time": "2022-01-23T19:45:29.256Z"
   },
   {
    "duration": 35,
    "start_time": "2022-01-23T19:45:29.280Z"
   },
   {
    "duration": 30,
    "start_time": "2022-01-23T19:45:29.316Z"
   },
   {
    "duration": 5,
    "start_time": "2022-01-23T19:45:29.347Z"
   },
   {
    "duration": 7,
    "start_time": "2022-01-23T19:45:29.353Z"
   },
   {
    "duration": 13,
    "start_time": "2022-01-23T19:45:29.362Z"
   },
   {
    "duration": 43,
    "start_time": "2022-01-23T19:45:29.377Z"
   },
   {
    "duration": 7,
    "start_time": "2022-01-23T19:45:29.421Z"
   },
   {
    "duration": 20,
    "start_time": "2022-01-23T19:45:29.429Z"
   },
   {
    "duration": 4,
    "start_time": "2022-01-23T19:45:29.450Z"
   },
   {
    "duration": 16,
    "start_time": "2022-01-23T19:45:29.456Z"
   },
   {
    "duration": 7,
    "start_time": "2022-01-23T19:45:29.474Z"
   },
   {
    "duration": 8,
    "start_time": "2022-01-23T19:45:29.512Z"
   },
   {
    "duration": 11,
    "start_time": "2022-01-23T19:45:29.522Z"
   },
   {
    "duration": 30,
    "start_time": "2022-01-23T19:45:29.534Z"
   },
   {
    "duration": 5,
    "start_time": "2022-01-23T19:45:29.565Z"
   },
   {
    "duration": 6,
    "start_time": "2022-01-23T19:45:29.571Z"
   },
   {
    "duration": 38,
    "start_time": "2022-01-23T19:45:29.581Z"
   },
   {
    "duration": 5,
    "start_time": "2022-01-23T19:45:29.621Z"
   },
   {
    "duration": 9,
    "start_time": "2022-01-23T19:45:29.628Z"
   },
   {
    "duration": 26,
    "start_time": "2022-01-23T19:45:29.639Z"
   },
   {
    "duration": 49,
    "start_time": "2022-01-23T19:45:29.666Z"
   },
   {
    "duration": 23,
    "start_time": "2022-01-23T19:45:29.717Z"
   },
   {
    "duration": 22,
    "start_time": "2022-01-23T19:45:29.741Z"
   },
   {
    "duration": 7,
    "start_time": "2022-01-23T19:45:29.764Z"
   },
   {
    "duration": 43,
    "start_time": "2022-01-23T19:45:29.772Z"
   },
   {
    "duration": 24,
    "start_time": "2022-01-23T19:45:29.816Z"
   },
   {
    "duration": 16,
    "start_time": "2022-01-23T19:45:29.841Z"
   },
   {
    "duration": 19,
    "start_time": "2022-01-23T19:45:29.859Z"
   },
   {
    "duration": 3,
    "start_time": "2022-01-23T19:45:29.879Z"
   },
   {
    "duration": 35,
    "start_time": "2022-01-23T19:45:29.883Z"
   },
   {
    "duration": 23,
    "start_time": "2022-01-23T19:45:29.919Z"
   },
   {
    "duration": 20,
    "start_time": "2022-01-23T19:45:29.944Z"
   },
   {
    "duration": 4,
    "start_time": "2022-01-23T19:45:29.965Z"
   },
   {
    "duration": 14,
    "start_time": "2022-01-23T19:45:29.970Z"
   },
   {
    "duration": 9,
    "start_time": "2022-01-23T19:45:29.986Z"
   },
   {
    "duration": 18,
    "start_time": "2022-01-23T19:45:29.996Z"
   },
   {
    "duration": 14,
    "start_time": "2022-01-23T19:45:30.016Z"
   },
   {
    "duration": 4,
    "start_time": "2022-01-23T19:45:30.031Z"
   },
   {
    "duration": 7,
    "start_time": "2022-01-23T19:45:30.037Z"
   },
   {
    "duration": 4,
    "start_time": "2022-01-23T19:45:30.045Z"
   },
   {
    "duration": 7,
    "start_time": "2022-01-23T19:45:30.050Z"
   },
   {
    "duration": 9,
    "start_time": "2022-01-23T19:45:30.058Z"
   },
   {
    "duration": 44,
    "start_time": "2022-01-23T19:45:30.068Z"
   },
   {
    "duration": 2966,
    "start_time": "2022-01-23T19:45:30.114Z"
   },
   {
    "duration": 12,
    "start_time": "2022-01-23T19:45:33.082Z"
   },
   {
    "duration": 20,
    "start_time": "2022-01-23T19:45:33.096Z"
   },
   {
    "duration": 11,
    "start_time": "2022-01-23T19:45:33.118Z"
   },
   {
    "duration": 5,
    "start_time": "2022-01-23T19:45:33.131Z"
   },
   {
    "duration": 376,
    "start_time": "2022-01-23T19:45:33.138Z"
   },
   {
    "duration": 314,
    "start_time": "2022-01-23T19:45:33.516Z"
   },
   {
    "duration": 4,
    "start_time": "2022-01-23T19:45:33.832Z"
   },
   {
    "duration": 6,
    "start_time": "2022-01-23T19:45:33.837Z"
   },
   {
    "duration": 5,
    "start_time": "2022-01-23T19:45:33.845Z"
   },
   {
    "duration": 4,
    "start_time": "2022-01-23T19:45:33.851Z"
   },
   {
    "duration": 5,
    "start_time": "2022-01-23T19:45:33.857Z"
   },
   {
    "duration": 6,
    "start_time": "2022-01-23T19:45:33.863Z"
   },
   {
    "duration": 358,
    "start_time": "2022-01-23T19:45:33.870Z"
   },
   {
    "duration": 302,
    "start_time": "2022-01-23T19:45:34.229Z"
   },
   {
    "duration": 4,
    "start_time": "2022-01-23T19:45:34.533Z"
   },
   {
    "duration": 6,
    "start_time": "2022-01-23T19:45:34.539Z"
   },
   {
    "duration": 5,
    "start_time": "2022-01-23T19:45:34.546Z"
   },
   {
    "duration": 7,
    "start_time": "2022-01-23T19:45:34.552Z"
   },
   {
    "duration": 5,
    "start_time": "2022-01-23T19:45:34.560Z"
   },
   {
    "duration": 4,
    "start_time": "2022-01-23T19:45:34.567Z"
   },
   {
    "duration": 397,
    "start_time": "2022-01-23T19:45:34.573Z"
   },
   {
    "duration": 340,
    "start_time": "2022-01-23T19:45:34.972Z"
   },
   {
    "duration": 4,
    "start_time": "2022-01-23T19:45:35.313Z"
   },
   {
    "duration": 5,
    "start_time": "2022-01-23T19:45:35.319Z"
   },
   {
    "duration": 5,
    "start_time": "2022-01-23T19:45:35.326Z"
   },
   {
    "duration": 6,
    "start_time": "2022-01-23T19:45:35.332Z"
   },
   {
    "duration": 4,
    "start_time": "2022-01-23T19:45:35.344Z"
   },
   {
    "duration": 4,
    "start_time": "2022-01-23T19:45:35.350Z"
   },
   {
    "duration": 5,
    "start_time": "2022-01-23T19:45:35.356Z"
   },
   {
    "duration": 10,
    "start_time": "2022-01-23T19:45:35.362Z"
   },
   {
    "duration": 44,
    "start_time": "2022-01-23T19:45:35.373Z"
   },
   {
    "duration": 7,
    "start_time": "2022-01-23T19:45:35.418Z"
   },
   {
    "duration": 8,
    "start_time": "2022-01-23T19:45:35.427Z"
   },
   {
    "duration": 14,
    "start_time": "2022-01-23T19:45:35.436Z"
   },
   {
    "duration": 46,
    "start_time": "2022-01-23T19:45:35.451Z"
   },
   {
    "duration": 20,
    "start_time": "2022-01-23T19:45:35.498Z"
   },
   {
    "duration": 277,
    "start_time": "2022-01-23T19:49:30.236Z"
   },
   {
    "duration": 20,
    "start_time": "2022-01-23T19:49:37.242Z"
   },
   {
    "duration": 8,
    "start_time": "2022-01-23T19:49:41.153Z"
   },
   {
    "duration": 12,
    "start_time": "2022-01-23T19:49:56.262Z"
   },
   {
    "duration": 8,
    "start_time": "2022-01-23T19:50:06.794Z"
   },
   {
    "duration": 7,
    "start_time": "2022-01-23T19:50:15.393Z"
   },
   {
    "duration": 9,
    "start_time": "2022-01-23T20:23:39.180Z"
   },
   {
    "duration": 10,
    "start_time": "2022-01-23T20:23:59.935Z"
   },
   {
    "duration": 11,
    "start_time": "2022-01-23T20:24:03.465Z"
   },
   {
    "duration": 8,
    "start_time": "2022-01-23T20:24:28.819Z"
   },
   {
    "duration": 11,
    "start_time": "2022-01-23T20:24:35.519Z"
   },
   {
    "duration": 10,
    "start_time": "2022-01-23T20:24:48.762Z"
   },
   {
    "duration": 11,
    "start_time": "2022-01-23T20:25:11.073Z"
   },
   {
    "duration": 10,
    "start_time": "2022-01-23T20:25:11.672Z"
   },
   {
    "duration": 1138,
    "start_time": "2022-01-23T20:33:24.635Z"
   },
   {
    "duration": 390,
    "start_time": "2022-01-23T20:33:25.775Z"
   },
   {
    "duration": 7,
    "start_time": "2022-01-23T20:33:26.167Z"
   },
   {
    "duration": 14,
    "start_time": "2022-01-23T20:33:26.176Z"
   },
   {
    "duration": 5,
    "start_time": "2022-01-23T20:33:26.191Z"
   },
   {
    "duration": 15,
    "start_time": "2022-01-23T20:33:26.198Z"
   },
   {
    "duration": 6,
    "start_time": "2022-01-23T20:33:26.215Z"
   },
   {
    "duration": 6,
    "start_time": "2022-01-23T20:33:26.222Z"
   },
   {
    "duration": 20,
    "start_time": "2022-01-23T20:33:26.231Z"
   },
   {
    "duration": 7,
    "start_time": "2022-01-23T20:33:26.253Z"
   },
   {
    "duration": 57,
    "start_time": "2022-01-23T20:33:26.261Z"
   },
   {
    "duration": 7,
    "start_time": "2022-01-23T20:33:26.319Z"
   },
   {
    "duration": 8,
    "start_time": "2022-01-23T20:33:26.328Z"
   },
   {
    "duration": 16,
    "start_time": "2022-01-23T20:33:26.338Z"
   },
   {
    "duration": 16,
    "start_time": "2022-01-23T20:33:26.356Z"
   },
   {
    "duration": 44,
    "start_time": "2022-01-23T20:33:26.374Z"
   },
   {
    "duration": 23,
    "start_time": "2022-01-23T20:33:26.420Z"
   },
   {
    "duration": 6,
    "start_time": "2022-01-23T20:33:26.445Z"
   },
   {
    "duration": 19,
    "start_time": "2022-01-23T20:33:26.452Z"
   },
   {
    "duration": 9,
    "start_time": "2022-01-23T20:33:26.472Z"
   },
   {
    "duration": 8,
    "start_time": "2022-01-23T20:33:26.513Z"
   },
   {
    "duration": 12,
    "start_time": "2022-01-23T20:33:26.522Z"
   },
   {
    "duration": 31,
    "start_time": "2022-01-23T20:33:26.536Z"
   },
   {
    "duration": 4,
    "start_time": "2022-01-23T20:33:26.569Z"
   },
   {
    "duration": 37,
    "start_time": "2022-01-23T20:33:26.575Z"
   },
   {
    "duration": 8,
    "start_time": "2022-01-23T20:33:26.614Z"
   },
   {
    "duration": 6,
    "start_time": "2022-01-23T20:33:26.625Z"
   },
   {
    "duration": 8,
    "start_time": "2022-01-23T20:33:26.634Z"
   },
   {
    "duration": 26,
    "start_time": "2022-01-23T20:33:26.644Z"
   },
   {
    "duration": 61,
    "start_time": "2022-01-23T20:33:26.672Z"
   },
   {
    "duration": 27,
    "start_time": "2022-01-23T20:33:26.735Z"
   },
   {
    "duration": 49,
    "start_time": "2022-01-23T20:33:26.764Z"
   },
   {
    "duration": 7,
    "start_time": "2022-01-23T20:33:26.815Z"
   },
   {
    "duration": 16,
    "start_time": "2022-01-23T20:33:26.824Z"
   },
   {
    "duration": 26,
    "start_time": "2022-01-23T20:33:26.841Z"
   },
   {
    "duration": 17,
    "start_time": "2022-01-23T20:33:26.868Z"
   },
   {
    "duration": 20,
    "start_time": "2022-01-23T20:33:26.913Z"
   },
   {
    "duration": 3,
    "start_time": "2022-01-23T20:33:26.935Z"
   },
   {
    "duration": 24,
    "start_time": "2022-01-23T20:33:26.940Z"
   },
   {
    "duration": 8,
    "start_time": "2022-01-23T20:33:26.966Z"
   },
   {
    "duration": 19,
    "start_time": "2022-01-23T20:33:26.976Z"
   },
   {
    "duration": 3,
    "start_time": "2022-01-23T20:33:27.012Z"
   },
   {
    "duration": 14,
    "start_time": "2022-01-23T20:33:27.017Z"
   },
   {
    "duration": 7,
    "start_time": "2022-01-23T20:33:27.033Z"
   },
   {
    "duration": 5,
    "start_time": "2022-01-23T20:33:27.041Z"
   },
   {
    "duration": 14,
    "start_time": "2022-01-23T20:33:27.047Z"
   },
   {
    "duration": 4,
    "start_time": "2022-01-23T20:33:27.062Z"
   },
   {
    "duration": 7,
    "start_time": "2022-01-23T20:33:27.068Z"
   },
   {
    "duration": 4,
    "start_time": "2022-01-23T20:33:27.113Z"
   },
   {
    "duration": 5,
    "start_time": "2022-01-23T20:33:27.119Z"
   },
   {
    "duration": 4,
    "start_time": "2022-01-23T20:33:27.126Z"
   },
   {
    "duration": 7,
    "start_time": "2022-01-23T20:33:27.132Z"
   },
   {
    "duration": 3004,
    "start_time": "2022-01-23T20:33:27.140Z"
   },
   {
    "duration": 13,
    "start_time": "2022-01-23T20:33:30.146Z"
   },
   {
    "duration": 17,
    "start_time": "2022-01-23T20:33:30.161Z"
   },
   {
    "duration": 11,
    "start_time": "2022-01-23T20:33:30.180Z"
   },
   {
    "duration": 20,
    "start_time": "2022-01-23T20:33:30.193Z"
   },
   {
    "duration": 372,
    "start_time": "2022-01-23T20:33:30.215Z"
   },
   {
    "duration": 366,
    "start_time": "2022-01-23T20:33:30.589Z"
   },
   {
    "duration": 4,
    "start_time": "2022-01-23T20:33:30.957Z"
   },
   {
    "duration": 13,
    "start_time": "2022-01-23T20:33:30.962Z"
   },
   {
    "duration": 8,
    "start_time": "2022-01-23T20:33:30.976Z"
   },
   {
    "duration": 10,
    "start_time": "2022-01-23T20:33:30.985Z"
   },
   {
    "duration": 10,
    "start_time": "2022-01-23T20:33:30.996Z"
   },
   {
    "duration": 4,
    "start_time": "2022-01-23T20:33:31.012Z"
   },
   {
    "duration": 348,
    "start_time": "2022-01-23T20:33:31.018Z"
   },
   {
    "duration": 350,
    "start_time": "2022-01-23T20:33:31.368Z"
   },
   {
    "duration": 4,
    "start_time": "2022-01-23T20:33:31.720Z"
   },
   {
    "duration": 6,
    "start_time": "2022-01-23T20:33:31.725Z"
   },
   {
    "duration": 5,
    "start_time": "2022-01-23T20:33:31.733Z"
   },
   {
    "duration": 7,
    "start_time": "2022-01-23T20:33:31.740Z"
   },
   {
    "duration": 5,
    "start_time": "2022-01-23T20:33:31.748Z"
   },
   {
    "duration": 6,
    "start_time": "2022-01-23T20:33:31.754Z"
   },
   {
    "duration": 360,
    "start_time": "2022-01-23T20:33:31.761Z"
   },
   {
    "duration": 409,
    "start_time": "2022-01-23T20:33:32.123Z"
   },
   {
    "duration": 4,
    "start_time": "2022-01-23T20:33:32.534Z"
   },
   {
    "duration": 7,
    "start_time": "2022-01-23T20:33:32.540Z"
   },
   {
    "duration": 9,
    "start_time": "2022-01-23T20:33:32.549Z"
   },
   {
    "duration": 5,
    "start_time": "2022-01-23T20:33:32.559Z"
   },
   {
    "duration": 7,
    "start_time": "2022-01-23T20:33:32.565Z"
   },
   {
    "duration": 4,
    "start_time": "2022-01-23T20:33:32.577Z"
   },
   {
    "duration": 31,
    "start_time": "2022-01-23T20:33:32.582Z"
   },
   {
    "duration": 7,
    "start_time": "2022-01-23T20:33:32.615Z"
   },
   {
    "duration": 7,
    "start_time": "2022-01-23T20:33:32.623Z"
   },
   {
    "duration": 7,
    "start_time": "2022-01-23T20:33:32.632Z"
   },
   {
    "duration": 10,
    "start_time": "2022-01-23T20:33:32.640Z"
   },
   {
    "duration": 11,
    "start_time": "2022-01-23T20:33:32.651Z"
   },
   {
    "duration": 68,
    "start_time": "2022-01-23T20:33:32.664Z"
   },
   {
    "duration": 12,
    "start_time": "2022-01-23T20:33:32.733Z"
   },
   {
    "duration": 996,
    "start_time": "2022-01-23T20:34:27.667Z"
   },
   {
    "duration": 377,
    "start_time": "2022-01-23T20:34:28.665Z"
   },
   {
    "duration": 7,
    "start_time": "2022-01-23T20:34:29.044Z"
   },
   {
    "duration": 18,
    "start_time": "2022-01-23T20:34:29.053Z"
   },
   {
    "duration": 6,
    "start_time": "2022-01-23T20:34:29.073Z"
   },
   {
    "duration": 5,
    "start_time": "2022-01-23T20:34:29.080Z"
   },
   {
    "duration": 5,
    "start_time": "2022-01-23T20:34:29.087Z"
   },
   {
    "duration": 17,
    "start_time": "2022-01-23T20:34:29.095Z"
   },
   {
    "duration": 21,
    "start_time": "2022-01-23T20:34:29.114Z"
   },
   {
    "duration": 7,
    "start_time": "2022-01-23T20:34:29.137Z"
   },
   {
    "duration": 30,
    "start_time": "2022-01-23T20:34:29.146Z"
   },
   {
    "duration": 5,
    "start_time": "2022-01-23T20:34:29.178Z"
   },
   {
    "duration": 34,
    "start_time": "2022-01-23T20:34:29.184Z"
   },
   {
    "duration": 15,
    "start_time": "2022-01-23T20:34:29.220Z"
   },
   {
    "duration": 14,
    "start_time": "2022-01-23T20:34:29.237Z"
   },
   {
    "duration": 7,
    "start_time": "2022-01-23T20:34:29.253Z"
   },
   {
    "duration": 55,
    "start_time": "2022-01-23T20:34:29.261Z"
   },
   {
    "duration": 4,
    "start_time": "2022-01-23T20:34:29.318Z"
   },
   {
    "duration": 17,
    "start_time": "2022-01-23T20:34:29.323Z"
   },
   {
    "duration": 7,
    "start_time": "2022-01-23T20:34:29.342Z"
   },
   {
    "duration": 8,
    "start_time": "2022-01-23T20:34:29.350Z"
   },
   {
    "duration": 11,
    "start_time": "2022-01-23T20:34:29.359Z"
   },
   {
    "duration": 61,
    "start_time": "2022-01-23T20:34:29.374Z"
   },
   {
    "duration": 4,
    "start_time": "2022-01-23T20:34:29.438Z"
   },
   {
    "duration": 6,
    "start_time": "2022-01-23T20:34:29.444Z"
   },
   {
    "duration": 7,
    "start_time": "2022-01-23T20:34:29.451Z"
   },
   {
    "duration": 5,
    "start_time": "2022-01-23T20:34:29.460Z"
   },
   {
    "duration": 9,
    "start_time": "2022-01-23T20:34:29.467Z"
   },
   {
    "duration": 53,
    "start_time": "2022-01-23T20:34:29.477Z"
   },
   {
    "duration": 27,
    "start_time": "2022-01-23T20:34:29.532Z"
   },
   {
    "duration": 23,
    "start_time": "2022-01-23T20:34:29.561Z"
   },
   {
    "duration": 39,
    "start_time": "2022-01-23T20:34:29.585Z"
   },
   {
    "duration": 7,
    "start_time": "2022-01-23T20:34:29.625Z"
   },
   {
    "duration": 17,
    "start_time": "2022-01-23T20:34:29.634Z"
   },
   {
    "duration": 25,
    "start_time": "2022-01-23T20:34:29.653Z"
   },
   {
    "duration": 45,
    "start_time": "2022-01-23T20:34:29.680Z"
   },
   {
    "duration": 21,
    "start_time": "2022-01-23T20:34:29.726Z"
   },
   {
    "duration": 4,
    "start_time": "2022-01-23T20:34:29.748Z"
   },
   {
    "duration": 12,
    "start_time": "2022-01-23T20:34:29.754Z"
   },
   {
    "duration": 10,
    "start_time": "2022-01-23T20:34:29.768Z"
   },
   {
    "duration": 45,
    "start_time": "2022-01-23T20:34:29.780Z"
   },
   {
    "duration": 4,
    "start_time": "2022-01-23T20:34:29.827Z"
   },
   {
    "duration": 12,
    "start_time": "2022-01-23T20:34:29.833Z"
   },
   {
    "duration": 8,
    "start_time": "2022-01-23T20:34:29.847Z"
   },
   {
    "duration": 5,
    "start_time": "2022-01-23T20:34:29.857Z"
   },
   {
    "duration": 50,
    "start_time": "2022-01-23T20:34:29.863Z"
   },
   {
    "duration": 3,
    "start_time": "2022-01-23T20:34:29.915Z"
   },
   {
    "duration": 7,
    "start_time": "2022-01-23T20:34:29.920Z"
   },
   {
    "duration": 5,
    "start_time": "2022-01-23T20:34:29.929Z"
   },
   {
    "duration": 5,
    "start_time": "2022-01-23T20:34:29.935Z"
   },
   {
    "duration": 5,
    "start_time": "2022-01-23T20:34:29.942Z"
   },
   {
    "duration": 7,
    "start_time": "2022-01-23T20:34:29.948Z"
   },
   {
    "duration": 3011,
    "start_time": "2022-01-23T20:34:29.956Z"
   },
   {
    "duration": 13,
    "start_time": "2022-01-23T20:34:32.968Z"
   },
   {
    "duration": 8,
    "start_time": "2022-01-23T20:34:32.982Z"
   },
   {
    "duration": 31,
    "start_time": "2022-01-23T20:34:32.991Z"
   },
   {
    "duration": 6,
    "start_time": "2022-01-23T20:34:33.024Z"
   },
   {
    "duration": 385,
    "start_time": "2022-01-23T20:34:33.032Z"
   },
   {
    "duration": 322,
    "start_time": "2022-01-23T20:34:33.418Z"
   },
   {
    "duration": 5,
    "start_time": "2022-01-23T20:34:33.741Z"
   },
   {
    "duration": 5,
    "start_time": "2022-01-23T20:34:33.748Z"
   },
   {
    "duration": 5,
    "start_time": "2022-01-23T20:34:33.754Z"
   },
   {
    "duration": 6,
    "start_time": "2022-01-23T20:34:33.760Z"
   },
   {
    "duration": 5,
    "start_time": "2022-01-23T20:34:33.767Z"
   },
   {
    "duration": 4,
    "start_time": "2022-01-23T20:34:33.774Z"
   },
   {
    "duration": 347,
    "start_time": "2022-01-23T20:34:33.812Z"
   },
   {
    "duration": 329,
    "start_time": "2022-01-23T20:34:34.160Z"
   },
   {
    "duration": 4,
    "start_time": "2022-01-23T20:34:34.494Z"
   },
   {
    "duration": 13,
    "start_time": "2022-01-23T20:34:34.500Z"
   },
   {
    "duration": 4,
    "start_time": "2022-01-23T20:34:34.515Z"
   },
   {
    "duration": 8,
    "start_time": "2022-01-23T20:34:34.521Z"
   },
   {
    "duration": 5,
    "start_time": "2022-01-23T20:34:34.531Z"
   },
   {
    "duration": 6,
    "start_time": "2022-01-23T20:34:34.537Z"
   },
   {
    "duration": 410,
    "start_time": "2022-01-23T20:34:34.544Z"
   },
   {
    "duration": 326,
    "start_time": "2022-01-23T20:34:34.956Z"
   },
   {
    "duration": 4,
    "start_time": "2022-01-23T20:34:35.284Z"
   },
   {
    "duration": 7,
    "start_time": "2022-01-23T20:34:35.289Z"
   },
   {
    "duration": 15,
    "start_time": "2022-01-23T20:34:35.298Z"
   },
   {
    "duration": 5,
    "start_time": "2022-01-23T20:34:35.315Z"
   },
   {
    "duration": 5,
    "start_time": "2022-01-23T20:34:35.321Z"
   },
   {
    "duration": 11,
    "start_time": "2022-01-23T20:34:35.328Z"
   },
   {
    "duration": 9,
    "start_time": "2022-01-23T20:34:35.341Z"
   },
   {
    "duration": 13,
    "start_time": "2022-01-23T20:34:35.352Z"
   },
   {
    "duration": 8,
    "start_time": "2022-01-23T20:34:35.367Z"
   },
   {
    "duration": 35,
    "start_time": "2022-01-23T20:34:35.377Z"
   },
   {
    "duration": 11,
    "start_time": "2022-01-23T20:34:35.415Z"
   },
   {
    "duration": 12,
    "start_time": "2022-01-23T20:34:35.428Z"
   },
   {
    "duration": 49,
    "start_time": "2022-01-23T20:34:35.442Z"
   },
   {
    "duration": 26,
    "start_time": "2022-01-23T20:34:35.493Z"
   },
   {
    "duration": 1137,
    "start_time": "2022-01-23T20:35:25.919Z"
   },
   {
    "duration": 387,
    "start_time": "2022-01-23T20:35:27.058Z"
   },
   {
    "duration": 7,
    "start_time": "2022-01-23T20:35:27.446Z"
   },
   {
    "duration": 13,
    "start_time": "2022-01-23T20:35:27.455Z"
   },
   {
    "duration": 5,
    "start_time": "2022-01-23T20:35:27.470Z"
   },
   {
    "duration": 6,
    "start_time": "2022-01-23T20:35:27.476Z"
   },
   {
    "duration": 8,
    "start_time": "2022-01-23T20:35:27.483Z"
   },
   {
    "duration": 20,
    "start_time": "2022-01-23T20:35:27.493Z"
   },
   {
    "duration": 20,
    "start_time": "2022-01-23T20:35:27.515Z"
   },
   {
    "duration": 6,
    "start_time": "2022-01-23T20:35:27.537Z"
   },
   {
    "duration": 30,
    "start_time": "2022-01-23T20:35:27.545Z"
   },
   {
    "duration": 5,
    "start_time": "2022-01-23T20:35:27.576Z"
   },
   {
    "duration": 31,
    "start_time": "2022-01-23T20:35:27.582Z"
   },
   {
    "duration": 17,
    "start_time": "2022-01-23T20:35:27.615Z"
   },
   {
    "duration": 14,
    "start_time": "2022-01-23T20:35:27.633Z"
   },
   {
    "duration": 8,
    "start_time": "2022-01-23T20:35:27.648Z"
   },
   {
    "duration": 19,
    "start_time": "2022-01-23T20:35:27.657Z"
   },
   {
    "duration": 34,
    "start_time": "2022-01-23T20:35:27.678Z"
   },
   {
    "duration": 17,
    "start_time": "2022-01-23T20:35:27.714Z"
   },
   {
    "duration": 7,
    "start_time": "2022-01-23T20:35:27.732Z"
   },
   {
    "duration": 8,
    "start_time": "2022-01-23T20:35:27.741Z"
   },
   {
    "duration": 11,
    "start_time": "2022-01-23T20:35:27.751Z"
   },
   {
    "duration": 63,
    "start_time": "2022-01-23T20:35:27.766Z"
   },
   {
    "duration": 5,
    "start_time": "2022-01-23T20:35:27.832Z"
   },
   {
    "duration": 5,
    "start_time": "2022-01-23T20:35:27.839Z"
   },
   {
    "duration": 8,
    "start_time": "2022-01-23T20:35:27.846Z"
   },
   {
    "duration": 5,
    "start_time": "2022-01-23T20:35:27.855Z"
   },
   {
    "duration": 13,
    "start_time": "2022-01-23T20:35:27.861Z"
   },
   {
    "duration": 56,
    "start_time": "2022-01-23T20:35:27.875Z"
   },
   {
    "duration": 31,
    "start_time": "2022-01-23T20:35:27.933Z"
   },
   {
    "duration": 25,
    "start_time": "2022-01-23T20:35:27.965Z"
   },
   {
    "duration": 40,
    "start_time": "2022-01-23T20:35:27.992Z"
   },
   {
    "duration": 7,
    "start_time": "2022-01-23T20:35:28.034Z"
   },
   {
    "duration": 16,
    "start_time": "2022-01-23T20:35:28.042Z"
   },
   {
    "duration": 24,
    "start_time": "2022-01-23T20:35:28.060Z"
   },
   {
    "duration": 42,
    "start_time": "2022-01-23T20:35:28.085Z"
   },
   {
    "duration": 20,
    "start_time": "2022-01-23T20:35:28.128Z"
   },
   {
    "duration": 3,
    "start_time": "2022-01-23T20:35:28.150Z"
   },
   {
    "duration": 14,
    "start_time": "2022-01-23T20:35:28.154Z"
   },
   {
    "duration": 8,
    "start_time": "2022-01-23T20:35:28.169Z"
   },
   {
    "duration": 49,
    "start_time": "2022-01-23T20:35:28.179Z"
   },
   {
    "duration": 4,
    "start_time": "2022-01-23T20:35:28.229Z"
   },
   {
    "duration": 13,
    "start_time": "2022-01-23T20:35:28.235Z"
   },
   {
    "duration": 9,
    "start_time": "2022-01-23T20:35:28.250Z"
   },
   {
    "duration": 5,
    "start_time": "2022-01-23T20:35:28.261Z"
   },
   {
    "duration": 12,
    "start_time": "2022-01-23T20:35:28.268Z"
   },
   {
    "duration": 4,
    "start_time": "2022-01-23T20:35:28.313Z"
   },
   {
    "duration": 7,
    "start_time": "2022-01-23T20:35:28.318Z"
   },
   {
    "duration": 5,
    "start_time": "2022-01-23T20:35:28.327Z"
   },
   {
    "duration": 5,
    "start_time": "2022-01-23T20:35:28.334Z"
   },
   {
    "duration": 6,
    "start_time": "2022-01-23T20:35:28.340Z"
   },
   {
    "duration": 7,
    "start_time": "2022-01-23T20:35:28.348Z"
   },
   {
    "duration": 3056,
    "start_time": "2022-01-23T20:35:28.357Z"
   },
   {
    "duration": 13,
    "start_time": "2022-01-23T20:35:31.415Z"
   },
   {
    "duration": 10,
    "start_time": "2022-01-23T20:35:31.429Z"
   },
   {
    "duration": 13,
    "start_time": "2022-01-23T20:35:31.440Z"
   },
   {
    "duration": 6,
    "start_time": "2022-01-23T20:35:31.454Z"
   },
   {
    "duration": 390,
    "start_time": "2022-01-23T20:35:31.462Z"
   },
   {
    "duration": 359,
    "start_time": "2022-01-23T20:35:31.854Z"
   },
   {
    "duration": 5,
    "start_time": "2022-01-23T20:35:32.215Z"
   },
   {
    "duration": 5,
    "start_time": "2022-01-23T20:35:32.222Z"
   },
   {
    "duration": 4,
    "start_time": "2022-01-23T20:35:32.229Z"
   },
   {
    "duration": 12,
    "start_time": "2022-01-23T20:35:32.235Z"
   },
   {
    "duration": 5,
    "start_time": "2022-01-23T20:35:32.249Z"
   },
   {
    "duration": 5,
    "start_time": "2022-01-23T20:35:32.255Z"
   },
   {
    "duration": 388,
    "start_time": "2022-01-23T20:35:32.262Z"
   },
   {
    "duration": 312,
    "start_time": "2022-01-23T20:35:32.652Z"
   },
   {
    "duration": 4,
    "start_time": "2022-01-23T20:35:32.970Z"
   },
   {
    "duration": 6,
    "start_time": "2022-01-23T20:35:32.976Z"
   },
   {
    "duration": 5,
    "start_time": "2022-01-23T20:35:32.983Z"
   },
   {
    "duration": 4,
    "start_time": "2022-01-23T20:35:33.013Z"
   },
   {
    "duration": 5,
    "start_time": "2022-01-23T20:35:33.019Z"
   },
   {
    "duration": 4,
    "start_time": "2022-01-23T20:35:33.026Z"
   },
   {
    "duration": 391,
    "start_time": "2022-01-23T20:35:33.032Z"
   },
   {
    "duration": 307,
    "start_time": "2022-01-23T20:35:33.424Z"
   },
   {
    "duration": 3,
    "start_time": "2022-01-23T20:35:33.733Z"
   },
   {
    "duration": 6,
    "start_time": "2022-01-23T20:35:33.738Z"
   },
   {
    "duration": 6,
    "start_time": "2022-01-23T20:35:33.746Z"
   },
   {
    "duration": 5,
    "start_time": "2022-01-23T20:35:33.753Z"
   },
   {
    "duration": 6,
    "start_time": "2022-01-23T20:35:33.759Z"
   },
   {
    "duration": 6,
    "start_time": "2022-01-23T20:35:33.766Z"
   },
   {
    "duration": 40,
    "start_time": "2022-01-23T20:35:33.774Z"
   },
   {
    "duration": 10,
    "start_time": "2022-01-23T20:35:33.816Z"
   },
   {
    "duration": 6,
    "start_time": "2022-01-23T20:35:33.827Z"
   },
   {
    "duration": 8,
    "start_time": "2022-01-23T20:35:33.835Z"
   },
   {
    "duration": 8,
    "start_time": "2022-01-23T20:35:33.845Z"
   },
   {
    "duration": 9,
    "start_time": "2022-01-23T20:35:33.855Z"
   },
   {
    "duration": 62,
    "start_time": "2022-01-23T20:35:33.865Z"
   },
   {
    "duration": 12,
    "start_time": "2022-01-23T20:35:33.929Z"
   },
   {
    "duration": 1134,
    "start_time": "2022-01-23T21:13:26.937Z"
   },
   {
    "duration": 405,
    "start_time": "2022-01-23T21:13:28.073Z"
   },
   {
    "duration": 7,
    "start_time": "2022-01-23T21:13:28.482Z"
   },
   {
    "duration": 15,
    "start_time": "2022-01-23T21:13:28.490Z"
   },
   {
    "duration": 7,
    "start_time": "2022-01-23T21:13:28.512Z"
   },
   {
    "duration": 8,
    "start_time": "2022-01-23T21:13:28.521Z"
   },
   {
    "duration": 8,
    "start_time": "2022-01-23T21:13:28.531Z"
   },
   {
    "duration": 6,
    "start_time": "2022-01-23T21:13:28.541Z"
   },
   {
    "duration": 20,
    "start_time": "2022-01-23T21:13:28.549Z"
   },
   {
    "duration": 6,
    "start_time": "2022-01-23T21:13:28.570Z"
   },
   {
    "duration": 63,
    "start_time": "2022-01-23T21:13:28.577Z"
   },
   {
    "duration": 4,
    "start_time": "2022-01-23T21:13:28.641Z"
   },
   {
    "duration": 9,
    "start_time": "2022-01-23T21:13:28.647Z"
   },
   {
    "duration": 14,
    "start_time": "2022-01-23T21:13:28.658Z"
   },
   {
    "duration": 39,
    "start_time": "2022-01-23T21:13:28.673Z"
   },
   {
    "duration": 10,
    "start_time": "2022-01-23T21:13:28.715Z"
   },
   {
    "duration": 23,
    "start_time": "2022-01-23T21:13:28.727Z"
   },
   {
    "duration": 4,
    "start_time": "2022-01-23T21:13:28.752Z"
   },
   {
    "duration": 19,
    "start_time": "2022-01-23T21:13:28.758Z"
   },
   {
    "duration": 7,
    "start_time": "2022-01-23T21:13:28.778Z"
   },
   {
    "duration": 32,
    "start_time": "2022-01-23T21:13:28.787Z"
   },
   {
    "duration": 11,
    "start_time": "2022-01-23T21:13:28.821Z"
   },
   {
    "duration": 29,
    "start_time": "2022-01-23T21:13:28.834Z"
   },
   {
    "duration": 4,
    "start_time": "2022-01-23T21:13:28.864Z"
   },
   {
    "duration": 7,
    "start_time": "2022-01-23T21:13:28.870Z"
   },
   {
    "duration": 37,
    "start_time": "2022-01-23T21:13:28.881Z"
   },
   {
    "duration": 5,
    "start_time": "2022-01-23T21:13:28.920Z"
   },
   {
    "duration": 9,
    "start_time": "2022-01-23T21:13:28.926Z"
   },
   {
    "duration": 26,
    "start_time": "2022-01-23T21:13:28.937Z"
   },
   {
    "duration": 55,
    "start_time": "2022-01-23T21:13:28.964Z"
   },
   {
    "duration": 25,
    "start_time": "2022-01-23T21:13:29.020Z"
   },
   {
    "duration": 22,
    "start_time": "2022-01-23T21:13:29.047Z"
   },
   {
    "duration": 6,
    "start_time": "2022-01-23T21:13:29.071Z"
   },
   {
    "duration": 40,
    "start_time": "2022-01-23T21:13:29.078Z"
   },
   {
    "duration": 25,
    "start_time": "2022-01-23T21:13:29.119Z"
   },
   {
    "duration": 18,
    "start_time": "2022-01-23T21:13:29.146Z"
   },
   {
    "duration": 21,
    "start_time": "2022-01-23T21:13:29.166Z"
   },
   {
    "duration": 24,
    "start_time": "2022-01-23T21:13:29.188Z"
   },
   {
    "duration": 13,
    "start_time": "2022-01-23T21:13:29.214Z"
   },
   {
    "duration": 12,
    "start_time": "2022-01-23T21:13:29.229Z"
   },
   {
    "duration": 20,
    "start_time": "2022-01-23T21:13:29.242Z"
   },
   {
    "duration": 4,
    "start_time": "2022-01-23T21:13:29.264Z"
   },
   {
    "duration": 44,
    "start_time": "2022-01-23T21:13:29.269Z"
   },
   {
    "duration": 9,
    "start_time": "2022-01-23T21:13:29.315Z"
   },
   {
    "duration": 5,
    "start_time": "2022-01-23T21:13:29.325Z"
   },
   {
    "duration": 13,
    "start_time": "2022-01-23T21:13:29.331Z"
   },
   {
    "duration": 5,
    "start_time": "2022-01-23T21:13:29.345Z"
   },
   {
    "duration": 7,
    "start_time": "2022-01-23T21:13:29.351Z"
   },
   {
    "duration": 4,
    "start_time": "2022-01-23T21:13:29.359Z"
   },
   {
    "duration": 5,
    "start_time": "2022-01-23T21:13:29.365Z"
   },
   {
    "duration": 41,
    "start_time": "2022-01-23T21:13:29.372Z"
   },
   {
    "duration": 9,
    "start_time": "2022-01-23T21:13:29.415Z"
   },
   {
    "duration": 3329,
    "start_time": "2022-01-23T21:13:29.426Z"
   },
   {
    "duration": 12,
    "start_time": "2022-01-23T21:13:32.757Z"
   },
   {
    "duration": 9,
    "start_time": "2022-01-23T21:13:32.770Z"
   },
   {
    "duration": 11,
    "start_time": "2022-01-23T21:13:32.780Z"
   },
   {
    "duration": 24,
    "start_time": "2022-01-23T21:13:32.793Z"
   },
   {
    "duration": 399,
    "start_time": "2022-01-23T21:13:32.820Z"
   },
   {
    "duration": 345,
    "start_time": "2022-01-23T21:13:33.221Z"
   },
   {
    "duration": 4,
    "start_time": "2022-01-23T21:13:33.568Z"
   },
   {
    "duration": 6,
    "start_time": "2022-01-23T21:13:33.573Z"
   },
   {
    "duration": 7,
    "start_time": "2022-01-23T21:13:33.580Z"
   },
   {
    "duration": 5,
    "start_time": "2022-01-23T21:13:33.589Z"
   },
   {
    "duration": 8,
    "start_time": "2022-01-23T21:13:33.613Z"
   },
   {
    "duration": 9,
    "start_time": "2022-01-23T21:13:33.623Z"
   },
   {
    "duration": 378,
    "start_time": "2022-01-23T21:13:33.634Z"
   },
   {
    "duration": 325,
    "start_time": "2022-01-23T21:13:34.014Z"
   },
   {
    "duration": 4,
    "start_time": "2022-01-23T21:13:34.341Z"
   },
   {
    "duration": 5,
    "start_time": "2022-01-23T21:13:34.346Z"
   },
   {
    "duration": 4,
    "start_time": "2022-01-23T21:13:34.353Z"
   },
   {
    "duration": 7,
    "start_time": "2022-01-23T21:13:34.358Z"
   },
   {
    "duration": 4,
    "start_time": "2022-01-23T21:13:34.367Z"
   },
   {
    "duration": 4,
    "start_time": "2022-01-23T21:13:34.373Z"
   },
   {
    "duration": 444,
    "start_time": "2022-01-23T21:13:34.379Z"
   },
   {
    "duration": 325,
    "start_time": "2022-01-23T21:13:34.825Z"
   },
   {
    "duration": 4,
    "start_time": "2022-01-23T21:13:35.152Z"
   },
   {
    "duration": 7,
    "start_time": "2022-01-23T21:13:35.158Z"
   },
   {
    "duration": 4,
    "start_time": "2022-01-23T21:13:35.166Z"
   },
   {
    "duration": 6,
    "start_time": "2022-01-23T21:13:35.172Z"
   },
   {
    "duration": 31,
    "start_time": "2022-01-23T21:13:35.184Z"
   },
   {
    "duration": 9,
    "start_time": "2022-01-23T21:13:35.218Z"
   },
   {
    "duration": 7,
    "start_time": "2022-01-23T21:13:35.229Z"
   },
   {
    "duration": 12,
    "start_time": "2022-01-23T21:13:35.238Z"
   },
   {
    "duration": 7,
    "start_time": "2022-01-23T21:13:35.252Z"
   },
   {
    "duration": 8,
    "start_time": "2022-01-23T21:13:35.260Z"
   },
   {
    "duration": 9,
    "start_time": "2022-01-23T21:13:35.270Z"
   },
   {
    "duration": 13,
    "start_time": "2022-01-23T21:13:35.312Z"
   },
   {
    "duration": 50,
    "start_time": "2022-01-23T21:13:35.327Z"
   },
   {
    "duration": 13,
    "start_time": "2022-01-23T21:13:35.378Z"
   },
   {
    "duration": 1175,
    "start_time": "2022-01-23T21:15:36.995Z"
   },
   {
    "duration": 399,
    "start_time": "2022-01-23T21:15:38.172Z"
   },
   {
    "duration": 6,
    "start_time": "2022-01-23T21:15:38.576Z"
   },
   {
    "duration": 13,
    "start_time": "2022-01-23T21:15:38.584Z"
   },
   {
    "duration": 15,
    "start_time": "2022-01-23T21:15:38.599Z"
   },
   {
    "duration": 4,
    "start_time": "2022-01-23T21:15:38.616Z"
   },
   {
    "duration": 8,
    "start_time": "2022-01-23T21:15:38.624Z"
   },
   {
    "duration": 5,
    "start_time": "2022-01-23T21:15:38.634Z"
   },
   {
    "duration": 22,
    "start_time": "2022-01-23T21:15:38.640Z"
   },
   {
    "duration": 6,
    "start_time": "2022-01-23T21:15:38.664Z"
   },
   {
    "duration": 67,
    "start_time": "2022-01-23T21:15:38.672Z"
   },
   {
    "duration": 4,
    "start_time": "2022-01-23T21:15:38.740Z"
   },
   {
    "duration": 9,
    "start_time": "2022-01-23T21:15:38.746Z"
   },
   {
    "duration": 13,
    "start_time": "2022-01-23T21:15:38.757Z"
   },
   {
    "duration": 15,
    "start_time": "2022-01-23T21:15:38.771Z"
   },
   {
    "duration": 28,
    "start_time": "2022-01-23T21:15:38.788Z"
   },
   {
    "duration": 21,
    "start_time": "2022-01-23T21:15:38.818Z"
   },
   {
    "duration": 4,
    "start_time": "2022-01-23T21:15:38.840Z"
   },
   {
    "duration": 16,
    "start_time": "2022-01-23T21:15:38.846Z"
   },
   {
    "duration": 7,
    "start_time": "2022-01-23T21:15:38.863Z"
   },
   {
    "duration": 8,
    "start_time": "2022-01-23T21:15:38.872Z"
   },
   {
    "duration": 13,
    "start_time": "2022-01-23T21:15:38.916Z"
   },
   {
    "duration": 32,
    "start_time": "2022-01-23T21:15:38.932Z"
   },
   {
    "duration": 5,
    "start_time": "2022-01-23T21:15:38.965Z"
   },
   {
    "duration": 6,
    "start_time": "2022-01-23T21:15:38.972Z"
   },
   {
    "duration": 12,
    "start_time": "2022-01-23T21:15:39.013Z"
   },
   {
    "duration": 7,
    "start_time": "2022-01-23T21:15:39.028Z"
   },
   {
    "duration": 11,
    "start_time": "2022-01-23T21:15:39.038Z"
   },
   {
    "duration": 31,
    "start_time": "2022-01-23T21:15:39.050Z"
   },
   {
    "duration": 62,
    "start_time": "2022-01-23T21:15:39.083Z"
   },
   {
    "duration": 28,
    "start_time": "2022-01-23T21:15:39.147Z"
   },
   {
    "duration": 42,
    "start_time": "2022-01-23T21:15:39.177Z"
   },
   {
    "duration": 9,
    "start_time": "2022-01-23T21:15:39.222Z"
   },
   {
    "duration": 16,
    "start_time": "2022-01-23T21:15:39.232Z"
   },
   {
    "duration": 23,
    "start_time": "2022-01-23T21:15:39.250Z"
   },
   {
    "duration": 42,
    "start_time": "2022-01-23T21:15:39.274Z"
   },
   {
    "duration": 21,
    "start_time": "2022-01-23T21:15:39.318Z"
   },
   {
    "duration": 3,
    "start_time": "2022-01-23T21:15:39.341Z"
   },
   {
    "duration": 17,
    "start_time": "2022-01-23T21:15:39.345Z"
   },
   {
    "duration": 12,
    "start_time": "2022-01-23T21:15:39.363Z"
   },
   {
    "duration": 37,
    "start_time": "2022-01-23T21:15:39.376Z"
   },
   {
    "duration": 5,
    "start_time": "2022-01-23T21:15:39.415Z"
   },
   {
    "duration": 15,
    "start_time": "2022-01-23T21:15:39.422Z"
   },
   {
    "duration": 8,
    "start_time": "2022-01-23T21:15:39.438Z"
   },
   {
    "duration": 5,
    "start_time": "2022-01-23T21:15:39.447Z"
   },
   {
    "duration": 14,
    "start_time": "2022-01-23T21:15:39.453Z"
   },
   {
    "duration": 3,
    "start_time": "2022-01-23T21:15:39.469Z"
   },
   {
    "duration": 41,
    "start_time": "2022-01-23T21:15:39.473Z"
   },
   {
    "duration": 6,
    "start_time": "2022-01-23T21:15:39.517Z"
   },
   {
    "duration": 6,
    "start_time": "2022-01-23T21:15:39.525Z"
   },
   {
    "duration": 5,
    "start_time": "2022-01-23T21:15:39.533Z"
   },
   {
    "duration": 6,
    "start_time": "2022-01-23T21:15:39.540Z"
   },
   {
    "duration": 3131,
    "start_time": "2022-01-23T21:15:39.548Z"
   },
   {
    "duration": 12,
    "start_time": "2022-01-23T21:15:42.681Z"
   },
   {
    "duration": 18,
    "start_time": "2022-01-23T21:15:42.695Z"
   },
   {
    "duration": 16,
    "start_time": "2022-01-23T21:15:42.715Z"
   },
   {
    "duration": 6,
    "start_time": "2022-01-23T21:15:42.733Z"
   },
   {
    "duration": 401,
    "start_time": "2022-01-23T21:15:42.740Z"
   },
   {
    "duration": 324,
    "start_time": "2022-01-23T21:15:43.143Z"
   },
   {
    "duration": 3,
    "start_time": "2022-01-23T21:15:43.469Z"
   },
   {
    "duration": 6,
    "start_time": "2022-01-23T21:15:43.474Z"
   },
   {
    "duration": 5,
    "start_time": "2022-01-23T21:15:43.481Z"
   },
   {
    "duration": 4,
    "start_time": "2022-01-23T21:15:43.488Z"
   },
   {
    "duration": 5,
    "start_time": "2022-01-23T21:15:43.513Z"
   },
   {
    "duration": 5,
    "start_time": "2022-01-23T21:15:43.520Z"
   },
   {
    "duration": 385,
    "start_time": "2022-01-23T21:15:43.527Z"
   },
   {
    "duration": 341,
    "start_time": "2022-01-23T21:15:43.919Z"
   },
   {
    "duration": 4,
    "start_time": "2022-01-23T21:15:44.262Z"
   },
   {
    "duration": 5,
    "start_time": "2022-01-23T21:15:44.268Z"
   },
   {
    "duration": 5,
    "start_time": "2022-01-23T21:15:44.274Z"
   },
   {
    "duration": 7,
    "start_time": "2022-01-23T21:15:44.280Z"
   },
   {
    "duration": 26,
    "start_time": "2022-01-23T21:15:44.288Z"
   },
   {
    "duration": 6,
    "start_time": "2022-01-23T21:15:44.316Z"
   },
   {
    "duration": 418,
    "start_time": "2022-01-23T21:15:44.324Z"
   },
   {
    "duration": 330,
    "start_time": "2022-01-23T21:15:44.744Z"
   },
   {
    "duration": 5,
    "start_time": "2022-01-23T21:15:45.076Z"
   },
   {
    "duration": 6,
    "start_time": "2022-01-23T21:15:45.083Z"
   },
   {
    "duration": 4,
    "start_time": "2022-01-23T21:15:45.091Z"
   },
   {
    "duration": 19,
    "start_time": "2022-01-23T21:15:45.097Z"
   },
   {
    "duration": 6,
    "start_time": "2022-01-23T21:15:45.119Z"
   },
   {
    "duration": 12,
    "start_time": "2022-01-23T21:15:45.127Z"
   },
   {
    "duration": 6,
    "start_time": "2022-01-23T21:15:45.140Z"
   },
   {
    "duration": 10,
    "start_time": "2022-01-23T21:15:45.148Z"
   },
   {
    "duration": 7,
    "start_time": "2022-01-23T21:15:45.160Z"
   },
   {
    "duration": 49,
    "start_time": "2022-01-23T21:15:45.169Z"
   },
   {
    "duration": 13,
    "start_time": "2022-01-23T21:15:45.220Z"
   },
   {
    "duration": 12,
    "start_time": "2022-01-23T21:15:45.235Z"
   },
   {
    "duration": 49,
    "start_time": "2022-01-23T21:15:45.248Z"
   },
   {
    "duration": 30,
    "start_time": "2022-01-23T21:15:45.298Z"
   },
   {
    "duration": 1337,
    "start_time": "2022-01-24T17:40:45.887Z"
   },
   {
    "duration": 398,
    "start_time": "2022-01-24T17:40:47.225Z"
   },
   {
    "duration": 7,
    "start_time": "2022-01-24T17:40:47.625Z"
   },
   {
    "duration": 14,
    "start_time": "2022-01-24T17:40:47.744Z"
   },
   {
    "duration": 6,
    "start_time": "2022-01-24T17:40:48.003Z"
   },
   {
    "duration": 5,
    "start_time": "2022-01-24T17:40:48.309Z"
   },
   {
    "duration": 7,
    "start_time": "2022-01-24T17:40:48.643Z"
   },
   {
    "duration": 5,
    "start_time": "2022-01-24T17:40:48.900Z"
   },
   {
    "duration": 21,
    "start_time": "2022-01-24T17:40:54.767Z"
   },
   {
    "duration": 8,
    "start_time": "2022-01-24T17:40:55.006Z"
   },
   {
    "duration": 30,
    "start_time": "2022-01-24T17:40:55.242Z"
   },
   {
    "duration": 5,
    "start_time": "2022-01-24T17:40:55.477Z"
   },
   {
    "duration": 8,
    "start_time": "2022-01-24T17:40:55.710Z"
   },
   {
    "duration": 17,
    "start_time": "2022-01-24T17:40:55.946Z"
   },
   {
    "duration": 16,
    "start_time": "2022-01-24T17:40:57.115Z"
   },
   {
    "duration": 7,
    "start_time": "2022-01-24T17:40:57.341Z"
   },
   {
    "duration": 19,
    "start_time": "2022-01-24T17:40:57.608Z"
   },
   {
    "duration": 5,
    "start_time": "2022-01-24T17:40:57.872Z"
   },
   {
    "duration": 17,
    "start_time": "2022-01-24T17:40:58.568Z"
   },
   {
    "duration": 9,
    "start_time": "2022-01-24T17:40:58.775Z"
   },
   {
    "duration": 8,
    "start_time": "2022-01-24T17:40:59.237Z"
   },
   {
    "duration": 12,
    "start_time": "2022-01-24T17:40:59.702Z"
   },
   {
    "duration": 31,
    "start_time": "2022-01-24T17:41:00.148Z"
   },
   {
    "duration": 5,
    "start_time": "2022-01-24T17:41:00.388Z"
   },
   {
    "duration": 6,
    "start_time": "2022-01-24T17:41:00.608Z"
   },
   {
    "duration": 9,
    "start_time": "2022-01-24T17:41:01.297Z"
   },
   {
    "duration": 5,
    "start_time": "2022-01-24T17:41:01.782Z"
   },
   {
    "duration": 10,
    "start_time": "2022-01-24T17:41:02.025Z"
   },
   {
    "duration": 26,
    "start_time": "2022-01-24T17:41:04.136Z"
   },
   {
    "duration": 31,
    "start_time": "2022-01-24T17:41:04.603Z"
   },
   {
    "duration": 25,
    "start_time": "2022-01-24T17:41:05.061Z"
   },
   {
    "duration": 24,
    "start_time": "2022-01-24T17:41:12.450Z"
   },
   {
    "duration": 7,
    "start_time": "2022-01-24T17:41:12.812Z"
   },
   {
    "duration": 16,
    "start_time": "2022-01-24T17:41:22.783Z"
   },
   {
    "duration": 29,
    "start_time": "2022-01-24T17:41:23.206Z"
   },
   {
    "duration": 20,
    "start_time": "2022-01-24T17:41:24.017Z"
   },
   {
    "duration": 20,
    "start_time": "2022-01-24T17:41:24.224Z"
   },
   {
    "duration": 3,
    "start_time": "2022-01-24T17:41:24.758Z"
   },
   {
    "duration": 16,
    "start_time": "2022-01-24T17:41:25.002Z"
   },
   {
    "duration": 9,
    "start_time": "2022-01-24T17:41:40.444Z"
   },
   {
    "duration": 21,
    "start_time": "2022-01-24T17:41:55.502Z"
   },
   {
    "duration": 4,
    "start_time": "2022-01-24T17:41:55.525Z"
   },
   {
    "duration": 20,
    "start_time": "2022-01-24T17:41:55.530Z"
   },
   {
    "duration": 9,
    "start_time": "2022-01-24T17:41:56.059Z"
   },
   {
    "duration": 5,
    "start_time": "2022-01-24T17:41:56.442Z"
   },
   {
    "duration": 13,
    "start_time": "2022-01-24T17:41:57.306Z"
   },
   {
    "duration": 4,
    "start_time": "2022-01-24T17:41:57.787Z"
   },
   {
    "duration": 6,
    "start_time": "2022-01-24T17:41:58.337Z"
   },
   {
    "duration": 5,
    "start_time": "2022-01-24T17:41:58.566Z"
   },
   {
    "duration": 4,
    "start_time": "2022-01-24T17:41:58.754Z"
   },
   {
    "duration": 5,
    "start_time": "2022-01-24T17:42:15.324Z"
   },
   {
    "duration": 18,
    "start_time": "2022-01-24T17:42:15.331Z"
   },
   {
    "duration": 3368,
    "start_time": "2022-01-24T17:43:17.794Z"
   },
   {
    "duration": 11,
    "start_time": "2022-01-24T17:43:21.165Z"
   },
   {
    "duration": 8,
    "start_time": "2022-01-24T17:43:21.178Z"
   },
   {
    "duration": 11,
    "start_time": "2022-01-24T17:43:21.188Z"
   },
   {
    "duration": 9,
    "start_time": "2022-01-24T17:43:23.883Z"
   },
   {
    "duration": 375,
    "start_time": "2022-01-24T17:43:24.988Z"
   },
   {
    "duration": 350,
    "start_time": "2022-01-24T17:43:26.119Z"
   },
   {
    "duration": 5,
    "start_time": "2022-01-24T17:43:26.686Z"
   },
   {
    "duration": 4,
    "start_time": "2022-01-24T17:43:26.891Z"
   },
   {
    "duration": 5,
    "start_time": "2022-01-24T17:43:27.064Z"
   },
   {
    "duration": 4,
    "start_time": "2022-01-24T17:43:27.237Z"
   },
   {
    "duration": 5,
    "start_time": "2022-01-24T17:43:27.412Z"
   },
   {
    "duration": 5,
    "start_time": "2022-01-24T17:43:27.600Z"
   },
   {
    "duration": 343,
    "start_time": "2022-01-24T17:43:28.305Z"
   },
   {
    "duration": 335,
    "start_time": "2022-01-24T17:43:28.909Z"
   },
   {
    "duration": 5,
    "start_time": "2022-01-24T17:43:29.282Z"
   },
   {
    "duration": 5,
    "start_time": "2022-01-24T17:43:29.490Z"
   },
   {
    "duration": 5,
    "start_time": "2022-01-24T17:43:29.654Z"
   },
   {
    "duration": 5,
    "start_time": "2022-01-24T17:43:29.846Z"
   },
   {
    "duration": 4,
    "start_time": "2022-01-24T17:43:30.088Z"
   },
   {
    "duration": 5,
    "start_time": "2022-01-24T17:43:30.261Z"
   },
   {
    "duration": 321,
    "start_time": "2022-01-24T17:43:31.333Z"
   },
   {
    "duration": 371,
    "start_time": "2022-01-24T17:43:31.800Z"
   },
   {
    "duration": 4,
    "start_time": "2022-01-24T17:43:32.173Z"
   },
   {
    "duration": 5,
    "start_time": "2022-01-24T17:43:32.353Z"
   },
   {
    "duration": 4,
    "start_time": "2022-01-24T17:43:32.544Z"
   },
   {
    "duration": 5,
    "start_time": "2022-01-24T17:43:32.708Z"
   },
   {
    "duration": 4,
    "start_time": "2022-01-24T17:43:32.904Z"
   },
   {
    "duration": 5,
    "start_time": "2022-01-24T17:43:33.095Z"
   },
   {
    "duration": 6,
    "start_time": "2022-01-24T17:44:09.902Z"
   },
   {
    "duration": 8,
    "start_time": "2022-01-24T17:44:10.372Z"
   },
   {
    "duration": 7,
    "start_time": "2022-01-24T17:44:10.928Z"
   },
   {
    "duration": 9,
    "start_time": "2022-01-24T17:44:59.440Z"
   },
   {
    "duration": 10,
    "start_time": "2022-01-24T17:45:21.875Z"
   },
   {
    "duration": 11,
    "start_time": "2022-01-24T17:45:22.464Z"
   },
   {
    "duration": 53,
    "start_time": "2022-01-24T17:46:15.146Z"
   },
   {
    "duration": 14,
    "start_time": "2022-01-24T17:46:15.386Z"
   },
   {
    "duration": 1082,
    "start_time": "2022-01-28T18:32:38.374Z"
   },
   {
    "duration": 370,
    "start_time": "2022-01-28T18:32:39.457Z"
   },
   {
    "duration": 7,
    "start_time": "2022-01-28T18:32:39.828Z"
   },
   {
    "duration": 14,
    "start_time": "2022-01-28T18:32:39.836Z"
   },
   {
    "duration": 4,
    "start_time": "2022-01-28T18:32:39.852Z"
   },
   {
    "duration": 5,
    "start_time": "2022-01-28T18:32:39.858Z"
   },
   {
    "duration": 9,
    "start_time": "2022-01-28T18:32:39.864Z"
   },
   {
    "duration": 5,
    "start_time": "2022-01-28T18:32:39.876Z"
   },
   {
    "duration": 18,
    "start_time": "2022-01-28T18:32:39.883Z"
   },
   {
    "duration": 6,
    "start_time": "2022-01-28T18:32:39.927Z"
   },
   {
    "duration": 28,
    "start_time": "2022-01-28T18:32:39.934Z"
   },
   {
    "duration": 4,
    "start_time": "2022-01-28T18:32:39.964Z"
   },
   {
    "duration": 6,
    "start_time": "2022-01-28T18:32:39.969Z"
   },
   {
    "duration": 13,
    "start_time": "2022-01-28T18:32:39.977Z"
   },
   {
    "duration": 37,
    "start_time": "2022-01-28T18:32:39.992Z"
   },
   {
    "duration": 8,
    "start_time": "2022-01-28T18:32:40.031Z"
   },
   {
    "duration": 20,
    "start_time": "2022-01-28T18:32:40.041Z"
   },
   {
    "duration": 5,
    "start_time": "2022-01-28T18:32:40.063Z"
   },
   {
    "duration": 15,
    "start_time": "2022-01-28T18:32:40.069Z"
   },
   {
    "duration": 9,
    "start_time": "2022-01-28T18:32:40.085Z"
   },
   {
    "duration": 34,
    "start_time": "2022-01-28T18:32:40.096Z"
   },
   {
    "duration": 12,
    "start_time": "2022-01-28T18:32:40.132Z"
   },
   {
    "duration": 27,
    "start_time": "2022-01-28T18:32:40.148Z"
   },
   {
    "duration": 5,
    "start_time": "2022-01-28T18:32:40.177Z"
   },
   {
    "duration": 6,
    "start_time": "2022-01-28T18:32:40.183Z"
   },
   {
    "duration": 7,
    "start_time": "2022-01-28T18:32:40.191Z"
   },
   {
    "duration": 5,
    "start_time": "2022-01-28T18:32:40.227Z"
   },
   {
    "duration": 10,
    "start_time": "2022-01-28T18:32:40.233Z"
   },
   {
    "duration": 26,
    "start_time": "2022-01-28T18:32:40.244Z"
   },
   {
    "duration": 29,
    "start_time": "2022-01-28T18:32:40.271Z"
   },
   {
    "duration": 43,
    "start_time": "2022-01-28T18:32:40.301Z"
   },
   {
    "duration": 21,
    "start_time": "2022-01-28T18:32:40.346Z"
   },
   {
    "duration": 7,
    "start_time": "2022-01-28T18:32:40.368Z"
   },
   {
    "duration": 15,
    "start_time": "2022-01-28T18:32:40.376Z"
   },
   {
    "duration": 51,
    "start_time": "2022-01-28T18:32:40.392Z"
   },
   {
    "duration": 15,
    "start_time": "2022-01-28T18:32:40.445Z"
   },
   {
    "duration": 18,
    "start_time": "2022-01-28T18:32:40.462Z"
   },
   {
    "duration": 3,
    "start_time": "2022-01-28T18:32:40.482Z"
   },
   {
    "duration": 44,
    "start_time": "2022-01-28T18:32:40.487Z"
   },
   {
    "duration": 9,
    "start_time": "2022-01-28T18:32:40.533Z"
   },
   {
    "duration": 17,
    "start_time": "2022-01-28T18:32:40.544Z"
   },
   {
    "duration": 4,
    "start_time": "2022-01-28T18:32:40.563Z"
   },
   {
    "duration": 13,
    "start_time": "2022-01-28T18:32:40.568Z"
   },
   {
    "duration": 8,
    "start_time": "2022-01-28T18:32:40.583Z"
   },
   {
    "duration": 35,
    "start_time": "2022-01-28T18:32:40.593Z"
   },
   {
    "duration": 11,
    "start_time": "2022-01-28T18:32:40.630Z"
   },
   {
    "duration": 4,
    "start_time": "2022-01-28T18:32:40.643Z"
   },
   {
    "duration": 6,
    "start_time": "2022-01-28T18:32:40.648Z"
   },
   {
    "duration": 4,
    "start_time": "2022-01-28T18:32:40.656Z"
   },
   {
    "duration": 5,
    "start_time": "2022-01-28T18:32:40.661Z"
   },
   {
    "duration": 5,
    "start_time": "2022-01-28T18:32:40.667Z"
   },
   {
    "duration": 6,
    "start_time": "2022-01-28T18:32:40.674Z"
   },
   {
    "duration": 2969,
    "start_time": "2022-01-28T18:32:40.682Z"
   },
   {
    "duration": 10,
    "start_time": "2022-01-28T18:32:43.653Z"
   },
   {
    "duration": 9,
    "start_time": "2022-01-28T18:32:43.665Z"
   },
   {
    "duration": 10,
    "start_time": "2022-01-28T18:32:43.676Z"
   },
   {
    "duration": 7,
    "start_time": "2022-01-28T18:32:43.688Z"
   },
   {
    "duration": 548,
    "start_time": "2022-01-28T18:32:43.697Z"
   },
   {
    "duration": 422,
    "start_time": "2022-01-28T18:32:44.247Z"
   },
   {
    "duration": 4,
    "start_time": "2022-01-28T18:32:44.670Z"
   },
   {
    "duration": 7,
    "start_time": "2022-01-28T18:32:44.676Z"
   },
   {
    "duration": 7,
    "start_time": "2022-01-28T18:32:44.684Z"
   },
   {
    "duration": 5,
    "start_time": "2022-01-28T18:32:44.693Z"
   },
   {
    "duration": 28,
    "start_time": "2022-01-28T18:32:44.700Z"
   },
   {
    "duration": 6,
    "start_time": "2022-01-28T18:32:44.730Z"
   },
   {
    "duration": 315,
    "start_time": "2022-01-28T18:32:44.738Z"
   },
   {
    "duration": 278,
    "start_time": "2022-01-28T18:32:45.055Z"
   },
   {
    "duration": 4,
    "start_time": "2022-01-28T18:32:45.338Z"
   },
   {
    "duration": 5,
    "start_time": "2022-01-28T18:32:45.344Z"
   },
   {
    "duration": 5,
    "start_time": "2022-01-28T18:32:45.350Z"
   },
   {
    "duration": 7,
    "start_time": "2022-01-28T18:32:45.357Z"
   },
   {
    "duration": 5,
    "start_time": "2022-01-28T18:32:45.365Z"
   },
   {
    "duration": 4,
    "start_time": "2022-01-28T18:32:45.372Z"
   },
   {
    "duration": 368,
    "start_time": "2022-01-28T18:32:45.378Z"
   },
   {
    "duration": 291,
    "start_time": "2022-01-28T18:32:45.747Z"
   },
   {
    "duration": 4,
    "start_time": "2022-01-28T18:32:46.039Z"
   },
   {
    "duration": 7,
    "start_time": "2022-01-28T18:32:46.045Z"
   },
   {
    "duration": 5,
    "start_time": "2022-01-28T18:32:46.053Z"
   },
   {
    "duration": 5,
    "start_time": "2022-01-28T18:32:46.060Z"
   },
   {
    "duration": 6,
    "start_time": "2022-01-28T18:32:46.067Z"
   },
   {
    "duration": 5,
    "start_time": "2022-01-28T18:32:46.074Z"
   },
   {
    "duration": 8,
    "start_time": "2022-01-28T18:32:46.080Z"
   },
   {
    "duration": 11,
    "start_time": "2022-01-28T18:32:46.090Z"
   },
   {
    "duration": 7,
    "start_time": "2022-01-28T18:32:46.127Z"
   },
   {
    "duration": 7,
    "start_time": "2022-01-28T18:32:46.136Z"
   },
   {
    "duration": 8,
    "start_time": "2022-01-28T18:32:46.145Z"
   },
   {
    "duration": 8,
    "start_time": "2022-01-28T18:32:46.155Z"
   },
   {
    "duration": 55,
    "start_time": "2022-01-28T18:32:46.165Z"
   },
   {
    "duration": 12,
    "start_time": "2022-01-28T18:32:46.222Z"
   },
   {
    "duration": 8,
    "start_time": "2022-01-28T18:33:13.965Z"
   },
   {
    "duration": 4,
    "start_time": "2022-01-28T18:33:56.625Z"
   },
   {
    "duration": 1796,
    "start_time": "2022-05-11T11:45:29.735Z"
   },
   {
    "duration": 527,
    "start_time": "2022-05-11T11:45:32.424Z"
   },
   {
    "duration": 17,
    "start_time": "2022-05-11T11:45:35.245Z"
   },
   {
    "duration": 21,
    "start_time": "2022-05-11T11:45:36.888Z"
   },
   {
    "duration": 7,
    "start_time": "2022-05-11T11:45:38.845Z"
   },
   {
    "duration": 6,
    "start_time": "2022-05-11T11:45:39.305Z"
   },
   {
    "duration": 9,
    "start_time": "2022-05-11T11:45:39.765Z"
   },
   {
    "duration": 8,
    "start_time": "2022-05-11T11:45:40.258Z"
   },
   {
    "duration": 1453,
    "start_time": "2022-05-11T11:45:59.619Z"
   },
   {
    "duration": 540,
    "start_time": "2022-05-11T11:46:01.074Z"
   },
   {
    "duration": 18,
    "start_time": "2022-05-11T11:46:01.888Z"
   },
   {
    "duration": 21,
    "start_time": "2022-05-11T11:46:02.088Z"
   },
   {
    "duration": 8,
    "start_time": "2022-05-11T11:46:02.250Z"
   },
   {
    "duration": 7,
    "start_time": "2022-05-11T11:46:02.699Z"
   },
   {
    "duration": 9,
    "start_time": "2022-05-11T11:46:02.860Z"
   },
   {
    "duration": 7,
    "start_time": "2022-05-11T11:46:03.378Z"
   },
   {
    "duration": 31,
    "start_time": "2022-05-11T11:46:05.520Z"
   },
   {
    "duration": 11,
    "start_time": "2022-05-11T11:46:05.888Z"
   },
   {
    "duration": 43,
    "start_time": "2022-05-11T11:46:06.127Z"
   },
   {
    "duration": 7,
    "start_time": "2022-05-11T11:46:06.499Z"
   },
   {
    "duration": 8,
    "start_time": "2022-05-11T11:46:06.880Z"
   },
   {
    "duration": 20,
    "start_time": "2022-05-11T11:46:07.088Z"
   },
   {
    "duration": 25,
    "start_time": "2022-05-11T11:46:15.559Z"
   },
   {
    "duration": 11,
    "start_time": "2022-05-11T11:46:15.976Z"
   },
   {
    "duration": 29,
    "start_time": "2022-05-11T11:46:16.439Z"
   },
   {
    "duration": 7,
    "start_time": "2022-05-11T11:46:16.927Z"
   },
   {
    "duration": 30,
    "start_time": "2022-05-11T11:46:19.668Z"
   },
   {
    "duration": 12,
    "start_time": "2022-05-11T11:46:20.359Z"
   },
   {
    "duration": 12,
    "start_time": "2022-05-11T11:46:22.690Z"
   },
   {
    "duration": 18,
    "start_time": "2022-05-11T11:46:25.327Z"
   },
   {
    "duration": 46,
    "start_time": "2022-05-11T11:46:31.448Z"
   },
   {
    "duration": 6,
    "start_time": "2022-05-11T11:46:31.821Z"
   },
   {
    "duration": 8,
    "start_time": "2022-05-11T11:46:32.250Z"
   },
   {
    "duration": 11,
    "start_time": "2022-05-11T11:46:33.861Z"
   },
   {
    "duration": 7,
    "start_time": "2022-05-11T11:46:35.830Z"
   },
   {
    "duration": 15,
    "start_time": "2022-05-11T11:46:36.248Z"
   },
   {
    "duration": 33,
    "start_time": "2022-05-11T11:46:54.732Z"
   },
   {
    "duration": 29,
    "start_time": "2022-05-11T11:48:49.524Z"
   },
   {
    "duration": 10,
    "start_time": "2022-05-11T11:48:50.000Z"
   },
   {
    "duration": 20,
    "start_time": "2022-05-11T11:48:56.251Z"
   },
   {
    "duration": 33,
    "start_time": "2022-05-11T11:48:57.611Z"
   },
   {
    "duration": 25,
    "start_time": "2022-05-11T11:49:22.199Z"
   },
   {
    "duration": 26,
    "start_time": "2022-05-11T11:49:22.701Z"
   },
   {
    "duration": 4,
    "start_time": "2022-05-11T11:49:25.707Z"
   },
   {
    "duration": 17,
    "start_time": "2022-05-11T11:49:30.298Z"
   },
   {
    "duration": 11,
    "start_time": "2022-05-11T11:49:46.140Z"
   },
   {
    "duration": 31,
    "start_time": "2022-05-11T11:49:55.808Z"
   },
   {
    "duration": 5,
    "start_time": "2022-05-11T11:49:57.851Z"
   },
   {
    "duration": 18,
    "start_time": "2022-05-11T11:49:58.790Z"
   },
   {
    "duration": 13,
    "start_time": "2022-05-11T11:50:18.928Z"
   },
   {
    "duration": 8,
    "start_time": "2022-05-11T11:50:27.468Z"
   },
   {
    "duration": 19,
    "start_time": "2022-05-11T11:50:28.481Z"
   },
   {
    "duration": 5,
    "start_time": "2022-05-11T11:50:29.378Z"
   },
   {
    "duration": 7,
    "start_time": "2022-05-11T11:50:43.620Z"
   },
   {
    "duration": 7,
    "start_time": "2022-05-11T11:50:44.100Z"
   },
   {
    "duration": 7,
    "start_time": "2022-05-11T11:50:45.040Z"
   },
   {
    "duration": 133,
    "start_time": "2022-05-11T11:51:27.700Z"
   },
   {
    "duration": 10,
    "start_time": "2022-05-11T11:51:35.621Z"
   },
   {
    "duration": 4434,
    "start_time": "2022-05-11T11:51:36.400Z"
   },
   {
    "duration": 19,
    "start_time": "2022-05-11T11:51:40.837Z"
   },
   {
    "duration": 10,
    "start_time": "2022-05-11T11:51:40.859Z"
   },
   {
    "duration": 22,
    "start_time": "2022-05-11T11:51:45.288Z"
   },
   {
    "duration": 7,
    "start_time": "2022-05-11T11:52:33.048Z"
   },
   {
    "duration": 408,
    "start_time": "2022-05-11T11:52:34.728Z"
   },
   {
    "duration": 360,
    "start_time": "2022-05-11T11:52:47.201Z"
   },
   {
    "duration": 5,
    "start_time": "2022-05-11T11:52:47.809Z"
   },
   {
    "duration": 5,
    "start_time": "2022-05-11T11:52:48.191Z"
   },
   {
    "duration": 6,
    "start_time": "2022-05-11T11:52:48.401Z"
   },
   {
    "duration": 6,
    "start_time": "2022-05-11T11:52:49.107Z"
   },
   {
    "duration": 8,
    "start_time": "2022-05-11T11:52:49.769Z"
   },
   {
    "duration": 6,
    "start_time": "2022-05-11T11:52:50.041Z"
   },
   {
    "duration": 351,
    "start_time": "2022-05-11T11:52:54.911Z"
   },
   {
    "duration": 355,
    "start_time": "2022-05-11T11:52:56.281Z"
   },
   {
    "duration": 6,
    "start_time": "2022-05-11T11:52:56.678Z"
   },
   {
    "duration": 7,
    "start_time": "2022-05-11T11:52:56.840Z"
   },
   {
    "duration": 6,
    "start_time": "2022-05-11T11:52:57.021Z"
   },
   {
    "duration": 6,
    "start_time": "2022-05-11T11:52:57.191Z"
   },
   {
    "duration": 6,
    "start_time": "2022-05-11T11:52:57.401Z"
   },
   {
    "duration": 6,
    "start_time": "2022-05-11T11:52:58.011Z"
   },
   {
    "duration": 363,
    "start_time": "2022-05-11T11:53:01.771Z"
   },
   {
    "duration": 389,
    "start_time": "2022-05-11T11:53:02.136Z"
   },
   {
    "duration": 6,
    "start_time": "2022-05-11T11:53:02.529Z"
   },
   {
    "duration": 6,
    "start_time": "2022-05-11T11:53:02.709Z"
   },
   {
    "duration": 7,
    "start_time": "2022-05-11T11:53:02.890Z"
   },
   {
    "duration": 6,
    "start_time": "2022-05-11T11:53:03.099Z"
   },
   {
    "duration": 7,
    "start_time": "2022-05-11T11:53:03.391Z"
   },
   {
    "duration": 6,
    "start_time": "2022-05-11T11:53:03.591Z"
   },
   {
    "duration": 7,
    "start_time": "2022-05-11T11:53:12.557Z"
   },
   {
    "duration": 10,
    "start_time": "2022-05-11T11:53:13.229Z"
   },
   {
    "duration": 12,
    "start_time": "2022-05-11T11:53:13.480Z"
   },
   {
    "duration": 12,
    "start_time": "2022-05-11T11:53:18.741Z"
   },
   {
    "duration": 14,
    "start_time": "2022-05-11T11:54:25.140Z"
   },
   {
    "duration": 14,
    "start_time": "2022-05-11T11:54:25.830Z"
   },
   {
    "duration": 1534,
    "start_time": "2022-05-11T11:54:53.069Z"
   },
   {
    "duration": 505,
    "start_time": "2022-05-11T11:54:54.606Z"
   },
   {
    "duration": 18,
    "start_time": "2022-05-11T11:54:55.113Z"
   },
   {
    "duration": 22,
    "start_time": "2022-05-11T11:54:55.133Z"
   },
   {
    "duration": 7,
    "start_time": "2022-05-11T11:54:55.158Z"
   },
   {
    "duration": 26,
    "start_time": "2022-05-11T11:54:55.167Z"
   },
   {
    "duration": 8,
    "start_time": "2022-05-11T11:54:55.195Z"
   },
   {
    "duration": 8,
    "start_time": "2022-05-11T11:54:55.206Z"
   },
   {
    "duration": 39,
    "start_time": "2022-05-11T11:54:55.216Z"
   },
   {
    "duration": 38,
    "start_time": "2022-05-11T11:54:55.257Z"
   },
   {
    "duration": 44,
    "start_time": "2022-05-11T11:54:55.298Z"
   },
   {
    "duration": 7,
    "start_time": "2022-05-11T11:54:55.345Z"
   },
   {
    "duration": 11,
    "start_time": "2022-05-11T11:54:55.354Z"
   },
   {
    "duration": 21,
    "start_time": "2022-05-11T11:54:55.396Z"
   },
   {
    "duration": 25,
    "start_time": "2022-05-11T11:54:55.419Z"
   },
   {
    "duration": 11,
    "start_time": "2022-05-11T11:54:55.446Z"
   },
   {
    "duration": 63,
    "start_time": "2022-05-11T11:54:55.459Z"
   },
   {
    "duration": 6,
    "start_time": "2022-05-11T11:54:55.524Z"
   },
   {
    "duration": 33,
    "start_time": "2022-05-11T11:54:55.532Z"
   },
   {
    "duration": 37,
    "start_time": "2022-05-11T11:54:55.567Z"
   },
   {
    "duration": 13,
    "start_time": "2022-05-11T11:54:55.607Z"
   },
   {
    "duration": 20,
    "start_time": "2022-05-11T11:54:55.623Z"
   },
   {
    "duration": 83,
    "start_time": "2022-05-11T11:54:55.645Z"
   },
   {
    "duration": 8,
    "start_time": "2022-05-11T11:54:55.730Z"
   },
   {
    "duration": 9,
    "start_time": "2022-05-11T11:54:55.740Z"
   },
   {
    "duration": 12,
    "start_time": "2022-05-11T11:54:55.751Z"
   },
   {
    "duration": 6,
    "start_time": "2022-05-11T11:54:55.793Z"
   },
   {
    "duration": 14,
    "start_time": "2022-05-11T11:54:55.802Z"
   },
   {
    "duration": 36,
    "start_time": "2022-05-11T11:54:55.818Z"
   },
   {
    "duration": 54,
    "start_time": "2022-05-11T11:54:55.856Z"
   },
   {
    "duration": 9,
    "start_time": "2022-05-11T11:54:55.912Z"
   },
   {
    "duration": 24,
    "start_time": "2022-05-11T11:54:55.923Z"
   },
   {
    "duration": 49,
    "start_time": "2022-05-11T11:54:55.949Z"
   },
   {
    "duration": 23,
    "start_time": "2022-05-11T11:54:56.000Z"
   },
   {
    "duration": 27,
    "start_time": "2022-05-11T11:54:56.025Z"
   },
   {
    "duration": 4,
    "start_time": "2022-05-11T11:54:56.054Z"
   },
   {
    "duration": 48,
    "start_time": "2022-05-11T11:54:56.059Z"
   },
   {
    "duration": 14,
    "start_time": "2022-05-11T11:54:56.109Z"
   },
   {
    "duration": 28,
    "start_time": "2022-05-11T11:54:56.126Z"
   },
   {
    "duration": 5,
    "start_time": "2022-05-11T11:54:56.156Z"
   },
   {
    "duration": 18,
    "start_time": "2022-05-11T11:54:56.192Z"
   },
   {
    "duration": 14,
    "start_time": "2022-05-11T11:54:56.212Z"
   },
   {
    "duration": 7,
    "start_time": "2022-05-11T11:54:56.228Z"
   },
   {
    "duration": 58,
    "start_time": "2022-05-11T11:54:56.237Z"
   },
   {
    "duration": 7,
    "start_time": "2022-05-11T11:54:56.297Z"
   },
   {
    "duration": 7,
    "start_time": "2022-05-11T11:54:56.306Z"
   },
   {
    "duration": 7,
    "start_time": "2022-05-11T11:54:56.315Z"
   },
   {
    "duration": 7,
    "start_time": "2022-05-11T11:54:56.324Z"
   },
   {
    "duration": 9,
    "start_time": "2022-05-11T11:54:56.334Z"
   },
   {
    "duration": 4620,
    "start_time": "2022-05-11T11:54:56.345Z"
   },
   {
    "duration": 29,
    "start_time": "2022-05-11T11:55:00.967Z"
   },
   {
    "duration": 65,
    "start_time": "2022-05-11T11:55:00.998Z"
   },
   {
    "duration": 28,
    "start_time": "2022-05-11T11:55:01.066Z"
   },
   {
    "duration": 9,
    "start_time": "2022-05-11T11:55:01.096Z"
   },
   {
    "duration": 452,
    "start_time": "2022-05-11T11:55:01.108Z"
   },
   {
    "duration": 373,
    "start_time": "2022-05-11T11:55:01.563Z"
   },
   {
    "duration": 6,
    "start_time": "2022-05-11T11:55:01.939Z"
   },
   {
    "duration": 8,
    "start_time": "2022-05-11T11:55:01.948Z"
   },
   {
    "duration": 35,
    "start_time": "2022-05-11T11:55:01.959Z"
   },
   {
    "duration": 7,
    "start_time": "2022-05-11T11:55:01.997Z"
   },
   {
    "duration": 14,
    "start_time": "2022-05-11T11:55:02.006Z"
   },
   {
    "duration": 10,
    "start_time": "2022-05-11T11:55:02.022Z"
   },
   {
    "duration": 407,
    "start_time": "2022-05-11T11:55:02.035Z"
   },
   {
    "duration": 385,
    "start_time": "2022-05-11T11:55:02.444Z"
   },
   {
    "duration": 7,
    "start_time": "2022-05-11T11:55:02.831Z"
   },
   {
    "duration": 8,
    "start_time": "2022-05-11T11:55:02.840Z"
   },
   {
    "duration": 8,
    "start_time": "2022-05-11T11:55:02.851Z"
   },
   {
    "duration": 6,
    "start_time": "2022-05-11T11:55:02.893Z"
   },
   {
    "duration": 11,
    "start_time": "2022-05-11T11:55:02.902Z"
   },
   {
    "duration": 7,
    "start_time": "2022-05-11T11:55:02.916Z"
   },
   {
    "duration": 381,
    "start_time": "2022-05-11T11:55:02.925Z"
   },
   {
    "duration": 375,
    "start_time": "2022-05-11T11:55:03.309Z"
   },
   {
    "duration": 10,
    "start_time": "2022-05-11T11:55:03.686Z"
   },
   {
    "duration": 18,
    "start_time": "2022-05-11T11:55:03.698Z"
   },
   {
    "duration": 8,
    "start_time": "2022-05-11T11:55:03.718Z"
   },
   {
    "duration": 10,
    "start_time": "2022-05-11T11:55:03.728Z"
   },
   {
    "duration": 11,
    "start_time": "2022-05-11T11:55:03.741Z"
   },
   {
    "duration": 41,
    "start_time": "2022-05-11T11:55:03.754Z"
   },
   {
    "duration": 15,
    "start_time": "2022-05-11T11:55:03.798Z"
   },
   {
    "duration": 20,
    "start_time": "2022-05-11T11:55:03.815Z"
   },
   {
    "duration": 13,
    "start_time": "2022-05-11T11:55:03.837Z"
   },
   {
    "duration": 10,
    "start_time": "2022-05-11T11:55:03.853Z"
   },
   {
    "duration": 34,
    "start_time": "2022-05-11T11:55:03.865Z"
   },
   {
    "duration": 18,
    "start_time": "2022-05-11T11:55:03.901Z"
   }
  ],
  "kernelspec": {
   "display_name": "Python 3 (ipykernel)",
   "language": "python",
   "name": "python3"
  },
  "language_info": {
   "codemirror_mode": {
    "name": "ipython",
    "version": 3
   },
   "file_extension": ".py",
   "mimetype": "text/x-python",
   "name": "python",
   "nbconvert_exporter": "python",
   "pygments_lexer": "ipython3",
   "version": "3.9.5"
  },
  "toc": {
   "base_numbering": 1,
   "nav_menu": {},
   "number_sections": true,
   "sideBar": true,
   "skip_h1_title": true,
   "title_cell": "Table of Contents",
   "title_sidebar": "Contents",
   "toc_cell": false,
   "toc_position": {
    "height": "calc(100% - 180px)",
    "left": "10px",
    "top": "150px",
    "width": "244.391px"
   },
   "toc_section_display": true,
   "toc_window_display": true
  }
 },
 "nbformat": 4,
 "nbformat_minor": 2
}
